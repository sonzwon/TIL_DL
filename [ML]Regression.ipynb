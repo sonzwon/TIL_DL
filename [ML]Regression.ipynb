{
  "nbformat": 4,
  "nbformat_minor": 0,
  "metadata": {
    "colab": {
      "provenance": [],
      "toc_visible": true,
      "authorship_tag": "ABX9TyOKXQPWL2iDjfzm3zV+GxGh",
      "include_colab_link": true
    },
    "kernelspec": {
      "name": "python3",
      "display_name": "Python 3"
    },
    "language_info": {
      "name": "python"
    }
  },
  "cells": [
    {
      "cell_type": "markdown",
      "metadata": {
        "id": "view-in-github",
        "colab_type": "text"
      },
      "source": [
        "<a href=\"https://colab.research.google.com/github/sonzwon/TIL_DL/blob/master/%5BML%5DRegression.ipynb\" target=\"_parent\"><img src=\"https://colab.research.google.com/assets/colab-badge.svg\" alt=\"Open In Colab\"/></a>"
      ]
    },
    {
      "cell_type": "markdown",
      "source": [
        "# Linear Regression"
      ],
      "metadata": {
        "id": "eg7nuXI0QlK0"
      }
    },
    {
      "cell_type": "markdown",
      "source": [
        "가설 : y = 4 + 3x + ε\n",
        "- θ0 = 4\n",
        "- θ1 = 3"
      ],
      "metadata": {
        "id": "K6Y0dGwWSuHn"
      }
    },
    {
      "cell_type": "code",
      "execution_count": 2,
      "metadata": {
        "id": "DsqKttNcQR8o"
      },
      "outputs": [],
      "source": [
        "import numpy as np\n",
        "\n",
        "X = 2 * np.random.rand(100, 1)\n",
        "y = 4 + 3 * X + np.random.randn(100, 1)"
      ]
    },
    {
      "cell_type": "code",
      "source": [
        "import matplotlib.pyplot as plt\n",
        "\n",
        "plt.plot(X, y, 'b.')\n",
        "plt.xlabel('$x_1$', fontsize=15)\n",
        "plt.ylabel('$y$', rotation=0, fontsize=15)\n",
        "plt.axis([0, 2, 0, 15])\n",
        "plt.show()"
      ],
      "metadata": {
        "colab": {
          "base_uri": "https://localhost:8080/",
          "height": 285
        },
        "id": "8gR2pIACQ343",
        "outputId": "4eb093d0-24d1-46df-9531-20be54cf2d1f"
      },
      "execution_count": 6,
      "outputs": [
        {
          "output_type": "display_data",
          "data": {
            "text/plain": [
              "<Figure size 432x288 with 1 Axes>"
            ],
            "image/png": "[encoded data removed]"
          },
          "metadata": {
            "needs_background": "light"
          }
        }
      ]
    },
    {
      "cell_type": "markdown",
      "source": [
        "### 정규방정식으로 최적의 θ값 찾기"
      ],
      "metadata": {
        "id": "iQ6gYngwRqH7"
      }
    },
    {
      "cell_type": "code",
      "source": [
        "X_b = np.c_[np.ones((100, 1)), X]  # 모든 샘플에 x0 = 1을 추가\n",
        "theta_best = np.linalg.inv(X_b.T.dot(X_b)).dot(X_b.T).dot(y)"
      ],
      "metadata": {
        "id": "qjH53FFVRf6U"
      },
      "execution_count": 8,
      "outputs": []
    },
    {
      "cell_type": "code",
      "source": [
        "theta_best  # θ0 = 4.18687357, θ1 = 2.87581262으로 예측됨"
      ],
      "metadata": {
        "colab": {
          "base_uri": "https://localhost:8080/"
        },
        "id": "uNM0N-lRSIPG",
        "outputId": "7eb2f613-8979-4fc2-ae64-935deaca2caf"
      },
      "execution_count": 11,
      "outputs": [
        {
          "output_type": "execute_result",
          "data": {
            "text/plain": [
              "array([[4.18687357],\n",
              "       [2.87581262]])"
            ]
          },
          "metadata": {},
          "execution_count": 11
        }
      ]
    },
    {
      "cell_type": "code",
      "source": [
        "X_new = np.array([[0],[2]])\n",
        "X_new_b = np.c_[np.ones((2,1)), X_new]"
      ],
      "metadata": {
        "id": "HTA7kC5YSNuE"
      },
      "execution_count": 14,
      "outputs": []
    },
    {
      "cell_type": "code",
      "source": [
        "y_predict = X_new_b.dot(theta_best)\n",
        "y_predict"
      ],
      "metadata": {
        "colab": {
          "base_uri": "https://localhost:8080/"
        },
        "id": "SB7OWTvXVLSd",
        "outputId": "8158361e-4545-4e79-f5d7-7b3ee0461407"
      },
      "execution_count": 21,
      "outputs": [
        {
          "output_type": "execute_result",
          "data": {
            "text/plain": [
              "array([[4.18687357],\n",
              "       [9.9384988 ]])"
            ]
          },
          "metadata": {},
          "execution_count": 21
        }
      ]
    },
    {
      "cell_type": "code",
      "source": [
        "plt.plot(X_new, y_predict, 'r-', label=\"Predictions\")\n",
        "plt.plot(X, y, 'b.')\n",
        "plt.xlabel(\"$x_1$\", fontsize=18)\n",
        "plt.ylabel(\"$y$\", rotation=0, fontsize=18)\n",
        "plt.legend(loc=\"upper left\", fontsize=14)\n",
        "plt.axis([0,2,0,15])\n",
        "plt.show()"
      ],
      "metadata": {
        "colab": {
          "base_uri": "https://localhost:8080/",
          "height": 287
        },
        "id": "K74CwjYGVqTH",
        "outputId": "9cc6a83b-5ec7-45aa-ed25-790d63096a32"
      },
      "execution_count": 24,
      "outputs": [
        {
          "output_type": "display_data",
          "data": {
            "text/plain": [
              "<Figure size 432x288 with 1 Axes>"
            ],
            "image/png": "[encoded data removed]"
          },
          "metadata": {
            "needs_background": "light"
          }
        }
      ]
    },
    {
      "cell_type": "markdown",
      "source": [
        "### LinearRegression 클래스 사용해서 최적의 θ구하기"
      ],
      "metadata": {
        "id": "Ll1OxIoYdZNP"
      }
    },
    {
      "cell_type": "code",
      "source": [
        "from sklearn.linear_model import LinearRegression\n",
        "\n",
        "lin_reg = LinearRegression()\n",
        "lin_reg.fit(X, y)\n",
        "lin_reg.intercept_, lin_reg.coef_"
      ],
      "metadata": {
        "colab": {
          "base_uri": "https://localhost:8080/"
        },
        "id": "BkvWUVvuV_wl",
        "outputId": "ed2c2d02-9ae1-4be7-f3bd-df0cb63870f1"
      },
      "execution_count": 26,
      "outputs": [
        {
          "output_type": "execute_result",
          "data": {
            "text/plain": [
              "(array([4.18687357]), array([[2.87581262]]))"
            ]
          },
          "metadata": {},
          "execution_count": 26
        }
      ]
    },
    {
      "cell_type": "code",
      "source": [
        "lin_reg.predict(X_new)"
      ],
      "metadata": {
        "colab": {
          "base_uri": "https://localhost:8080/"
        },
        "id": "nHXapySldvvu",
        "outputId": "5413cf31-1d37-409a-ee0a-2d6b65afe242"
      },
      "execution_count": 27,
      "outputs": [
        {
          "output_type": "execute_result",
          "data": {
            "text/plain": [
              "array([[4.18687357],\n",
              "       [9.9384988 ]])"
            ]
          },
          "metadata": {},
          "execution_count": 27
        }
      ]
    },
    {
      "cell_type": "markdown",
      "source": [
        "spicy.linalg.lstsq()"
      ],
      "metadata": {
        "id": "lSB0CqvCeD3K"
      }
    },
    {
      "cell_type": "code",
      "source": [
        "theta_best_svd, residuals, rank, s =np.linalg.lstsq(X_b, y, rcond=1e-6)\n",
        "theta_best_svd"
      ],
      "metadata": {
        "colab": {
          "base_uri": "https://localhost:8080/"
        },
        "id": "GmIFkQsld_rA",
        "outputId": "a5f37c72-ec38-4136-f39b-70554a331239"
      },
      "execution_count": 30,
      "outputs": [
        {
          "output_type": "execute_result",
          "data": {
            "text/plain": [
              "array([[4.18687357],\n",
              "       [2.87581262]])"
            ]
          },
          "metadata": {},
          "execution_count": 30
        }
      ]
    },
    {
      "cell_type": "markdown",
      "source": [
        "np.linalg.pinv() : 유사역행렬 $\\mathbf{X}^+$을 계산\n",
        "- $\\boldsymbol{\\hat{\\theta}} = \\mathbf{X}^{-1}\\hat{y}$"
      ],
      "metadata": {
        "id": "vWTDDqQNeqjF"
      }
    },
    {
      "cell_type": "code",
      "source": [
        "np.linalg.pinv(X_b).dot(y)"
      ],
      "metadata": {
        "colab": {
          "base_uri": "https://localhost:8080/"
        },
        "id": "xqw6yUcCea6-",
        "outputId": "21199e89-23c0-47e6-b976-83508a669488"
      },
      "execution_count": 31,
      "outputs": [
        {
          "output_type": "execute_result",
          "data": {
            "text/plain": [
              "array([[4.18687357],\n",
              "       [2.87581262]])"
            ]
          },
          "metadata": {},
          "execution_count": 31
        }
      ]
    },
    {
      "cell_type": "markdown",
      "source": [
        "### Gradient Descent"
      ],
      "metadata": {
        "id": "0Ebt6JFzfRcB"
      }
    },
    {
      "cell_type": "markdown",
      "source": [
        "##### 배치 경사하강법"
      ],
      "metadata": {
        "id": "GEZr27IupOSe"
      }
    },
    {
      "cell_type": "code",
      "source": [
        "eta = 0.1\n",
        "n_iterations = 1000\n",
        "m = 100\n",
        "\n",
        "theta = np.random.randn(2,1)"
      ],
      "metadata": {
        "id": "LCSd1WlvfNGn"
      },
      "execution_count": 33,
      "outputs": []
    },
    {
      "cell_type": "code",
      "source": [
        "for iteration in range(n_iterations):\n",
        "  gradients = 2/m * X_b.T.dot(X_b.dot(theta)-y)\n",
        "  theta = theta - eta * gradients"
      ],
      "metadata": {
        "id": "PiRYvVnBpdko"
      },
      "execution_count": 36,
      "outputs": []
    },
    {
      "cell_type": "code",
      "source": [
        "theta"
      ],
      "metadata": {
        "colab": {
          "base_uri": "https://localhost:8080/"
        },
        "id": "YPrK8fISpwua",
        "outputId": "92dd2f5a-746a-4928-dc46-7a5f4bb40799"
      },
      "execution_count": 37,
      "outputs": [
        {
          "output_type": "execute_result",
          "data": {
            "text/plain": [
              "array([[4.18687357],\n",
              "       [2.87581262]])"
            ]
          },
          "metadata": {},
          "execution_count": 37
        }
      ]
    },
    {
      "cell_type": "code",
      "source": [
        "X_new_b.dot(theta)"
      ],
      "metadata": {
        "colab": {
          "base_uri": "https://localhost:8080/"
        },
        "id": "jLxQywyKp1pp",
        "outputId": "8e88fae0-5acf-45a2-d870-5ad47d107a9c"
      },
      "execution_count": 38,
      "outputs": [
        {
          "output_type": "execute_result",
          "data": {
            "text/plain": [
              "array([[4.18687357],\n",
              "       [9.9384988 ]])"
            ]
          },
          "metadata": {},
          "execution_count": 38
        }
      ]
    },
    {
      "cell_type": "code",
      "source": [
        "# visualization\n",
        "theta_path_bgd = []\n",
        "\n",
        "def plot_gradient_descent(theta, eta, theta_path=None):\n",
        "  m = len(X_b)\n",
        "  plt.plot(X, y, \"b.\")\n",
        "  n_iterations = 1000\n",
        "  for iteration in range(n_iterations):\n",
        "    if iteration < 10:\n",
        "      y_predict = X_new_b.dot(theta)\n",
        "      style = \"b-\" if iteration > 0 else \"r--\"\n",
        "      plt.plot(X_new, y_predict, style)\n",
        "    gradients = 2/m * X_b.T.dot(X_b.dot(theta) - y)\n",
        "    theta = theta - eta * gradients\n",
        "    if theta_path is not None:\n",
        "      theta_path.append(theta)\n",
        "  plt.xlabel(\"$x_1$\", fontsize=18)\n",
        "  plt.axis([0, 2, 0, 15])\n",
        "  plt.title(r\"$\\eta = {}$\".format(eta), fontsize=16)"
      ],
      "metadata": {
        "id": "LaDeIqlfp5nW"
      },
      "execution_count": 41,
      "outputs": []
    },
    {
      "cell_type": "code",
      "source": [
        "np.random.seed(42)\n",
        "theta = np.random.randn(2,1)  # random initialization\n",
        "\n",
        "plt.figure(figsize=(10,4))\n",
        "plt.subplot(131); plot_gradient_descent(theta, eta=0.02)\n",
        "plt.ylabel(\"$y$\", rotation=0, fontsize=18)\n",
        "plt.subplot(132); plot_gradient_descent(theta, eta=0.1, theta_path=theta_path_bgd)\n",
        "plt.subplot(133); plot_gradient_descent(theta, eta=0.5)\n",
        "plt.show()"
      ],
      "metadata": {
        "colab": {
          "base_uri": "https://localhost:8080/",
          "height": 307
        },
        "id": "7s9FY7_crCE7",
        "outputId": "f35dff88-dc34-4dd2-ae04-c7f60889d38e"
      },
      "execution_count": 42,
      "outputs": [
        {
          "output_type": "display_data",
          "data": {
            "text/plain": [
              "<Figure size 720x288 with 3 Axes>"
            ],
            "image/png": "[encoded data removed]"
          },
          "metadata": {
            "needs_background": "light"
          }
        }
      ]
    },
    {
      "cell_type": "markdown",
      "source": [
        "##### 확률적 경사하강법(SGD)"
      ],
      "metadata": {
        "id": "MwgaHBOFreGV"
      }
    },
    {
      "cell_type": "code",
      "source": [
        "theta_path_sgd = []\n",
        "m = len(X_b)\n",
        "np.random.seed(42)"
      ],
      "metadata": {
        "id": "omIp8TukrE02"
      },
      "execution_count": 43,
      "outputs": []
    },
    {
      "cell_type": "code",
      "source": [
        "#visualization\n",
        "n_epochs = 50\n",
        "t0, t1 = 5, 50  # 학습 스케줄 하이퍼파라미터\n",
        "\n",
        "def learning_schedule(t):\n",
        "  return t0 / (t + t1)\n",
        "\n",
        "theta = np.random.randn(2,1)  # 랜덤 초기화\n",
        "\n",
        "for epoch in range(n_epochs):\n",
        "  for i in range(m):\n",
        "    if epoch == 0 and i < 20:                    \n",
        "      y_predict = X_new_b.dot(theta)           \n",
        "      style = \"b-\" if i > 0 else \"r--\"         \n",
        "      plt.plot(X_new, y_predict, style)        \n",
        "    random_index = np.random.randint(m)\n",
        "    xi = X_b[random_index:random_index+1]\n",
        "    yi = y[random_index:random_index+1]\n",
        "    gradients = 2 * xi.T.dot(xi.dot(theta) - yi)\n",
        "    eta = learning_schedule(epoch * m + i)\n",
        "    theta = theta - eta * gradients\n",
        "    theta_path_sgd.append(theta)                 \n",
        "\n",
        "plt.plot(X, y, \"b.\")                                 \n",
        "plt.xlabel(\"$x_1$\", fontsize=18)                     \n",
        "plt.ylabel(\"$y$\", rotation=0, fontsize=18)           \n",
        "plt.axis([0, 2, 0, 15])                                                         \n",
        "plt.show() "
      ],
      "metadata": {
        "colab": {
          "base_uri": "https://localhost:8080/",
          "height": 287
        },
        "id": "8c7lcjyuripr",
        "outputId": "2b5e4794-03ce-40ac-b856-96acc9d7507a"
      },
      "execution_count": 45,
      "outputs": [
        {
          "output_type": "display_data",
          "data": {
            "text/plain": [
              "<Figure size 432x288 with 1 Axes>"
            ],
            "image/png": "[encoded data removed]"
          },
          "metadata": {
            "needs_background": "light"
          }
        }
      ]
    },
    {
      "cell_type": "code",
      "source": [
        "theta"
      ],
      "metadata": {
        "colab": {
          "base_uri": "https://localhost:8080/"
        },
        "id": "kmdCGlBzrrkc",
        "outputId": "de264841-8b93-4d56-b45c-c480fabbb716"
      },
      "execution_count": 46,
      "outputs": [
        {
          "output_type": "execute_result",
          "data": {
            "text/plain": [
              "array([[4.14459665],\n",
              "       [2.8993271 ]])"
            ]
          },
          "metadata": {},
          "execution_count": 46
        }
      ]
    },
    {
      "cell_type": "code",
      "source": [
        "from sklearn.linear_model import SGDRegressor\n",
        "\n",
        "sgd_reg = SGDRegressor(max_iter=1000, #epoch 횟수\n",
        "                       tol=1e-3, #손실함수 감소치의 기준 목표치\n",
        "                       penalty=None, \n",
        "                       eta0=0.1, #학습률\n",
        "                       random_state=42)\n",
        "sgd_reg.fit(X, y.ravel())"
      ],
      "metadata": {
        "colab": {
          "base_uri": "https://localhost:8080/"
        },
        "id": "N-OP6PAjr1eL",
        "outputId": "d81481c5-2f35-4af1-a301-e24c7c817262"
      },
      "execution_count": 48,
      "outputs": [
        {
          "output_type": "execute_result",
          "data": {
            "text/plain": [
              "SGDRegressor(eta0=0.1, penalty=None, random_state=42)"
            ]
          },
          "metadata": {},
          "execution_count": 48
        }
      ]
    },
    {
      "cell_type": "code",
      "source": [
        "sgd_reg.intercept_, sgd_reg.coef_"
      ],
      "metadata": {
        "colab": {
          "base_uri": "https://localhost:8080/"
        },
        "id": "jwLwT4BtsNea",
        "outputId": "39081da9-7661-4198-b3be-be563211bdfa"
      },
      "execution_count": 49,
      "outputs": [
        {
          "output_type": "execute_result",
          "data": {
            "text/plain": [
              "(array([4.1154232]), array([2.86698101]))"
            ]
          },
          "metadata": {},
          "execution_count": 49
        }
      ]
    },
    {
      "cell_type": "markdown",
      "source": [
        "##### 미니배치 경사하강법"
      ],
      "metadata": {
        "id": "6cEJm5E5seG8"
      }
    },
    {
      "cell_type": "code",
      "source": [
        "theta_path_mgd = []\n",
        "\n",
        "n_iterations = 50\n",
        "minibatch_size = 20\n",
        "\n",
        "np.random.seed(42)\n",
        "theta = np.random.randn(2,1)  # 랜덤 초기화\n",
        "\n",
        "t0, t1 = 200, 1000\n",
        "def learning_schedule(t):\n",
        "  return t0 / (t + t1)\n",
        "\n",
        "t = 0\n",
        "for epoch in range(n_iterations):\n",
        "  shuffled_indices = np.random.permutation(m)\n",
        "  X_b_shuffled = X_b[shuffled_indices]\n",
        "  y_shuffled = y[shuffled_indices]\n",
        "  for i in range(0, m, minibatch_size):\n",
        "    t += 1\n",
        "    xi = X_b_shuffled[i:i+minibatch_size]\n",
        "    yi = y_shuffled[i:i+minibatch_size]\n",
        "    gradients = 2/minibatch_size * xi.T.dot(xi.dot(theta) - yi)\n",
        "    eta = learning_schedule(t)\n",
        "    theta = theta - eta * gradients\n",
        "    theta_path_mgd.append(theta)"
      ],
      "metadata": {
        "id": "I-6Ei70lsbcu"
      },
      "execution_count": 50,
      "outputs": []
    },
    {
      "cell_type": "code",
      "source": [
        "theta"
      ],
      "metadata": {
        "colab": {
          "base_uri": "https://localhost:8080/"
        },
        "id": "-p-jDD1ysrHC",
        "outputId": "c14f83a0-153d-4c41-aa99-2704323c12f3"
      },
      "execution_count": 51,
      "outputs": [
        {
          "output_type": "execute_result",
          "data": {
            "text/plain": [
              "array([[4.26202313],\n",
              "       [2.97548311]])"
            ]
          },
          "metadata": {},
          "execution_count": 51
        }
      ]
    },
    {
      "cell_type": "code",
      "source": [
        "theta_path_bgd = np.array(theta_path_bgd)\n",
        "theta_path_sgd = np.array(theta_path_sgd)\n",
        "theta_path_mgd = np.array(theta_path_mgd)"
      ],
      "metadata": {
        "id": "xlkZPJeyssmj"
      },
      "execution_count": 52,
      "outputs": []
    },
    {
      "cell_type": "code",
      "source": [
        "# 경사하강법들의 최적화 경로 비교\n",
        "plt.figure(figsize=(7,4))\n",
        "plt.plot(theta_path_sgd[:, 0], theta_path_sgd[:, 1], \"r-s\", linewidth=1, label=\"Stochastic\")\n",
        "plt.plot(theta_path_mgd[:, 0], theta_path_mgd[:, 1], \"g-+\", linewidth=2, label=\"Mini-batch\")\n",
        "plt.plot(theta_path_bgd[:, 0], theta_path_bgd[:, 1], \"b-o\", linewidth=3, label=\"Batch\")\n",
        "plt.legend(loc=\"upper left\", fontsize=16)\n",
        "plt.xlabel(r\"$\\theta_0$\", fontsize=20)\n",
        "plt.ylabel(r\"$\\theta_1$   \", fontsize=20, rotation=0)\n",
        "plt.axis([2.5, 4.5, 2.3, 3.9])\n",
        "plt.show()"
      ],
      "metadata": {
        "colab": {
          "base_uri": "https://localhost:8080/",
          "height": 292
        },
        "id": "htkhoFvestjS",
        "outputId": "c399b02a-8a97-4d5f-e5c8-99b8d886e7ab"
      },
      "execution_count": 53,
      "outputs": [
        {
          "output_type": "display_data",
          "data": {
            "text/plain": [
              "<Figure size 504x288 with 1 Axes>"
            ],
            "image/png": "[encoded data removed]"
          },
          "metadata": {
            "needs_background": "light"
          }
        }
      ]
    },
    {
      "cell_type": "code",
      "source": [],
      "metadata": {
        "id": "oyUkQd4ss9l7"
      },
      "execution_count": null,
      "outputs": []
    }
  ]
}