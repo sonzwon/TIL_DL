{
  "nbformat": 4,
  "nbformat_minor": 0,
  "metadata": {
    "colab": {
      "provenance": [],
      "collapsed_sections": [
        "c5uDUVunS1Yk",
        "2Bgf6uZtoBob",
        "ko4D-BpJTq2r",
        "hrmQ7HzEUKrz",
        "vDLHexaGUs17",
        "CZOhbFOFU_jr",
        "eKv9UoZAxTr6",
        "Kz3kWteP8Kap",
        "fesKKJqio--a",
        "_1NMpB6LqIB5",
        "JLSYLZr0qvGI",
        "nWy8FKR1AYJU",
        "OQPItJ4zBWTt",
        "ef1qyJ8HtZfu",
        "MUdBACZuCDfA",
        "WsA0v_tNuv7Z",
        "Mqv2vE5EwChf",
        "-ZGNiCnuxQTO",
        "cclii1-lS_HA",
        "z67dTPu0xJSu",
        "20iJHg2gXrC2",
        "svYCsKxOyJzt",
        "PkOrDR1yam4a",
        "IZRqZC50ZoaE",
        "hU3-Lm7Ma_97",
        "bfxPsEKTrKBq",
        "J6nvDS4yOSCD",
        "KMHHUTQfQcU0",
        "16fGMxJRwhc6",
        "7FQT89oqrdkA",
        "c2GZFvCAzFNl",
        "Bj4P3DdzzhyC",
        "ta1I5ZEY1FBR",
        "gfEgY1Vr1T1v"
      ],
      "include_colab_link": true
    },
    "kernelspec": {
      "name": "python3",
      "display_name": "Python 3"
    }
  },
  "cells": [
    {
      "cell_type": "markdown",
      "metadata": {
        "id": "view-in-github",
        "colab_type": "text"
      },
      "source": [
        "<a href=\"https://colab.research.google.com/github/sonzwon/TIL_DL/blob/master/%5Bpractice%5DRNN.ipynb\" target=\"_parent\"><img src=\"https://colab.research.google.com/assets/colab-badge.svg\" alt=\"Open In Colab\"/></a>"
      ]
    },
    {
      "cell_type": "code",
      "metadata": {
        "id": "e7kl3hgkikbo"
      },
      "source": [
        "import tensorflow as tf\n",
        "from tensorflow import keras\n",
        "from keras.layers import Dense\n",
        "from keras.models import Sequential\n",
        "\n",
        "import pandas as pd\n",
        "import numpy as np\n",
        "import matplotlib.pyplot as plt\n",
        "import seaborn as sns\n",
        "import warnings \n",
        "from IPython.display import Image\n",
        "\n",
        "warnings.filterwarnings('ignore')\n",
        "%matplotlib inline\n",
        "\n",
        "SEED = 34"
      ],
      "execution_count": 2,
      "outputs": []
    },
    {
      "cell_type": "markdown",
      "metadata": {
        "id": "c5uDUVunS1Yk"
      },
      "source": [
        "## Step 1. 도입전 기본 처리"
      ]
    },
    {
      "cell_type": "markdown",
      "metadata": {
        "id": "2Bgf6uZtoBob"
      },
      "source": [
        "### 문제 1. mnist 데이터 살펴보기"
      ]
    },
    {
      "cell_type": "code",
      "metadata": {
        "id": "l2NW5G5nTgsb"
      },
      "source": [
        "# 데이터를 불러오는 코드를 작성해주세요.\n",
        "mnist = keras.datasets.mnist\n",
        "(x_train, y_train), (x_test, y_test) = mnist.load_data()"
      ],
      "execution_count": 5,
      "outputs": []
    },
    {
      "cell_type": "markdown",
      "metadata": {
        "id": "ko4D-BpJTq2r"
      },
      "source": [
        "### 문제 2. 데이터의 shape을 출력해보세요."
      ]
    },
    {
      "cell_type": "code",
      "metadata": {
        "id": "waksbx9aT5tK",
        "colab": {
          "base_uri": "https://localhost:8080/"
        },
        "outputId": "896dd559-5b84-47f7-fdb1-6eabb860762e"
      },
      "source": [
        "# 데이터의 크기를 shape 함수를 통해 출력해주세요.\n",
        "print('x_train :', x_train.shape)\n",
        "print('y_train :', y_train.shape)\n",
        "print('x_test :', x_test.shape)\n",
        "print('y_test :', y_test.shape)"
      ],
      "execution_count": 6,
      "outputs": [
        {
          "output_type": "stream",
          "name": "stdout",
          "text": [
            "x_train : (60000, 28, 28)\n",
            "y_train : (60000,)\n",
            "x_test : (10000, 28, 28)\n",
            "y_test : (10000,)\n"
          ]
        }
      ]
    },
    {
      "cell_type": "markdown",
      "metadata": {
        "id": "hrmQ7HzEUKrz"
      },
      "source": [
        "### 문제 3. (28, 28) 형태의 이미지를 plt을 이용하여 출력해보세요."
      ]
    },
    {
      "cell_type": "code",
      "metadata": {
        "id": "fVzGHMSYUUKk",
        "colab": {
          "base_uri": "https://localhost:8080/",
          "height": 0
        },
        "outputId": "975373cb-70a9-4846-d25d-53ca5850edc5"
      },
      "source": [
        "# 28x28의 흑백 이미지를 plt를 이용하여 출력하는 코드를 작성해보세요.\n",
        "import matplotlib.pyplot as plt\n",
        "\n",
        "plt.figure()\n",
        "plt.imshow(x_train[0])\n",
        "plt.show()\n",
        "print(y_train[0])"
      ],
      "execution_count": 7,
      "outputs": [
        {
          "output_type": "display_data",
          "data": {
            "text/plain": [
              "<Figure size 432x288 with 1 Axes>"
            ],
            "image/png": "[encoded data removed]"
          },
          "metadata": {
            "needs_background": "light"
          }
        },
        {
          "output_type": "stream",
          "name": "stdout",
          "text": [
            "5\n"
          ]
        }
      ]
    },
    {
      "cell_type": "markdown",
      "metadata": {
        "id": "vDLHexaGUs17"
      },
      "source": [
        "### 문제 4. train_images에서 0이 아닌 값들을 출력해보세요."
      ]
    },
    {
      "cell_type": "code",
      "metadata": {
        "id": "1NYdCv1yUsKG",
        "colab": {
          "base_uri": "https://localhost:8080/"
        },
        "outputId": "02f4e05f-d6f0-4a11-b956-cae966f3c5f2"
      },
      "source": [
        "# 하나의 이미지에 대한 모든 0이 아닌 값을 출력하는 코드를 작성하세요.\n",
        "list(filter(lambda x: x!=0 ,x_train[0].reshape(-1)))[:10]"
      ],
      "execution_count": 8,
      "outputs": [
        {
          "output_type": "execute_result",
          "data": {
            "text/plain": [
              "[3, 18, 18, 18, 126, 136, 175, 26, 166, 255]"
            ]
          },
          "metadata": {},
          "execution_count": 8
        }
      ]
    },
    {
      "cell_type": "markdown",
      "metadata": {
        "id": "CZOhbFOFU_jr"
      },
      "source": [
        "### 문제 5. train_images의 dtype을 출력해보세요."
      ]
    },
    {
      "cell_type": "code",
      "metadata": {
        "id": "nVc4kjgAVNl7",
        "colab": {
          "base_uri": "https://localhost:8080/"
        },
        "outputId": "a05d3f68-f9b6-4fa0-bab8-11cbec23584f"
      },
      "source": [
        "# dtype을 이용하여 이미지의 np array type을 확인해보세요.\n",
        "print('x_train :', x_train[0].dtype)\n",
        "print('y_train :', y_train[0].dtype)\n",
        "print('x_test :', x_test[0].dtype)\n",
        "print('y_test :', y_test[0].dtype)"
      ],
      "execution_count": 9,
      "outputs": [
        {
          "output_type": "stream",
          "name": "stdout",
          "text": [
            "x_train : uint8\n",
            "y_train : uint8\n",
            "x_test : uint8\n",
            "y_test : uint8\n"
          ]
        }
      ]
    },
    {
      "cell_type": "markdown",
      "metadata": {
        "id": "eKv9UoZAxTr6"
      },
      "source": [
        "## Step 2. 전처리"
      ]
    },
    {
      "cell_type": "markdown",
      "metadata": {
        "id": "UTXpP1Imyaad"
      },
      "source": [
        "### 문제 6. train/test 이미지 데이터의 범위 확인"
      ]
    },
    {
      "cell_type": "code",
      "metadata": {
        "id": "Ji6XLxvRy5eJ",
        "colab": {
          "base_uri": "https://localhost:8080/"
        },
        "outputId": "3a64f932-0288-4748-c4cd-bf77bbb76974"
      },
      "source": [
        "# test_images의 shape과 dtype, 0이 아닌 숫자를 출력하는 코드를 작성하세요.\n",
        "print(f'shape: {x_test.shape}')\n",
        "print(f'shape: {x_test.dtype}')\n",
        "list(filter(lambda x : x!=0, x_test[0].reshape(-1)))[:10]"
      ],
      "execution_count": 10,
      "outputs": [
        {
          "output_type": "stream",
          "name": "stdout",
          "text": [
            "shape: (10000, 28, 28)\n",
            "shape: uint8\n"
          ]
        },
        {
          "output_type": "execute_result",
          "data": {
            "text/plain": [
              "[84, 185, 159, 151, 60, 36, 222, 254, 254, 254]"
            ]
          },
          "metadata": {},
          "execution_count": 10
        }
      ]
    },
    {
      "cell_type": "markdown",
      "metadata": {
        "id": "7OpFGbD6V8Zl"
      },
      "source": [
        "### 문제 7. train/test 이미지 데이터의 최소/최대값을 출력"
      ]
    },
    {
      "cell_type": "code",
      "metadata": {
        "id": "sFOJNRTvYo7d",
        "colab": {
          "base_uri": "https://localhost:8080/"
        },
        "outputId": "5e7cd8c8-8151-4c9c-92fd-51fd3b3182cd"
      },
      "source": [
        "# train/test 전체 데이터에서 각 images, labels의 min, max를 출력하는 코드를 작성하세요.\n",
        "print(f'x_train min: {min(x_train.reshape(-1))}')\n",
        "print(f'x_train max: {max(x_train.reshape(-1))}')\n",
        "print(f'y_train min: {min(y_train.reshape(-1))}')\n",
        "print(f'y_train max: {max(y_train.reshape(-1))}')\n",
        "print(f'x_test min: {min(x_test.reshape(-1))}')\n",
        "print(f'x_test max: {max(x_test.reshape(-1))}')\n",
        "print(f'y_test min: {min(y_test.reshape(-1))}')\n",
        "print(f'y_test max: {max(y_test.reshape(-1))}')"
      ],
      "execution_count": 11,
      "outputs": [
        {
          "output_type": "stream",
          "name": "stdout",
          "text": [
            "x_train min: 0\n",
            "x_train max: 255\n",
            "y_train min: 0\n",
            "y_train max: 9\n",
            "x_test min: 0\n",
            "x_test max: 255\n",
            "y_test min: 0\n",
            "y_test max: 9\n"
          ]
        }
      ]
    },
    {
      "cell_type": "markdown",
      "metadata": {
        "id": "W_xsByHegZhh"
      },
      "source": [
        "### 문제 8. 정수형을 실수형으로 변경 후 dtype으로 비교"
      ]
    },
    {
      "cell_type": "code",
      "metadata": {
        "id": "Y88qmAVChg_Z"
      },
      "source": [
        "# train/test 데이터의 타입을 dtype으로 확인해보고 실수형으로 전환하는 코드를 작성하세요.\n",
        "x_train = x_train.astype('float64')\n",
        "x_test = x_test.astype('float64')"
      ],
      "execution_count": 12,
      "outputs": []
    },
    {
      "cell_type": "markdown",
      "metadata": {
        "id": "9iIJK2qsfevX"
      },
      "source": [
        "### 문제 9. 데이터 0-1 노말라이즈 수행\n"
      ]
    },
    {
      "cell_type": "markdown",
      "metadata": {
        "id": "L0f__zuBfotM"
      },
      "source": [
        "#### 힌트\n",
        "\n",
        "일반적으로 0-1사의의 값을 가지게 하기 위해서는 다음 수식을 사용합니다.\n",
        "\n",
        "$$normalize(x) = \\frac{x - 최소값}{최대값 - 최소값}$$\n",
        "\n",
        "이 경우 최소값이 0이기 떄문에 다음과 같이 간편하게 구할 수 있습니다.\n",
        "\n",
        "$$normalize(x) = \\frac{x}{최대값}$$"
      ]
    },
    {
      "cell_type": "code",
      "metadata": {
        "id": "SV2A6JZBf7Ku"
      },
      "source": [
        "# images의 값이 0-1사이의 값을 같도록 코드를 작성해보세요.\n",
        "x_train = x_train / 255\n",
        "x_test = x_test / 255"
      ],
      "execution_count": 13,
      "outputs": []
    },
    {
      "cell_type": "markdown",
      "metadata": {
        "id": "8QqqdPzDiC3F"
      },
      "source": [
        "### 문제 10. 0-1 노말라이즈 후 데이터의 값이 변경되었는지 문제 6, 7의 방법을 이용하여 확인하세요."
      ]
    },
    {
      "cell_type": "markdown",
      "metadata": {
        "id": "C_04Z-Kj2uyh"
      },
      "source": [
        "노말라이즈가 제대로 됐는지 확안해 보겠습니다."
      ]
    },
    {
      "cell_type": "code",
      "metadata": {
        "id": "t-ZKXRKO2rBE",
        "colab": {
          "base_uri": "https://localhost:8080/"
        },
        "outputId": "aaf407cd-ee4a-410d-8ca1-d2eb5d69722d"
      },
      "source": [
        "# 노말라이즈 후 min/max, shape, 0이 아닌 값, dtype 등을 확인하는 코드를 작성해보세요. \n",
        "print(f'x_train_shape: {x_train.shape}')\n",
        "print(f'x_train_dtype: {x_train.dtype}')\n",
        "print(f'x_test_shape: {x_test.shape}')\n",
        "print(f'x_test_dtype: {x_test.dtype}')\n",
        "print(f'x_train min: {min(x_train.reshape(-1))}')\n",
        "print(f'x_train max: {max(x_train.reshape(-1))}')\n",
        "print(f'x_test min: {min(x_test.reshape(-1))}')\n",
        "print(f'x_test max: {max(x_test.reshape(-1))}')"
      ],
      "execution_count": 14,
      "outputs": [
        {
          "output_type": "stream",
          "name": "stdout",
          "text": [
            "x_train_shape: (60000, 28, 28)\n",
            "x_train_dtype: float64\n",
            "x_test_shape: (10000, 28, 28)\n",
            "x_test_dtype: float64\n",
            "x_train min: 0.0\n",
            "x_train max: 1.0\n",
            "x_test min: 0.0\n",
            "x_test max: 1.0\n"
          ]
        }
      ]
    },
    {
      "cell_type": "markdown",
      "metadata": {
        "id": "SMyUArry3UhT"
      },
      "source": [
        "## Step 3. 시각화 방법"
      ]
    },
    {
      "cell_type": "markdown",
      "metadata": {
        "id": "UFga-Bbo6L0E"
      },
      "source": [
        "### 문제 11. train_image의 이미지를 5장 획득하여 (5, 28, 28)의 shape을 출력하세요."
      ]
    },
    {
      "cell_type": "code",
      "metadata": {
        "id": "cLaqqwz4i_7D",
        "colab": {
          "base_uri": "https://localhost:8080/"
        },
        "outputId": "36523ef1-0bd6-4b90-a188-cb324d46d2dd"
      },
      "source": [
        "# (60000, 28, 28)인 train_images에서 (5, 28, 28)을 획득하는 코드를 작성하세요.\n",
        "x_train[:5].shape"
      ],
      "execution_count": 15,
      "outputs": [
        {
          "output_type": "execute_result",
          "data": {
            "text/plain": [
              "(5, 28, 28)"
            ]
          },
          "metadata": {},
          "execution_count": 15
        }
      ]
    },
    {
      "cell_type": "markdown",
      "metadata": {
        "id": "gX8JH97njNNr"
      },
      "source": [
        "### 문제 12. 획득한 5장의 의미지를 (28, 28 * 5)의 shape으로 변경해보세요."
      ]
    },
    {
      "cell_type": "code",
      "metadata": {
        "id": "bxRhMcaKk3Pa",
        "colab": {
          "base_uri": "https://localhost:8080/"
        },
        "outputId": "cd582b81-1f83-46a3-cd92-369206178506"
      },
      "source": [
        "# np.hstack은 height 방향의 배열을 풀어서 width 방향으로 연결해줍니다.\n",
        "# 해당 기능을 쓰면 (height, image_height, image_width)의 shape을 (image_height, image_width * height)으로 바꿔 줄 수 있습니다.\n",
        "# 코드를 작성해보세요.\n",
        "\n",
        "np.hstack(x_train[:5]).shape"
      ],
      "execution_count": 16,
      "outputs": [
        {
          "output_type": "execute_result",
          "data": {
            "text/plain": [
              "(28, 140)"
            ]
          },
          "metadata": {},
          "execution_count": 16
        }
      ]
    },
    {
      "cell_type": "markdown",
      "metadata": {
        "id": "xqyaO-5bk-sj"
      },
      "source": [
        "### 문제 13. np.hstack은 tensorflow에서 제공하는 방법이 아니므로 transpose 함수를 이용하여 (28, 28 * 5)로 shape을 변경해보세요."
      ]
    },
    {
      "cell_type": "code",
      "metadata": {
        "id": "SqmKdjlGlqLJ",
        "colab": {
          "base_uri": "https://localhost:8080/"
        },
        "outputId": "6002c268-148e-4372-e20c-69a62d97568c"
      },
      "source": [
        "# transpose는 tensor의 axis를 섞는 기능을 합니다.\n",
        "# 해당 기능을 이용해서 (28, 140)을 작성하는 코드를 작성해보세요.\n",
        "x_train[:5].transpose((1,0,2)).reshape(28, -1).shape"
      ],
      "execution_count": 17,
      "outputs": [
        {
          "output_type": "execute_result",
          "data": {
            "text/plain": [
              "(28, 140)"
            ]
          },
          "metadata": {},
          "execution_count": 17
        }
      ]
    },
    {
      "cell_type": "markdown",
      "metadata": {
        "id": "T0oaToP6l0Pd"
      },
      "source": [
        "### 문제 14. (28, 140)이 된 tensor를 plt로 출력해보세요."
      ]
    },
    {
      "cell_type": "code",
      "metadata": {
        "id": "ToUpk3oBmIr1",
        "colab": {
          "base_uri": "https://localhost:8080/",
          "height": 0
        },
        "outputId": "b9c3c9d9-94a7-4cdc-9ad0-0a516c9d033d"
      },
      "source": [
        "# (28, 140)의 이미지를 plt로 출력해보세요.\n",
        "plt.imshow(x_train[:5].reshape(28, -1))\n",
        "plt.show()\n",
        "plt.imshow(np.hstack(x_train[:5]))\n",
        "plt.show()\n",
        "plt.imshow(x_train[:5].transpose((1,0,2)).reshape(28, -1))\n",
        "plt.show()"
      ],
      "execution_count": 18,
      "outputs": [
        {
          "output_type": "display_data",
          "data": {
            "text/plain": [
              "<Figure size 432x288 with 1 Axes>"
            ],
            "image/png": "[encoded data removed]"
          },
          "metadata": {
            "needs_background": "light"
          }
        },
        {
          "output_type": "display_data",
          "data": {
            "text/plain": [
              "<Figure size 432x288 with 1 Axes>"
            ],
            "image/png": "[encoded data removed]"
          },
          "metadata": {
            "needs_background": "light"
          }
        },
        {
          "output_type": "display_data",
          "data": {
            "text/plain": [
              "<Figure size 432x288 with 1 Axes>"
            ],
            "image/png": "[encoded data removed]"
          },
          "metadata": {
            "needs_background": "light"
          }
        }
      ]
    },
    {
      "cell_type": "markdown",
      "metadata": {
        "id": "LDwAlHN5mQ6K"
      },
      "source": [
        "###문제 15. (28, 140)이 된 tensor를 plt로 흑백으로 출력해보세요. 또한, 해당되는 labels의 값도 print로 출력하세요.\n",
        "\n",
        "hit: imshow 함수의 cmap ='gray' 옵션은 흑백이미지를 heatmap으로 출력하지 않습니다."
      ]
    },
    {
      "cell_type": "code",
      "metadata": {
        "id": "cT-BXF6OmQUy",
        "colab": {
          "base_uri": "https://localhost:8080/",
          "height": 0
        },
        "outputId": "01c4ebde-417d-4eb3-a546-5917fc0cf49e"
      },
      "source": [
        "# images와 labels 5개를 출력하는 코드를 작성하세요.\n",
        "plt.imshow(x_train[:5].transpose((1,0,2)).reshape(28, -1), cmap='gray')\n",
        "plt.show()\n",
        "print(y_train[:5])"
      ],
      "execution_count": 19,
      "outputs": [
        {
          "output_type": "display_data",
          "data": {
            "text/plain": [
              "<Figure size 432x288 with 1 Axes>"
            ],
            "image/png": "[encoded data removed]"
          },
          "metadata": {
            "needs_background": "light"
          }
        },
        {
          "output_type": "stream",
          "name": "stdout",
          "text": [
            "[5 0 4 1 9]\n"
          ]
        }
      ]
    },
    {
      "cell_type": "markdown",
      "metadata": {
        "id": "Kz3kWteP8Kap"
      },
      "source": [
        "## Step 4. Data augmentation - Noise 추가 방법"
      ]
    },
    {
      "cell_type": "markdown",
      "metadata": {
        "id": "fesKKJqio--a"
      },
      "source": [
        "### 문제 16. np.random.random 함수를 이용하여 0-1 사이의 랜덤값을 3회 print로 출력해보시오."
      ]
    },
    {
      "cell_type": "code",
      "metadata": {
        "id": "Jsmh1keWpODx",
        "colab": {
          "base_uri": "https://localhost:8080/"
        },
        "outputId": "be9d72dd-b2d8-4324-c5a8-e4ba5013b5f7"
      },
      "source": [
        "# np.random.ranodm을 이용해서 0-1 사의의 랜덤값을 3회 출력하는 코드를 작성하시오.\n",
        "np.random.random(3)"
      ],
      "execution_count": 20,
      "outputs": [
        {
          "output_type": "execute_result",
          "data": {
            "text/plain": [
              "array([0.98849508, 0.19951874, 0.70348768])"
            ]
          },
          "metadata": {},
          "execution_count": 20
        }
      ]
    },
    {
      "cell_type": "markdown",
      "metadata": {
        "id": "_1NMpB6LqIB5"
      },
      "source": [
        "### 문제 17. np.random.random 함수와 shape 파라매터를 (28, 28)의 랜덤 노이즈를 생성해보세요."
      ]
    },
    {
      "cell_type": "code",
      "metadata": {
        "id": "U9-NlbEhqhCx",
        "colab": {
          "base_uri": "https://localhost:8080/"
        },
        "outputId": "10893a0e-dc6b-4437-d6d4-eeeb838facd5"
      },
      "source": [
        "# np.random.randpm 함수와 shape 파라매터를 이용하여 (28, 28)의 랜덤 노이즈를 생성하는 코드를 작성하시오.\n",
        "np.random.random((28,28))"
      ],
      "execution_count": 22,
      "outputs": [
        {
          "output_type": "execute_result",
          "data": {
            "text/plain": [
              "array([[0.67478495, 0.3860843 , 0.70512543, 0.5238479 , 0.88323163,\n",
              "        0.40578893, 0.34264024, 0.31487217, 0.39644059, 0.55274658,\n",
              "        0.88226714, 0.19772458, 0.37181764, 0.70105843, 0.2024963 ,\n",
              "        0.68492485, 0.23240212, 0.70913206, 0.84232692, 0.48689991,\n",
              "        0.6800113 , 0.06925652, 0.93761215, 0.36957484, 0.18409761,\n",
              "        0.65832141, 0.61075228, 0.07081847],\n",
              "       [0.80057372, 0.85478931, 0.9922429 , 0.63784781, 0.41698446,\n",
              "        0.58356916, 0.47279408, 0.5811748 , 0.19734758, 0.84813906,\n",
              "        0.74996414, 0.71384293, 0.80716996, 0.91597164, 0.11916913,\n",
              "        0.04663864, 0.80494969, 0.92900317, 0.2463095 , 0.21972565,\n",
              "        0.98674785, 0.34709596, 0.34978289, 0.64063616, 0.30604449,\n",
              "        0.25353695, 0.56273344, 0.64497634],\n",
              "       [0.75968293, 0.79879866, 0.34828455, 0.93435261, 0.79539077,\n",
              "        0.16832319, 0.87385844, 0.12333711, 0.80635915, 0.31725092,\n",
              "        0.37166498, 0.71310591, 0.52558481, 0.4241436 , 0.37978271,\n",
              "        0.47827761, 0.27958569, 0.73284027, 0.19689022, 0.90195469,\n",
              "        0.26525485, 0.833007  , 0.03854368, 0.81528396, 0.94767113,\n",
              "        0.18524564, 0.19130551, 0.72091736],\n",
              "       [0.57891356, 0.76052656, 0.4190539 , 0.81919129, 0.4322484 ,\n",
              "        0.07714056, 0.80281819, 0.19192058, 0.83637215, 0.10650604,\n",
              "        0.74671392, 0.91547027, 0.62939245, 0.8093101 , 0.51209475,\n",
              "        0.55674498, 0.99238588, 0.82895395, 0.08736663, 0.82304623,\n",
              "        0.50765054, 0.52842381, 0.63302293, 0.21740157, 0.91652862,\n",
              "        0.24310338, 0.31825799, 0.80050512],\n",
              "       [0.13341874, 0.86764769, 0.34252161, 0.10953533, 0.13329757,\n",
              "        0.33260802, 0.69908121, 0.72211382, 0.5175017 , 0.42931281,\n",
              "        0.65355897, 0.35961009, 0.36464112, 0.897495  , 0.56658138,\n",
              "        0.46466918, 0.14856736, 0.66750971, 0.63421882, 0.71072895,\n",
              "        0.68749421, 0.77153904, 0.62841583, 0.08085667, 0.70630036,\n",
              "        0.53664672, 0.52704975, 0.71917089],\n",
              "       [0.69503679, 0.38090761, 0.57494856, 0.10098746, 0.35746323,\n",
              "        0.8425451 , 0.1393832 , 0.88199457, 0.6348379 , 0.52930044,\n",
              "        0.46557145, 0.53449505, 0.09666305, 0.54868672, 0.61146917,\n",
              "        0.92188227, 0.20898206, 0.06249823, 0.06352261, 0.36739439,\n",
              "        0.56602979, 0.83540937, 0.53740209, 0.62881214, 0.96127916,\n",
              "        0.6717894 , 0.25362202, 0.58075508],\n",
              "       [0.92456871, 0.3296892 , 0.47733877, 0.37558092, 0.63422897,\n",
              "        0.0025803 , 0.07617078, 0.32021501, 0.89429909, 0.80092264,\n",
              "        0.80616141, 0.52962446, 0.33355663, 0.8622926 , 0.46986955,\n",
              "        0.80030965, 0.31116395, 0.12618004, 0.51852014, 0.4422975 ,\n",
              "        0.99492055, 0.13681187, 0.56360596, 0.90193604, 0.62013435,\n",
              "        0.99698839, 0.10073832, 0.47473141],\n",
              "       [0.07613239, 0.37857537, 0.20515491, 0.28755454, 0.27790269,\n",
              "        0.68243432, 0.8294285 , 0.45120808, 0.91073404, 0.16830402,\n",
              "        0.76396339, 0.38239857, 0.77246428, 0.50613326, 0.6441231 ,\n",
              "        0.3891613 , 0.40289242, 0.96783312, 0.18681097, 0.14146774,\n",
              "        0.1487637 , 0.47365734, 0.56610084, 0.0894739 , 0.57447666,\n",
              "        0.61097173, 0.84557429, 0.50675611],\n",
              "       [0.31952658, 0.41744088, 0.35462201, 0.97626403, 0.17158103,\n",
              "        0.12934028, 0.04767006, 0.97848742, 0.0280664 , 0.54065851,\n",
              "        0.61493661, 0.31007251, 0.22019015, 0.32953788, 0.00870386,\n",
              "        0.56635038, 0.10855841, 0.51509093, 0.87149844, 0.41113121,\n",
              "        0.06931526, 0.41512572, 0.27852063, 0.55994946, 0.77477193,\n",
              "        0.1904305 , 0.78744312, 0.35552617],\n",
              "       [0.44712158, 0.55589972, 0.04897671, 0.29248708, 0.44343661,\n",
              "        0.90530511, 0.51585476, 0.79992143, 0.778159  , 0.40766131,\n",
              "        0.15091109, 0.77797709, 0.23148974, 0.30218063, 0.2887214 ,\n",
              "        0.34488114, 0.97271558, 0.44336228, 0.38256123, 0.51412844,\n",
              "        0.624165  , 0.61221134, 0.43429991, 0.6700056 , 0.00289929,\n",
              "        0.18720498, 0.79097036, 0.16663249],\n",
              "       [0.070403  , 0.45697522, 0.83492094, 0.49130903, 0.90646224,\n",
              "        0.61906648, 0.74536996, 0.70132177, 0.27133185, 0.68310286,\n",
              "        0.9559655 , 0.56783611, 0.25334489, 0.19682841, 0.65267543,\n",
              "        0.04300342, 0.89852714, 0.34230774, 0.44121039, 0.6269513 ,\n",
              "        0.3704807 , 0.04018278, 0.06149631, 0.42278732, 0.81425012,\n",
              "        0.71237212, 0.72610357, 0.99539916],\n",
              "       [0.2462436 , 0.13501081, 0.87459898, 0.71219473, 0.56208974,\n",
              "        0.86599161, 0.76051845, 0.26979767, 0.65726134, 0.31749099,\n",
              "        0.06615945, 0.81049163, 0.15951094, 0.84262894, 0.25805051,\n",
              "        0.27519391, 0.08389823, 0.61190247, 0.80192953, 0.47990174,\n",
              "        0.17081264, 0.71417507, 0.70611357, 0.80761905, 0.5786204 ,\n",
              "        0.52075108, 0.00906219, 0.78975514],\n",
              "       [0.90266785, 0.96912363, 0.0075291 , 0.49475726, 0.48982877,\n",
              "        0.64181232, 0.13597437, 0.77784028, 0.97049032, 0.07894685,\n",
              "        0.75534892, 0.38830035, 0.1882185 , 0.29765429, 0.60846755,\n",
              "        0.21932889, 0.40106369, 0.37039515, 0.19099567, 0.09413926,\n",
              "        0.51573568, 0.16085708, 0.42903805, 0.17452833, 0.06665544,\n",
              "        0.94528109, 0.36944638, 0.16845038],\n",
              "       [0.9727842 , 0.92351946, 0.30964428, 0.12366732, 0.66261039,\n",
              "        0.16030279, 0.21261788, 0.25972632, 0.52834987, 0.12961962,\n",
              "        0.01531938, 0.83875966, 0.01886662, 0.66052726, 0.06299122,\n",
              "        0.88002406, 0.34230492, 0.23922204, 0.69470313, 0.80198832,\n",
              "        0.45646259, 0.98098899, 0.99584728, 0.74349884, 0.63368461,\n",
              "        0.05562795, 0.7726409 , 0.32445495],\n",
              "       [0.30002796, 0.2385535 , 0.96536299, 0.55540081, 0.51895495,\n",
              "        0.85645104, 0.68983281, 0.87739494, 0.20859895, 0.72941522,\n",
              "        0.05287563, 0.7282029 , 0.56954857, 0.1695684 , 0.08131706,\n",
              "        0.83522419, 0.226917  , 0.60595941, 0.07283927, 0.58307897,\n",
              "        0.81541056, 0.59982495, 0.68321663, 0.84261094, 0.52533246,\n",
              "        0.03136198, 0.05255172, 0.1735576 ],\n",
              "       [0.6760184 , 0.93808453, 0.20551999, 0.31083568, 0.37832647,\n",
              "        0.60853665, 0.94617313, 0.03198829, 0.34017474, 0.40844014,\n",
              "        0.67311328, 0.09681325, 0.44799696, 0.93906831, 0.99213481,\n",
              "        0.07321013, 0.16200381, 0.75682069, 0.16022602, 0.47177198,\n",
              "        0.86625899, 0.65637027, 0.81890922, 0.81083792, 0.86699173,\n",
              "        0.63837542, 0.02672117, 0.66538312],\n",
              "       [0.19887796, 0.93963299, 0.8362052 , 0.2027948 , 0.59200359,\n",
              "        0.7482368 , 0.75880458, 0.56923577, 0.25746209, 0.71635084,\n",
              "        0.14820177, 0.77792621, 0.53575345, 0.55699749, 0.16196291,\n",
              "        0.10640929, 0.33875077, 0.04334652, 0.40849113, 0.2986166 ,\n",
              "        0.75327069, 0.08004642, 0.02050535, 0.09864456, 0.5300909 ,\n",
              "        0.33290749, 0.11434193, 0.80651613],\n",
              "       [0.39849501, 0.17534454, 0.40032691, 0.00156242, 0.26577222,\n",
              "        0.00191014, 0.10176028, 0.42156462, 0.26107237, 0.48628208,\n",
              "        0.854344  , 0.5151889 , 0.70991976, 0.55546175, 0.66393227,\n",
              "        0.06511254, 0.15339829, 0.0544153 , 0.8824261 , 0.69340309,\n",
              "        0.60070227, 0.69587523, 0.01540863, 0.20791058, 0.95595575,\n",
              "        0.8847504 , 0.01956212, 0.87372509],\n",
              "       [0.10595454, 0.55517711, 0.18881658, 0.32363341, 0.18418846,\n",
              "        0.68782708, 0.70086174, 0.4092761 , 0.56701239, 0.55391277,\n",
              "        0.2868385 , 0.45722471, 0.22960159, 0.62633272, 0.87947365,\n",
              "        0.49871954, 0.871305  , 0.65089489, 0.96723149, 0.84226463,\n",
              "        0.17359142, 0.56305503, 0.06736282, 0.85752671, 0.79390788,\n",
              "        0.91113557, 0.84849088, 0.51305153],\n",
              "       [0.62650511, 0.88973234, 0.48757533, 0.38537252, 0.13024089,\n",
              "        0.09762433, 0.36334688, 0.30910366, 0.44241099, 0.99683106,\n",
              "        0.70699906, 0.35168734, 0.42404849, 0.46845017, 0.5125331 ,\n",
              "        0.91658313, 0.18342788, 0.82870943, 0.98813714, 0.25492048,\n",
              "        0.59625034, 0.95902727, 0.94975012, 0.7975688 , 0.46872225,\n",
              "        0.45993154, 0.55158997, 0.45400877],\n",
              "       [0.79235211, 0.6127785 , 0.13527075, 0.09529647, 0.65920926,\n",
              "        0.75931431, 0.56228078, 0.45395163, 0.22000623, 0.5739492 ,\n",
              "        0.95095039, 0.68520738, 0.38305526, 0.50177113, 0.36517888,\n",
              "        0.46336546, 0.75328571, 0.20487625, 0.63367115, 0.29632645,\n",
              "        0.51378109, 0.41778199, 0.78284729, 0.67329326, 0.94061187,\n",
              "        0.87831595, 0.29297124, 0.61619369],\n",
              "       [0.78285682, 0.92321089, 0.48593057, 0.98653421, 0.02166173,\n",
              "        0.89948154, 0.17700625, 0.49276184, 0.58965858, 0.96300625,\n",
              "        0.73426833, 0.19368027, 0.38418946, 0.68572675, 0.96506631,\n",
              "        0.78974584, 0.01085669, 0.18018496, 0.53517166, 0.87330321,\n",
              "        0.94794447, 0.66307189, 0.64584934, 0.71513945, 0.71877153,\n",
              "        0.75471456, 0.50455496, 0.83686136],\n",
              "       [0.75899814, 0.60704714, 0.68919729, 0.41590801, 0.77566759,\n",
              "        0.28489128, 0.02896372, 0.66438295, 0.4251606 , 0.62763519,\n",
              "        0.02241807, 0.47770163, 0.71527503, 0.52778181, 0.00908627,\n",
              "        0.61149881, 0.6676118 , 0.94681691, 0.6112024 , 0.5990493 ,\n",
              "        0.69682061, 0.59830195, 0.2157637 , 0.25495805, 0.76483918,\n",
              "        0.16812634, 0.77794762, 0.9822108 ],\n",
              "       [0.19947302, 0.45298506, 0.6352149 , 0.55602795, 0.59159754,\n",
              "        0.39201563, 0.06900625, 0.02662052, 0.08728768, 0.93906564,\n",
              "        0.29368648, 0.03255705, 0.36389391, 0.05235465, 0.80831935,\n",
              "        0.58572148, 0.31413381, 0.99375362, 0.12661936, 0.68866914,\n",
              "        0.88779199, 0.92304384, 0.57891985, 0.61332246, 0.83126279,\n",
              "        0.49822919, 0.60356354, 0.33740105],\n",
              "       [0.92612469, 0.19027979, 0.07748077, 0.17067023, 0.32246412,\n",
              "        0.00619757, 0.47234867, 0.97192752, 0.29592167, 0.85433198,\n",
              "        0.56352323, 0.19496058, 0.07696105, 0.22708276, 0.62104005,\n",
              "        0.75854914, 0.34149982, 0.01726527, 0.59576956, 0.34269907,\n",
              "        0.16899718, 0.75286457, 0.96928127, 0.57312307, 0.54182955,\n",
              "        0.31243575, 0.72349701, 0.43124792],\n",
              "       [0.51246516, 0.70018027, 0.98716802, 0.85847224, 0.91063823,\n",
              "        0.57326324, 0.85352872, 0.39558042, 0.48361685, 0.65444273,\n",
              "        0.59210911, 0.53611961, 0.35883233, 0.79975157, 0.7084849 ,\n",
              "        0.74318872, 0.58547782, 0.21985088, 0.4627555 , 0.69569123,\n",
              "        0.67839047, 0.00747117, 0.90143519, 0.26713817, 0.76814116,\n",
              "        0.79803184, 0.89291551, 0.36104463],\n",
              "       [0.76101213, 0.56714018, 0.85194022, 0.72757722, 0.76526689,\n",
              "        0.3812957 , 0.28864345, 0.05790751, 0.18936989, 0.61112508,\n",
              "        0.09063668, 0.59588801, 0.9210398 , 0.2604343 , 0.86632262,\n",
              "        0.53240127, 0.80802664, 0.29069398, 0.09964042, 0.74757156,\n",
              "        0.81579252, 0.21467771, 0.07583454, 0.89530496, 0.46126262,\n",
              "        0.25150985, 0.67313802, 0.24417662],\n",
              "       [0.35943854, 0.77191187, 0.40073325, 0.26742698, 0.38101941,\n",
              "        0.66594278, 0.05680715, 0.89222608, 0.52048644, 0.10903483,\n",
              "        0.91324637, 0.0718452 , 0.08022678, 0.55560716, 0.07934183,\n",
              "        0.76967082, 0.35150683, 0.50541131, 0.08425871, 0.51421607,\n",
              "        0.75104843, 0.6276484 , 0.91378044, 0.32824409, 0.37394393,\n",
              "        0.55261999, 0.971216  , 0.6951575 ]])"
            ]
          },
          "metadata": {},
          "execution_count": 22
        }
      ]
    },
    {
      "cell_type": "markdown",
      "metadata": {
        "id": "JLSYLZr0qvGI"
      },
      "source": [
        "### 문제 18. 생성된 random (28, 28) 노이즈를 plt를 통하여 확인해보세요."
      ]
    },
    {
      "cell_type": "code",
      "metadata": {
        "id": "EsgmHRFSrDX4",
        "colab": {
          "base_uri": "https://localhost:8080/",
          "height": 513
        },
        "outputId": "ce83179e-ffe5-4480-f397-c8feff39b744"
      },
      "source": [
        "# plt를 통하여 random (28, 28) 노이즈를 2회 출력하는 코드를 작성하시고, 이미지가 다른지 확인하세요.\n",
        "plt.imshow(np.random.random((28,28)), cmap=\"gray\")\n",
        "plt.show()\n",
        "plt.imshow(np.random.random((28,28)), cmap=\"gray\")\n",
        "plt.show()"
      ],
      "execution_count": 23,
      "outputs": [
        {
          "output_type": "display_data",
          "data": {
            "text/plain": [
              "<Figure size 432x288 with 1 Axes>"
            ],
            "image/png": "[encoded data removed]"
          },
          "metadata": {
            "needs_background": "light"
          }
        },
        {
          "output_type": "display_data",
          "data": {
            "text/plain": [
              "<Figure size 432x288 with 1 Axes>"
            ],
            "image/png": "[encoded data removed]"
          },
          "metadata": {
            "needs_background": "light"
          }
        }
      ]
    },
    {
      "cell_type": "markdown",
      "metadata": {
        "id": "nWy8FKR1AYJU"
      },
      "source": [
        "### 문제 19. 가우시안 노이즈 함수를 사용하여 평균 0, 표준편차 0.1, 사이즈 1로 랜덤 값을 3번 출력하세요. (np.random.normal)"
      ]
    },
    {
      "cell_type": "code",
      "metadata": {
        "id": "ENpSWYu_stHp",
        "colab": {
          "base_uri": "https://localhost:8080/"
        },
        "outputId": "73322a9d-f8ae-48a6-e7c0-1dd3335814c4"
      },
      "source": [
        "# 가우시안 노이즈 함수를 이용하여 mu 0.1 std 0.1 size 1인 랜덤값을 3번 출력하는 코드를 작성하세요.\n",
        "print(np.random.normal(0.0, 0.1, 1))\n",
        "print(np.random.normal(0.0, 0.1, 1))\n",
        "print(np.random.normal(0.0, 0.1, 1))"
      ],
      "execution_count": 25,
      "outputs": [
        {
          "output_type": "stream",
          "name": "stdout",
          "text": [
            "[0.14387536]\n",
            "[0.21803765]\n",
            "[0.08280731]\n"
          ]
        }
      ]
    },
    {
      "cell_type": "markdown",
      "metadata": {
        "id": "OQPItJ4zBWTt"
      },
      "source": [
        "### 문제 20. 가우시안 노이즈 함수의 옵션을 문제 19과 동일하지만 평균이 3.0인 경우, 표준 편차가 0.01인 경우로 각각 3회씩 출력해보세요."
      ]
    },
    {
      "cell_type": "code",
      "metadata": {
        "id": "CuvUg3SmtRrx",
        "colab": {
          "base_uri": "https://localhost:8080/"
        },
        "outputId": "5d57598c-978b-4b16-b1f5-896c63b94484"
      },
      "source": [
        "# 가우시안 노이즈 함수 mu = 3.0, std = 0.1, size = 1을 3 회 출력, mu = 0.0, std = 0.01, size = 1을 3회 출력하는 코드를 작성해보세요.\n",
        "print(np.random.normal(3.0, 0.01, 1))\n",
        "print(np.random.normal(3.0, 0.01, 1))\n",
        "print(np.random.normal(3.0, 0.01, 1))"
      ],
      "execution_count": 27,
      "outputs": [
        {
          "output_type": "stream",
          "name": "stdout",
          "text": [
            "[3.00049233]\n",
            "[3.00199325]\n",
            "[2.99430747]\n"
          ]
        }
      ]
    },
    {
      "cell_type": "markdown",
      "metadata": {
        "id": "ef1qyJ8HtZfu"
      },
      "source": [
        "### 문제 21. 가우시안 노이즈 함수를 문제 19의 옵션으로 size를 (28, 28)로 생성 후 plt로 출력해보세요."
      ]
    },
    {
      "cell_type": "code",
      "metadata": {
        "id": "kh_v1QZYt0kJ",
        "colab": {
          "base_uri": "https://localhost:8080/",
          "height": 265
        },
        "outputId": "f367f183-307c-4498-c0aa-bdf6ceac1053"
      },
      "source": [
        "# 가우시안 노이즈 함수를 문제 17의 옵션으로 size를 (28, 28)로 생성 후 plt로 출력하는 코드를 작성해보세요. 단, std = 0.01\n",
        "plt.imshow(np.random.normal(0.0, 0.01, (28, 28)), cmap=\"gray\")\n",
        "plt.colorbar()\n",
        "plt.show()"
      ],
      "execution_count": 30,
      "outputs": [
        {
          "output_type": "display_data",
          "data": {
            "text/plain": [
              "<Figure size 432x288 with 2 Axes>"
            ],
            "image/png": "[encoded data removed]"
          },
          "metadata": {
            "needs_background": "light"
          }
        }
      ]
    },
    {
      "cell_type": "markdown",
      "metadata": {
        "id": "MUdBACZuCDfA"
      },
      "source": [
        "### 문제 22. train_images의 5번째 이미지와 가우시안 노이즈 (28, 28)를 생성 한 뒤 각각 tensor를 더한 뒤 noisy_image 변수에 할당 해보세요."
      ]
    },
    {
      "cell_type": "code",
      "metadata": {
        "id": "pWia41PbumMX"
      },
      "source": [
        "# train_images[5]와 가우시안 노이즈 (28, 28)을 더한 뒤 noisy_image 변수에 할당하는 코드를 작성하세요. mu = 0.5, std = 0.1\n",
        "noisy_image = x_train[4] + np.random.normal(0.5, 0.1, (28,28))"
      ],
      "execution_count": 34,
      "outputs": []
    },
    {
      "cell_type": "markdown",
      "metadata": {
        "id": "WsA0v_tNuv7Z"
      },
      "source": [
        "### 문제 23. noisy_image를 plt를 통해서 출력해보세요."
      ]
    },
    {
      "cell_type": "code",
      "metadata": {
        "id": "SMLTjkltv4g3",
        "colab": {
          "base_uri": "https://localhost:8080/",
          "height": 269
        },
        "outputId": "71ba753a-7e46-450e-bf6e-428ee2168a86"
      },
      "source": [
        "# noisy_image를 plt로 출력하는 코드를 작성해보세요.\n",
        "plt.imshow(noisy_image, cmap=\"gray\")\n",
        "plt.colorbar()\n",
        "plt.show()"
      ],
      "execution_count": 46,
      "outputs": [
        {
          "output_type": "display_data",
          "data": {
            "text/plain": [
              "<Figure size 432x288 with 2 Axes>"
            ],
            "image/png": "[encoded data removed]"
          },
          "metadata": {
            "needs_background": "light"
          }
        }
      ]
    },
    {
      "cell_type": "markdown",
      "metadata": {
        "id": "Mqv2vE5EwChf"
      },
      "source": [
        "### 문제 24. 노이지 이미지를 생성했지만, max가 1이 넘습니다. max값을 1로 조절해보세요."
      ]
    },
    {
      "cell_type": "code",
      "source": [
        "max(noisy_image.reshape(-1))"
      ],
      "metadata": {
        "colab": {
          "base_uri": "https://localhost:8080/"
        },
        "id": "rnrg5FWmS4Rd",
        "outputId": "ebc11d55-f56f-4f9c-a047-35bf3629e8d3"
      },
      "execution_count": 42,
      "outputs": [
        {
          "output_type": "execute_result",
          "data": {
            "text/plain": [
              "1.6623075451762126"
            ]
          },
          "metadata": {},
          "execution_count": 42
        }
      ]
    },
    {
      "cell_type": "code",
      "metadata": {
        "id": "yxlKvbMBwyZu"
      },
      "source": [
        "# max가 1을 초과하지 않게 noisy_image를 수정한 뒤 plt로 출력해보세요.\n",
        "noisy_image[noisy_image > 1.0] = 1.0\n",
        "plt.imshow(noisy_image, cmap=\"gray\")\n",
        "plt.colorbar()\n",
        "plt.show()"
      ],
      "execution_count": null,
      "outputs": []
    },
    {
      "cell_type": "markdown",
      "metadata": {
        "id": "-ZGNiCnuxQTO"
      },
      "source": [
        "### 문제 25. 위의 방법을 전부 활용하여 train_images와 test_images 데이터에 랜덤 노이즈를 추가한 train_noisy_images와 test_noisy_images를 생성해보세요."
      ]
    },
    {
      "cell_type": "code",
      "metadata": {
        "id": "c7292i2CMFCz"
      },
      "source": [
        "# train_noisy_image와 test_nosiy_images를 생성하는 코드를 작성하세요.\n",
        "noisy_x_train = x_train + np.random.normal(0.5, 0.1, x_train.shape)\n",
        "noisy_x_train[noisy_x_train>1.0] = 1.0\n",
        "\n",
        "noisy_x_test = x_test + np.random.normal(0.5, 0.1, x_test.shape)\n",
        "noisy_x_test[noisy_x_test>1.0] = 1.0"
      ],
      "execution_count": 57,
      "outputs": []
    },
    {
      "cell_type": "code",
      "metadata": {
        "id": "zGzd99EolQBo",
        "colab": {
          "base_uri": "https://localhost:8080/",
          "height": 252
        },
        "outputId": "e9ff702d-608c-44fc-baa8-f9e6c42b8494"
      },
      "source": [
        "plt.imshow(noisy_x_train[:5].transpose(1,0,2).reshape(28,-1), cmap='gray')\n",
        "plt.colorbar()\n",
        "plt.show()"
      ],
      "execution_count": 58,
      "outputs": [
        {
          "output_type": "display_data",
          "data": {
            "text/plain": [
              "<Figure size 432x288 with 2 Axes>"
            ],
            "image/png": "[encoded data removed]"
          },
          "metadata": {
            "needs_background": "light"
          }
        }
      ]
    },
    {
      "cell_type": "markdown",
      "metadata": {
        "id": "cclii1-lS_HA"
      },
      "source": [
        "### 문제 26. labels에 onehot 인코딩을 적용하여 (배치 사이즈, 클래스 개수)의 shape으로 변경해보세요."
      ]
    },
    {
      "cell_type": "code",
      "metadata": {
        "id": "S34frxLyxAD-"
      },
      "source": [
        "# train/test labels에 onehot encoding을 적용하여 shape을 (배치사이즈,) 에서 (배치사이즈, 클래스 개수)로 변경하는 코드를 작성하세요.\n",
        "from tensorflow.keras.utils import to_categorical\n",
        "\n",
        "y_train = to_categorical(y_train, 10)\n",
        "y_test = to_categorical(y_test, 10)\n",
        "print(y_train.shape, y_test.shape)"
      ],
      "execution_count": null,
      "outputs": []
    },
    {
      "cell_type": "markdown",
      "metadata": {
        "id": "z67dTPu0xJSu"
      },
      "source": [
        "\n",
        "## Step 5. 모델링"
      ]
    },
    {
      "cell_type": "markdown",
      "metadata": {
        "id": "20iJHg2gXrC2"
      },
      "source": [
        "### 문제 27. 해당 학습셋을 처리하는 이미지 classification 모델을 작성하세요."
      ]
    },
    {
      "cell_type": "code",
      "metadata": {
        "id": "1Q1XtFoxX0eN"
      },
      "source": [
        "# input (28, 28), 64 unit의 simple RNN, 10 unit의 fully-conntect를 가진 모델을 작성하세요.\n",
        "from tensorflow.keras.layers import Dense, SimpleRNN, Input\n",
        "from tensorflow.keras.models import Model\n",
        "\n",
        "inputs = Input(shape=(28,28))\n",
        "x = SimpleRNN(64, activation='tanh')(inputs)\n",
        "outputs = Dense(10, activation='softmax')(x)\n",
        "\n",
        "model = Model(inputs, outputs)"
      ],
      "execution_count": 67,
      "outputs": []
    },
    {
      "cell_type": "markdown",
      "metadata": {
        "id": "svYCsKxOyJzt"
      },
      "source": [
        "### 문제 28. 모델 요약 정보를 출력해보세요."
      ]
    },
    {
      "cell_type": "code",
      "metadata": {
        "id": "d4qnTxHpyN37",
        "colab": {
          "base_uri": "https://localhost:8080/"
        },
        "outputId": "7f74c77f-441d-467f-f413-e8edc8e7790e"
      },
      "source": [
        "# 모델 요약 정보를 출력해보세요.\n",
        "model.summary()"
      ],
      "execution_count": 68,
      "outputs": [
        {
          "output_type": "stream",
          "name": "stdout",
          "text": [
            "Model: \"model\"\n",
            "_________________________________________________________________\n",
            " Layer (type)                Output Shape              Param #   \n",
            "=================================================================\n",
            " input_2 (InputLayer)        [(None, 28, 28)]          0         \n",
            "                                                                 \n",
            " simple_rnn_5 (SimpleRNN)    (None, 64)                5952      \n",
            "                                                                 \n",
            " dense_2 (Dense)             (None, 10)                650       \n",
            "                                                                 \n",
            "=================================================================\n",
            "Total params: 6,602\n",
            "Trainable params: 6,602\n",
            "Non-trainable params: 0\n",
            "_________________________________________________________________\n"
          ]
        }
      ]
    },
    {
      "cell_type": "markdown",
      "metadata": {
        "id": "PkOrDR1yam4a"
      },
      "source": [
        "### 문제 29. 27에서 만든 모델에 로스와 옵티마이저, 메트릭을 설정하세요."
      ]
    },
    {
      "cell_type": "code",
      "metadata": {
        "id": "nufi0CMyazsF"
      },
      "source": [
        "# 만든 모델에 loss는 categorical_crossentropy, optimizer는 adam 매트릭은 accuracy으로 설정하는 코드를 작성하세요.\n",
        "model.compile(loss='categorical_crossentropy', optimizer='adam', metrics=['acc'])"
      ],
      "execution_count": 69,
      "outputs": []
    },
    {
      "cell_type": "markdown",
      "metadata": {
        "id": "IZRqZC50ZoaE"
      },
      "source": [
        "### 문제 30. 만든 모델에 train_noisy_images를 학습시켜 보세요."
      ]
    },
    {
      "cell_type": "code",
      "metadata": {
        "id": "PtpJp3fmaRuA",
        "colab": {
          "base_uri": "https://localhost:8080/"
        },
        "outputId": "066d589e-227a-4f52-8906-9003e8099ec7"
      },
      "source": [
        "# train_noisy_images를 학습시키고 5 epochs을 돌리고 그 진행 사항을 hist에 저장하는 코드를 작성하세요.\n",
        "hist = model.fit(noisy_x_train, y_train, validation_data=(noisy_x_test, y_test), epochs=5, verbose=2)"
      ],
      "execution_count": 71,
      "outputs": [
        {
          "output_type": "stream",
          "name": "stdout",
          "text": [
            "Epoch 1/5\n",
            "1875/1875 - 11s - loss: 0.7294 - acc: 0.7630 - val_loss: 0.4694 - val_acc: 0.8493 - 11s/epoch - 6ms/step\n",
            "Epoch 2/5\n",
            "1875/1875 - 10s - loss: 0.3794 - acc: 0.8862 - val_loss: 0.2976 - val_acc: 0.9116 - 10s/epoch - 5ms/step\n",
            "Epoch 3/5\n",
            "1875/1875 - 9s - loss: 0.3041 - acc: 0.9115 - val_loss: 0.2778 - val_acc: 0.9160 - 9s/epoch - 5ms/step\n",
            "Epoch 4/5\n",
            "1875/1875 - 12s - loss: 0.2746 - acc: 0.9179 - val_loss: 0.2348 - val_acc: 0.9330 - 12s/epoch - 6ms/step\n",
            "Epoch 5/5\n",
            "1875/1875 - 10s - loss: 0.2495 - acc: 0.9277 - val_loss: 0.2401 - val_acc: 0.9298 - 10s/epoch - 5ms/step\n"
          ]
        }
      ]
    },
    {
      "cell_type": "code",
      "source": [
        "hist.history"
      ],
      "metadata": {
        "colab": {
          "base_uri": "https://localhost:8080/"
        },
        "id": "oGPOQd6UqIO2",
        "outputId": "3defac92-ac45-4fe2-b5c5-ed226f6456b4"
      },
      "execution_count": 73,
      "outputs": [
        {
          "output_type": "execute_result",
          "data": {
            "text/plain": [
              "{'loss': [0.7293680310249329,\n",
              "  0.37937697768211365,\n",
              "  0.30406200885772705,\n",
              "  0.274589866399765,\n",
              "  0.24949145317077637],\n",
              " 'acc': [0.7630166411399841,\n",
              "  0.8862000107765198,\n",
              "  0.911549985408783,\n",
              "  0.9178666472434998,\n",
              "  0.9277166724205017],\n",
              " 'val_loss': [0.46938130259513855,\n",
              "  0.2976363003253937,\n",
              "  0.27778521180152893,\n",
              "  0.23483723402023315,\n",
              "  0.24007394909858704],\n",
              " 'val_acc': [0.8493000268936157,\n",
              "  0.9115999937057495,\n",
              "  0.9160000085830688,\n",
              "  0.9330000281333923,\n",
              "  0.9297999739646912]}"
            ]
          },
          "metadata": {},
          "execution_count": 73
        }
      ]
    },
    {
      "cell_type": "markdown",
      "metadata": {
        "id": "hU3-Lm7Ma_97"
      },
      "source": [
        "### 문제 31. 학습 진행 사항을 plt으로 출력하세요."
      ]
    },
    {
      "cell_type": "code",
      "metadata": {
        "id": "B6pKz5o3bPIT",
        "colab": {
          "base_uri": "https://localhost:8080/",
          "height": 265
        },
        "outputId": "5ee0a3e6-e8ef-4a3a-8873-1c7707b85dba"
      },
      "source": [
        "# hist의 accuracy plt의 plot을 이용하여 출력하는 코드를 작성하세요.\n",
        "plt.plot(hist.history['acc'], label='accuracy')\n",
        "plt.plot(hist.history['loss'], label='loss')\n",
        "plt.plot(hist.history['val_acc'], label='val_accuracy')\n",
        "plt.plot(hist.history['val_loss'], label='val_loss')\n",
        "plt.legend(loc='upper left')\n",
        "plt.show()"
      ],
      "execution_count": 75,
      "outputs": [
        {
          "output_type": "display_data",
          "data": {
            "text/plain": [
              "<Figure size 432x288 with 1 Axes>"
            ],
            "image/png": "[encoded data removed]"
          },
          "metadata": {
            "needs_background": "light"
          }
        }
      ]
    },
    {
      "cell_type": "markdown",
      "metadata": {
        "id": "bfxPsEKTrKBq"
      },
      "source": [
        "## Step 6. 결과 확인"
      ]
    },
    {
      "cell_type": "markdown",
      "metadata": {
        "id": "J6nvDS4yOSCD"
      },
      "source": [
        "### 문제 32. 완성된 모델에서 test_noisy_image를 1장 넣고 결과를 res 변수에 저정하세요."
      ]
    },
    {
      "cell_type": "code",
      "metadata": {
        "id": "uKFAu5z4QRjR",
        "colab": {
          "base_uri": "https://localhost:8080/"
        },
        "outputId": "bb937817-f83d-41aa-df83-ad96b11e4d87"
      },
      "source": [
        "# 모델에 test_noisy_images 중 1장을 넣고 결과를 받는 코드를 작성하세요.\n",
        "res = model.predict(noisy_x_test[85].reshape(1,28,28))"
      ],
      "execution_count": 80,
      "outputs": [
        {
          "output_type": "stream",
          "name": "stdout",
          "text": [
            "1/1 [==============================] - 0s 44ms/step\n"
          ]
        }
      ]
    },
    {
      "cell_type": "code",
      "source": [
        "y_test[85]"
      ],
      "metadata": {
        "colab": {
          "base_uri": "https://localhost:8080/"
        },
        "id": "lgVvOX1rr1ar",
        "outputId": "8baeeeb3-ecd0-44a7-d984-7bf1d6ff7856"
      },
      "execution_count": 79,
      "outputs": [
        {
          "output_type": "execute_result",
          "data": {
            "text/plain": [
              "array([0., 0., 0., 0., 1., 0., 0., 0., 0., 0.], dtype=float32)"
            ]
          },
          "metadata": {},
          "execution_count": 79
        }
      ]
    },
    {
      "cell_type": "markdown",
      "metadata": {
        "id": "KMHHUTQfQcU0"
      },
      "source": [
        "### 문제 33. test_noisy_images[0], test_images[0]를 width 방향으로 결합하여 plt로 출력하세요"
      ]
    },
    {
      "cell_type": "code",
      "source": [
        "noisy_x_test[85].shape"
      ],
      "metadata": {
        "colab": {
          "base_uri": "https://localhost:8080/"
        },
        "id": "M3vNK8Nks-5l",
        "outputId": "28bf165d-e0fb-4676-93da-fa0ad3e1d045"
      },
      "execution_count": 82,
      "outputs": [
        {
          "output_type": "execute_result",
          "data": {
            "text/plain": [
              "(28, 28)"
            ]
          },
          "metadata": {},
          "execution_count": 82
        }
      ]
    },
    {
      "cell_type": "code",
      "metadata": {
        "id": "L0t-FO9qRfoK",
        "colab": {
          "base_uri": "https://localhost:8080/",
          "height": 216
        },
        "outputId": "a46e27ab-8403-4e56-fe77-887de8ef533e"
      },
      "source": [
        "# test_noisy_images[0], test_images[0]를 width 방향으로 결합하여 (28, 28 * 2) 의 이미지를 만들어 plt로 출력하는 코드를 작성하세요.\n",
        "plt.imshow(np.concatenate([noisy_x_test[85], x_test[85]], axis=1), cmap='gray')\n",
        "plt.show()"
      ],
      "execution_count": 86,
      "outputs": [
        {
          "output_type": "display_data",
          "data": {
            "text/plain": [
              "<Figure size 432x288 with 1 Axes>"
            ],
            "image/png": "[encoded data removed]"
          },
          "metadata": {
            "needs_background": "light"
          }
        }
      ]
    },
    {
      "cell_type": "markdown",
      "metadata": {
        "id": "16fGMxJRwhc6"
      },
      "source": [
        "### 문제 34. res와 test_labels[0]의 결과를 plt.bar로 확인하세요."
      ]
    },
    {
      "cell_type": "code",
      "metadata": {
        "id": "oLZEQHHAwqPC",
        "colab": {
          "base_uri": "https://localhost:8080/",
          "height": 265
        },
        "outputId": "586747f0-da9a-4fb2-ea72-a24bc5416c8d"
      },
      "source": [
        "# res와 test_labels[0]의 결과를 plt.bar로 확인하세요.\n",
        "plt.bar(range(10), res[0], color='red')\n",
        "plt.bar(np.array(range(10))+0.2, y_test[85], color='yellow')\n",
        "plt.show()"
      ],
      "execution_count": 92,
      "outputs": [
        {
          "output_type": "display_data",
          "data": {
            "text/plain": [
              "<Figure size 432x288 with 1 Axes>"
            ],
            "image/png": "[encoded data removed]"
          },
          "metadata": {
            "needs_background": "light"
          }
        }
      ]
    },
    {
      "cell_type": "markdown",
      "metadata": {
        "id": "7FQT89oqrdkA"
      },
      "source": [
        "## Step 7. 모델 저장 및 로드, 다운"
      ]
    },
    {
      "cell_type": "markdown",
      "metadata": {
        "id": "c2GZFvCAzFNl"
      },
      "source": [
        "### 문제 35. 모델을 저장하세요."
      ]
    },
    {
      "cell_type": "code",
      "metadata": {
        "id": "YjuCVTNbriVJ"
      },
      "source": [
        "# 모델을 저장하는 코드를 작성하세요. \n",
        "model.save('./model1.h5')"
      ],
      "execution_count": 94,
      "outputs": []
    },
    {
      "cell_type": "markdown",
      "metadata": {
        "id": "Bj4P3DdzzhyC"
      },
      "source": [
        "### 문제 36. 모델 파일을 새로운 모델에 로드하세요."
      ]
    },
    {
      "cell_type": "code",
      "metadata": {
        "id": "xuRAnBR8zY-X"
      },
      "source": [
        "# 모델을 로드하는 코드를 작성하세요.\n",
        "new_model = tf.keras.models.load_model('./model1.h5')"
      ],
      "execution_count": 95,
      "outputs": []
    },
    {
      "cell_type": "code",
      "metadata": {
        "colab": {
          "base_uri": "https://localhost:8080/"
        },
        "outputId": "05f20d4f-6ec1-4a13-b32d-f7abdfad7561",
        "id": "gSjFks0iwHAt"
      },
      "source": [
        "res1 = model.predict(noisy_x_test[85].reshape(1,28,28))\n",
        "res1"
      ],
      "execution_count": null,
      "outputs": [
        {
          "output_type": "stream",
          "name": "stdout",
          "text": [
            "1/1 [==============================] - 0s 27ms/step\n"
          ]
        },
        {
          "output_type": "execute_result",
          "data": {
            "text/plain": [
              "array([[1.4526548e-06, 1.9672205e-05, 1.1521794e-05, 1.6173522e-05,\n",
              "        9.9417758e-01, 2.2902232e-04, 6.3996747e-05, 7.1078037e-05,\n",
              "        5.7560312e-05, 5.3519905e-03]], dtype=float32)"
            ]
          },
          "metadata": {},
          "execution_count": 96
        }
      ]
    },
    {
      "cell_type": "code",
      "source": [
        "plt.bar(range(10), res1[0], color='red')\n",
        "plt.bar(np.array(range(10))+0.2, y_test[85], color='yellow')\n",
        "plt.show()"
      ],
      "metadata": {
        "colab": {
          "base_uri": "https://localhost:8080/",
          "height": 265
        },
        "id": "DRhji3exvrgN",
        "outputId": "4c1591a3-d87f-4abc-8870-9ee814a4c0fb"
      },
      "execution_count": 97,
      "outputs": [
        {
          "output_type": "display_data",
          "data": {
            "text/plain": [
              "<Figure size 432x288 with 1 Axes>"
            ],
            "image/png": "[encoded data removed]"
          },
          "metadata": {
            "needs_background": "light"
          }
        }
      ]
    },
    {
      "cell_type": "markdown",
      "metadata": {
        "id": "ta1I5ZEY1FBR"
      },
      "source": [
        "### 문제 37. 로드한 모델을 test 데이터로 평가해보세요.\n"
      ]
    },
    {
      "cell_type": "code",
      "metadata": {
        "id": "ALrVf_lm0_Bc",
        "colab": {
          "base_uri": "https://localhost:8080/"
        },
        "outputId": "662d7549-78d9-4b3d-8628-28e6bb72909c"
      },
      "source": [
        "# 로드한 모델을 test 데이터로 평가해보세요.\n",
        "loss, acc = new_model.evaluate(noisy_x_test, y_test, verbose=2)\n",
        "print(loss, acc)\n",
        "loss, acc = model.evaluate(noisy_x_test, y_test, verbose=2)\n",
        "print(loss, acc)"
      ],
      "execution_count": 98,
      "outputs": [
        {
          "output_type": "stream",
          "name": "stdout",
          "text": [
            "313/313 - 1s - loss: 0.2401 - acc: 0.9298 - 903ms/epoch - 3ms/step\n",
            "0.24007394909858704 0.9297999739646912\n",
            "313/313 - 1s - loss: 0.2401 - acc: 0.9298 - 792ms/epoch - 3ms/step\n",
            "0.24007394909858704 0.9297999739646912\n"
          ]
        }
      ]
    },
    {
      "cell_type": "markdown",
      "metadata": {
        "id": "gfEgY1Vr1T1v"
      },
      "source": [
        "### 문제 38. 모델을 내 컴퓨터에 저장해보세요"
      ]
    },
    {
      "cell_type": "code",
      "metadata": {
        "id": "ASkJv_Ui1RGv",
        "colab": {
          "base_uri": "https://localhost:8080/",
          "height": 17
        },
        "outputId": "bf2da5ba-d110-4072-95f6-a7c6701647fc"
      },
      "source": [
        "# 모델을 내 컴퓨터에 저장해보세요.\n",
        "from google.colab import files\n",
        "files.download('./model1.h5')"
      ],
      "execution_count": 99,
      "outputs": [
        {
          "output_type": "display_data",
          "data": {
            "text/plain": [
              "<IPython.core.display.Javascript object>"
            ],
            "application/javascript": [
              "\n",
              "    async function download(id, filename, size) {\n",
              "      if (!google.colab.kernel.accessAllowed) {\n",
              "        return;\n",
              "      }\n",
              "      const div = document.createElement('div');\n",
              "      const label = document.createElement('label');\n",
              "      label.textContent = `Downloading \"${filename}\": `;\n",
              "      div.appendChild(label);\n",
              "      const progress = document.createElement('progress');\n",
              "      progress.max = size;\n",
              "      div.appendChild(progress);\n",
              "      document.body.appendChild(div);\n",
              "\n",
              "      const buffers = [];\n",
              "      let downloaded = 0;\n",
              "\n",
              "      const channel = await google.colab.kernel.comms.open(id);\n",
              "      // Send a message to notify the kernel that we're ready.\n",
              "      channel.send({})\n",
              "\n",
              "      for await (const message of channel.messages) {\n",
              "        // Send a message to notify the kernel that we're ready.\n",
              "        channel.send({})\n",
              "        if (message.buffers) {\n",
              "          for (const buffer of message.buffers) {\n",
              "            buffers.push(buffer);\n",
              "            downloaded += buffer.byteLength;\n",
              "            progress.value = downloaded;\n",
              "          }\n",
              "        }\n",
              "      }\n",
              "      const blob = new Blob(buffers, {type: 'application/binary'});\n",
              "      const a = document.createElement('a');\n",
              "      a.href = window.URL.createObjectURL(blob);\n",
              "      a.download = filename;\n",
              "      div.appendChild(a);\n",
              "      a.click();\n",
              "      div.remove();\n",
              "    }\n",
              "  "
            ]
          },
          "metadata": {}
        },
        {
          "output_type": "display_data",
          "data": {
            "text/plain": [
              "<IPython.core.display.Javascript object>"
            ],
            "application/javascript": [
              "download(\"download_fb06aa1c-9116-4173-9409-c2ba378a6410\", \"model1.h5\", 110960)"
            ]
          },
          "metadata": {}
        }
      ]
    }
  ]
}