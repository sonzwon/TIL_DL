{
  "nbformat": 4,
  "nbformat_minor": 0,
  "metadata": {
    "colab": {
      "provenance": [],
      "collapsed_sections": [
        "EmGJVKBrzfXo",
        "MrGNvmdSzfXp",
        "E4-KNKc4zfXv",
        "NEFpns-jzfXv",
        "cFn1q_0jzfXw",
        "M4VjTp8FzfXw",
        "aXxgfeGdzfXw",
        "4x0KU_BzzfXx",
        "odqpEsI0iH1f",
        "VRJJjjSLiH1h",
        "wGQPwl5iiH1i",
        "LVykKLdfiH1j",
        "vs4MHjKkiH1j",
        "gPfI5Io9iH1k",
        "HWwSu6rGiH1k",
        "upv45GO-iH1k",
        "j-YjXYk_iH1l",
        "eNkdDgr0zfX1",
        "QG159d2rzfX1",
        "-caAUep7zfX2",
        "lp8dbD_FzfX2",
        "_C6Nk21yzfX3",
        "-gtWPhyAzfX3",
        "xQOMfXQOzfX4",
        "yWMu-OUGzfX4",
        "I5UrN6nizfX4",
        "UiIBTxMizfX5",
        "AXCh44v4zfX5",
        "m_bmyR1FzfX6",
        "agZArRLlzfX6",
        "JtnyEsMJzfX7",
        "TQqVbazVzfX7",
        "o1xMDORMzfX7",
        "CaDQG8wwzfX8",
        "RxNAgeE-zfX8",
        "5Cn2goDdzfX8"
      ],
      "include_colab_link": true
    },
    "kernelspec": {
      "name": "python3",
      "display_name": "Python 3"
    },
    "accelerator": "GPU"
  },
  "cells": [
    {
      "cell_type": "markdown",
      "metadata": {
        "id": "view-in-github",
        "colab_type": "text"
      },
      "source": [
        "<a href=\"https://colab.research.google.com/github/sonzwon/TIL_DL/blob/master/%5Bpractice%5DMulti_Model_Classification.ipynb\" target=\"_parent\"><img src=\"https://colab.research.google.com/assets/colab-badge.svg\" alt=\"Open In Colab\"/></a>"
      ]
    },
    {
      "cell_type": "code",
      "metadata": {
        "id": "mUteMBoWzfXn"
      },
      "source": [
        "import tensorflow as tf\n",
        "from tensorflow import keras\n",
        "from keras.layers import Dense\n",
        "from keras.models import Sequential\n",
        "\n",
        "import pandas as pd\n",
        "import numpy as np\n",
        "import matplotlib.pyplot as plt\n",
        "import seaborn as sns\n",
        "import warnings \n",
        "from IPython.display import Image\n",
        "\n",
        "warnings.filterwarnings('ignore')\n",
        "%matplotlib inline\n",
        "\n",
        "SEED = 34"
      ],
      "execution_count": 1,
      "outputs": []
    },
    {
      "cell_type": "markdown",
      "metadata": {
        "id": "A5NviQ1BzfXo"
      },
      "source": [
        "## Step 1. 도입전 기본 처리"
      ]
    },
    {
      "cell_type": "markdown",
      "metadata": {
        "id": "EmGJVKBrzfXo"
      },
      "source": [
        "### 문제 1. tfds를 이용하여 데이터셋 사용하기"
      ]
    },
    {
      "cell_type": "code",
      "metadata": {
        "id": "vgjOE7bMzfXo"
      },
      "source": [
        "# tfds를 이용하여 데이터셋 사용하기\n",
        "import tensorflow_datasets as tfds"
      ],
      "execution_count": 79,
      "outputs": []
    },
    {
      "cell_type": "markdown",
      "metadata": {
        "id": "MrGNvmdSzfXp"
      },
      "source": [
        "### 문제 2. celeba의 정보중 이용할 데이터만 추출"
      ]
    },
    {
      "cell_type": "code",
      "source": [
        "# celeba의 정보중 이용할 데이터만 추출\n",
        "celeb_a = tfds.load('celeb_a')"
      ],
      "metadata": {
        "id": "2EloGz3Z2rmG"
      },
      "execution_count": null,
      "outputs": []
    },
    {
      "cell_type": "code",
      "source": [
        "import imageio\n",
        "from skimage.transform import resize\n",
        "\n",
        "celeb_a_train, celeb_a_test = celeb_a['validation'], celeb_a['test']\n",
        "\n",
        "x_train = []\n",
        "y_train = []\n",
        "\n",
        "for tensor in tfds.as_numpy(celeb_a_train):\n",
        "  IsMale = tensor['attributes']['Male']\n",
        "  IsSmile = tensor['attributes']['Smiling']\n",
        "\n",
        "  label = np.array([IsMale, IsSmile]).astype(np.int8)\n",
        "\n",
        "  img = resize(tensor['image'],(190//1.5, 89//1.5))\n",
        "\n",
        "  x_train.append(img)\n",
        "  y_train.append(label)"
      ],
      "metadata": {
        "id": "p7liPh8AtmI2"
      },
      "execution_count": 4,
      "outputs": []
    },
    {
      "cell_type": "code",
      "source": [
        "x_test = []\n",
        "y_test = []\n",
        "\n",
        "for tensor in tfds.as_numpy(celeb_a_test):\n",
        "  IsMale = tensor['attributes']['Male']\n",
        "  IsSmile = tensor['attributes']['Smiling']\n",
        "\n",
        "  label = np.array([IsMale, IsSmile]).astype(np.int8)\n",
        "\n",
        "  img = resize(tensor['image'],(190//1.5, 89//1.5))\n",
        "\n",
        "  x_test.append(img)\n",
        "  y_test.append(label)"
      ],
      "metadata": {
        "id": "s_V55r5swkO5"
      },
      "execution_count": 5,
      "outputs": []
    },
    {
      "cell_type": "code",
      "source": [
        "len(x_train)\n",
        "len(y_train)"
      ],
      "metadata": {
        "colab": {
          "base_uri": "https://localhost:8080/"
        },
        "id": "3-l351cRz_Xs",
        "outputId": "7aac952c-78c8-42ee-973c-0ff883e1c506"
      },
      "execution_count": 6,
      "outputs": [
        {
          "output_type": "execute_result",
          "data": {
            "text/plain": [
              "19867"
            ]
          },
          "metadata": {},
          "execution_count": 6
        }
      ]
    },
    {
      "cell_type": "markdown",
      "metadata": {
        "id": "y2gc2vB8zfXp"
      },
      "source": [
        "### 문제 3. 데이터량 축소"
      ]
    },
    {
      "cell_type": "code",
      "metadata": {
        "id": "CerWeQM1zfXp"
      },
      "source": [
        "# 데이터량 축소\n",
        "m_s = []  # male, smile\n",
        "f_s = []  # female, smile\n",
        "m_n = []  # male, not smile\n",
        "f_n = []  # female, not smile"
      ],
      "execution_count": 3,
      "outputs": []
    },
    {
      "cell_type": "code",
      "source": [
        "for a, b in zip(x_test, y_test):\n",
        "  if b[0] and b[1]:\n",
        "    m_s.append((a, b))\n",
        "  elif not b[0] and b[1]:\n",
        "    f_s.append((a, b))\n",
        "  elif b[0] and not b[1]:\n",
        "    m_n.append((a, b))\n",
        "  else:\n",
        "    f_n.append((a, b))"
      ],
      "metadata": {
        "id": "gzddssO-2uqU"
      },
      "execution_count": null,
      "outputs": []
    },
    {
      "cell_type": "code",
      "source": [
        "print(len(m_s), len(f_s), len(m_n), len(f_n))"
      ],
      "metadata": {
        "id": "44_8SXzq0YPL"
      },
      "execution_count": null,
      "outputs": []
    },
    {
      "cell_type": "code",
      "source": [
        "total = m_s[:550] + f_s[:550] + m_n[:550] + f_n[:550]"
      ],
      "metadata": {
        "id": "TabaD52v0qaL"
      },
      "execution_count": null,
      "outputs": []
    },
    {
      "cell_type": "code",
      "source": [
        "import random\n",
        "random.shuffle(total)\n",
        "trains = total[:2000]\n",
        "tests = total[2000:]"
      ],
      "metadata": {
        "id": "YMuQ-ysy1EJA"
      },
      "execution_count": null,
      "outputs": []
    },
    {
      "cell_type": "code",
      "source": [
        "print(len(trains), len(tests))"
      ],
      "metadata": {
        "id": "l0fCOfEz1X8D"
      },
      "execution_count": null,
      "outputs": []
    },
    {
      "cell_type": "code",
      "source": [
        "trains[0]"
      ],
      "metadata": {
        "id": "MsrfJfZqGveB"
      },
      "execution_count": null,
      "outputs": []
    },
    {
      "cell_type": "code",
      "source": [
        "x_train, y_train = zip(*trains)\n",
        "x_test, y_test = zip(*tests)"
      ],
      "metadata": {
        "id": "MLF_BW3oG5-B"
      },
      "execution_count": null,
      "outputs": []
    },
    {
      "cell_type": "code",
      "source": [
        "x_train = np.array(x_train)\n",
        "y_train = np.array(y_train)\n",
        "x_test = np.array(x_test)\n",
        "y_test = np.array(y_test)"
      ],
      "metadata": {
        "id": "45Gs5ajgHQht"
      },
      "execution_count": null,
      "outputs": []
    },
    {
      "cell_type": "markdown",
      "metadata": {
        "id": "6_IiB2H3zfXq"
      },
      "source": [
        "### 문제 4. 사전 저장된 celeba small 데이터 확인"
      ]
    },
    {
      "cell_type": "code",
      "metadata": {
        "id": "jeVP1QF4zfXq",
        "colab": {
          "base_uri": "https://localhost:8080/"
        },
        "outputId": "81768842-5209-40a5-8d0f-db285821f364"
      },
      "source": [
        "# 이미 저장된 celeba 데이터를 이용\n",
        "from google.colab import drive\n",
        "drive.mount('/content/drive', force_remount=True)"
      ],
      "execution_count": 2,
      "outputs": [
        {
          "output_type": "stream",
          "name": "stdout",
          "text": [
            "Mounted at /content/drive\n"
          ]
        }
      ]
    },
    {
      "cell_type": "code",
      "source": [
        "!ls -al /content/drive/MyDrive/colab_commit/TIL_DL/File/celeba_small.npz"
      ],
      "metadata": {
        "colab": {
          "base_uri": "https://localhost:8080/"
        },
        "id": "Ms_sKJPxIr-t",
        "outputId": "9e1f7667-eec5-4e97-93d2-b731c12d3db9"
      },
      "execution_count": 3,
      "outputs": [
        {
          "output_type": "stream",
          "name": "stdout",
          "text": [
            "-r-------- 1 root root 173961605 Dec 17  2020 /content/drive/MyDrive/colab_commit/TIL_DL/File/celeba_small.npz\n"
          ]
        }
      ]
    },
    {
      "cell_type": "markdown",
      "metadata": {
        "id": "pFQzrtS9zfXr"
      },
      "source": [
        "### 문제 5. celeba_small 데이터 살펴보기"
      ]
    },
    {
      "cell_type": "code",
      "metadata": {
        "id": "il6cKcv4zfXr"
      },
      "source": [
        "# 데이터를 train에서 사람 이미지 한장과 label 정보 한개를 불러오는 코드를 작성해주세요. (x, y로 변수 대입)\n",
        "celeba_small = np.load('/content/drive/MyDrive/colab_commit/TIL_DL/File/celeba_small.npz')"
      ],
      "execution_count": 4,
      "outputs": []
    },
    {
      "cell_type": "code",
      "source": [
        "list(celeba_small.keys())"
      ],
      "metadata": {
        "colab": {
          "base_uri": "https://localhost:8080/"
        },
        "id": "qo5dvbf-JV0S",
        "outputId": "78fa8bbe-4737-4491-a4fb-015f118be64d"
      },
      "execution_count": 5,
      "outputs": [
        {
          "output_type": "execute_result",
          "data": {
            "text/plain": [
              "['train_images', 'train_labels', 'test_images', 'test_labels']"
            ]
          },
          "metadata": {},
          "execution_count": 5
        }
      ]
    },
    {
      "cell_type": "markdown",
      "metadata": {
        "id": "GCA5cjoczfXr"
      },
      "source": [
        "### 문제 6. x와 y의 shape을 출력해보세요."
      ]
    },
    {
      "cell_type": "code",
      "source": [
        "# 데이터의 크기를 shape 함수를 통해 출력해주세요.\n",
        "x = x_train[0]\n",
        "y = y_train[0]"
      ],
      "metadata": {
        "id": "O6VKgAHH2xjy"
      },
      "execution_count": null,
      "outputs": []
    },
    {
      "cell_type": "code",
      "source": [
        "x.shape, y.shape "
      ],
      "metadata": {
        "id": "UEYxRtWV2zHS"
      },
      "execution_count": null,
      "outputs": []
    },
    {
      "cell_type": "markdown",
      "metadata": {
        "id": "oWWZjiR5zfXs"
      },
      "source": [
        "### 문제 7. x를 각각 plt를 통하여 출력하세요."
      ]
    },
    {
      "cell_type": "code",
      "metadata": {
        "id": "zCD8YxAFzfXs",
        "colab": {
          "base_uri": "https://localhost:8080/",
          "height": 286
        },
        "outputId": "3c0dea3f-6f20-4436-da4e-bae2fb496c64"
      },
      "source": [
        "# x를 plt를 이용하여 출력하는 코드를 작성해보세요\n",
        "plt.imshow(x)\n",
        "plt.show()\n",
        "print(y)"
      ],
      "execution_count": 30,
      "outputs": [
        {
          "output_type": "display_data",
          "data": {
            "text/plain": [
              "<Figure size 432x288 with 1 Axes>"
            ],
            "image/png": "[encoded data removed]"
          },
          "metadata": {
            "needs_background": "light"
          }
        },
        {
          "output_type": "stream",
          "name": "stdout",
          "text": [
            "[0 0]\n"
          ]
        }
      ]
    },
    {
      "cell_type": "markdown",
      "metadata": {
        "id": "oblQdV_KzfXs"
      },
      "source": [
        "### 문제 8. celeba_small.npz 데이터에서 학습, 테스트 데이터를 로드하세요."
      ]
    },
    {
      "cell_type": "code",
      "metadata": {
        "id": "UbqJxnEKzfXs"
      },
      "source": [
        "# celeba_small.npz에서 train_images, test_images, train_labels, test_labels를 np array로 로드하세요.\n",
        "x_train = celeba_small['train_images']\n",
        "y_train = celeba_small['train_labels']\n",
        "x_test = celeba_small['test_images']\n",
        "y_test = celeba_small['test_labels']"
      ],
      "execution_count": 6,
      "outputs": []
    },
    {
      "cell_type": "markdown",
      "metadata": {
        "id": "7KrxMSX1zfXs"
      },
      "source": [
        "### 문제 9. train_images에서 0이 아닌 값들을 출력해보세요."
      ]
    },
    {
      "cell_type": "code",
      "metadata": {
        "id": "gzVkaWY_zfXs",
        "colab": {
          "base_uri": "https://localhost:8080/"
        },
        "outputId": "09bdceed-9bd5-4b81-8948-4f75f7e17dd0"
      },
      "source": [
        "# 하나의 이미지에 대한 모든 0이 아닌 값을 출력하는 코드를 작성하세요.\n",
        "x_train[x_train != 0][:10]"
      ],
      "execution_count": 7,
      "outputs": [
        {
          "output_type": "execute_result",
          "data": {
            "text/plain": [
              "array([0.02352941, 0.04313725, 0.05490196, 0.01960784, 0.03921569,\n",
              "       0.05490196, 0.01977401, 0.03921569, 0.05114656, 0.02352941])"
            ]
          },
          "metadata": {},
          "execution_count": 7
        }
      ]
    },
    {
      "cell_type": "markdown",
      "metadata": {
        "id": "ZHPt_38HzfXt"
      },
      "source": [
        "### 문제 10. train_images의 dtype을 출력해보세요."
      ]
    },
    {
      "cell_type": "code",
      "metadata": {
        "id": "U0CsxiLqzfXt",
        "colab": {
          "base_uri": "https://localhost:8080/"
        },
        "outputId": "45b874eb-957a-4dec-99f0-f7f8a8bc30ca"
      },
      "source": [
        "# dtype을 이용하여 이미지의 np array type을 확인해보세요.\n",
        "x_train.dtype"
      ],
      "execution_count": 8,
      "outputs": [
        {
          "output_type": "execute_result",
          "data": {
            "text/plain": [
              "dtype('float64')"
            ]
          },
          "metadata": {},
          "execution_count": 8
        }
      ]
    },
    {
      "cell_type": "markdown",
      "metadata": {
        "id": "WTLJMKtgzfXt"
      },
      "source": [
        "## Step 2. 전처리"
      ]
    },
    {
      "cell_type": "markdown",
      "metadata": {
        "id": "RGSJWe6wzfXt"
      },
      "source": [
        "### 문제 11. 이미지 데이터의 범위 확인"
      ]
    },
    {
      "cell_type": "code",
      "metadata": {
        "id": "vmU5DLMWzfXt",
        "colab": {
          "base_uri": "https://localhost:8080/"
        },
        "outputId": "5d54a690-c393-4b86-d6f2-a126fbd1defe"
      },
      "source": [
        "# train_images, train_labels의 shape과 dtype, 0이 아닌 숫자를 출력하는 코드를 작성하세요.\n",
        "print(x_train.shape, y_train.shape)\n",
        "print(x_train.dtype, y_train.dtype)\n",
        "print(x_train[x_train != 0][:10])\n",
        "print(x_test[x_test != 0][:10])"
      ],
      "execution_count": 9,
      "outputs": [
        {
          "output_type": "stream",
          "name": "stdout",
          "text": [
            "(2000, 72, 59, 3) (2000, 2)\n",
            "float64 int8\n",
            "[0.02352941 0.04313725 0.05490196 0.01960784 0.03921569 0.05490196\n",
            " 0.01977401 0.03921569 0.05114656 0.02352941]\n",
            "[0.52571083 0.90221419 0.8707544  0.56460618 0.95304088 0.91372549\n",
            " 0.55277501 0.94885344 0.90571618 0.55756065]\n"
          ]
        }
      ]
    },
    {
      "cell_type": "markdown",
      "metadata": {
        "id": "UqAC_4r5zfXu"
      },
      "source": [
        "### 문제 12. images/labels 이미지 데이터의 최소/최대값을 출력"
      ]
    },
    {
      "cell_type": "code",
      "metadata": {
        "id": "ZYyRj1TkzfXu",
        "colab": {
          "base_uri": "https://localhost:8080/"
        },
        "outputId": "a660b906-31b2-44de-9276-f236b3d46721"
      },
      "source": [
        "# train/test 전체 데이터에서 각 images, labels의 min, max를 출력하는 코드를 작성하세요.\n",
        "print(x_train.min(), x_train.max())\n",
        "print(y_train.min(), y_train.max())\n",
        "print(x_test.min(), x_test.max())\n",
        "print(y_test.min(), y_test.max())"
      ],
      "execution_count": 10,
      "outputs": [
        {
          "output_type": "stream",
          "name": "stdout",
          "text": [
            "0.0 1.0\n",
            "0 1\n",
            "0.0 1.0\n",
            "0 1\n"
          ]
        }
      ]
    },
    {
      "cell_type": "markdown",
      "metadata": {
        "id": "IWWfvi8FzfXu"
      },
      "source": [
        "### 문제 13. labels의 shape을 (배치, 2)에서 (배치, 2), (배치, 2)으로 변경하세요. (배치, (성별,웃음)) => (배치, 남자, 여자), (배치, 웃음, 안웃음)"
      ]
    },
    {
      "cell_type": "code",
      "metadata": {
        "id": "wuSOXHEEzfXu"
      },
      "source": [
        "# (배치, 2)의 labels shape을 (배치, 1)의 shape의 2개의 array로 분리하는 코드를 추가하세요.\n",
        "from keras.utils import to_categorical\n",
        "\n",
        "y_train_male, y_train_smile = np.split(y_train, indices_or_sections=2, axis=1)"
      ],
      "execution_count": 11,
      "outputs": []
    },
    {
      "cell_type": "code",
      "source": [
        "y_train_male.shape"
      ],
      "metadata": {
        "colab": {
          "base_uri": "https://localhost:8080/"
        },
        "id": "y35UqtsANTjM",
        "outputId": "1c7fd71d-a1fc-4156-8462-172ee3fa3929"
      },
      "execution_count": 12,
      "outputs": [
        {
          "output_type": "execute_result",
          "data": {
            "text/plain": [
              "(2000, 1)"
            ]
          },
          "metadata": {},
          "execution_count": 12
        }
      ]
    },
    {
      "cell_type": "code",
      "source": [
        "y_test_male, y_test_smile = np.split(y_test, 2, axis=1)\n",
        "y_test_male.shape"
      ],
      "metadata": {
        "colab": {
          "base_uri": "https://localhost:8080/"
        },
        "id": "Khb5JAQtNn28",
        "outputId": "0e0369fc-b557-483b-c956-1286b5faba33"
      },
      "execution_count": 13,
      "outputs": [
        {
          "output_type": "execute_result",
          "data": {
            "text/plain": [
              "(200, 1)"
            ]
          },
          "metadata": {},
          "execution_count": 13
        }
      ]
    },
    {
      "cell_type": "code",
      "source": [
        "y_train_male = to_categorical(y_train_male)\n",
        "y_train_smile = to_categorical(y_train_smile)\n",
        "y_test_male = to_categorical(y_test_male)\n",
        "y_test_smile = to_categorical(y_test_smile)"
      ],
      "metadata": {
        "id": "fcGkSqHoNcKc"
      },
      "execution_count": 14,
      "outputs": []
    },
    {
      "cell_type": "code",
      "source": [
        "y_train_male.shape"
      ],
      "metadata": {
        "colab": {
          "base_uri": "https://localhost:8080/"
        },
        "id": "4sLsBo6LOG3G",
        "outputId": "a561ac67-f0bf-4df3-fe35-85d2bc69a4d1"
      },
      "execution_count": 15,
      "outputs": [
        {
          "output_type": "execute_result",
          "data": {
            "text/plain": [
              "(2000, 2)"
            ]
          },
          "metadata": {},
          "execution_count": 15
        }
      ]
    },
    {
      "cell_type": "markdown",
      "metadata": {
        "id": "8K0Z0kU8zfXu"
      },
      "source": [
        "### 문제 14. labels의 shape을 (배치, 2), (배치, 2)에서 (배치, 4)로 합쳐보세요."
      ]
    },
    {
      "cell_type": "code",
      "metadata": {
        "id": "b_fdgA-WzfXv",
        "colab": {
          "base_uri": "https://localhost:8080/"
        },
        "outputId": "4c34dea4-9806-4485-fdda-cd80e40cef5d"
      },
      "source": [
        "# (배치, 2), (배치, 2)의 labels를 (배치, 4)로 합치는 코드를 작성하세요.\n",
        "# (배치, 남성여부, 웃음여부) => (배치, 남성여부), (배치, 웃음여부) => (배치, 여자여부, 남자여부), (배치, 안웃음여부, 웃음여부) => (배치, 여자여부, 남자여부, 안웃음여부, 웃음여부)\n",
        "y_train2 = np.concatenate([y_train_male, y_train_smile], axis=1)\n",
        "y_test2 = np.concatenate([y_test_male, y_test_smile], axis=1)\n",
        "y_train2.shape, y_test2.shape"
      ],
      "execution_count": 16,
      "outputs": [
        {
          "output_type": "execute_result",
          "data": {
            "text/plain": [
              "((2000, 4), (200, 4))"
            ]
          },
          "metadata": {},
          "execution_count": 16
        }
      ]
    },
    {
      "cell_type": "markdown",
      "metadata": {
        "id": "3XcXNvJCzfXv"
      },
      "source": [
        "## Step 3. 시각화 방법"
      ]
    },
    {
      "cell_type": "markdown",
      "metadata": {
        "id": "E4-KNKc4zfXv"
      },
      "source": [
        "### 문제 15. train_image의 이미지를 5장 획득하여 (5, 세로, 가로, 3)의 shape을 출력하세요."
      ]
    },
    {
      "cell_type": "code",
      "metadata": {
        "id": "DNV-8ovuzfXv",
        "colab": {
          "base_uri": "https://localhost:8080/"
        },
        "outputId": "dbe18448-f53a-4251-b571-e014466e448e"
      },
      "source": [
        "# (배치, 세로, 가로, 3)인 train_images에서 (5, 세로, 가로, 3)을 획득하는 코드를 작성하세요.\n",
        "x_train[:5].shape"
      ],
      "execution_count": 17,
      "outputs": [
        {
          "output_type": "execute_result",
          "data": {
            "text/plain": [
              "(5, 72, 59, 3)"
            ]
          },
          "metadata": {},
          "execution_count": 17
        }
      ]
    },
    {
      "cell_type": "markdown",
      "metadata": {
        "id": "NEFpns-jzfXv"
      },
      "source": [
        "### 문제 16. 획득한 5장의 의미지를 (세로, 가로 * 5, 3)의 shape으로 변경해보세요."
      ]
    },
    {
      "cell_type": "code",
      "metadata": {
        "id": "SpajpXewzfXv",
        "colab": {
          "base_uri": "https://localhost:8080/"
        },
        "outputId": "5f9f7e10-9254-43c4-8f5a-741af4a2dfe5"
      },
      "source": [
        "# np.hstack은 height 방향의 배열을 풀어서 width 방향으로 연결해줍니다.\n",
        "# 해당 기능을 쓰면 (height, image_height, image_width, color)의 shape을 (image_height, image_width * height, color)으로 바꿔 줄 수 있습니다.\n",
        "# 코드를 작성해보세요.\n",
        "np.hstack(x_train[:5]).shape"
      ],
      "execution_count": 18,
      "outputs": [
        {
          "output_type": "execute_result",
          "data": {
            "text/plain": [
              "(72, 295, 3)"
            ]
          },
          "metadata": {},
          "execution_count": 18
        }
      ]
    },
    {
      "cell_type": "code",
      "source": [
        "plt.imshow(np.hstack(x_train[:5]))\n",
        "plt.show()\n",
        "print(y_train[:5])"
      ],
      "metadata": {
        "colab": {
          "base_uri": "https://localhost:8080/",
          "height": 225
        },
        "id": "O4QXIj-0cVKO",
        "outputId": "39dc3487-7a09-4b76-a8eb-cff5cc4f76ee"
      },
      "execution_count": 19,
      "outputs": [
        {
          "output_type": "display_data",
          "data": {
            "text/plain": [
              "<Figure size 432x288 with 1 Axes>"
            ],
            "image/png": "[encoded data removed]"
          },
          "metadata": {
            "needs_background": "light"
          }
        },
        {
          "output_type": "stream",
          "name": "stdout",
          "text": [
            "[[0 0]\n",
            " [1 1]\n",
            " [1 0]\n",
            " [1 1]\n",
            " [1 1]]\n"
          ]
        }
      ]
    },
    {
      "cell_type": "markdown",
      "metadata": {
        "id": "cFn1q_0jzfXw"
      },
      "source": [
        "### 문제 17. np.hstack은 tensorflow에서 제공하는 방법이 아니므로 transpose 함수를 이용하여 (세로, 가로 * 5, 3)로 shape을 변경해보세요."
      ]
    },
    {
      "cell_type": "code",
      "metadata": {
        "id": "22VKC444zfXw",
        "colab": {
          "base_uri": "https://localhost:8080/"
        },
        "outputId": "e3961d78-71d8-4511-ec0d-bed171f4e21e"
      },
      "source": [
        "# transpose는 tensor의 axis를 섞는 기능을 합니다.\n",
        "# 해당 기능을 이용해서 (세로, 가로 * 5, 3)을 작성하는 코드를 작성해보세요.\n",
        "x_train[:5].transpose(1,0,2,3).reshape(72,-1,3).shape"
      ],
      "execution_count": 20,
      "outputs": [
        {
          "output_type": "execute_result",
          "data": {
            "text/plain": [
              "(72, 295, 3)"
            ]
          },
          "metadata": {},
          "execution_count": 20
        }
      ]
    },
    {
      "cell_type": "markdown",
      "metadata": {
        "id": "M4VjTp8FzfXw"
      },
      "source": [
        "### 문제 18. (72, 295, 3)이 된 tensor를 plt로 출력해보세요."
      ]
    },
    {
      "cell_type": "code",
      "metadata": {
        "id": "gMgv1J0-zfXw",
        "colab": {
          "base_uri": "https://localhost:8080/",
          "height": 225
        },
        "outputId": "3c38cd08-2884-4b15-eb05-f7902113e0c9"
      },
      "source": [
        "# (72, 295, 3)의 이미지를 plt로 출력해보세요.\n",
        "plt.imshow(x_train[:5].transpose(1,0,2,3).reshape(72,-1,3))\n",
        "plt.show()\n",
        "print(y_train[:5])"
      ],
      "execution_count": 21,
      "outputs": [
        {
          "output_type": "display_data",
          "data": {
            "text/plain": [
              "<Figure size 432x288 with 1 Axes>"
            ],
            "image/png": "[encoded data removed]"
          },
          "metadata": {
            "needs_background": "light"
          }
        },
        {
          "output_type": "stream",
          "name": "stdout",
          "text": [
            "[[0 0]\n",
            " [1 1]\n",
            " [1 0]\n",
            " [1 1]\n",
            " [1 1]]\n"
          ]
        }
      ]
    },
    {
      "cell_type": "markdown",
      "metadata": {
        "id": "aXxgfeGdzfXw"
      },
      "source": [
        "### 문제 19. smile, male label도 5개 출력해보세요."
      ]
    },
    {
      "cell_type": "code",
      "metadata": {
        "id": "cE5mCP_GzfXx",
        "colab": {
          "base_uri": "https://localhost:8080/",
          "height": 128
        },
        "outputId": "c780c284-e949-4814-8442-90f9129f4536"
      },
      "source": [
        "# smile, male label을 5개 출력하는 코드를 작성해보세요.\n",
        "for male, smile in zip(y_train_male[:5], y_train_smile[:5]):\n",
        "  print(male, smile)\n",
        "'''[female, male] [unsmile, smile]'''"
      ],
      "execution_count": 22,
      "outputs": [
        {
          "output_type": "stream",
          "name": "stdout",
          "text": [
            "[1. 0.] [1. 0.]\n",
            "[0. 1.] [0. 1.]\n",
            "[0. 1.] [1. 0.]\n",
            "[0. 1.] [0. 1.]\n",
            "[0. 1.] [0. 1.]\n"
          ]
        },
        {
          "output_type": "execute_result",
          "data": {
            "text/plain": [
              "'[female, male] [unsmile, smile]'"
            ],
            "application/vnd.google.colaboratory.intrinsic+json": {
              "type": "string"
            }
          },
          "metadata": {},
          "execution_count": 22
        }
      ]
    },
    {
      "cell_type": "markdown",
      "metadata": {
        "id": "4x0KU_BzzfXx"
      },
      "source": [
        "### 문제 20. smile, male이 각각 몇개 있는지 측정해보세요."
      ]
    },
    {
      "cell_type": "code",
      "metadata": {
        "id": "VDnSgzzKzfXx",
        "colab": {
          "base_uri": "https://localhost:8080/",
          "height": 423
        },
        "outputId": "4113d4fa-b607-40cb-bbe2-548b6fc90bd0"
      },
      "source": [
        "# pandas를 smile, male이 각각 몇개 있는지 plt를 통하여 출력하는 코드를 작성하세요.\n",
        "df = pd.DataFrame(y_train, columns=['gender','smile'])\n",
        "df"
      ],
      "execution_count": 23,
      "outputs": [
        {
          "output_type": "execute_result",
          "data": {
            "text/plain": [
              "      gender  smile\n",
              "0          0      0\n",
              "1          1      1\n",
              "2          1      0\n",
              "3          1      1\n",
              "4          1      1\n",
              "...      ...    ...\n",
              "1995       1      0\n",
              "1996       1      1\n",
              "1997       0      1\n",
              "1998       0      1\n",
              "1999       0      1\n",
              "\n",
              "[2000 rows x 2 columns]"
            ],
            "text/html": [
              "\n",
              "  <div id=\"df-cf67dcf7-57b5-4841-869a-26880e3acee8\">\n",
              "    <div class=\"colab-df-container\">\n",
              "      <div>\n",
              "<style scoped>\n",
              "    .dataframe tbody tr th:only-of-type {\n",
              "        vertical-align: middle;\n",
              "    }\n",
              "\n",
              "    .dataframe tbody tr th {\n",
              "        vertical-align: top;\n",
              "    }\n",
              "\n",
              "    .dataframe thead th {\n",
              "        text-align: right;\n",
              "    }\n",
              "</style>\n",
              "<table border=\"1\" class=\"dataframe\">\n",
              "  <thead>\n",
              "    <tr style=\"text-align: right;\">\n",
              "      <th></th>\n",
              "      <th>gender</th>\n",
              "      <th>smile</th>\n",
              "    </tr>\n",
              "  </thead>\n",
              "  <tbody>\n",
              "    <tr>\n",
              "      <th>0</th>\n",
              "      <td>0</td>\n",
              "      <td>0</td>\n",
              "    </tr>\n",
              "    <tr>\n",
              "      <th>1</th>\n",
              "      <td>1</td>\n",
              "      <td>1</td>\n",
              "    </tr>\n",
              "    <tr>\n",
              "      <th>2</th>\n",
              "      <td>1</td>\n",
              "      <td>0</td>\n",
              "    </tr>\n",
              "    <tr>\n",
              "      <th>3</th>\n",
              "      <td>1</td>\n",
              "      <td>1</td>\n",
              "    </tr>\n",
              "    <tr>\n",
              "      <th>4</th>\n",
              "      <td>1</td>\n",
              "      <td>1</td>\n",
              "    </tr>\n",
              "    <tr>\n",
              "      <th>...</th>\n",
              "      <td>...</td>\n",
              "      <td>...</td>\n",
              "    </tr>\n",
              "    <tr>\n",
              "      <th>1995</th>\n",
              "      <td>1</td>\n",
              "      <td>0</td>\n",
              "    </tr>\n",
              "    <tr>\n",
              "      <th>1996</th>\n",
              "      <td>1</td>\n",
              "      <td>1</td>\n",
              "    </tr>\n",
              "    <tr>\n",
              "      <th>1997</th>\n",
              "      <td>0</td>\n",
              "      <td>1</td>\n",
              "    </tr>\n",
              "    <tr>\n",
              "      <th>1998</th>\n",
              "      <td>0</td>\n",
              "      <td>1</td>\n",
              "    </tr>\n",
              "    <tr>\n",
              "      <th>1999</th>\n",
              "      <td>0</td>\n",
              "      <td>1</td>\n",
              "    </tr>\n",
              "  </tbody>\n",
              "</table>\n",
              "<p>2000 rows × 2 columns</p>\n",
              "</div>\n",
              "      <button class=\"colab-df-convert\" onclick=\"convertToInteractive('df-cf67dcf7-57b5-4841-869a-26880e3acee8')\"\n",
              "              title=\"Convert this dataframe to an interactive table.\"\n",
              "              style=\"display:none;\">\n",
              "        \n",
              "  <svg xmlns=\"http://www.w3.org/2000/svg\" height=\"24px\"viewBox=\"0 0 24 24\"\n",
              "       width=\"24px\">\n",
              "    <path d=\"M0 0h24v24H0V0z\" fill=\"none\"/>\n",
              "    <path d=\"M18.56 5.44l.94 2.06.94-2.06 2.06-.94-2.06-.94-.94-2.06-.94 2.06-2.06.94zm-11 1L8.5 8.5l.94-2.06 2.06-.94-2.06-.94L8.5 2.5l-.94 2.06-2.06.94zm10 10l.94 2.06.94-2.06 2.06-.94-2.06-.94-.94-2.06-.94 2.06-2.06.94z\"/><path d=\"M17.41 7.96l-1.37-1.37c-.4-.4-.92-.59-1.43-.59-.52 0-1.04.2-1.43.59L10.3 9.45l-7.72 7.72c-.78.78-.78 2.05 0 2.83L4 21.41c.39.39.9.59 1.41.59.51 0 1.02-.2 1.41-.59l7.78-7.78 2.81-2.81c.8-.78.8-2.07 0-2.86zM5.41 20L4 18.59l7.72-7.72 1.47 1.35L5.41 20z\"/>\n",
              "  </svg>\n",
              "      </button>\n",
              "      \n",
              "  <style>\n",
              "    .colab-df-container {\n",
              "      display:flex;\n",
              "      flex-wrap:wrap;\n",
              "      gap: 12px;\n",
              "    }\n",
              "\n",
              "    .colab-df-convert {\n",
              "      background-color: #E8F0FE;\n",
              "      border: none;\n",
              "      border-radius: 50%;\n",
              "      cursor: pointer;\n",
              "      display: none;\n",
              "      fill: #1967D2;\n",
              "      height: 32px;\n",
              "      padding: 0 0 0 0;\n",
              "      width: 32px;\n",
              "    }\n",
              "\n",
              "    .colab-df-convert:hover {\n",
              "      background-color: #E2EBFA;\n",
              "      box-shadow: 0px 1px 2px rgba(60, 64, 67, 0.3), 0px 1px 3px 1px rgba(60, 64, 67, 0.15);\n",
              "      fill: #174EA6;\n",
              "    }\n",
              "\n",
              "    [theme=dark] .colab-df-convert {\n",
              "      background-color: #3B4455;\n",
              "      fill: #D2E3FC;\n",
              "    }\n",
              "\n",
              "    [theme=dark] .colab-df-convert:hover {\n",
              "      background-color: #434B5C;\n",
              "      box-shadow: 0px 1px 3px 1px rgba(0, 0, 0, 0.15);\n",
              "      filter: drop-shadow(0px 1px 2px rgba(0, 0, 0, 0.3));\n",
              "      fill: #FFFFFF;\n",
              "    }\n",
              "  </style>\n",
              "\n",
              "      <script>\n",
              "        const buttonEl =\n",
              "          document.querySelector('#df-cf67dcf7-57b5-4841-869a-26880e3acee8 button.colab-df-convert');\n",
              "        buttonEl.style.display =\n",
              "          google.colab.kernel.accessAllowed ? 'block' : 'none';\n",
              "\n",
              "        async function convertToInteractive(key) {\n",
              "          const element = document.querySelector('#df-cf67dcf7-57b5-4841-869a-26880e3acee8');\n",
              "          const dataTable =\n",
              "            await google.colab.kernel.invokeFunction('convertToInteractive',\n",
              "                                                     [key], {});\n",
              "          if (!dataTable) return;\n",
              "\n",
              "          const docLinkHtml = 'Like what you see? Visit the ' +\n",
              "            '<a target=\"_blank\" href=https://colab.research.google.com/notebooks/data_table.ipynb>data table notebook</a>'\n",
              "            + ' to learn more about interactive tables.';\n",
              "          element.innerHTML = '';\n",
              "          dataTable['output_type'] = 'display_data';\n",
              "          await google.colab.output.renderOutput(dataTable, element);\n",
              "          const docLink = document.createElement('div');\n",
              "          docLink.innerHTML = docLinkHtml;\n",
              "          element.appendChild(docLink);\n",
              "        }\n",
              "      </script>\n",
              "    </div>\n",
              "  </div>\n",
              "  "
            ]
          },
          "metadata": {},
          "execution_count": 23
        }
      ]
    },
    {
      "cell_type": "code",
      "source": [
        "df.groupby(['gender','smile']).size()"
      ],
      "metadata": {
        "colab": {
          "base_uri": "https://localhost:8080/"
        },
        "id": "u6JOnRGof_CG",
        "outputId": "00093222-3069-43bd-bb09-9e47cac4527f"
      },
      "execution_count": 24,
      "outputs": [
        {
          "output_type": "execute_result",
          "data": {
            "text/plain": [
              "gender  smile\n",
              "0       0        499\n",
              "        1        507\n",
              "1       0        504\n",
              "        1        490\n",
              "dtype: int64"
            ]
          },
          "metadata": {},
          "execution_count": 24
        }
      ]
    },
    {
      "cell_type": "code",
      "source": [
        "df.groupby(['gender','smile']).size().unstack().plot(kind='bar', stacked=True)"
      ],
      "metadata": {
        "colab": {
          "base_uri": "https://localhost:8080/",
          "height": 294
        },
        "id": "89IpHNO4fSCb",
        "outputId": "60dfb27f-404b-4bec-da15-7598d2aad9e1"
      },
      "execution_count": 25,
      "outputs": [
        {
          "output_type": "execute_result",
          "data": {
            "text/plain": [
              "<matplotlib.axes._subplots.AxesSubplot at 0x7fda8ab33d60>"
            ]
          },
          "metadata": {},
          "execution_count": 25
        },
        {
          "output_type": "display_data",
          "data": {
            "text/plain": [
              "<Figure size 432x288 with 1 Axes>"
            ],
            "image/png": "[encoded data removed]"
          },
          "metadata": {
            "needs_background": "light"
          }
        }
      ]
    },
    {
      "cell_type": "markdown",
      "metadata": {
        "id": "odqpEsI0iH1f"
      },
      "source": [
        "## Step 4. 각각 모델링"
      ]
    },
    {
      "cell_type": "markdown",
      "metadata": {
        "id": "VRJJjjSLiH1h"
      },
      "source": [
        "### 문제 21. smile과 gender 학습셋을 각 각 처리하는 이미지 classification 모델 2개를 작성하세요. (단 label을 각각 따로 처리)"
      ]
    },
    {
      "cell_type": "code",
      "metadata": {
        "id": "-y-r6Wc0iH1h"
      },
      "source": [
        "# input (배치, 72, 59, 3), output (배치, 2)을 처리할 수 있는 모양의 모델 2개를 작성하세요.\n",
        "from tensorflow.keras.layers import Input, Conv2D, MaxPool2D, Flatten, Dense\n",
        "from tensorflow.keras.models import Model\n",
        "\n",
        "def build_model():\n",
        "  inputs = Input(shape=(72,59,3))\n",
        "\n",
        "  x = Conv2D(32, 3, activation='relu')(inputs)\n",
        "  x = MaxPool2D(2)(x)\n",
        "  x = Conv2D(64, 3, activation='relu')(x)\n",
        "  x = MaxPool2D(2)(x)\n",
        "  x = Conv2D(64, 3, activation='relu')(x)\n",
        "  x = MaxPool2D(2)(x)\n",
        "\n",
        "  x = Flatten()(x)\n",
        "  x = Dense(64, activation='relu')(x)\n",
        "\n",
        "  outputs = Dense(2, activation='softmax')(x)\n",
        "  model = Model(inputs, outputs)\n",
        "  return model"
      ],
      "execution_count": 26,
      "outputs": []
    },
    {
      "cell_type": "markdown",
      "metadata": {
        "id": "wGQPwl5iiH1i"
      },
      "source": [
        "### 문제 22. 2개의 모델을 할당 받고 서머리를 출력해보세요."
      ]
    },
    {
      "cell_type": "code",
      "metadata": {
        "id": "Fxc4Uu7viH1i"
      },
      "source": [
        "# 모델을 2번 할당 받고 서머리를 출력하는 코드를 작성하세요.\n",
        "gender_model = build_model()\n",
        "smile_model = build_model()"
      ],
      "execution_count": 27,
      "outputs": []
    },
    {
      "cell_type": "code",
      "source": [
        "gender_model.summary()"
      ],
      "metadata": {
        "colab": {
          "base_uri": "https://localhost:8080/"
        },
        "id": "P0_DOTVXj1yd",
        "outputId": "f6f5d077-41de-4e0b-d5b2-0be2293ac651"
      },
      "execution_count": 28,
      "outputs": [
        {
          "output_type": "stream",
          "name": "stdout",
          "text": [
            "Model: \"model\"\n",
            "_________________________________________________________________\n",
            " Layer (type)                Output Shape              Param #   \n",
            "=================================================================\n",
            " input_1 (InputLayer)        [(None, 72, 59, 3)]       0         \n",
            "                                                                 \n",
            " conv2d (Conv2D)             (None, 70, 57, 32)        896       \n",
            "                                                                 \n",
            " max_pooling2d (MaxPooling2D  (None, 35, 28, 32)       0         \n",
            " )                                                               \n",
            "                                                                 \n",
            " conv2d_1 (Conv2D)           (None, 33, 26, 64)        18496     \n",
            "                                                                 \n",
            " max_pooling2d_1 (MaxPooling  (None, 16, 13, 64)       0         \n",
            " 2D)                                                             \n",
            "                                                                 \n",
            " conv2d_2 (Conv2D)           (None, 14, 11, 64)        36928     \n",
            "                                                                 \n",
            " max_pooling2d_2 (MaxPooling  (None, 7, 5, 64)         0         \n",
            " 2D)                                                             \n",
            "                                                                 \n",
            " flatten (Flatten)           (None, 2240)              0         \n",
            "                                                                 \n",
            " dense (Dense)               (None, 64)                143424    \n",
            "                                                                 \n",
            " dense_1 (Dense)             (None, 2)                 130       \n",
            "                                                                 \n",
            "=================================================================\n",
            "Total params: 199,874\n",
            "Trainable params: 199,874\n",
            "Non-trainable params: 0\n",
            "_________________________________________________________________\n"
          ]
        }
      ]
    },
    {
      "cell_type": "code",
      "source": [
        "smile_model.summary()"
      ],
      "metadata": {
        "colab": {
          "base_uri": "https://localhost:8080/"
        },
        "id": "IRv2tO4Nj6HX",
        "outputId": "b37e1efe-9338-4977-e3ee-575e97db60a0"
      },
      "execution_count": 29,
      "outputs": [
        {
          "output_type": "stream",
          "name": "stdout",
          "text": [
            "Model: \"model_1\"\n",
            "_________________________________________________________________\n",
            " Layer (type)                Output Shape              Param #   \n",
            "=================================================================\n",
            " input_2 (InputLayer)        [(None, 72, 59, 3)]       0         \n",
            "                                                                 \n",
            " conv2d_3 (Conv2D)           (None, 70, 57, 32)        896       \n",
            "                                                                 \n",
            " max_pooling2d_3 (MaxPooling  (None, 35, 28, 32)       0         \n",
            " 2D)                                                             \n",
            "                                                                 \n",
            " conv2d_4 (Conv2D)           (None, 33, 26, 64)        18496     \n",
            "                                                                 \n",
            " max_pooling2d_4 (MaxPooling  (None, 16, 13, 64)       0         \n",
            " 2D)                                                             \n",
            "                                                                 \n",
            " conv2d_5 (Conv2D)           (None, 14, 11, 64)        36928     \n",
            "                                                                 \n",
            " max_pooling2d_5 (MaxPooling  (None, 7, 5, 64)         0         \n",
            " 2D)                                                             \n",
            "                                                                 \n",
            " flatten_1 (Flatten)         (None, 2240)              0         \n",
            "                                                                 \n",
            " dense_2 (Dense)             (None, 64)                143424    \n",
            "                                                                 \n",
            " dense_3 (Dense)             (None, 2)                 130       \n",
            "                                                                 \n",
            "=================================================================\n",
            "Total params: 199,874\n",
            "Trainable params: 199,874\n",
            "Non-trainable params: 0\n",
            "_________________________________________________________________\n"
          ]
        }
      ]
    },
    {
      "cell_type": "markdown",
      "metadata": {
        "id": "LVykKLdfiH1j"
      },
      "source": [
        "### 문제 23. 만든 모델에 로스와 옵티마이저, 메트릭을 설정하세요."
      ]
    },
    {
      "cell_type": "code",
      "metadata": {
        "id": "IQU8Qq6iiH1j"
      },
      "source": [
        "# 만든 모델에 loss는 categorical_crossentropy, optimizer는 adam 매트릭은 accuracy으로 설정하는 코드를 작성하세요.\n",
        "gender_model.compile(loss='categorical_crossentropy', optimizer='adam', metrics='accuracy')\n",
        "smile_model.compile(loss='categorical_crossentropy', optimizer='adam', metrics='accuracy')"
      ],
      "execution_count": 30,
      "outputs": []
    },
    {
      "cell_type": "code",
      "source": [
        "gender_model.get_weights()[0][0][0][0]"
      ],
      "metadata": {
        "colab": {
          "base_uri": "https://localhost:8080/"
        },
        "id": "5evXrRYyllB9",
        "outputId": "c8b1c3b2-67ec-4d79-e2ea-19c542dae1fe"
      },
      "execution_count": 31,
      "outputs": [
        {
          "output_type": "execute_result",
          "data": {
            "text/plain": [
              "array([ 0.10680391,  0.07372643, -0.09217288,  0.12945788, -0.01672921,\n",
              "       -0.13702711, -0.11329496,  0.10191816, -0.08785458,  0.09285994,\n",
              "        0.01123823,  0.08715621,  0.00861749, -0.01316357, -0.00151271,\n",
              "       -0.10684122,  0.10036586,  0.06698853, -0.08337066, -0.09450403,\n",
              "        0.09232694, -0.0358351 ,  0.06170763,  0.08696318,  0.13389845,\n",
              "       -0.07339083,  0.0287032 ,  0.10692464, -0.01968525,  0.04744092,\n",
              "       -0.09601311, -0.04497881], dtype=float32)"
            ]
          },
          "metadata": {},
          "execution_count": 31
        }
      ]
    },
    {
      "cell_type": "code",
      "source": [
        "smile_model.get_weights()[0][0][0][0]"
      ],
      "metadata": {
        "colab": {
          "base_uri": "https://localhost:8080/"
        },
        "id": "-CF4zM_ylw5v",
        "outputId": "d2395150-6749-400a-d457-d8f95bc3d052"
      },
      "execution_count": 32,
      "outputs": [
        {
          "output_type": "execute_result",
          "data": {
            "text/plain": [
              "array([ 0.0335083 ,  0.04188956, -0.12305738, -0.1204319 , -0.11392742,\n",
              "        0.09092107, -0.05710183,  0.03914386, -0.06945969, -0.03863258,\n",
              "       -0.09164798, -0.02190439,  0.04979257,  0.10919286, -0.10617749,\n",
              "        0.0801705 ,  0.0762793 ,  0.00148556,  0.02395523, -0.09311984,\n",
              "       -0.09656999, -0.08479403,  0.06325807, -0.10176238, -0.09245932,\n",
              "        0.1154248 , -0.02252465, -0.03101394, -0.04804644, -0.13546672,\n",
              "       -0.05664416,  0.10843448], dtype=float32)"
            ]
          },
          "metadata": {},
          "execution_count": 32
        }
      ]
    },
    {
      "cell_type": "markdown",
      "metadata": {
        "id": "vs4MHjKkiH1j"
      },
      "source": [
        "### 문제 24. 만든 모델에 train_images를 학습시켜 보세요."
      ]
    },
    {
      "cell_type": "code",
      "metadata": {
        "id": "UiYocbdmiH1j",
        "colab": {
          "base_uri": "https://localhost:8080/"
        },
        "outputId": "a79a8c2f-74cd-444d-8978-d62aa8c4de87"
      },
      "source": [
        "# train_images 학습시키고 15 epochs을 돌리고 그 진행 사항을 hist에 저장하는 코드를 작성하세요.\n",
        "gender_hist = gender_model.fit(x_train, y_train_male, validation_data=(x_test, y_test_male), epochs=15, verbose=1)"
      ],
      "execution_count": 33,
      "outputs": [
        {
          "output_type": "stream",
          "name": "stdout",
          "text": [
            "Epoch 1/15\n",
            "63/63 [==============================] - 9s 14ms/step - loss: 0.6521 - accuracy: 0.6215 - val_loss: 0.5641 - val_accuracy: 0.7150\n",
            "Epoch 2/15\n",
            "63/63 [==============================] - 0s 7ms/step - loss: 0.5076 - accuracy: 0.7585 - val_loss: 0.5421 - val_accuracy: 0.7700\n",
            "Epoch 3/15\n",
            "63/63 [==============================] - 0s 8ms/step - loss: 0.4222 - accuracy: 0.8145 - val_loss: 0.4511 - val_accuracy: 0.8150\n",
            "Epoch 4/15\n",
            "63/63 [==============================] - 0s 7ms/step - loss: 0.3578 - accuracy: 0.8470 - val_loss: 0.3798 - val_accuracy: 0.8550\n",
            "Epoch 5/15\n",
            "63/63 [==============================] - 0s 8ms/step - loss: 0.2786 - accuracy: 0.8820 - val_loss: 0.3464 - val_accuracy: 0.8750\n",
            "Epoch 6/15\n",
            "63/63 [==============================] - 0s 7ms/step - loss: 0.2305 - accuracy: 0.9010 - val_loss: 0.3225 - val_accuracy: 0.8650\n",
            "Epoch 7/15\n",
            "63/63 [==============================] - 0s 7ms/step - loss: 0.1721 - accuracy: 0.9330 - val_loss: 0.2823 - val_accuracy: 0.9050\n",
            "Epoch 8/15\n",
            "63/63 [==============================] - 0s 7ms/step - loss: 0.1540 - accuracy: 0.9400 - val_loss: 0.2606 - val_accuracy: 0.9000\n",
            "Epoch 9/15\n",
            "63/63 [==============================] - 0s 7ms/step - loss: 0.1220 - accuracy: 0.9500 - val_loss: 0.2816 - val_accuracy: 0.8950\n",
            "Epoch 10/15\n",
            "63/63 [==============================] - 0s 7ms/step - loss: 0.0985 - accuracy: 0.9635 - val_loss: 0.2764 - val_accuracy: 0.9200\n",
            "Epoch 11/15\n",
            "63/63 [==============================] - 0s 7ms/step - loss: 0.0807 - accuracy: 0.9700 - val_loss: 0.2455 - val_accuracy: 0.9200\n",
            "Epoch 12/15\n",
            "63/63 [==============================] - 0s 7ms/step - loss: 0.0695 - accuracy: 0.9780 - val_loss: 0.2709 - val_accuracy: 0.8950\n",
            "Epoch 13/15\n",
            "63/63 [==============================] - 0s 7ms/step - loss: 0.0538 - accuracy: 0.9845 - val_loss: 0.2593 - val_accuracy: 0.9100\n",
            "Epoch 14/15\n",
            "63/63 [==============================] - 0s 7ms/step - loss: 0.0436 - accuracy: 0.9865 - val_loss: 0.3270 - val_accuracy: 0.9050\n",
            "Epoch 15/15\n",
            "63/63 [==============================] - 0s 7ms/step - loss: 0.0365 - accuracy: 0.9865 - val_loss: 0.2651 - val_accuracy: 0.9150\n"
          ]
        }
      ]
    },
    {
      "cell_type": "code",
      "source": [
        "gender_model.get_weights()[0][0][0][0]\n",
        "'''파라미터가 변화한 것을 확인할 수 있음'''"
      ],
      "metadata": {
        "colab": {
          "base_uri": "https://localhost:8080/",
          "height": 35
        },
        "id": "zttyKfGpmJgb",
        "outputId": "4042e060-b0d4-4251-8de2-852fee5eef50"
      },
      "execution_count": 34,
      "outputs": [
        {
          "output_type": "execute_result",
          "data": {
            "text/plain": [
              "'파라미터가 변화한 것을 확인할 수 있음'"
            ],
            "application/vnd.google.colaboratory.intrinsic+json": {
              "type": "string"
            }
          },
          "metadata": {},
          "execution_count": 34
        }
      ]
    },
    {
      "cell_type": "code",
      "source": [
        "smile_hist = smile_model.fit(x_train, y_train_smile, validation_data=(x_test, y_test_smile), epochs=15, verbose=1)"
      ],
      "metadata": {
        "colab": {
          "base_uri": "https://localhost:8080/"
        },
        "id": "ByJI6_kkoIFl",
        "outputId": "4fd0348c-b4c9-43e5-d406-a160ae3247df"
      },
      "execution_count": 35,
      "outputs": [
        {
          "output_type": "stream",
          "name": "stdout",
          "text": [
            "Epoch 1/15\n",
            "63/63 [==============================] - 1s 10ms/step - loss: 0.6921 - accuracy: 0.5370 - val_loss: 0.6731 - val_accuracy: 0.6650\n",
            "Epoch 2/15\n",
            "63/63 [==============================] - 0s 7ms/step - loss: 0.6590 - accuracy: 0.6115 - val_loss: 0.5970 - val_accuracy: 0.6950\n",
            "Epoch 3/15\n",
            "63/63 [==============================] - 0s 7ms/step - loss: 0.5859 - accuracy: 0.6910 - val_loss: 0.5234 - val_accuracy: 0.7400\n",
            "Epoch 4/15\n",
            "63/63 [==============================] - 0s 7ms/step - loss: 0.4434 - accuracy: 0.7935 - val_loss: 0.4681 - val_accuracy: 0.7550\n",
            "Epoch 5/15\n",
            "63/63 [==============================] - 0s 7ms/step - loss: 0.3578 - accuracy: 0.8490 - val_loss: 0.3102 - val_accuracy: 0.8650\n",
            "Epoch 6/15\n",
            "63/63 [==============================] - 0s 7ms/step - loss: 0.3019 - accuracy: 0.8720 - val_loss: 0.2868 - val_accuracy: 0.8800\n",
            "Epoch 7/15\n",
            "63/63 [==============================] - 0s 7ms/step - loss: 0.2650 - accuracy: 0.8900 - val_loss: 0.2640 - val_accuracy: 0.8800\n",
            "Epoch 8/15\n",
            "63/63 [==============================] - 0s 7ms/step - loss: 0.2207 - accuracy: 0.9125 - val_loss: 0.2775 - val_accuracy: 0.8850\n",
            "Epoch 9/15\n",
            "63/63 [==============================] - 0s 7ms/step - loss: 0.1985 - accuracy: 0.9215 - val_loss: 0.2413 - val_accuracy: 0.9000\n",
            "Epoch 10/15\n",
            "63/63 [==============================] - 0s 7ms/step - loss: 0.1831 - accuracy: 0.9200 - val_loss: 0.2263 - val_accuracy: 0.8950\n",
            "Epoch 11/15\n",
            "63/63 [==============================] - 0s 7ms/step - loss: 0.1585 - accuracy: 0.9400 - val_loss: 0.2419 - val_accuracy: 0.9100\n",
            "Epoch 12/15\n",
            "63/63 [==============================] - 0s 7ms/step - loss: 0.1221 - accuracy: 0.9545 - val_loss: 0.2486 - val_accuracy: 0.9050\n",
            "Epoch 13/15\n",
            "63/63 [==============================] - 0s 7ms/step - loss: 0.1405 - accuracy: 0.9405 - val_loss: 0.2221 - val_accuracy: 0.9150\n",
            "Epoch 14/15\n",
            "63/63 [==============================] - 0s 7ms/step - loss: 0.1001 - accuracy: 0.9620 - val_loss: 0.2953 - val_accuracy: 0.8900\n",
            "Epoch 15/15\n",
            "63/63 [==============================] - 1s 8ms/step - loss: 0.0609 - accuracy: 0.9805 - val_loss: 0.3022 - val_accuracy: 0.8950\n"
          ]
        }
      ]
    },
    {
      "cell_type": "code",
      "source": [
        "smile_model.get_weights()[0][0][0][0]\n",
        "'''파라미터가 변화한 것을 확인할 수 있음'''"
      ],
      "metadata": {
        "colab": {
          "base_uri": "https://localhost:8080/",
          "height": 35
        },
        "id": "kYmzX_FbmY_z",
        "outputId": "b9998358-53f1-408c-e640-cc010beceaf1"
      },
      "execution_count": 36,
      "outputs": [
        {
          "output_type": "execute_result",
          "data": {
            "text/plain": [
              "'파라미터가 변화한 것을 확인할 수 있음'"
            ],
            "application/vnd.google.colaboratory.intrinsic+json": {
              "type": "string"
            }
          },
          "metadata": {},
          "execution_count": 36
        }
      ]
    },
    {
      "cell_type": "markdown",
      "metadata": {
        "id": "gPfI5Io9iH1k"
      },
      "source": [
        "### 문제 25. 학습 진행 사항을 plt으로 출력하세요."
      ]
    },
    {
      "cell_type": "code",
      "metadata": {
        "id": "tYG-XR-DiH1k",
        "colab": {
          "base_uri": "https://localhost:8080/",
          "height": 281
        },
        "outputId": "95ccde33-5b2e-4080-83e5-de1a6aea2a57"
      },
      "source": [
        "# hist의 accuracy plt의 plot을 이용하여 출력하는 코드를 작성하세요.\n",
        "plt.plot(gender_hist.history['accuracy'], label='accuracy')\n",
        "plt.plot(gender_hist.history['loss'], label='loss')\n",
        "plt.plot(gender_hist.history['val_accuracy'], label='val_accuracy')\n",
        "plt.plot(gender_hist.history['val_loss'], label='val_loss')\n",
        "plt.legend()\n",
        "plt.title('gender_model')\n",
        "plt.show()"
      ],
      "execution_count": 37,
      "outputs": [
        {
          "output_type": "display_data",
          "data": {
            "text/plain": [
              "<Figure size 432x288 with 1 Axes>"
            ],
            "image/png": "[encoded data removed]"
          },
          "metadata": {
            "needs_background": "light"
          }
        }
      ]
    },
    {
      "cell_type": "code",
      "source": [
        "plt.plot(smile_hist.history['accuracy'], label='accuracy')\n",
        "plt.plot(smile_hist.history['loss'], label='loss')\n",
        "plt.plot(smile_hist.history['val_accuracy'], label='val_accuracy')\n",
        "plt.plot(smile_hist.history['val_loss'], label='val_loss')\n",
        "plt.legend()\n",
        "plt.title('smile_model')\n",
        "plt.show()"
      ],
      "metadata": {
        "colab": {
          "base_uri": "https://localhost:8080/",
          "height": 281
        },
        "id": "32oeS4FdqZE5",
        "outputId": "b03ade11-1a84-443f-f9e7-f11c7316dbf3"
      },
      "execution_count": 38,
      "outputs": [
        {
          "output_type": "display_data",
          "data": {
            "text/plain": [
              "<Figure size 432x288 with 1 Axes>"
            ],
            "image/png": "[encoded data removed]"
          },
          "metadata": {
            "needs_background": "light"
          }
        }
      ]
    },
    {
      "cell_type": "markdown",
      "metadata": {
        "id": "HWwSu6rGiH1k"
      },
      "source": [
        "## Step 5. 결과 확인"
      ]
    },
    {
      "cell_type": "markdown",
      "metadata": {
        "id": "upv45GO-iH1k"
      },
      "source": [
        "### 문제 26. 완성된 모델에서 test_image를 1장 넣고 결과를 res 변수에 저정하세요."
      ]
    },
    {
      "cell_type": "code",
      "metadata": {
        "id": "JpeC60ONiH1l",
        "colab": {
          "base_uri": "https://localhost:8080/"
        },
        "outputId": "dfffa29d-4a66-438f-80af-a73cd6d4b519"
      },
      "source": [
        "# 모델에 test_mages 중 1장을 넣고 결과를 받는 코드를 작성하세요.\n",
        "gender_res = gender_model.predict(x_test[1:2])\n",
        "gender_res.shape"
      ],
      "execution_count": 39,
      "outputs": [
        {
          "output_type": "stream",
          "name": "stdout",
          "text": [
            "1/1 [==============================] - 0s 140ms/step\n"
          ]
        },
        {
          "output_type": "execute_result",
          "data": {
            "text/plain": [
              "(1, 2)"
            ]
          },
          "metadata": {},
          "execution_count": 39
        }
      ]
    },
    {
      "cell_type": "code",
      "source": [
        "smile_res = smile_model.predict(x_test[1:2])\n",
        "smile_res.shape"
      ],
      "metadata": {
        "colab": {
          "base_uri": "https://localhost:8080/"
        },
        "id": "Tgn4k6SMrGxi",
        "outputId": "3e88f8ee-6f72-4746-97af-016859dfb24b"
      },
      "execution_count": 40,
      "outputs": [
        {
          "output_type": "stream",
          "name": "stdout",
          "text": [
            "1/1 [==============================] - 0s 65ms/step\n"
          ]
        },
        {
          "output_type": "execute_result",
          "data": {
            "text/plain": [
              "(1, 2)"
            ]
          },
          "metadata": {},
          "execution_count": 40
        }
      ]
    },
    {
      "cell_type": "markdown",
      "metadata": {
        "id": "j-YjXYk_iH1l"
      },
      "source": [
        "### 문제 27. res와 test_images[1]을 plt로 출력하세요"
      ]
    },
    {
      "cell_type": "code",
      "metadata": {
        "id": "yo8smPFiiH1l",
        "colab": {
          "base_uri": "https://localhost:8080/",
          "height": 268
        },
        "outputId": "5442f37f-9521-46b0-d4c7-daf0e4d6b727"
      },
      "source": [
        "# res와 test_images[1]을 print와 plt로 출력하는 코드를 작성하세요.\n",
        "plt.imshow(x_test[1])\n",
        "plt.show()"
      ],
      "execution_count": 41,
      "outputs": [
        {
          "output_type": "display_data",
          "data": {
            "text/plain": [
              "<Figure size 432x288 with 1 Axes>"
            ],
            "image/png": "[encoded data removed]"
          },
          "metadata": {
            "needs_background": "light"
          }
        }
      ]
    },
    {
      "cell_type": "code",
      "source": [
        "print(gender_res)\n",
        "print(smile_res)"
      ],
      "metadata": {
        "colab": {
          "base_uri": "https://localhost:8080/"
        },
        "id": "8CI35S4yrb4e",
        "outputId": "a0d350a8-e8cc-4d7a-efd2-123def81a9c1"
      },
      "execution_count": 42,
      "outputs": [
        {
          "output_type": "stream",
          "name": "stdout",
          "text": [
            "[[9.9979478e-01 2.0518524e-04]]\n",
            "[[0.9451152  0.05488487]]\n"
          ]
        }
      ]
    },
    {
      "cell_type": "code",
      "source": [
        "plt.bar(range(2), gender_res[0])\n",
        "plt.bar(np.array(range(2))+0.05, y_test_male[1])\n",
        "plt.show()"
      ],
      "metadata": {
        "colab": {
          "base_uri": "https://localhost:8080/",
          "height": 265
        },
        "id": "t60px4AlrsI_",
        "outputId": "3683d582-ef71-4239-acbf-a8387112df20"
      },
      "execution_count": 43,
      "outputs": [
        {
          "output_type": "display_data",
          "data": {
            "text/plain": [
              "<Figure size 432x288 with 1 Axes>"
            ],
            "image/png": "[encoded data removed]"
          },
          "metadata": {
            "needs_background": "light"
          }
        }
      ]
    },
    {
      "cell_type": "code",
      "source": [
        "plt.bar(range(2), smile_res[0])\n",
        "plt.bar(np.array(range(2))+0.05, y_test_smile[1])\n",
        "plt.show()"
      ],
      "metadata": {
        "colab": {
          "base_uri": "https://localhost:8080/",
          "height": 265
        },
        "id": "zdi5BN7KsW53",
        "outputId": "137c6430-c005-4cda-997f-e038cab1911f"
      },
      "execution_count": 44,
      "outputs": [
        {
          "output_type": "display_data",
          "data": {
            "text/plain": [
              "<Figure size 432x288 with 1 Axes>"
            ],
            "image/png": "[encoded data removed]"
          },
          "metadata": {
            "needs_background": "light"
          }
        }
      ]
    },
    {
      "cell_type": "markdown",
      "metadata": {
        "id": "eNkdDgr0zfX1"
      },
      "source": [
        "## Step 6. 멀티 아웃풋 모델링"
      ]
    },
    {
      "cell_type": "markdown",
      "metadata": {
        "id": "QG159d2rzfX1"
      },
      "source": [
        "### 문제 28. 해당 학습셋을 처리하는 이미지 classification 모델을 작성하세요. (단 label을 2개 동시에 처리)"
      ]
    },
    {
      "cell_type": "code",
      "metadata": {
        "id": "9wZKFa_QzfX1"
      },
      "source": [
        "# input (배치, 72, 59, 3), output (배치, 2)을 처리할 수 있는 모양의 모델을 작성하세요.\n",
        "from tensorflow.keras.layers import Input, Conv2D, MaxPool2D, Flatten, Dense\n",
        "from tensorflow.keras.models import Model\n",
        "\n",
        "def multi_model():\n",
        "  inputs = Input(shape=(72,59,3))\n",
        "\n",
        "  l1 = Conv2D(32, 3, activation='relu')(inputs)\n",
        "  l2 = MaxPool2D(2)(l1)\n",
        "  l3 = Conv2D(64, 3, activation='relu')(l2)\n",
        "  l4 = MaxPool2D(2)(l3)\n",
        "  l5 = Conv2D(64, 3, activation='relu')(l4)\n",
        "  l6 = MaxPool2D(2)(l5)\n",
        "\n",
        "  l7 = Flatten()(l6)\n",
        "  latent_vector = Dense(64, activation='relu')(l7)\n",
        "\n",
        "  gender_outputs = Dense(2, activation='softmax')(latent_vector)\n",
        "  smile_outputs = Dense(2, activation='softmax')(latent_vector)\n",
        "\n",
        "  model = Model(inputs, [gender_outputs, smile_outputs])\n",
        "  return model"
      ],
      "execution_count": 45,
      "outputs": []
    },
    {
      "cell_type": "markdown",
      "metadata": {
        "id": "-caAUep7zfX2"
      },
      "source": [
        "### 문제 29. 모델을 할당 받고 서머리를 출력해보세요."
      ]
    },
    {
      "cell_type": "code",
      "metadata": {
        "id": "guruR7iezfX2",
        "colab": {
          "base_uri": "https://localhost:8080/"
        },
        "outputId": "429470b7-fa6e-46bc-ea30-4cd20c56aa9a"
      },
      "source": [
        "# multi_model() 모델을 할당 받고 서머리를 출력하는 코드를 작성하세요.\n",
        "m_model = multi_model()\n",
        "m_model.summary()"
      ],
      "execution_count": 46,
      "outputs": [
        {
          "output_type": "stream",
          "name": "stdout",
          "text": [
            "Model: \"model_2\"\n",
            "__________________________________________________________________________________________________\n",
            " Layer (type)                   Output Shape         Param #     Connected to                     \n",
            "==================================================================================================\n",
            " input_3 (InputLayer)           [(None, 72, 59, 3)]  0           []                               \n",
            "                                                                                                  \n",
            " conv2d_6 (Conv2D)              (None, 70, 57, 32)   896         ['input_3[0][0]']                \n",
            "                                                                                                  \n",
            " max_pooling2d_6 (MaxPooling2D)  (None, 35, 28, 32)  0           ['conv2d_6[0][0]']               \n",
            "                                                                                                  \n",
            " conv2d_7 (Conv2D)              (None, 33, 26, 64)   18496       ['max_pooling2d_6[0][0]']        \n",
            "                                                                                                  \n",
            " max_pooling2d_7 (MaxPooling2D)  (None, 16, 13, 64)  0           ['conv2d_7[0][0]']               \n",
            "                                                                                                  \n",
            " conv2d_8 (Conv2D)              (None, 14, 11, 64)   36928       ['max_pooling2d_7[0][0]']        \n",
            "                                                                                                  \n",
            " max_pooling2d_8 (MaxPooling2D)  (None, 7, 5, 64)    0           ['conv2d_8[0][0]']               \n",
            "                                                                                                  \n",
            " flatten_2 (Flatten)            (None, 2240)         0           ['max_pooling2d_8[0][0]']        \n",
            "                                                                                                  \n",
            " dense_4 (Dense)                (None, 64)           143424      ['flatten_2[0][0]']              \n",
            "                                                                                                  \n",
            " dense_5 (Dense)                (None, 2)            130         ['dense_4[0][0]']                \n",
            "                                                                                                  \n",
            " dense_6 (Dense)                (None, 2)            130         ['dense_4[0][0]']                \n",
            "                                                                                                  \n",
            "==================================================================================================\n",
            "Total params: 200,004\n",
            "Trainable params: 200,004\n",
            "Non-trainable params: 0\n",
            "__________________________________________________________________________________________________\n"
          ]
        }
      ]
    },
    {
      "cell_type": "markdown",
      "metadata": {
        "id": "lp8dbD_FzfX2"
      },
      "source": [
        "### 문제 30. 만든 모델에 로스와 옵티마이저, 메트릭을 설정하세요."
      ]
    },
    {
      "cell_type": "code",
      "metadata": {
        "id": "jXJEdlQ6zfX2"
      },
      "source": [
        "# 만든 모델에 loss는 categorical_crossentropy, optimizer는 adam 매트릭은 accuracy으로 설정하는 코드를 작성하세요.\n",
        "m_model.compile(loss='categorical_crossentropy', optimizer='adam', metrics=['accuracy'])"
      ],
      "execution_count": 47,
      "outputs": []
    },
    {
      "cell_type": "markdown",
      "metadata": {
        "id": "_C6Nk21yzfX3"
      },
      "source": [
        "### 문제 31. 만든 모델에 train_images를 학습시켜 보세요."
      ]
    },
    {
      "cell_type": "code",
      "metadata": {
        "id": "kv4tEjc9zfX3",
        "colab": {
          "base_uri": "https://localhost:8080/"
        },
        "outputId": "1b346741-8c58-49e0-d3e3-8f4ab4928537"
      },
      "source": [
        "# train_images 학습시키고 15 epochs을 돌리고 그 진행 사항을 hist에 저장하는 코드를 작성하세요.\n",
        "model_hist = m_model.fit(x_train, [y_train_male, y_train_smile], validation_data=(x_test, [y_test_male, y_test_smile]), epochs=15, verbose=1)"
      ],
      "execution_count": 48,
      "outputs": [
        {
          "output_type": "stream",
          "name": "stdout",
          "text": [
            "Epoch 1/15\n",
            "63/63 [==============================] - 1s 13ms/step - loss: 1.3389 - dense_5_loss: 0.6490 - dense_6_loss: 0.6898 - dense_5_accuracy: 0.6195 - dense_6_accuracy: 0.5490 - val_loss: 1.2467 - val_dense_5_loss: 0.5826 - val_dense_6_loss: 0.6641 - val_dense_5_accuracy: 0.7100 - val_dense_6_accuracy: 0.6000\n",
            "Epoch 2/15\n",
            "63/63 [==============================] - 1s 8ms/step - loss: 1.1657 - dense_5_loss: 0.5199 - dense_6_loss: 0.6458 - dense_5_accuracy: 0.7570 - dense_6_accuracy: 0.6285 - val_loss: 1.1669 - val_dense_5_loss: 0.5453 - val_dense_6_loss: 0.6216 - val_dense_5_accuracy: 0.7750 - val_dense_6_accuracy: 0.6250\n",
            "Epoch 3/15\n",
            "63/63 [==============================] - 0s 8ms/step - loss: 1.0410 - dense_5_loss: 0.4548 - dense_6_loss: 0.5861 - dense_5_accuracy: 0.7905 - dense_6_accuracy: 0.6915 - val_loss: 1.0299 - val_dense_5_loss: 0.5194 - val_dense_6_loss: 0.5104 - val_dense_5_accuracy: 0.8250 - val_dense_6_accuracy: 0.7650\n",
            "Epoch 4/15\n",
            "63/63 [==============================] - 0s 8ms/step - loss: 0.8355 - dense_5_loss: 0.3679 - dense_6_loss: 0.4676 - dense_5_accuracy: 0.8355 - dense_6_accuracy: 0.7880 - val_loss: 0.7582 - val_dense_5_loss: 0.3575 - val_dense_6_loss: 0.4008 - val_dense_5_accuracy: 0.8700 - val_dense_6_accuracy: 0.8400\n",
            "Epoch 5/15\n",
            "63/63 [==============================] - 0s 7ms/step - loss: 0.6671 - dense_5_loss: 0.2818 - dense_6_loss: 0.3853 - dense_5_accuracy: 0.8895 - dense_6_accuracy: 0.8255 - val_loss: 0.6910 - val_dense_5_loss: 0.3567 - val_dense_6_loss: 0.3342 - val_dense_5_accuracy: 0.8650 - val_dense_6_accuracy: 0.8650\n",
            "Epoch 6/15\n",
            "63/63 [==============================] - 0s 8ms/step - loss: 0.5404 - dense_5_loss: 0.2323 - dense_6_loss: 0.3081 - dense_5_accuracy: 0.9120 - dense_6_accuracy: 0.8690 - val_loss: 0.6438 - val_dense_5_loss: 0.3411 - val_dense_6_loss: 0.3027 - val_dense_5_accuracy: 0.8950 - val_dense_6_accuracy: 0.8900\n",
            "Epoch 7/15\n",
            "63/63 [==============================] - 1s 8ms/step - loss: 0.4470 - dense_5_loss: 0.1797 - dense_6_loss: 0.2673 - dense_5_accuracy: 0.9320 - dense_6_accuracy: 0.8900 - val_loss: 0.6031 - val_dense_5_loss: 0.3100 - val_dense_6_loss: 0.2931 - val_dense_5_accuracy: 0.8850 - val_dense_6_accuracy: 0.8650\n",
            "Epoch 8/15\n",
            "63/63 [==============================] - 1s 8ms/step - loss: 0.3890 - dense_5_loss: 0.1505 - dense_6_loss: 0.2385 - dense_5_accuracy: 0.9395 - dense_6_accuracy: 0.8990 - val_loss: 0.5254 - val_dense_5_loss: 0.2721 - val_dense_6_loss: 0.2532 - val_dense_5_accuracy: 0.8950 - val_dense_6_accuracy: 0.9000\n",
            "Epoch 9/15\n",
            "63/63 [==============================] - 0s 8ms/step - loss: 0.3131 - dense_5_loss: 0.1139 - dense_6_loss: 0.1992 - dense_5_accuracy: 0.9585 - dense_6_accuracy: 0.9205 - val_loss: 0.5588 - val_dense_5_loss: 0.2939 - val_dense_6_loss: 0.2649 - val_dense_5_accuracy: 0.8950 - val_dense_6_accuracy: 0.8900\n",
            "Epoch 10/15\n",
            "63/63 [==============================] - 0s 8ms/step - loss: 0.2973 - dense_5_loss: 0.0975 - dense_6_loss: 0.1998 - dense_5_accuracy: 0.9600 - dense_6_accuracy: 0.9205 - val_loss: 0.6922 - val_dense_5_loss: 0.3000 - val_dense_6_loss: 0.3922 - val_dense_5_accuracy: 0.8900 - val_dense_6_accuracy: 0.8550\n",
            "Epoch 11/15\n",
            "63/63 [==============================] - 0s 8ms/step - loss: 0.2681 - dense_5_loss: 0.0804 - dense_6_loss: 0.1877 - dense_5_accuracy: 0.9740 - dense_6_accuracy: 0.9175 - val_loss: 0.5066 - val_dense_5_loss: 0.2930 - val_dense_6_loss: 0.2136 - val_dense_5_accuracy: 0.8850 - val_dense_6_accuracy: 0.9150\n",
            "Epoch 12/15\n",
            "63/63 [==============================] - 0s 8ms/step - loss: 0.2287 - dense_5_loss: 0.0650 - dense_6_loss: 0.1637 - dense_5_accuracy: 0.9785 - dense_6_accuracy: 0.9315 - val_loss: 0.5716 - val_dense_5_loss: 0.3439 - val_dense_6_loss: 0.2277 - val_dense_5_accuracy: 0.9050 - val_dense_6_accuracy: 0.9100\n",
            "Epoch 13/15\n",
            "63/63 [==============================] - 0s 8ms/step - loss: 0.1673 - dense_5_loss: 0.0568 - dense_6_loss: 0.1105 - dense_5_accuracy: 0.9810 - dense_6_accuracy: 0.9580 - val_loss: 0.5807 - val_dense_5_loss: 0.3367 - val_dense_6_loss: 0.2439 - val_dense_5_accuracy: 0.9000 - val_dense_6_accuracy: 0.9150\n",
            "Epoch 14/15\n",
            "63/63 [==============================] - 0s 8ms/step - loss: 0.1280 - dense_5_loss: 0.0416 - dense_6_loss: 0.0864 - dense_5_accuracy: 0.9880 - dense_6_accuracy: 0.9740 - val_loss: 0.6204 - val_dense_5_loss: 0.3606 - val_dense_6_loss: 0.2599 - val_dense_5_accuracy: 0.9000 - val_dense_6_accuracy: 0.9050\n",
            "Epoch 15/15\n",
            "63/63 [==============================] - 1s 8ms/step - loss: 0.1069 - dense_5_loss: 0.0281 - dense_6_loss: 0.0789 - dense_5_accuracy: 0.9900 - dense_6_accuracy: 0.9710 - val_loss: 0.6205 - val_dense_5_loss: 0.3623 - val_dense_6_loss: 0.2582 - val_dense_5_accuracy: 0.9100 - val_dense_6_accuracy: 0.9150\n"
          ]
        }
      ]
    },
    {
      "cell_type": "markdown",
      "metadata": {
        "id": "-gtWPhyAzfX3"
      },
      "source": [
        "### 문제 32. 학습 진행 사항을 plt으로 출력하세요."
      ]
    },
    {
      "cell_type": "code",
      "source": [
        "model_hist.history"
      ],
      "metadata": {
        "id": "etIffrIWyEBq",
        "outputId": "0717e853-4b9b-4940-8a0e-aaa44aa0e132",
        "colab": {
          "base_uri": "https://localhost:8080/"
        }
      },
      "execution_count": 56,
      "outputs": [
        {
          "output_type": "execute_result",
          "data": {
            "text/plain": [
              "{'loss': [1.3388919830322266,\n",
              "  1.1657105684280396,\n",
              "  1.04096257686615,\n",
              "  0.8354525566101074,\n",
              "  0.6671181321144104,\n",
              "  0.5404404401779175,\n",
              "  0.4469849765300751,\n",
              "  0.38901597261428833,\n",
              "  0.31308284401893616,\n",
              "  0.29728275537490845,\n",
              "  0.2681069076061249,\n",
              "  0.22868211567401886,\n",
              "  0.167301207780838,\n",
              "  0.12804575264453888,\n",
              "  0.10694748163223267],\n",
              " 'dense_5_loss': [0.6490432024002075,\n",
              "  0.5198765397071838,\n",
              "  0.45482200384140015,\n",
              "  0.36789485812187195,\n",
              "  0.2817879021167755,\n",
              "  0.23229409754276276,\n",
              "  0.17967364192008972,\n",
              "  0.15052831172943115,\n",
              "  0.1138635128736496,\n",
              "  0.09751763939857483,\n",
              "  0.0803777277469635,\n",
              "  0.064995676279068,\n",
              "  0.056774962693452835,\n",
              "  0.04160873591899872,\n",
              "  0.028075216338038445],\n",
              " 'dense_6_loss': [0.6898484826087952,\n",
              "  0.64583420753479,\n",
              "  0.5861406326293945,\n",
              "  0.4675576984882355,\n",
              "  0.3853302001953125,\n",
              "  0.30814650654792786,\n",
              "  0.2673113942146301,\n",
              "  0.2384876310825348,\n",
              "  0.19921939074993134,\n",
              "  0.19976510107517242,\n",
              "  0.18772920966148376,\n",
              "  0.16368645429611206,\n",
              "  0.11052623391151428,\n",
              "  0.08643700927495956,\n",
              "  0.07887228578329086],\n",
              " 'dense_5_accuracy': [0.6194999814033508,\n",
              "  0.7570000290870667,\n",
              "  0.7904999852180481,\n",
              "  0.8355000019073486,\n",
              "  0.8895000219345093,\n",
              "  0.9120000004768372,\n",
              "  0.9319999814033508,\n",
              "  0.9394999742507935,\n",
              "  0.9585000276565552,\n",
              "  0.9599999785423279,\n",
              "  0.9739999771118164,\n",
              "  0.9785000085830688,\n",
              "  0.9810000061988831,\n",
              "  0.9879999756813049,\n",
              "  0.9900000095367432],\n",
              " 'dense_6_accuracy': [0.5490000247955322,\n",
              "  0.6284999847412109,\n",
              "  0.6915000081062317,\n",
              "  0.7879999876022339,\n",
              "  0.8255000114440918,\n",
              "  0.8690000176429749,\n",
              "  0.8899999856948853,\n",
              "  0.8989999890327454,\n",
              "  0.9204999804496765,\n",
              "  0.9204999804496765,\n",
              "  0.9175000190734863,\n",
              "  0.9315000176429749,\n",
              "  0.9580000042915344,\n",
              "  0.9739999771118164,\n",
              "  0.9710000157356262],\n",
              " 'val_loss': [1.2466830015182495,\n",
              "  1.1668877601623535,\n",
              "  1.0298510789871216,\n",
              "  0.7582435011863708,\n",
              "  0.6909635663032532,\n",
              "  0.6438126564025879,\n",
              "  0.6030973196029663,\n",
              "  0.5253644585609436,\n",
              "  0.5587649941444397,\n",
              "  0.6921616196632385,\n",
              "  0.5066109895706177,\n",
              "  0.5715826153755188,\n",
              "  0.5806879997253418,\n",
              "  0.6204370856285095,\n",
              "  0.6204949617385864],\n",
              " 'val_dense_5_loss': [0.5825837254524231,\n",
              "  0.5452979803085327,\n",
              "  0.5194408297538757,\n",
              "  0.3574857711791992,\n",
              "  0.35673609375953674,\n",
              "  0.3410716950893402,\n",
              "  0.3099696636199951,\n",
              "  0.27211594581604004,\n",
              "  0.2938663959503174,\n",
              "  0.2999805510044098,\n",
              "  0.2929891049861908,\n",
              "  0.3438541889190674,\n",
              "  0.336744487285614,\n",
              "  0.3605843782424927,\n",
              "  0.36233675479888916],\n",
              " 'val_dense_6_loss': [0.6640992164611816,\n",
              "  0.6215898990631104,\n",
              "  0.5104101300239563,\n",
              "  0.40075767040252686,\n",
              "  0.3342275321483612,\n",
              "  0.3027409613132477,\n",
              "  0.2931276261806488,\n",
              "  0.2532484829425812,\n",
              "  0.2648985683917999,\n",
              "  0.39218100905418396,\n",
              "  0.21362191438674927,\n",
              "  0.22772842645645142,\n",
              "  0.2439434826374054,\n",
              "  0.25985273718833923,\n",
              "  0.2581581771373749],\n",
              " 'val_dense_5_accuracy': [0.7099999785423279,\n",
              "  0.7749999761581421,\n",
              "  0.824999988079071,\n",
              "  0.8700000047683716,\n",
              "  0.8650000095367432,\n",
              "  0.8949999809265137,\n",
              "  0.8849999904632568,\n",
              "  0.8949999809265137,\n",
              "  0.8949999809265137,\n",
              "  0.8899999856948853,\n",
              "  0.8849999904632568,\n",
              "  0.9049999713897705,\n",
              "  0.8999999761581421,\n",
              "  0.8999999761581421,\n",
              "  0.9100000262260437],\n",
              " 'val_dense_6_accuracy': [0.6000000238418579,\n",
              "  0.625,\n",
              "  0.7649999856948853,\n",
              "  0.8399999737739563,\n",
              "  0.8650000095367432,\n",
              "  0.8899999856948853,\n",
              "  0.8650000095367432,\n",
              "  0.8999999761581421,\n",
              "  0.8899999856948853,\n",
              "  0.8550000190734863,\n",
              "  0.9150000214576721,\n",
              "  0.9100000262260437,\n",
              "  0.9150000214576721,\n",
              "  0.9049999713897705,\n",
              "  0.9150000214576721]}"
            ]
          },
          "metadata": {},
          "execution_count": 56
        }
      ]
    },
    {
      "cell_type": "code",
      "metadata": {
        "id": "63QWAg0lzfX3",
        "colab": {
          "base_uri": "https://localhost:8080/",
          "height": 513
        },
        "outputId": "4860460b-184a-4180-fada-840150b6ac1a"
      },
      "source": [
        "# hist의 accuracy plt의 plot을 이용하여 출력하는 코드를 작성하세요.\n",
        "plt.plot(model_hist.history['dense_5_accuracy'], label='gender_accuracy')\n",
        "plt.plot(model_hist.history['dense_5_loss'], label='gender_loss')\n",
        "plt.plot(model_hist.history['dense_6_accuracy'], label='smile_accuracy')\n",
        "plt.plot(model_hist.history['dense_6_loss'], label='smile_loss')\n",
        "plt.legend()\n",
        "plt.show()\n",
        "\n",
        "plt.plot(model_hist.history['val_dense_5_accuracy'], label='val_gender_accuracy')\n",
        "plt.plot(model_hist.history['val_dense_5_loss'], label='val_gender_loss')\n",
        "plt.plot(model_hist.history['val_dense_6_accuracy'], label='val_smile_accuracy')\n",
        "plt.plot(model_hist.history['val_dense_6_loss'], label='val_smile_loss')\n",
        "plt.legend()\n",
        "plt.show()"
      ],
      "execution_count": 58,
      "outputs": [
        {
          "output_type": "display_data",
          "data": {
            "text/plain": [
              "<Figure size 432x288 with 1 Axes>"
            ],
            "image/png": "[encoded data removed]"
          },
          "metadata": {
            "needs_background": "light"
          }
        },
        {
          "output_type": "display_data",
          "data": {
            "text/plain": [
              "<Figure size 432x288 with 1 Axes>"
            ],
            "image/png": "[encoded data removed]"
          },
          "metadata": {
            "needs_background": "light"
          }
        }
      ]
    },
    {
      "cell_type": "markdown",
      "metadata": {
        "id": "xQOMfXQOzfX4"
      },
      "source": [
        "## Step 7. 결과 확인"
      ]
    },
    {
      "cell_type": "markdown",
      "metadata": {
        "id": "yWMu-OUGzfX4"
      },
      "source": [
        "### 문제 33. 완성된 모델에서 test_image를 1장 넣고 결과를 res 변수에 저정하세요."
      ]
    },
    {
      "cell_type": "code",
      "source": [
        "y_test[1]"
      ],
      "metadata": {
        "id": "P7891fN4zcIU",
        "outputId": "c2209774-4973-4964-e0ca-968c1d29f96d",
        "colab": {
          "base_uri": "https://localhost:8080/"
        }
      },
      "execution_count": 62,
      "outputs": [
        {
          "output_type": "execute_result",
          "data": {
            "text/plain": [
              "array([0, 0], dtype=int8)"
            ]
          },
          "metadata": {},
          "execution_count": 62
        }
      ]
    },
    {
      "cell_type": "code",
      "metadata": {
        "id": "nvBz3eCEzfX4",
        "colab": {
          "base_uri": "https://localhost:8080/"
        },
        "outputId": "b74ab547-466a-4a18-9625-3fbed8561202"
      },
      "source": [
        "# 모델에 test_mages 중 1장을 넣고 결과를 받는 코드를 작성하세요.\n",
        "res = m_model.predict(x_test[1:2])"
      ],
      "execution_count": 63,
      "outputs": [
        {
          "output_type": "stream",
          "name": "stdout",
          "text": [
            "1/1 [==============================] - 0s 17ms/step\n"
          ]
        }
      ]
    },
    {
      "cell_type": "markdown",
      "metadata": {
        "id": "I5UrN6nizfX4"
      },
      "source": [
        "### 문제 34. res와 test_images[1]을 plt로 출력하세요"
      ]
    },
    {
      "cell_type": "code",
      "metadata": {
        "id": "zvcDEcvJzfX5",
        "colab": {
          "base_uri": "https://localhost:8080/",
          "height": 268
        },
        "outputId": "825e79c8-72dd-407f-8ed7-08bd40e9afd8"
      },
      "source": [
        "# res와 test_images[1]을 print와 plt로 출력하는 코드를 작성하세요.\n",
        "plt.imshow(x_test[1])\n",
        "plt.show()"
      ],
      "execution_count": 65,
      "outputs": [
        {
          "output_type": "display_data",
          "data": {
            "text/plain": [
              "<Figure size 432x288 with 1 Axes>"
            ],
            "image/png": "[encoded data removed]"
          },
          "metadata": {
            "needs_background": "light"
          }
        }
      ]
    },
    {
      "cell_type": "code",
      "source": [
        "plt.bar(range(2), res[0][0], label='predict')\n",
        "plt.bar(np.array(range(2))+0.1, y_test_male[1], label='real')\n",
        "plt.legend()\n",
        "plt.show()\n",
        "print(res[0])"
      ],
      "metadata": {
        "id": "bOz2POAE0ILO",
        "outputId": "ef466876-3d72-483c-ec50-a79f0b38e969",
        "colab": {
          "base_uri": "https://localhost:8080/",
          "height": 283
        }
      },
      "execution_count": 78,
      "outputs": [
        {
          "output_type": "display_data",
          "data": {
            "text/plain": [
              "<Figure size 432x288 with 1 Axes>"
            ],
            "image/png": "[encoded data removed]"
          },
          "metadata": {
            "needs_background": "light"
          }
        },
        {
          "output_type": "stream",
          "name": "stdout",
          "text": [
            "[[9.9997580e-01 2.4216868e-05]]\n"
          ]
        }
      ]
    },
    {
      "cell_type": "code",
      "source": [
        "plt.bar(range(2), res[1][0], label='predict')\n",
        "plt.bar(np.array(range(2))+0.1, y_test_smile[1], label='real')\n",
        "plt.legend()\n",
        "plt.show()\n",
        "print(res[0])"
      ],
      "metadata": {
        "id": "A32_uG8s0kJ6",
        "outputId": "3ead8417-4935-4d52-dd19-8b1c677ed1b2",
        "colab": {
          "base_uri": "https://localhost:8080/",
          "height": 283
        }
      },
      "execution_count": 75,
      "outputs": [
        {
          "output_type": "display_data",
          "data": {
            "text/plain": [
              "<Figure size 432x288 with 1 Axes>"
            ],
            "image/png": "[encoded data removed]"
          },
          "metadata": {
            "needs_background": "light"
          }
        },
        {
          "output_type": "stream",
          "name": "stdout",
          "text": [
            "[[9.9997580e-01 2.4216868e-05]]\n"
          ]
        }
      ]
    },
    {
      "cell_type": "markdown",
      "metadata": {
        "id": "UiIBTxMizfX5"
      },
      "source": [
        "## Step 8. 모델 분리"
      ]
    },
    {
      "cell_type": "markdown",
      "metadata": {
        "id": "AXCh44v4zfX5"
      },
      "source": [
        "###문제 35. model의 뒷단을 수정하여 성별 모델을 분리해보세요."
      ]
    },
    {
      "cell_type": "code",
      "metadata": {
        "id": "uTZWyAQKzfX5",
        "colab": {
          "base_uri": "https://localhost:8080/"
        },
        "outputId": "59964867-6ccf-4058-889b-4809aa59509d"
      },
      "source": [
        "# model의 뒷단을 수정하여 성별 모델을 분리하고 모델 정보를 확인하는 코드를 작성하세요.\n",
        "m_model.summary()"
      ],
      "execution_count": 95,
      "outputs": [
        {
          "output_type": "stream",
          "name": "stdout",
          "text": [
            "Model: \"model_2\"\n",
            "__________________________________________________________________________________________________\n",
            " Layer (type)                   Output Shape         Param #     Connected to                     \n",
            "==================================================================================================\n",
            " input_3 (InputLayer)           [(None, 72, 59, 3)]  0           []                               \n",
            "                                                                                                  \n",
            " conv2d_6 (Conv2D)              (None, 70, 57, 32)   896         ['input_3[0][0]']                \n",
            "                                                                                                  \n",
            " max_pooling2d_6 (MaxPooling2D)  (None, 35, 28, 32)  0           ['conv2d_6[0][0]']               \n",
            "                                                                                                  \n",
            " conv2d_7 (Conv2D)              (None, 33, 26, 64)   18496       ['max_pooling2d_6[0][0]']        \n",
            "                                                                                                  \n",
            " max_pooling2d_7 (MaxPooling2D)  (None, 16, 13, 64)  0           ['conv2d_7[0][0]']               \n",
            "                                                                                                  \n",
            " conv2d_8 (Conv2D)              (None, 14, 11, 64)   36928       ['max_pooling2d_7[0][0]']        \n",
            "                                                                                                  \n",
            " max_pooling2d_8 (MaxPooling2D)  (None, 7, 5, 64)    0           ['conv2d_8[0][0]']               \n",
            "                                                                                                  \n",
            " flatten_2 (Flatten)            (None, 2240)         0           ['max_pooling2d_8[0][0]']        \n",
            "                                                                                                  \n",
            " dense_4 (Dense)                (None, 64)           143424      ['flatten_2[0][0]']              \n",
            "                                                                                                  \n",
            " dense_5 (Dense)                (None, 2)            130         ['dense_4[0][0]']                \n",
            "                                                                                                  \n",
            " dense_6 (Dense)                (None, 2)            130         ['dense_4[0][0]']                \n",
            "                                                                                                  \n",
            "==================================================================================================\n",
            "Total params: 200,004\n",
            "Trainable params: 200,004\n",
            "Non-trainable params: 0\n",
            "__________________________________________________________________________________________________\n"
          ]
        }
      ]
    },
    {
      "cell_type": "code",
      "source": [
        "gender_m_model = Model(inputs=m_model.input, outputs=m_model.get_layer('dense_5').output)\n",
        "gender_m_model.summary()"
      ],
      "metadata": {
        "id": "9xSlxh2w3qLQ",
        "outputId": "da0b5ae5-729a-4f8e-9342-55db7e1c4def",
        "colab": {
          "base_uri": "https://localhost:8080/"
        }
      },
      "execution_count": 96,
      "outputs": [
        {
          "output_type": "stream",
          "name": "stdout",
          "text": [
            "Model: \"model_7\"\n",
            "_________________________________________________________________\n",
            " Layer (type)                Output Shape              Param #   \n",
            "=================================================================\n",
            " input_3 (InputLayer)        [(None, 72, 59, 3)]       0         \n",
            "                                                                 \n",
            " conv2d_6 (Conv2D)           (None, 70, 57, 32)        896       \n",
            "                                                                 \n",
            " max_pooling2d_6 (MaxPooling  (None, 35, 28, 32)       0         \n",
            " 2D)                                                             \n",
            "                                                                 \n",
            " conv2d_7 (Conv2D)           (None, 33, 26, 64)        18496     \n",
            "                                                                 \n",
            " max_pooling2d_7 (MaxPooling  (None, 16, 13, 64)       0         \n",
            " 2D)                                                             \n",
            "                                                                 \n",
            " conv2d_8 (Conv2D)           (None, 14, 11, 64)        36928     \n",
            "                                                                 \n",
            " max_pooling2d_8 (MaxPooling  (None, 7, 5, 64)         0         \n",
            " 2D)                                                             \n",
            "                                                                 \n",
            " flatten_2 (Flatten)         (None, 2240)              0         \n",
            "                                                                 \n",
            " dense_4 (Dense)             (None, 64)                143424    \n",
            "                                                                 \n",
            " dense_5 (Dense)             (None, 2)                 130       \n",
            "                                                                 \n",
            "=================================================================\n",
            "Total params: 199,874\n",
            "Trainable params: 199,874\n",
            "Non-trainable params: 0\n",
            "_________________________________________________________________\n"
          ]
        }
      ]
    },
    {
      "cell_type": "markdown",
      "metadata": {
        "id": "agZArRLlzfX6"
      },
      "source": [
        "### 문제 36. 뒷단을 수정하여 smile 모델을 분리해보세요."
      ]
    },
    {
      "cell_type": "code",
      "metadata": {
        "id": "teSP_OdezfX7",
        "colab": {
          "base_uri": "https://localhost:8080/"
        },
        "outputId": "38e54b0e-eba0-42d4-8644-83c1b3839593"
      },
      "source": [
        "# model의 뒷단을 수정하여 smile 모델을 분리하고 정보를 확인하는 코드를 작성하세요.\n",
        "smile_m_model = Model(inputs=m_model.input, outputs=m_model.get_layer('dense_6').output)\n",
        "smile_m_model.summary()"
      ],
      "execution_count": 97,
      "outputs": [
        {
          "output_type": "stream",
          "name": "stdout",
          "text": [
            "Model: \"model_8\"\n",
            "_________________________________________________________________\n",
            " Layer (type)                Output Shape              Param #   \n",
            "=================================================================\n",
            " input_3 (InputLayer)        [(None, 72, 59, 3)]       0         \n",
            "                                                                 \n",
            " conv2d_6 (Conv2D)           (None, 70, 57, 32)        896       \n",
            "                                                                 \n",
            " max_pooling2d_6 (MaxPooling  (None, 35, 28, 32)       0         \n",
            " 2D)                                                             \n",
            "                                                                 \n",
            " conv2d_7 (Conv2D)           (None, 33, 26, 64)        18496     \n",
            "                                                                 \n",
            " max_pooling2d_7 (MaxPooling  (None, 16, 13, 64)       0         \n",
            " 2D)                                                             \n",
            "                                                                 \n",
            " conv2d_8 (Conv2D)           (None, 14, 11, 64)        36928     \n",
            "                                                                 \n",
            " max_pooling2d_8 (MaxPooling  (None, 7, 5, 64)         0         \n",
            " 2D)                                                             \n",
            "                                                                 \n",
            " flatten_2 (Flatten)         (None, 2240)              0         \n",
            "                                                                 \n",
            " dense_4 (Dense)             (None, 64)                143424    \n",
            "                                                                 \n",
            " dense_6 (Dense)             (None, 2)                 130       \n",
            "                                                                 \n",
            "=================================================================\n",
            "Total params: 199,874\n",
            "Trainable params: 199,874\n",
            "Non-trainable params: 0\n",
            "_________________________________________________________________\n"
          ]
        }
      ]
    },
    {
      "cell_type": "code",
      "source": [
        "gender_m_model.get_weights()[0][0][0][0]"
      ],
      "metadata": {
        "id": "AgEdHAYO4mz8",
        "outputId": "bf87ea32-a503-4126-d578-c2924d66d2f7",
        "colab": {
          "base_uri": "https://localhost:8080/"
        }
      },
      "execution_count": 98,
      "outputs": [
        {
          "output_type": "execute_result",
          "data": {
            "text/plain": [
              "array([-0.08731238, -0.19674596,  0.01532971, -0.10174914,  0.06773131,\n",
              "       -0.20768343,  0.11007074, -0.01689152, -0.16678992,  0.11170225,\n",
              "        0.08809528,  0.19116548,  0.07101718, -0.07686356,  0.03204443,\n",
              "        0.06225341,  0.15390806,  0.10745259, -0.07095066, -0.14890331,\n",
              "        0.14532514, -0.09167919, -0.07686558, -0.03139797, -0.02375248,\n",
              "       -0.00444649,  0.10761424, -0.04797298,  0.04002718, -0.00379365,\n",
              "       -0.06122973, -0.06715102], dtype=float32)"
            ]
          },
          "metadata": {},
          "execution_count": 98
        }
      ]
    },
    {
      "cell_type": "code",
      "source": [
        "smile_m_model.get_weights()[0][0][0][0]"
      ],
      "metadata": {
        "id": "M2vZ0mIB4rfF",
        "outputId": "fe344a98-1aba-4382-864d-cf501e4ccfae",
        "colab": {
          "base_uri": "https://localhost:8080/"
        }
      },
      "execution_count": 99,
      "outputs": [
        {
          "output_type": "execute_result",
          "data": {
            "text/plain": [
              "array([-0.08731238, -0.19674596,  0.01532971, -0.10174914,  0.06773131,\n",
              "       -0.20768343,  0.11007074, -0.01689152, -0.16678992,  0.11170225,\n",
              "        0.08809528,  0.19116548,  0.07101718, -0.07686356,  0.03204443,\n",
              "        0.06225341,  0.15390806,  0.10745259, -0.07095066, -0.14890331,\n",
              "        0.14532514, -0.09167919, -0.07686558, -0.03139797, -0.02375248,\n",
              "       -0.00444649,  0.10761424, -0.04797298,  0.04002718, -0.00379365,\n",
              "       -0.06122973, -0.06715102], dtype=float32)"
            ]
          },
          "metadata": {},
          "execution_count": 99
        }
      ]
    },
    {
      "cell_type": "markdown",
      "metadata": {
        "id": "m_bmyR1FzfX6"
      },
      "source": [
        "### 문제 37. 성별모델에서 테스트 데이터 확인"
      ]
    },
    {
      "cell_type": "code",
      "metadata": {
        "id": "AHhv_4NDzfX6",
        "colab": {
          "base_uri": "https://localhost:8080/"
        },
        "outputId": "57c7cf98-f192-412c-83a5-3af68cc6ea98"
      },
      "source": [
        "# 성별모델에서 테스트 데이터 확인\n",
        "gender_m_model.predict(x_test[1:2])"
      ],
      "execution_count": 100,
      "outputs": [
        {
          "output_type": "stream",
          "name": "stderr",
          "text": [
            "WARNING:tensorflow:6 out of the last 9 calls to <function Model.make_predict_function.<locals>.predict_function at 0x7fda02190c10> triggered tf.function retracing. Tracing is expensive and the excessive number of tracings could be due to (1) creating @tf.function repeatedly in a loop, (2) passing tensors with different shapes, (3) passing Python objects instead of tensors. For (1), please define your @tf.function outside of the loop. For (2), @tf.function has reduce_retracing=True option that can avoid unnecessary retracing. For (3), please refer to https://www.tensorflow.org/guide/function#controlling_retracing and https://www.tensorflow.org/api_docs/python/tf/function for  more details.\n"
          ]
        },
        {
          "output_type": "stream",
          "name": "stdout",
          "text": [
            "1/1 [==============================] - 0s 68ms/step\n"
          ]
        },
        {
          "output_type": "execute_result",
          "data": {
            "text/plain": [
              "array([[9.9997580e-01, 2.4216868e-05]], dtype=float32)"
            ]
          },
          "metadata": {},
          "execution_count": 100
        }
      ]
    },
    {
      "cell_type": "markdown",
      "metadata": {
        "id": "JtnyEsMJzfX7"
      },
      "source": [
        "### 문제 38. 스마일 모델에서 테스트 데이터 확인"
      ]
    },
    {
      "cell_type": "code",
      "metadata": {
        "id": "g_n7kPKVzfX7",
        "colab": {
          "base_uri": "https://localhost:8080/"
        },
        "outputId": "915568ae-0a1a-474a-b3e8-b37e4e30494f"
      },
      "source": [
        "# 스마일 모델에서 테스트 데이터 확인\n",
        "smile_m_model.predict(x_test[1:2])"
      ],
      "execution_count": 94,
      "outputs": [
        {
          "output_type": "stream",
          "name": "stdout",
          "text": [
            "1/1 [==============================] - 0s 23ms/step\n"
          ]
        },
        {
          "output_type": "execute_result",
          "data": {
            "text/plain": [
              "array([[0.91815656, 0.08184344]], dtype=float32)"
            ]
          },
          "metadata": {},
          "execution_count": 94
        }
      ]
    },
    {
      "cell_type": "markdown",
      "metadata": {
        "id": "TQqVbazVzfX7"
      },
      "source": [
        "## Step 9. 통합 모델 저장 및 로드, 다운"
      ]
    },
    {
      "cell_type": "markdown",
      "metadata": {
        "id": "o1xMDORMzfX7"
      },
      "source": [
        "### 문제 39. 모델을 저장하세요."
      ]
    },
    {
      "cell_type": "code",
      "metadata": {
        "id": "8SHvKArNzfX8"
      },
      "source": [
        "# 모델을 저장하는 코드를 작성하세요.\n",
        "m_model.save('./multi_model.h5')"
      ],
      "execution_count": 101,
      "outputs": []
    },
    {
      "cell_type": "markdown",
      "metadata": {
        "id": "CaDQG8wwzfX8"
      },
      "source": [
        "### 문제 40. 모델 파일을 새로운 모델에 로드하세요."
      ]
    },
    {
      "cell_type": "code",
      "metadata": {
        "id": "WjgDiXdPzfX8"
      },
      "source": [
        "# 모델을 로드하는 코드를 작성하세요.\n",
        "new_model = tf.keras.models.load_model('./multi_model.h5')"
      ],
      "execution_count": 102,
      "outputs": []
    },
    {
      "cell_type": "code",
      "source": [
        "new_model.summary()"
      ],
      "metadata": {
        "id": "vRU-jobT8ESM",
        "outputId": "97cd3bbe-a108-4d4d-a0c9-468bd43ee6d0",
        "colab": {
          "base_uri": "https://localhost:8080/"
        }
      },
      "execution_count": 106,
      "outputs": [
        {
          "output_type": "stream",
          "name": "stdout",
          "text": [
            "Model: \"model_2\"\n",
            "__________________________________________________________________________________________________\n",
            " Layer (type)                   Output Shape         Param #     Connected to                     \n",
            "==================================================================================================\n",
            " input_3 (InputLayer)           [(None, 72, 59, 3)]  0           []                               \n",
            "                                                                                                  \n",
            " conv2d_6 (Conv2D)              (None, 70, 57, 32)   896         ['input_3[0][0]']                \n",
            "                                                                                                  \n",
            " max_pooling2d_6 (MaxPooling2D)  (None, 35, 28, 32)  0           ['conv2d_6[0][0]']               \n",
            "                                                                                                  \n",
            " conv2d_7 (Conv2D)              (None, 33, 26, 64)   18496       ['max_pooling2d_6[0][0]']        \n",
            "                                                                                                  \n",
            " max_pooling2d_7 (MaxPooling2D)  (None, 16, 13, 64)  0           ['conv2d_7[0][0]']               \n",
            "                                                                                                  \n",
            " conv2d_8 (Conv2D)              (None, 14, 11, 64)   36928       ['max_pooling2d_7[0][0]']        \n",
            "                                                                                                  \n",
            " max_pooling2d_8 (MaxPooling2D)  (None, 7, 5, 64)    0           ['conv2d_8[0][0]']               \n",
            "                                                                                                  \n",
            " flatten_2 (Flatten)            (None, 2240)         0           ['max_pooling2d_8[0][0]']        \n",
            "                                                                                                  \n",
            " dense_4 (Dense)                (None, 64)           143424      ['flatten_2[0][0]']              \n",
            "                                                                                                  \n",
            " dense_5 (Dense)                (None, 2)            130         ['dense_4[0][0]']                \n",
            "                                                                                                  \n",
            " dense_6 (Dense)                (None, 2)            130         ['dense_4[0][0]']                \n",
            "                                                                                                  \n",
            "==================================================================================================\n",
            "Total params: 200,004\n",
            "Trainable params: 200,004\n",
            "Non-trainable params: 0\n",
            "__________________________________________________________________________________________________\n"
          ]
        }
      ]
    },
    {
      "cell_type": "code",
      "metadata": {
        "id": "wBerZi7HzfX8",
        "colab": {
          "base_uri": "https://localhost:8080/"
        },
        "outputId": "cd7e3337-e343-4baf-d524-7a3d04147427"
      },
      "source": [
        "new_model.predict(x_test[1:2])"
      ],
      "execution_count": 105,
      "outputs": [
        {
          "output_type": "stream",
          "name": "stdout",
          "text": [
            "1/1 [==============================] - 0s 16ms/step\n"
          ]
        },
        {
          "output_type": "execute_result",
          "data": {
            "text/plain": [
              "[array([[9.9997580e-01, 2.4216868e-05]], dtype=float32),\n",
              " array([[0.91815656, 0.08184344]], dtype=float32)]"
            ]
          },
          "metadata": {},
          "execution_count": 105
        }
      ]
    },
    {
      "cell_type": "markdown",
      "metadata": {
        "id": "RxNAgeE-zfX8"
      },
      "source": [
        "### 문제 41. 로드한 모델을 test 데이터로 평가해보세요.\n"
      ]
    },
    {
      "cell_type": "code",
      "source": [
        "# 로드한 모델을 test 데이터로 평가해보세요.\n",
        "new_model.evaluate(x_test, [y_test_male, y_test_smile])"
      ],
      "metadata": {
        "id": "rN80wpDk7utU",
        "outputId": "d153d2c6-856f-41f1-c577-c5ceb99f2e48",
        "colab": {
          "base_uri": "https://localhost:8080/"
        }
      },
      "execution_count": 108,
      "outputs": [
        {
          "output_type": "stream",
          "name": "stdout",
          "text": [
            "7/7 [==============================] - 0s 5ms/step - loss: 0.6205 - dense_5_loss: 0.3623 - dense_6_loss: 0.2582 - dense_5_accuracy: 0.9100 - dense_6_accuracy: 0.9150\n"
          ]
        },
        {
          "output_type": "execute_result",
          "data": {
            "text/plain": [
              "[0.6204949617385864,\n",
              " 0.36233675479888916,\n",
              " 0.2581581771373749,\n",
              " 0.9100000262260437,\n",
              " 0.9150000214576721]"
            ]
          },
          "metadata": {},
          "execution_count": 108
        }
      ]
    },
    {
      "cell_type": "markdown",
      "metadata": {
        "id": "5Cn2goDdzfX8"
      },
      "source": [
        "### 문제 42. 모델을 내 컴퓨터에 저장해보세요"
      ]
    },
    {
      "cell_type": "code",
      "metadata": {
        "id": "JJVvgXCZzfX8",
        "colab": {
          "base_uri": "https://localhost:8080/",
          "height": 17
        },
        "outputId": "fc3115de-fcc6-40e5-db29-274680ea6889"
      },
      "source": [
        "# 모델을 내 컴퓨터에 저장해보세요.\n",
        "from google.colab import files\n",
        "files.download('./multi_model.h5')"
      ],
      "execution_count": 109,
      "outputs": [
        {
          "output_type": "display_data",
          "data": {
            "text/plain": [
              "<IPython.core.display.Javascript object>"
            ],
            "application/javascript": [
              "\n",
              "    async function download(id, filename, size) {\n",
              "      if (!google.colab.kernel.accessAllowed) {\n",
              "        return;\n",
              "      }\n",
              "      const div = document.createElement('div');\n",
              "      const label = document.createElement('label');\n",
              "      label.textContent = `Downloading \"${filename}\": `;\n",
              "      div.appendChild(label);\n",
              "      const progress = document.createElement('progress');\n",
              "      progress.max = size;\n",
              "      div.appendChild(progress);\n",
              "      document.body.appendChild(div);\n",
              "\n",
              "      const buffers = [];\n",
              "      let downloaded = 0;\n",
              "\n",
              "      const channel = await google.colab.kernel.comms.open(id);\n",
              "      // Send a message to notify the kernel that we're ready.\n",
              "      channel.send({})\n",
              "\n",
              "      for await (const message of channel.messages) {\n",
              "        // Send a message to notify the kernel that we're ready.\n",
              "        channel.send({})\n",
              "        if (message.buffers) {\n",
              "          for (const buffer of message.buffers) {\n",
              "            buffers.push(buffer);\n",
              "            downloaded += buffer.byteLength;\n",
              "            progress.value = downloaded;\n",
              "          }\n",
              "        }\n",
              "      }\n",
              "      const blob = new Blob(buffers, {type: 'application/binary'});\n",
              "      const a = document.createElement('a');\n",
              "      a.href = window.URL.createObjectURL(blob);\n",
              "      a.download = filename;\n",
              "      div.appendChild(a);\n",
              "      a.click();\n",
              "      div.remove();\n",
              "    }\n",
              "  "
            ]
          },
          "metadata": {}
        },
        {
          "output_type": "display_data",
          "data": {
            "text/plain": [
              "<IPython.core.display.Javascript object>"
            ],
            "application/javascript": [
              "download(\"download_15f548ee-abbc-47b5-9d4d-44bb9a907a12\", \"multi_model.h5\", 2462592)"
            ]
          },
          "metadata": {}
        }
      ]
    }
  ]
}