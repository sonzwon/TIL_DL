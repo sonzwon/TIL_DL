{
  "nbformat": 4,
  "nbformat_minor": 0,
  "metadata": {
    "colab": {
      "provenance": [],
      "collapsed_sections": [
        "EmGJVKBrzfXo",
        "MrGNvmdSzfXp",
        "E4-KNKc4zfXv",
        "NEFpns-jzfXv",
        "cFn1q_0jzfXw",
        "M4VjTp8FzfXw",
        "aXxgfeGdzfXw",
        "4x0KU_BzzfXx",
        "odqpEsI0iH1f",
        "VRJJjjSLiH1h",
        "wGQPwl5iiH1i",
        "LVykKLdfiH1j",
        "vs4MHjKkiH1j",
        "gPfI5Io9iH1k",
        "HWwSu6rGiH1k",
        "upv45GO-iH1k",
        "j-YjXYk_iH1l",
        "eNkdDgr0zfX1",
        "QG159d2rzfX1",
        "-caAUep7zfX2",
        "lp8dbD_FzfX2",
        "_C6Nk21yzfX3",
        "-gtWPhyAzfX3",
        "xQOMfXQOzfX4",
        "yWMu-OUGzfX4",
        "I5UrN6nizfX4",
        "UiIBTxMizfX5",
        "AXCh44v4zfX5",
        "m_bmyR1FzfX6",
        "agZArRLlzfX6",
        "JtnyEsMJzfX7",
        "TQqVbazVzfX7",
        "o1xMDORMzfX7",
        "CaDQG8wwzfX8",
        "RxNAgeE-zfX8",
        "5Cn2goDdzfX8"
      ],
      "include_colab_link": true
    },
    "kernelspec": {
      "name": "python3",
      "display_name": "Python 3"
    },
    "accelerator": "GPU",
    "widgets": {
      "application/vnd.jupyter.widget-state+json": {
        "3ef6d1ebd31d4e5493418d3b5bad9c51": {
          "model_module": "@jupyter-widgets/controls",
          "model_name": "HBoxModel",
          "model_module_version": "1.5.0",
          "state": {
            "_dom_classes": [],
            "_model_module": "@jupyter-widgets/controls",
            "_model_module_version": "1.5.0",
            "_model_name": "HBoxModel",
            "_view_count": null,
            "_view_module": "@jupyter-widgets/controls",
            "_view_module_version": "1.5.0",
            "_view_name": "HBoxView",
            "box_style": "",
            "children": [
              "IPY_MODEL_80452ee45dce49dea0be55fc63ee8e6c",
              "IPY_MODEL_6538ef93256d4072931551493365db07",
              "IPY_MODEL_84f4f0b40fd34a3ca846aed6c4aa5d1c"
            ],
            "layout": "IPY_MODEL_e05a75d253a1465bbc6146ac581e043c"
          }
        },
        "80452ee45dce49dea0be55fc63ee8e6c": {
          "model_module": "@jupyter-widgets/controls",
          "model_name": "HTMLModel",
          "model_module_version": "1.5.0",
          "state": {
            "_dom_classes": [],
            "_model_module": "@jupyter-widgets/controls",
            "_model_module_version": "1.5.0",
            "_model_name": "HTMLModel",
            "_view_count": null,
            "_view_module": "@jupyter-widgets/controls",
            "_view_module_version": "1.5.0",
            "_view_name": "HTMLView",
            "description": "",
            "description_tooltip": null,
            "layout": "IPY_MODEL_de8dd083b3b44f6a8ae2964b554d2d95",
            "placeholder": "​",
            "style": "IPY_MODEL_a3728d57d1fd4d20b734157e8e9dfab2",
            "value": "Dl Completed...:  75%"
          }
        },
        "6538ef93256d4072931551493365db07": {
          "model_module": "@jupyter-widgets/controls",
          "model_name": "FloatProgressModel",
          "model_module_version": "1.5.0",
          "state": {
            "_dom_classes": [],
            "_model_module": "@jupyter-widgets/controls",
            "_model_module_version": "1.5.0",
            "_model_name": "FloatProgressModel",
            "_view_count": null,
            "_view_module": "@jupyter-widgets/controls",
            "_view_module_version": "1.5.0",
            "_view_name": "ProgressView",
            "bar_style": "danger",
            "description": "",
            "description_tooltip": null,
            "layout": "IPY_MODEL_42c40fa74108429ca3a3d886169690f8",
            "max": 1,
            "min": 0,
            "orientation": "horizontal",
            "style": "IPY_MODEL_0b235b3b917046b0a67c32ed5519f45d",
            "value": 1
          }
        },
        "84f4f0b40fd34a3ca846aed6c4aa5d1c": {
          "model_module": "@jupyter-widgets/controls",
          "model_name": "HTMLModel",
          "model_module_version": "1.5.0",
          "state": {
            "_dom_classes": [],
            "_model_module": "@jupyter-widgets/controls",
            "_model_module_version": "1.5.0",
            "_model_name": "HTMLModel",
            "_view_count": null,
            "_view_module": "@jupyter-widgets/controls",
            "_view_module_version": "1.5.0",
            "_view_name": "HTMLView",
            "description": "",
            "description_tooltip": null,
            "layout": "IPY_MODEL_764805adf33c43c8ae2f5fc40d46d6c1",
            "placeholder": "​",
            "style": "IPY_MODEL_84c2590c043543669e6e339250beea89",
            "value": " 3/4 [00:01&lt;00:00,  1.77 url/s]"
          }
        },
        "e05a75d253a1465bbc6146ac581e043c": {
          "model_module": "@jupyter-widgets/base",
          "model_name": "LayoutModel",
          "model_module_version": "1.2.0",
          "state": {
            "_model_module": "@jupyter-widgets/base",
            "_model_module_version": "1.2.0",
            "_model_name": "LayoutModel",
            "_view_count": null,
            "_view_module": "@jupyter-widgets/base",
            "_view_module_version": "1.2.0",
            "_view_name": "LayoutView",
            "align_content": null,
            "align_items": null,
            "align_self": null,
            "border": null,
            "bottom": null,
            "display": null,
            "flex": null,
            "flex_flow": null,
            "grid_area": null,
            "grid_auto_columns": null,
            "grid_auto_flow": null,
            "grid_auto_rows": null,
            "grid_column": null,
            "grid_gap": null,
            "grid_row": null,
            "grid_template_areas": null,
            "grid_template_columns": null,
            "grid_template_rows": null,
            "height": null,
            "justify_content": null,
            "justify_items": null,
            "left": null,
            "margin": null,
            "max_height": null,
            "max_width": null,
            "min_height": null,
            "min_width": null,
            "object_fit": null,
            "object_position": null,
            "order": null,
            "overflow": null,
            "overflow_x": null,
            "overflow_y": null,
            "padding": null,
            "right": null,
            "top": null,
            "visibility": null,
            "width": null
          }
        },
        "de8dd083b3b44f6a8ae2964b554d2d95": {
          "model_module": "@jupyter-widgets/base",
          "model_name": "LayoutModel",
          "model_module_version": "1.2.0",
          "state": {
            "_model_module": "@jupyter-widgets/base",
            "_model_module_version": "1.2.0",
            "_model_name": "LayoutModel",
            "_view_count": null,
            "_view_module": "@jupyter-widgets/base",
            "_view_module_version": "1.2.0",
            "_view_name": "LayoutView",
            "align_content": null,
            "align_items": null,
            "align_self": null,
            "border": null,
            "bottom": null,
            "display": null,
            "flex": null,
            "flex_flow": null,
            "grid_area": null,
            "grid_auto_columns": null,
            "grid_auto_flow": null,
            "grid_auto_rows": null,
            "grid_column": null,
            "grid_gap": null,
            "grid_row": null,
            "grid_template_areas": null,
            "grid_template_columns": null,
            "grid_template_rows": null,
            "height": null,
            "justify_content": null,
            "justify_items": null,
            "left": null,
            "margin": null,
            "max_height": null,
            "max_width": null,
            "min_height": null,
            "min_width": null,
            "object_fit": null,
            "object_position": null,
            "order": null,
            "overflow": null,
            "overflow_x": null,
            "overflow_y": null,
            "padding": null,
            "right": null,
            "top": null,
            "visibility": null,
            "width": null
          }
        },
        "a3728d57d1fd4d20b734157e8e9dfab2": {
          "model_module": "@jupyter-widgets/controls",
          "model_name": "DescriptionStyleModel",
          "model_module_version": "1.5.0",
          "state": {
            "_model_module": "@jupyter-widgets/controls",
            "_model_module_version": "1.5.0",
            "_model_name": "DescriptionStyleModel",
            "_view_count": null,
            "_view_module": "@jupyter-widgets/base",
            "_view_module_version": "1.2.0",
            "_view_name": "StyleView",
            "description_width": ""
          }
        },
        "42c40fa74108429ca3a3d886169690f8": {
          "model_module": "@jupyter-widgets/base",
          "model_name": "LayoutModel",
          "model_module_version": "1.2.0",
          "state": {
            "_model_module": "@jupyter-widgets/base",
            "_model_module_version": "1.2.0",
            "_model_name": "LayoutModel",
            "_view_count": null,
            "_view_module": "@jupyter-widgets/base",
            "_view_module_version": "1.2.0",
            "_view_name": "LayoutView",
            "align_content": null,
            "align_items": null,
            "align_self": null,
            "border": null,
            "bottom": null,
            "display": null,
            "flex": null,
            "flex_flow": null,
            "grid_area": null,
            "grid_auto_columns": null,
            "grid_auto_flow": null,
            "grid_auto_rows": null,
            "grid_column": null,
            "grid_gap": null,
            "grid_row": null,
            "grid_template_areas": null,
            "grid_template_columns": null,
            "grid_template_rows": null,
            "height": null,
            "justify_content": null,
            "justify_items": null,
            "left": null,
            "margin": null,
            "max_height": null,
            "max_width": null,
            "min_height": null,
            "min_width": null,
            "object_fit": null,
            "object_position": null,
            "order": null,
            "overflow": null,
            "overflow_x": null,
            "overflow_y": null,
            "padding": null,
            "right": null,
            "top": null,
            "visibility": null,
            "width": "20px"
          }
        },
        "0b235b3b917046b0a67c32ed5519f45d": {
          "model_module": "@jupyter-widgets/controls",
          "model_name": "ProgressStyleModel",
          "model_module_version": "1.5.0",
          "state": {
            "_model_module": "@jupyter-widgets/controls",
            "_model_module_version": "1.5.0",
            "_model_name": "ProgressStyleModel",
            "_view_count": null,
            "_view_module": "@jupyter-widgets/base",
            "_view_module_version": "1.2.0",
            "_view_name": "StyleView",
            "bar_color": null,
            "description_width": ""
          }
        },
        "764805adf33c43c8ae2f5fc40d46d6c1": {
          "model_module": "@jupyter-widgets/base",
          "model_name": "LayoutModel",
          "model_module_version": "1.2.0",
          "state": {
            "_model_module": "@jupyter-widgets/base",
            "_model_module_version": "1.2.0",
            "_model_name": "LayoutModel",
            "_view_count": null,
            "_view_module": "@jupyter-widgets/base",
            "_view_module_version": "1.2.0",
            "_view_name": "LayoutView",
            "align_content": null,
            "align_items": null,
            "align_self": null,
            "border": null,
            "bottom": null,
            "display": null,
            "flex": null,
            "flex_flow": null,
            "grid_area": null,
            "grid_auto_columns": null,
            "grid_auto_flow": null,
            "grid_auto_rows": null,
            "grid_column": null,
            "grid_gap": null,
            "grid_row": null,
            "grid_template_areas": null,
            "grid_template_columns": null,
            "grid_template_rows": null,
            "height": null,
            "justify_content": null,
            "justify_items": null,
            "left": null,
            "margin": null,
            "max_height": null,
            "max_width": null,
            "min_height": null,
            "min_width": null,
            "object_fit": null,
            "object_position": null,
            "order": null,
            "overflow": null,
            "overflow_x": null,
            "overflow_y": null,
            "padding": null,
            "right": null,
            "top": null,
            "visibility": null,
            "width": null
          }
        },
        "84c2590c043543669e6e339250beea89": {
          "model_module": "@jupyter-widgets/controls",
          "model_name": "DescriptionStyleModel",
          "model_module_version": "1.5.0",
          "state": {
            "_model_module": "@jupyter-widgets/controls",
            "_model_module_version": "1.5.0",
            "_model_name": "DescriptionStyleModel",
            "_view_count": null,
            "_view_module": "@jupyter-widgets/base",
            "_view_module_version": "1.2.0",
            "_view_name": "StyleView",
            "description_width": ""
          }
        },
        "539f12bda287406eb2223f25414b45ec": {
          "model_module": "@jupyter-widgets/controls",
          "model_name": "HBoxModel",
          "model_module_version": "1.5.0",
          "state": {
            "_dom_classes": [],
            "_model_module": "@jupyter-widgets/controls",
            "_model_module_version": "1.5.0",
            "_model_name": "HBoxModel",
            "_view_count": null,
            "_view_module": "@jupyter-widgets/controls",
            "_view_module_version": "1.5.0",
            "_view_name": "HBoxView",
            "box_style": "",
            "children": [
              "IPY_MODEL_ae437fd876304402b1141fc9cbde93af",
              "IPY_MODEL_f60c6159fb5d419eb8cbf9b1b3629cd3",
              "IPY_MODEL_74ebd6b7e65242e7bbd13b7aa90944ed"
            ],
            "layout": "IPY_MODEL_b3dffdfd16474f019035cf2901d2b613"
          }
        },
        "ae437fd876304402b1141fc9cbde93af": {
          "model_module": "@jupyter-widgets/controls",
          "model_name": "HTMLModel",
          "model_module_version": "1.5.0",
          "state": {
            "_dom_classes": [],
            "_model_module": "@jupyter-widgets/controls",
            "_model_module_version": "1.5.0",
            "_model_name": "HTMLModel",
            "_view_count": null,
            "_view_module": "@jupyter-widgets/controls",
            "_view_module_version": "1.5.0",
            "_view_name": "HTMLView",
            "description": "",
            "description_tooltip": null,
            "layout": "IPY_MODEL_ee324767efc94e078e15ae840a22a053",
            "placeholder": "​",
            "style": "IPY_MODEL_939250e8ff78479292f0b8629a42f4cc",
            "value": "Dl Size...: 100%"
          }
        },
        "f60c6159fb5d419eb8cbf9b1b3629cd3": {
          "model_module": "@jupyter-widgets/controls",
          "model_name": "FloatProgressModel",
          "model_module_version": "1.5.0",
          "state": {
            "_dom_classes": [],
            "_model_module": "@jupyter-widgets/controls",
            "_model_module_version": "1.5.0",
            "_model_name": "FloatProgressModel",
            "_view_count": null,
            "_view_module": "@jupyter-widgets/controls",
            "_view_module_version": "1.5.0",
            "_view_name": "ProgressView",
            "bar_style": "success",
            "description": "",
            "description_tooltip": null,
            "layout": "IPY_MODEL_ab7935bdfbac4ea0b37c7a07abfeb935",
            "max": 1,
            "min": 0,
            "orientation": "horizontal",
            "style": "IPY_MODEL_d8783f9309ec416888a214a76c1f0187",
            "value": 1
          }
        },
        "74ebd6b7e65242e7bbd13b7aa90944ed": {
          "model_module": "@jupyter-widgets/controls",
          "model_name": "HTMLModel",
          "model_module_version": "1.5.0",
          "state": {
            "_dom_classes": [],
            "_model_module": "@jupyter-widgets/controls",
            "_model_module_version": "1.5.0",
            "_model_name": "HTMLModel",
            "_view_count": null,
            "_view_module": "@jupyter-widgets/controls",
            "_view_module_version": "1.5.0",
            "_view_name": "HTMLView",
            "description": "",
            "description_tooltip": null,
            "layout": "IPY_MODEL_837ba4c784524e1d9721f994797baf21",
            "placeholder": "​",
            "style": "IPY_MODEL_008765020bb14671856277b5dbe7f60e",
            "value": " 41713467/41713467 [00:01&lt;00:00, 24880104.73 MiB/s]"
          }
        },
        "b3dffdfd16474f019035cf2901d2b613": {
          "model_module": "@jupyter-widgets/base",
          "model_name": "LayoutModel",
          "model_module_version": "1.2.0",
          "state": {
            "_model_module": "@jupyter-widgets/base",
            "_model_module_version": "1.2.0",
            "_model_name": "LayoutModel",
            "_view_count": null,
            "_view_module": "@jupyter-widgets/base",
            "_view_module_version": "1.2.0",
            "_view_name": "LayoutView",
            "align_content": null,
            "align_items": null,
            "align_self": null,
            "border": null,
            "bottom": null,
            "display": null,
            "flex": null,
            "flex_flow": null,
            "grid_area": null,
            "grid_auto_columns": null,
            "grid_auto_flow": null,
            "grid_auto_rows": null,
            "grid_column": null,
            "grid_gap": null,
            "grid_row": null,
            "grid_template_areas": null,
            "grid_template_columns": null,
            "grid_template_rows": null,
            "height": null,
            "justify_content": null,
            "justify_items": null,
            "left": null,
            "margin": null,
            "max_height": null,
            "max_width": null,
            "min_height": null,
            "min_width": null,
            "object_fit": null,
            "object_position": null,
            "order": null,
            "overflow": null,
            "overflow_x": null,
            "overflow_y": null,
            "padding": null,
            "right": null,
            "top": null,
            "visibility": null,
            "width": null
          }
        },
        "ee324767efc94e078e15ae840a22a053": {
          "model_module": "@jupyter-widgets/base",
          "model_name": "LayoutModel",
          "model_module_version": "1.2.0",
          "state": {
            "_model_module": "@jupyter-widgets/base",
            "_model_module_version": "1.2.0",
            "_model_name": "LayoutModel",
            "_view_count": null,
            "_view_module": "@jupyter-widgets/base",
            "_view_module_version": "1.2.0",
            "_view_name": "LayoutView",
            "align_content": null,
            "align_items": null,
            "align_self": null,
            "border": null,
            "bottom": null,
            "display": null,
            "flex": null,
            "flex_flow": null,
            "grid_area": null,
            "grid_auto_columns": null,
            "grid_auto_flow": null,
            "grid_auto_rows": null,
            "grid_column": null,
            "grid_gap": null,
            "grid_row": null,
            "grid_template_areas": null,
            "grid_template_columns": null,
            "grid_template_rows": null,
            "height": null,
            "justify_content": null,
            "justify_items": null,
            "left": null,
            "margin": null,
            "max_height": null,
            "max_width": null,
            "min_height": null,
            "min_width": null,
            "object_fit": null,
            "object_position": null,
            "order": null,
            "overflow": null,
            "overflow_x": null,
            "overflow_y": null,
            "padding": null,
            "right": null,
            "top": null,
            "visibility": null,
            "width": null
          }
        },
        "939250e8ff78479292f0b8629a42f4cc": {
          "model_module": "@jupyter-widgets/controls",
          "model_name": "DescriptionStyleModel",
          "model_module_version": "1.5.0",
          "state": {
            "_model_module": "@jupyter-widgets/controls",
            "_model_module_version": "1.5.0",
            "_model_name": "DescriptionStyleModel",
            "_view_count": null,
            "_view_module": "@jupyter-widgets/base",
            "_view_module_version": "1.2.0",
            "_view_name": "StyleView",
            "description_width": ""
          }
        },
        "ab7935bdfbac4ea0b37c7a07abfeb935": {
          "model_module": "@jupyter-widgets/base",
          "model_name": "LayoutModel",
          "model_module_version": "1.2.0",
          "state": {
            "_model_module": "@jupyter-widgets/base",
            "_model_module_version": "1.2.0",
            "_model_name": "LayoutModel",
            "_view_count": null,
            "_view_module": "@jupyter-widgets/base",
            "_view_module_version": "1.2.0",
            "_view_name": "LayoutView",
            "align_content": null,
            "align_items": null,
            "align_self": null,
            "border": null,
            "bottom": null,
            "display": null,
            "flex": null,
            "flex_flow": null,
            "grid_area": null,
            "grid_auto_columns": null,
            "grid_auto_flow": null,
            "grid_auto_rows": null,
            "grid_column": null,
            "grid_gap": null,
            "grid_row": null,
            "grid_template_areas": null,
            "grid_template_columns": null,
            "grid_template_rows": null,
            "height": null,
            "justify_content": null,
            "justify_items": null,
            "left": null,
            "margin": null,
            "max_height": null,
            "max_width": null,
            "min_height": null,
            "min_width": null,
            "object_fit": null,
            "object_position": null,
            "order": null,
            "overflow": null,
            "overflow_x": null,
            "overflow_y": null,
            "padding": null,
            "right": null,
            "top": null,
            "visibility": null,
            "width": "20px"
          }
        },
        "d8783f9309ec416888a214a76c1f0187": {
          "model_module": "@jupyter-widgets/controls",
          "model_name": "ProgressStyleModel",
          "model_module_version": "1.5.0",
          "state": {
            "_model_module": "@jupyter-widgets/controls",
            "_model_module_version": "1.5.0",
            "_model_name": "ProgressStyleModel",
            "_view_count": null,
            "_view_module": "@jupyter-widgets/base",
            "_view_module_version": "1.2.0",
            "_view_name": "StyleView",
            "bar_color": null,
            "description_width": ""
          }
        },
        "837ba4c784524e1d9721f994797baf21": {
          "model_module": "@jupyter-widgets/base",
          "model_name": "LayoutModel",
          "model_module_version": "1.2.0",
          "state": {
            "_model_module": "@jupyter-widgets/base",
            "_model_module_version": "1.2.0",
            "_model_name": "LayoutModel",
            "_view_count": null,
            "_view_module": "@jupyter-widgets/base",
            "_view_module_version": "1.2.0",
            "_view_name": "LayoutView",
            "align_content": null,
            "align_items": null,
            "align_self": null,
            "border": null,
            "bottom": null,
            "display": null,
            "flex": null,
            "flex_flow": null,
            "grid_area": null,
            "grid_auto_columns": null,
            "grid_auto_flow": null,
            "grid_auto_rows": null,
            "grid_column": null,
            "grid_gap": null,
            "grid_row": null,
            "grid_template_areas": null,
            "grid_template_columns": null,
            "grid_template_rows": null,
            "height": null,
            "justify_content": null,
            "justify_items": null,
            "left": null,
            "margin": null,
            "max_height": null,
            "max_width": null,
            "min_height": null,
            "min_width": null,
            "object_fit": null,
            "object_position": null,
            "order": null,
            "overflow": null,
            "overflow_x": null,
            "overflow_y": null,
            "padding": null,
            "right": null,
            "top": null,
            "visibility": null,
            "width": null
          }
        },
        "008765020bb14671856277b5dbe7f60e": {
          "model_module": "@jupyter-widgets/controls",
          "model_name": "DescriptionStyleModel",
          "model_module_version": "1.5.0",
          "state": {
            "_model_module": "@jupyter-widgets/controls",
            "_model_module_version": "1.5.0",
            "_model_name": "DescriptionStyleModel",
            "_view_count": null,
            "_view_module": "@jupyter-widgets/base",
            "_view_module_version": "1.2.0",
            "_view_name": "StyleView",
            "description_width": ""
          }
        }
      }
    }
  },
  "cells": [
    {
      "cell_type": "markdown",
      "metadata": {
        "id": "view-in-github",
        "colab_type": "text"
      },
      "source": [
        "<a href=\"https://colab.research.google.com/github/sonzwon/TIL_DL/blob/master/%5Bpractice%5DMulti_Model_Classification.ipynb\" target=\"_parent\"><img src=\"https://colab.research.google.com/assets/colab-badge.svg\" alt=\"Open In Colab\"/></a>"
      ]
    },
    {
      "cell_type": "code",
      "metadata": {
        "id": "mUteMBoWzfXn"
      },
      "source": [
        "import tensorflow as tf\n",
        "from tensorflow import keras\n",
        "from keras.layers import Dense\n",
        "from keras.models import Sequential\n",
        "\n",
        "import pandas as pd\n",
        "import numpy as np\n",
        "import matplotlib.pyplot as plt\n",
        "import seaborn as sns\n",
        "import warnings \n",
        "from IPython.display import Image\n",
        "\n",
        "warnings.filterwarnings('ignore')\n",
        "%matplotlib inline\n",
        "\n",
        "SEED = 34"
      ],
      "execution_count": 10,
      "outputs": []
    },
    {
      "cell_type": "markdown",
      "metadata": {
        "id": "A5NviQ1BzfXo"
      },
      "source": [
        "## Step 1. 도입전 기본 처리"
      ]
    },
    {
      "cell_type": "markdown",
      "metadata": {
        "id": "EmGJVKBrzfXo"
      },
      "source": [
        "### 문제 1. tfds를 이용하여 데이터셋 사용하기"
      ]
    },
    {
      "cell_type": "code",
      "metadata": {
        "id": "vgjOE7bMzfXo"
      },
      "source": [
        "# tfds를 이용하여 데이터셋 사용하기\n",
        "import tensorflow_datasets as tfds"
      ],
      "execution_count": 8,
      "outputs": []
    },
    {
      "cell_type": "markdown",
      "metadata": {
        "id": "MrGNvmdSzfXp"
      },
      "source": [
        "### 문제 2. celeba의 정보중 이용할 데이터만 추출"
      ]
    },
    {
      "cell_type": "code",
      "metadata": {
        "id": "dBVjCFEXzfXp",
        "colab": {
          "base_uri": "https://localhost:8080/",
          "height": 485,
          "referenced_widgets": [
            "3ef6d1ebd31d4e5493418d3b5bad9c51",
            "80452ee45dce49dea0be55fc63ee8e6c",
            "6538ef93256d4072931551493365db07",
            "84f4f0b40fd34a3ca846aed6c4aa5d1c",
            "e05a75d253a1465bbc6146ac581e043c",
            "de8dd083b3b44f6a8ae2964b554d2d95",
            "a3728d57d1fd4d20b734157e8e9dfab2",
            "42c40fa74108429ca3a3d886169690f8",
            "0b235b3b917046b0a67c32ed5519f45d",
            "764805adf33c43c8ae2f5fc40d46d6c1",
            "84c2590c043543669e6e339250beea89",
            "539f12bda287406eb2223f25414b45ec",
            "ae437fd876304402b1141fc9cbde93af",
            "f60c6159fb5d419eb8cbf9b1b3629cd3",
            "74ebd6b7e65242e7bbd13b7aa90944ed",
            "b3dffdfd16474f019035cf2901d2b613",
            "ee324767efc94e078e15ae840a22a053",
            "939250e8ff78479292f0b8629a42f4cc",
            "ab7935bdfbac4ea0b37c7a07abfeb935",
            "d8783f9309ec416888a214a76c1f0187",
            "837ba4c784524e1d9721f994797baf21",
            "008765020bb14671856277b5dbe7f60e"
          ]
        },
        "outputId": "a9a6bc6c-84a9-4321-ea2e-f1e643c0c1f5"
      },
      "source": [
        "# celeba의 정보중 이용할 데이터만 추출\n",
        "celeb_a = tfds.load('celeb_a')"
      ],
      "execution_count": 13,
      "outputs": [
        {
          "output_type": "stream",
          "name": "stdout",
          "text": [
            "Downloading and preparing dataset 1.38 GiB (download: 1.38 GiB, generated: 1.62 GiB, total: 3.00 GiB) to ~/tensorflow_datasets/celeb_a/2.0.1...\n"
          ]
        },
        {
          "output_type": "display_data",
          "data": {
            "text/plain": [
              "Dl Completed...: 0 url [00:00, ? url/s]"
            ],
            "application/vnd.jupyter.widget-view+json": {
              "version_major": 2,
              "version_minor": 0,
              "model_id": "3ef6d1ebd31d4e5493418d3b5bad9c51"
            }
          },
          "metadata": {}
        },
        {
          "output_type": "display_data",
          "data": {
            "text/plain": [
              "Dl Size...: 0 MiB [00:00, ? MiB/s]"
            ],
            "application/vnd.jupyter.widget-view+json": {
              "version_major": 2,
              "version_minor": 0,
              "model_id": "539f12bda287406eb2223f25414b45ec"
            }
          },
          "metadata": {}
        },
        {
          "output_type": "error",
          "ename": "DownloadError",
          "evalue": "ignored",
          "traceback": [
            "\u001b[0;31m---------------------------------------------------------------------------\u001b[0m",
            "\u001b[0;31mDownloadError\u001b[0m                             Traceback (most recent call last)",
            "\u001b[0;32m<ipython-input-13-906a8cda52a2>\u001b[0m in \u001b[0;36m<module>\u001b[0;34m\u001b[0m\n\u001b[1;32m      1\u001b[0m \u001b[0;31m# celeba의 정보중 이용할 데이터만 추출\u001b[0m\u001b[0;34m\u001b[0m\u001b[0;34m\u001b[0m\u001b[0;34m\u001b[0m\u001b[0m\n\u001b[0;32m----> 2\u001b[0;31m \u001b[0mceleb_a\u001b[0m \u001b[0;34m=\u001b[0m \u001b[0mtfds\u001b[0m\u001b[0;34m.\u001b[0m\u001b[0mload\u001b[0m\u001b[0;34m(\u001b[0m\u001b[0;34m'celeb_a'\u001b[0m\u001b[0;34m)\u001b[0m\u001b[0;34m\u001b[0m\u001b[0;34m\u001b[0m\u001b[0m\n\u001b[0m",
            "\u001b[0;32m/usr/local/lib/python3.8/dist-packages/tensorflow_datasets/core/load.py\u001b[0m in \u001b[0;36mload\u001b[0;34m(name, split, data_dir, batch_size, shuffle_files, download, as_supervised, decoders, read_config, with_info, builder_kwargs, download_and_prepare_kwargs, as_dataset_kwargs, try_gcs)\u001b[0m\n\u001b[1;32m    325\u001b[0m   \u001b[0;32mif\u001b[0m \u001b[0mdownload\u001b[0m\u001b[0;34m:\u001b[0m\u001b[0;34m\u001b[0m\u001b[0;34m\u001b[0m\u001b[0m\n\u001b[1;32m    326\u001b[0m     \u001b[0mdownload_and_prepare_kwargs\u001b[0m \u001b[0;34m=\u001b[0m \u001b[0mdownload_and_prepare_kwargs\u001b[0m \u001b[0;32mor\u001b[0m \u001b[0;34m{\u001b[0m\u001b[0;34m}\u001b[0m\u001b[0;34m\u001b[0m\u001b[0;34m\u001b[0m\u001b[0m\n\u001b[0;32m--> 327\u001b[0;31m     \u001b[0mdbuilder\u001b[0m\u001b[0;34m.\u001b[0m\u001b[0mdownload_and_prepare\u001b[0m\u001b[0;34m(\u001b[0m\u001b[0;34m**\u001b[0m\u001b[0mdownload_and_prepare_kwargs\u001b[0m\u001b[0;34m)\u001b[0m\u001b[0;34m\u001b[0m\u001b[0;34m\u001b[0m\u001b[0m\n\u001b[0m\u001b[1;32m    328\u001b[0m \u001b[0;34m\u001b[0m\u001b[0m\n\u001b[1;32m    329\u001b[0m   \u001b[0;32mif\u001b[0m \u001b[0mas_dataset_kwargs\u001b[0m \u001b[0;32mis\u001b[0m \u001b[0;32mNone\u001b[0m\u001b[0;34m:\u001b[0m\u001b[0;34m\u001b[0m\u001b[0;34m\u001b[0m\u001b[0m\n",
            "\u001b[0;32m/usr/local/lib/python3.8/dist-packages/tensorflow_datasets/core/dataset_builder.py\u001b[0m in \u001b[0;36mdownload_and_prepare\u001b[0;34m(self, download_dir, download_config, file_format)\u001b[0m\n\u001b[1;32m    479\u001b[0m           \u001b[0mself\u001b[0m\u001b[0;34m.\u001b[0m\u001b[0minfo\u001b[0m\u001b[0;34m.\u001b[0m\u001b[0mread_from_directory\u001b[0m\u001b[0;34m(\u001b[0m\u001b[0mself\u001b[0m\u001b[0;34m.\u001b[0m\u001b[0m_data_dir\u001b[0m\u001b[0;34m)\u001b[0m\u001b[0;34m\u001b[0m\u001b[0;34m\u001b[0m\u001b[0m\n\u001b[1;32m    480\u001b[0m         \u001b[0;32melse\u001b[0m\u001b[0;34m:\u001b[0m\u001b[0;34m\u001b[0m\u001b[0;34m\u001b[0m\u001b[0m\n\u001b[0;32m--> 481\u001b[0;31m           self._download_and_prepare(\n\u001b[0m\u001b[1;32m    482\u001b[0m               \u001b[0mdl_manager\u001b[0m\u001b[0;34m=\u001b[0m\u001b[0mdl_manager\u001b[0m\u001b[0;34m,\u001b[0m\u001b[0;34m\u001b[0m\u001b[0;34m\u001b[0m\u001b[0m\n\u001b[1;32m    483\u001b[0m               \u001b[0mdownload_config\u001b[0m\u001b[0;34m=\u001b[0m\u001b[0mdownload_config\u001b[0m\u001b[0;34m,\u001b[0m\u001b[0;34m\u001b[0m\u001b[0;34m\u001b[0m\u001b[0m\n",
            "\u001b[0;32m/usr/local/lib/python3.8/dist-packages/tensorflow_datasets/core/dataset_builder.py\u001b[0m in \u001b[0;36m_download_and_prepare\u001b[0;34m(self, dl_manager, download_config)\u001b[0m\n\u001b[1;32m   1182\u001b[0m       \u001b[0;32melse\u001b[0m\u001b[0;34m:\u001b[0m\u001b[0;34m\u001b[0m\u001b[0;34m\u001b[0m\u001b[0m\n\u001b[1;32m   1183\u001b[0m         \u001b[0moptional_pipeline_kwargs\u001b[0m \u001b[0;34m=\u001b[0m \u001b[0;34m{\u001b[0m\u001b[0;34m}\u001b[0m\u001b[0;34m\u001b[0m\u001b[0;34m\u001b[0m\u001b[0m\n\u001b[0;32m-> 1184\u001b[0;31m       split_generators = self._split_generators(  # pylint: disable=unexpected-keyword-arg\n\u001b[0m\u001b[1;32m   1185\u001b[0m           dl_manager, **optional_pipeline_kwargs)\n\u001b[1;32m   1186\u001b[0m       \u001b[0;31m# TODO(tfds): Could be removed once all datasets are migrated.\u001b[0m\u001b[0;34m\u001b[0m\u001b[0;34m\u001b[0m\u001b[0;34m\u001b[0m\u001b[0m\n",
            "\u001b[0;32m/usr/local/lib/python3.8/dist-packages/tensorflow_datasets/image/celeba.py\u001b[0m in \u001b[0;36m_split_generators\u001b[0;34m(self, dl_manager)\u001b[0m\n\u001b[1;32m    123\u001b[0m \u001b[0;34m\u001b[0m\u001b[0m\n\u001b[1;32m    124\u001b[0m   \u001b[0;32mdef\u001b[0m \u001b[0m_split_generators\u001b[0m\u001b[0;34m(\u001b[0m\u001b[0mself\u001b[0m\u001b[0;34m,\u001b[0m \u001b[0mdl_manager\u001b[0m\u001b[0;34m)\u001b[0m\u001b[0;34m:\u001b[0m\u001b[0;34m\u001b[0m\u001b[0;34m\u001b[0m\u001b[0m\n\u001b[0;32m--> 125\u001b[0;31m     downloaded_dirs = dl_manager.download({\n\u001b[0m\u001b[1;32m    126\u001b[0m         \u001b[0;34m\"img_align_celeba\"\u001b[0m\u001b[0;34m:\u001b[0m \u001b[0mIMG_ALIGNED_DATA\u001b[0m\u001b[0;34m,\u001b[0m\u001b[0;34m\u001b[0m\u001b[0;34m\u001b[0m\u001b[0m\n\u001b[1;32m    127\u001b[0m         \u001b[0;34m\"list_eval_partition\"\u001b[0m\u001b[0;34m:\u001b[0m \u001b[0mEVAL_LIST\u001b[0m\u001b[0;34m,\u001b[0m\u001b[0;34m\u001b[0m\u001b[0;34m\u001b[0m\u001b[0m\n",
            "\u001b[0;32m/usr/local/lib/python3.8/dist-packages/tensorflow_datasets/core/download/download_manager.py\u001b[0m in \u001b[0;36mdownload\u001b[0;34m(self, url_or_urls)\u001b[0m\n\u001b[1;32m    546\u001b[0m     \u001b[0;31m# Add progress bar to follow the download state\u001b[0m\u001b[0;34m\u001b[0m\u001b[0;34m\u001b[0m\u001b[0;34m\u001b[0m\u001b[0m\n\u001b[1;32m    547\u001b[0m     \u001b[0;32mwith\u001b[0m \u001b[0mself\u001b[0m\u001b[0;34m.\u001b[0m\u001b[0m_downloader\u001b[0m\u001b[0;34m.\u001b[0m\u001b[0mtqdm\u001b[0m\u001b[0;34m(\u001b[0m\u001b[0;34m)\u001b[0m\u001b[0;34m:\u001b[0m\u001b[0;34m\u001b[0m\u001b[0;34m\u001b[0m\u001b[0m\n\u001b[0;32m--> 548\u001b[0;31m       \u001b[0;32mreturn\u001b[0m \u001b[0m_map_promise\u001b[0m\u001b[0;34m(\u001b[0m\u001b[0mself\u001b[0m\u001b[0;34m.\u001b[0m\u001b[0m_download\u001b[0m\u001b[0;34m,\u001b[0m \u001b[0murl_or_urls\u001b[0m\u001b[0;34m)\u001b[0m\u001b[0;34m\u001b[0m\u001b[0;34m\u001b[0m\u001b[0m\n\u001b[0m\u001b[1;32m    549\u001b[0m \u001b[0;34m\u001b[0m\u001b[0m\n\u001b[1;32m    550\u001b[0m   def iter_archive(\n",
            "\u001b[0;32m/usr/local/lib/python3.8/dist-packages/tensorflow_datasets/core/download/download_manager.py\u001b[0m in \u001b[0;36m_map_promise\u001b[0;34m(map_fn, all_inputs)\u001b[0m\n\u001b[1;32m    764\u001b[0m   \u001b[0;34m\"\"\"Map the function into each element and resolve the promise.\"\"\"\u001b[0m\u001b[0;34m\u001b[0m\u001b[0;34m\u001b[0m\u001b[0m\n\u001b[1;32m    765\u001b[0m   \u001b[0mall_promises\u001b[0m \u001b[0;34m=\u001b[0m \u001b[0mtf\u001b[0m\u001b[0;34m.\u001b[0m\u001b[0mnest\u001b[0m\u001b[0;34m.\u001b[0m\u001b[0mmap_structure\u001b[0m\u001b[0;34m(\u001b[0m\u001b[0mmap_fn\u001b[0m\u001b[0;34m,\u001b[0m \u001b[0mall_inputs\u001b[0m\u001b[0;34m)\u001b[0m  \u001b[0;31m# Apply the function\u001b[0m\u001b[0;34m\u001b[0m\u001b[0;34m\u001b[0m\u001b[0m\n\u001b[0;32m--> 766\u001b[0;31m   \u001b[0mres\u001b[0m \u001b[0;34m=\u001b[0m \u001b[0mtf\u001b[0m\u001b[0;34m.\u001b[0m\u001b[0mnest\u001b[0m\u001b[0;34m.\u001b[0m\u001b[0mmap_structure\u001b[0m\u001b[0;34m(\u001b[0m\u001b[0;32mlambda\u001b[0m \u001b[0mp\u001b[0m\u001b[0;34m:\u001b[0m \u001b[0mp\u001b[0m\u001b[0;34m.\u001b[0m\u001b[0mget\u001b[0m\u001b[0;34m(\u001b[0m\u001b[0;34m)\u001b[0m\u001b[0;34m,\u001b[0m \u001b[0mall_promises\u001b[0m\u001b[0;34m)\u001b[0m  \u001b[0;31m# Wait promises\u001b[0m\u001b[0;34m\u001b[0m\u001b[0;34m\u001b[0m\u001b[0m\n\u001b[0m\u001b[1;32m    767\u001b[0m   \u001b[0;32mreturn\u001b[0m \u001b[0mres\u001b[0m\u001b[0;34m\u001b[0m\u001b[0;34m\u001b[0m\u001b[0m\n",
            "\u001b[0;32m/usr/local/lib/python3.8/dist-packages/tensorflow/python/util/nest.py\u001b[0m in \u001b[0;36mmap_structure\u001b[0;34m(func, *structure, **kwargs)\u001b[0m\n\u001b[1;32m    914\u001b[0m \u001b[0;34m\u001b[0m\u001b[0m\n\u001b[1;32m    915\u001b[0m   return pack_sequence_as(\n\u001b[0;32m--> 916\u001b[0;31m       \u001b[0mstructure\u001b[0m\u001b[0;34m[\u001b[0m\u001b[0;36m0\u001b[0m\u001b[0;34m]\u001b[0m\u001b[0;34m,\u001b[0m \u001b[0;34m[\u001b[0m\u001b[0mfunc\u001b[0m\u001b[0;34m(\u001b[0m\u001b[0;34m*\u001b[0m\u001b[0mx\u001b[0m\u001b[0;34m)\u001b[0m \u001b[0;32mfor\u001b[0m \u001b[0mx\u001b[0m \u001b[0;32min\u001b[0m \u001b[0mentries\u001b[0m\u001b[0;34m]\u001b[0m\u001b[0;34m,\u001b[0m\u001b[0;34m\u001b[0m\u001b[0;34m\u001b[0m\u001b[0m\n\u001b[0m\u001b[1;32m    917\u001b[0m       expand_composites=expand_composites)\n\u001b[1;32m    918\u001b[0m \u001b[0;34m\u001b[0m\u001b[0m\n",
            "\u001b[0;32m/usr/local/lib/python3.8/dist-packages/tensorflow/python/util/nest.py\u001b[0m in \u001b[0;36m<listcomp>\u001b[0;34m(.0)\u001b[0m\n\u001b[1;32m    914\u001b[0m \u001b[0;34m\u001b[0m\u001b[0m\n\u001b[1;32m    915\u001b[0m   return pack_sequence_as(\n\u001b[0;32m--> 916\u001b[0;31m       \u001b[0mstructure\u001b[0m\u001b[0;34m[\u001b[0m\u001b[0;36m0\u001b[0m\u001b[0;34m]\u001b[0m\u001b[0;34m,\u001b[0m \u001b[0;34m[\u001b[0m\u001b[0mfunc\u001b[0m\u001b[0;34m(\u001b[0m\u001b[0;34m*\u001b[0m\u001b[0mx\u001b[0m\u001b[0;34m)\u001b[0m \u001b[0;32mfor\u001b[0m \u001b[0mx\u001b[0m \u001b[0;32min\u001b[0m \u001b[0mentries\u001b[0m\u001b[0;34m]\u001b[0m\u001b[0;34m,\u001b[0m\u001b[0;34m\u001b[0m\u001b[0;34m\u001b[0m\u001b[0m\n\u001b[0m\u001b[1;32m    917\u001b[0m       expand_composites=expand_composites)\n\u001b[1;32m    918\u001b[0m \u001b[0;34m\u001b[0m\u001b[0m\n",
            "\u001b[0;32m/usr/local/lib/python3.8/dist-packages/tensorflow_datasets/core/download/download_manager.py\u001b[0m in \u001b[0;36m<lambda>\u001b[0;34m(p)\u001b[0m\n\u001b[1;32m    764\u001b[0m   \u001b[0;34m\"\"\"Map the function into each element and resolve the promise.\"\"\"\u001b[0m\u001b[0;34m\u001b[0m\u001b[0;34m\u001b[0m\u001b[0m\n\u001b[1;32m    765\u001b[0m   \u001b[0mall_promises\u001b[0m \u001b[0;34m=\u001b[0m \u001b[0mtf\u001b[0m\u001b[0;34m.\u001b[0m\u001b[0mnest\u001b[0m\u001b[0;34m.\u001b[0m\u001b[0mmap_structure\u001b[0m\u001b[0;34m(\u001b[0m\u001b[0mmap_fn\u001b[0m\u001b[0;34m,\u001b[0m \u001b[0mall_inputs\u001b[0m\u001b[0;34m)\u001b[0m  \u001b[0;31m# Apply the function\u001b[0m\u001b[0;34m\u001b[0m\u001b[0;34m\u001b[0m\u001b[0m\n\u001b[0;32m--> 766\u001b[0;31m   \u001b[0mres\u001b[0m \u001b[0;34m=\u001b[0m \u001b[0mtf\u001b[0m\u001b[0;34m.\u001b[0m\u001b[0mnest\u001b[0m\u001b[0;34m.\u001b[0m\u001b[0mmap_structure\u001b[0m\u001b[0;34m(\u001b[0m\u001b[0;32mlambda\u001b[0m \u001b[0mp\u001b[0m\u001b[0;34m:\u001b[0m \u001b[0mp\u001b[0m\u001b[0;34m.\u001b[0m\u001b[0mget\u001b[0m\u001b[0;34m(\u001b[0m\u001b[0;34m)\u001b[0m\u001b[0;34m,\u001b[0m \u001b[0mall_promises\u001b[0m\u001b[0;34m)\u001b[0m  \u001b[0;31m# Wait promises\u001b[0m\u001b[0;34m\u001b[0m\u001b[0;34m\u001b[0m\u001b[0m\n\u001b[0m\u001b[1;32m    767\u001b[0m   \u001b[0;32mreturn\u001b[0m \u001b[0mres\u001b[0m\u001b[0;34m\u001b[0m\u001b[0;34m\u001b[0m\u001b[0m\n",
            "\u001b[0;32m/usr/local/lib/python3.8/dist-packages/promise/promise.py\u001b[0m in \u001b[0;36mget\u001b[0;34m(self, timeout)\u001b[0m\n\u001b[1;32m    510\u001b[0m         \u001b[0mtarget\u001b[0m \u001b[0;34m=\u001b[0m \u001b[0mself\u001b[0m\u001b[0;34m.\u001b[0m\u001b[0m_target\u001b[0m\u001b[0;34m(\u001b[0m\u001b[0;34m)\u001b[0m\u001b[0;34m\u001b[0m\u001b[0;34m\u001b[0m\u001b[0m\n\u001b[1;32m    511\u001b[0m         \u001b[0mself\u001b[0m\u001b[0;34m.\u001b[0m\u001b[0m_wait\u001b[0m\u001b[0;34m(\u001b[0m\u001b[0mtimeout\u001b[0m \u001b[0;32mor\u001b[0m \u001b[0mDEFAULT_TIMEOUT\u001b[0m\u001b[0;34m)\u001b[0m\u001b[0;34m\u001b[0m\u001b[0;34m\u001b[0m\u001b[0m\n\u001b[0;32m--> 512\u001b[0;31m         \u001b[0;32mreturn\u001b[0m \u001b[0mself\u001b[0m\u001b[0;34m.\u001b[0m\u001b[0m_target_settled_value\u001b[0m\u001b[0;34m(\u001b[0m\u001b[0m_raise\u001b[0m\u001b[0;34m=\u001b[0m\u001b[0;32mTrue\u001b[0m\u001b[0;34m)\u001b[0m\u001b[0;34m\u001b[0m\u001b[0;34m\u001b[0m\u001b[0m\n\u001b[0m\u001b[1;32m    513\u001b[0m \u001b[0;34m\u001b[0m\u001b[0m\n\u001b[1;32m    514\u001b[0m     \u001b[0;32mdef\u001b[0m \u001b[0m_target_settled_value\u001b[0m\u001b[0;34m(\u001b[0m\u001b[0mself\u001b[0m\u001b[0;34m,\u001b[0m \u001b[0m_raise\u001b[0m\u001b[0;34m=\u001b[0m\u001b[0;32mFalse\u001b[0m\u001b[0;34m)\u001b[0m\u001b[0;34m:\u001b[0m\u001b[0;34m\u001b[0m\u001b[0;34m\u001b[0m\u001b[0m\n",
            "\u001b[0;32m/usr/local/lib/python3.8/dist-packages/promise/promise.py\u001b[0m in \u001b[0;36m_target_settled_value\u001b[0;34m(self, _raise)\u001b[0m\n\u001b[1;32m    514\u001b[0m     \u001b[0;32mdef\u001b[0m \u001b[0m_target_settled_value\u001b[0m\u001b[0;34m(\u001b[0m\u001b[0mself\u001b[0m\u001b[0;34m,\u001b[0m \u001b[0m_raise\u001b[0m\u001b[0;34m=\u001b[0m\u001b[0;32mFalse\u001b[0m\u001b[0;34m)\u001b[0m\u001b[0;34m:\u001b[0m\u001b[0;34m\u001b[0m\u001b[0;34m\u001b[0m\u001b[0m\n\u001b[1;32m    515\u001b[0m         \u001b[0;31m# type: (bool) -> Any\u001b[0m\u001b[0;34m\u001b[0m\u001b[0;34m\u001b[0m\u001b[0;34m\u001b[0m\u001b[0m\n\u001b[0;32m--> 516\u001b[0;31m         \u001b[0;32mreturn\u001b[0m \u001b[0mself\u001b[0m\u001b[0;34m.\u001b[0m\u001b[0m_target\u001b[0m\u001b[0;34m(\u001b[0m\u001b[0;34m)\u001b[0m\u001b[0;34m.\u001b[0m\u001b[0m_settled_value\u001b[0m\u001b[0;34m(\u001b[0m\u001b[0m_raise\u001b[0m\u001b[0;34m)\u001b[0m\u001b[0;34m\u001b[0m\u001b[0;34m\u001b[0m\u001b[0m\n\u001b[0m\u001b[1;32m    517\u001b[0m \u001b[0;34m\u001b[0m\u001b[0m\n\u001b[1;32m    518\u001b[0m     \u001b[0m_value\u001b[0m \u001b[0;34m=\u001b[0m \u001b[0m_reason\u001b[0m \u001b[0;34m=\u001b[0m \u001b[0m_target_settled_value\u001b[0m\u001b[0;34m\u001b[0m\u001b[0;34m\u001b[0m\u001b[0m\n",
            "\u001b[0;32m/usr/local/lib/python3.8/dist-packages/promise/promise.py\u001b[0m in \u001b[0;36m_settled_value\u001b[0;34m(self, _raise)\u001b[0m\n\u001b[1;32m    224\u001b[0m             \u001b[0;32mif\u001b[0m \u001b[0m_raise\u001b[0m\u001b[0;34m:\u001b[0m\u001b[0;34m\u001b[0m\u001b[0;34m\u001b[0m\u001b[0m\n\u001b[1;32m    225\u001b[0m                 \u001b[0mraise_val\u001b[0m \u001b[0;34m=\u001b[0m \u001b[0mself\u001b[0m\u001b[0;34m.\u001b[0m\u001b[0m_fulfillment_handler0\u001b[0m\u001b[0;34m\u001b[0m\u001b[0;34m\u001b[0m\u001b[0m\n\u001b[0;32m--> 226\u001b[0;31m                 \u001b[0mreraise\u001b[0m\u001b[0;34m(\u001b[0m\u001b[0mtype\u001b[0m\u001b[0;34m(\u001b[0m\u001b[0mraise_val\u001b[0m\u001b[0;34m)\u001b[0m\u001b[0;34m,\u001b[0m \u001b[0mraise_val\u001b[0m\u001b[0;34m,\u001b[0m \u001b[0mself\u001b[0m\u001b[0;34m.\u001b[0m\u001b[0m_traceback\u001b[0m\u001b[0;34m)\u001b[0m\u001b[0;34m\u001b[0m\u001b[0;34m\u001b[0m\u001b[0m\n\u001b[0m\u001b[1;32m    227\u001b[0m             \u001b[0;32mreturn\u001b[0m \u001b[0mself\u001b[0m\u001b[0;34m.\u001b[0m\u001b[0m_fulfillment_handler0\u001b[0m\u001b[0;34m\u001b[0m\u001b[0;34m\u001b[0m\u001b[0m\n\u001b[1;32m    228\u001b[0m \u001b[0;34m\u001b[0m\u001b[0m\n",
            "\u001b[0;32m/usr/local/lib/python3.8/dist-packages/six.py\u001b[0m in \u001b[0;36mreraise\u001b[0;34m(tp, value, tb)\u001b[0m\n\u001b[1;32m    701\u001b[0m             \u001b[0;32mif\u001b[0m \u001b[0mvalue\u001b[0m\u001b[0;34m.\u001b[0m\u001b[0m__traceback__\u001b[0m \u001b[0;32mis\u001b[0m \u001b[0;32mnot\u001b[0m \u001b[0mtb\u001b[0m\u001b[0;34m:\u001b[0m\u001b[0;34m\u001b[0m\u001b[0;34m\u001b[0m\u001b[0m\n\u001b[1;32m    702\u001b[0m                 \u001b[0;32mraise\u001b[0m \u001b[0mvalue\u001b[0m\u001b[0;34m.\u001b[0m\u001b[0mwith_traceback\u001b[0m\u001b[0;34m(\u001b[0m\u001b[0mtb\u001b[0m\u001b[0;34m)\u001b[0m\u001b[0;34m\u001b[0m\u001b[0;34m\u001b[0m\u001b[0m\n\u001b[0;32m--> 703\u001b[0;31m             \u001b[0;32mraise\u001b[0m \u001b[0mvalue\u001b[0m\u001b[0;34m\u001b[0m\u001b[0;34m\u001b[0m\u001b[0m\n\u001b[0m\u001b[1;32m    704\u001b[0m         \u001b[0;32mfinally\u001b[0m\u001b[0;34m:\u001b[0m\u001b[0;34m\u001b[0m\u001b[0;34m\u001b[0m\u001b[0m\n\u001b[1;32m    705\u001b[0m             \u001b[0mvalue\u001b[0m \u001b[0;34m=\u001b[0m \u001b[0;32mNone\u001b[0m\u001b[0;34m\u001b[0m\u001b[0;34m\u001b[0m\u001b[0m\n",
            "\u001b[0;32m/usr/local/lib/python3.8/dist-packages/promise/promise.py\u001b[0m in \u001b[0;36mhandle_future_result\u001b[0;34m(future)\u001b[0m\n\u001b[1;32m    842\u001b[0m         \u001b[0;31m# type: (Any) -> None\u001b[0m\u001b[0;34m\u001b[0m\u001b[0;34m\u001b[0m\u001b[0;34m\u001b[0m\u001b[0m\n\u001b[1;32m    843\u001b[0m         \u001b[0;32mtry\u001b[0m\u001b[0;34m:\u001b[0m\u001b[0;34m\u001b[0m\u001b[0;34m\u001b[0m\u001b[0m\n\u001b[0;32m--> 844\u001b[0;31m             \u001b[0mresolve\u001b[0m\u001b[0;34m(\u001b[0m\u001b[0mfuture\u001b[0m\u001b[0;34m.\u001b[0m\u001b[0mresult\u001b[0m\u001b[0;34m(\u001b[0m\u001b[0;34m)\u001b[0m\u001b[0;34m)\u001b[0m\u001b[0;34m\u001b[0m\u001b[0;34m\u001b[0m\u001b[0m\n\u001b[0m\u001b[1;32m    845\u001b[0m         \u001b[0;32mexcept\u001b[0m \u001b[0mException\u001b[0m \u001b[0;32mas\u001b[0m \u001b[0me\u001b[0m\u001b[0;34m:\u001b[0m\u001b[0;34m\u001b[0m\u001b[0;34m\u001b[0m\u001b[0m\n\u001b[1;32m    846\u001b[0m             \u001b[0mtb\u001b[0m \u001b[0;34m=\u001b[0m \u001b[0mexc_info\u001b[0m\u001b[0;34m(\u001b[0m\u001b[0;34m)\u001b[0m\u001b[0;34m[\u001b[0m\u001b[0;36m2\u001b[0m\u001b[0;34m]\u001b[0m\u001b[0;34m\u001b[0m\u001b[0;34m\u001b[0m\u001b[0m\n",
            "\u001b[0;32m/usr/lib/python3.8/concurrent/futures/_base.py\u001b[0m in \u001b[0;36mresult\u001b[0;34m(self, timeout)\u001b[0m\n\u001b[1;32m    435\u001b[0m                     \u001b[0;32mraise\u001b[0m \u001b[0mCancelledError\u001b[0m\u001b[0;34m(\u001b[0m\u001b[0;34m)\u001b[0m\u001b[0;34m\u001b[0m\u001b[0;34m\u001b[0m\u001b[0m\n\u001b[1;32m    436\u001b[0m                 \u001b[0;32melif\u001b[0m \u001b[0mself\u001b[0m\u001b[0;34m.\u001b[0m\u001b[0m_state\u001b[0m \u001b[0;34m==\u001b[0m \u001b[0mFINISHED\u001b[0m\u001b[0;34m:\u001b[0m\u001b[0;34m\u001b[0m\u001b[0;34m\u001b[0m\u001b[0m\n\u001b[0;32m--> 437\u001b[0;31m                     \u001b[0;32mreturn\u001b[0m \u001b[0mself\u001b[0m\u001b[0;34m.\u001b[0m\u001b[0m__get_result\u001b[0m\u001b[0;34m(\u001b[0m\u001b[0;34m)\u001b[0m\u001b[0;34m\u001b[0m\u001b[0;34m\u001b[0m\u001b[0m\n\u001b[0m\u001b[1;32m    438\u001b[0m \u001b[0;34m\u001b[0m\u001b[0m\n\u001b[1;32m    439\u001b[0m                 \u001b[0mself\u001b[0m\u001b[0;34m.\u001b[0m\u001b[0m_condition\u001b[0m\u001b[0;34m.\u001b[0m\u001b[0mwait\u001b[0m\u001b[0;34m(\u001b[0m\u001b[0mtimeout\u001b[0m\u001b[0;34m)\u001b[0m\u001b[0;34m\u001b[0m\u001b[0;34m\u001b[0m\u001b[0m\n",
            "\u001b[0;32m/usr/lib/python3.8/concurrent/futures/_base.py\u001b[0m in \u001b[0;36m__get_result\u001b[0;34m(self)\u001b[0m\n\u001b[1;32m    387\u001b[0m         \u001b[0;32mif\u001b[0m \u001b[0mself\u001b[0m\u001b[0;34m.\u001b[0m\u001b[0m_exception\u001b[0m\u001b[0;34m:\u001b[0m\u001b[0;34m\u001b[0m\u001b[0;34m\u001b[0m\u001b[0m\n\u001b[1;32m    388\u001b[0m             \u001b[0;32mtry\u001b[0m\u001b[0;34m:\u001b[0m\u001b[0;34m\u001b[0m\u001b[0;34m\u001b[0m\u001b[0m\n\u001b[0;32m--> 389\u001b[0;31m                 \u001b[0;32mraise\u001b[0m \u001b[0mself\u001b[0m\u001b[0;34m.\u001b[0m\u001b[0m_exception\u001b[0m\u001b[0;34m\u001b[0m\u001b[0;34m\u001b[0m\u001b[0m\n\u001b[0m\u001b[1;32m    390\u001b[0m             \u001b[0;32mfinally\u001b[0m\u001b[0;34m:\u001b[0m\u001b[0;34m\u001b[0m\u001b[0;34m\u001b[0m\u001b[0m\n\u001b[1;32m    391\u001b[0m                 \u001b[0;31m# Break a reference cycle with the exception in self._exception\u001b[0m\u001b[0;34m\u001b[0m\u001b[0;34m\u001b[0m\u001b[0;34m\u001b[0m\u001b[0m\n",
            "\u001b[0;32m/usr/lib/python3.8/concurrent/futures/thread.py\u001b[0m in \u001b[0;36mrun\u001b[0;34m(self)\u001b[0m\n\u001b[1;32m     55\u001b[0m \u001b[0;34m\u001b[0m\u001b[0m\n\u001b[1;32m     56\u001b[0m         \u001b[0;32mtry\u001b[0m\u001b[0;34m:\u001b[0m\u001b[0;34m\u001b[0m\u001b[0;34m\u001b[0m\u001b[0m\n\u001b[0;32m---> 57\u001b[0;31m             \u001b[0mresult\u001b[0m \u001b[0;34m=\u001b[0m \u001b[0mself\u001b[0m\u001b[0;34m.\u001b[0m\u001b[0mfn\u001b[0m\u001b[0;34m(\u001b[0m\u001b[0;34m*\u001b[0m\u001b[0mself\u001b[0m\u001b[0;34m.\u001b[0m\u001b[0margs\u001b[0m\u001b[0;34m,\u001b[0m \u001b[0;34m**\u001b[0m\u001b[0mself\u001b[0m\u001b[0;34m.\u001b[0m\u001b[0mkwargs\u001b[0m\u001b[0;34m)\u001b[0m\u001b[0;34m\u001b[0m\u001b[0;34m\u001b[0m\u001b[0m\n\u001b[0m\u001b[1;32m     58\u001b[0m         \u001b[0;32mexcept\u001b[0m \u001b[0mBaseException\u001b[0m \u001b[0;32mas\u001b[0m \u001b[0mexc\u001b[0m\u001b[0;34m:\u001b[0m\u001b[0;34m\u001b[0m\u001b[0;34m\u001b[0m\u001b[0m\n\u001b[1;32m     59\u001b[0m             \u001b[0mself\u001b[0m\u001b[0;34m.\u001b[0m\u001b[0mfuture\u001b[0m\u001b[0;34m.\u001b[0m\u001b[0mset_exception\u001b[0m\u001b[0;34m(\u001b[0m\u001b[0mexc\u001b[0m\u001b[0;34m)\u001b[0m\u001b[0;34m\u001b[0m\u001b[0;34m\u001b[0m\u001b[0m\n",
            "\u001b[0;32m/usr/local/lib/python3.8/dist-packages/tensorflow_datasets/core/download/downloader.py\u001b[0m in \u001b[0;36m_sync_download\u001b[0;34m(self, url, destination_path, verify)\u001b[0m\n\u001b[1;32m    215\u001b[0m       \u001b[0;32mpass\u001b[0m\u001b[0;34m\u001b[0m\u001b[0;34m\u001b[0m\u001b[0m\n\u001b[1;32m    216\u001b[0m \u001b[0;34m\u001b[0m\u001b[0m\n\u001b[0;32m--> 217\u001b[0;31m     \u001b[0;32mwith\u001b[0m \u001b[0m_open_url\u001b[0m\u001b[0;34m(\u001b[0m\u001b[0murl\u001b[0m\u001b[0;34m,\u001b[0m \u001b[0mverify\u001b[0m\u001b[0;34m=\u001b[0m\u001b[0mverify\u001b[0m\u001b[0;34m)\u001b[0m \u001b[0;32mas\u001b[0m \u001b[0;34m(\u001b[0m\u001b[0mresponse\u001b[0m\u001b[0;34m,\u001b[0m \u001b[0miter_content\u001b[0m\u001b[0;34m)\u001b[0m\u001b[0;34m:\u001b[0m\u001b[0;34m\u001b[0m\u001b[0;34m\u001b[0m\u001b[0m\n\u001b[0m\u001b[1;32m    218\u001b[0m       \u001b[0mfname\u001b[0m \u001b[0;34m=\u001b[0m \u001b[0m_get_filename\u001b[0m\u001b[0;34m(\u001b[0m\u001b[0mresponse\u001b[0m\u001b[0;34m)\u001b[0m\u001b[0;34m\u001b[0m\u001b[0;34m\u001b[0m\u001b[0m\n\u001b[1;32m    219\u001b[0m       \u001b[0mpath\u001b[0m \u001b[0;34m=\u001b[0m \u001b[0mos\u001b[0m\u001b[0;34m.\u001b[0m\u001b[0mpath\u001b[0m\u001b[0;34m.\u001b[0m\u001b[0mjoin\u001b[0m\u001b[0;34m(\u001b[0m\u001b[0mdestination_path\u001b[0m\u001b[0;34m,\u001b[0m \u001b[0mfname\u001b[0m\u001b[0;34m)\u001b[0m\u001b[0;34m\u001b[0m\u001b[0;34m\u001b[0m\u001b[0m\n",
            "\u001b[0;32m/usr/lib/python3.8/contextlib.py\u001b[0m in \u001b[0;36m__enter__\u001b[0;34m(self)\u001b[0m\n\u001b[1;32m    111\u001b[0m         \u001b[0;32mdel\u001b[0m \u001b[0mself\u001b[0m\u001b[0;34m.\u001b[0m\u001b[0margs\u001b[0m\u001b[0;34m,\u001b[0m \u001b[0mself\u001b[0m\u001b[0;34m.\u001b[0m\u001b[0mkwds\u001b[0m\u001b[0;34m,\u001b[0m \u001b[0mself\u001b[0m\u001b[0;34m.\u001b[0m\u001b[0mfunc\u001b[0m\u001b[0;34m\u001b[0m\u001b[0;34m\u001b[0m\u001b[0m\n\u001b[1;32m    112\u001b[0m         \u001b[0;32mtry\u001b[0m\u001b[0;34m:\u001b[0m\u001b[0;34m\u001b[0m\u001b[0;34m\u001b[0m\u001b[0m\n\u001b[0;32m--> 113\u001b[0;31m             \u001b[0;32mreturn\u001b[0m \u001b[0mnext\u001b[0m\u001b[0;34m(\u001b[0m\u001b[0mself\u001b[0m\u001b[0;34m.\u001b[0m\u001b[0mgen\u001b[0m\u001b[0;34m)\u001b[0m\u001b[0;34m\u001b[0m\u001b[0;34m\u001b[0m\u001b[0m\n\u001b[0m\u001b[1;32m    114\u001b[0m         \u001b[0;32mexcept\u001b[0m \u001b[0mStopIteration\u001b[0m\u001b[0;34m:\u001b[0m\u001b[0;34m\u001b[0m\u001b[0;34m\u001b[0m\u001b[0m\n\u001b[1;32m    115\u001b[0m             \u001b[0;32mraise\u001b[0m \u001b[0mRuntimeError\u001b[0m\u001b[0;34m(\u001b[0m\u001b[0;34m\"generator didn't yield\"\u001b[0m\u001b[0;34m)\u001b[0m \u001b[0;32mfrom\u001b[0m \u001b[0;32mNone\u001b[0m\u001b[0;34m\u001b[0m\u001b[0;34m\u001b[0m\u001b[0m\n",
            "\u001b[0;32m/usr/local/lib/python3.8/dist-packages/tensorflow_datasets/core/download/downloader.py\u001b[0m in \u001b[0;36m_open_with_requests\u001b[0;34m(url, **kwargs)\u001b[0m\n\u001b[1;32m    277\u001b[0m       \u001b[0murl\u001b[0m \u001b[0;34m=\u001b[0m \u001b[0m_normalize_drive_url\u001b[0m\u001b[0;34m(\u001b[0m\u001b[0murl\u001b[0m\u001b[0;34m)\u001b[0m\u001b[0;34m\u001b[0m\u001b[0;34m\u001b[0m\u001b[0m\n\u001b[1;32m    278\u001b[0m     \u001b[0;32mwith\u001b[0m \u001b[0msession\u001b[0m\u001b[0;34m.\u001b[0m\u001b[0mget\u001b[0m\u001b[0;34m(\u001b[0m\u001b[0murl\u001b[0m\u001b[0;34m,\u001b[0m \u001b[0mstream\u001b[0m\u001b[0;34m=\u001b[0m\u001b[0;32mTrue\u001b[0m\u001b[0;34m,\u001b[0m \u001b[0;34m**\u001b[0m\u001b[0mkwargs\u001b[0m\u001b[0;34m)\u001b[0m \u001b[0;32mas\u001b[0m \u001b[0mresponse\u001b[0m\u001b[0;34m:\u001b[0m\u001b[0;34m\u001b[0m\u001b[0;34m\u001b[0m\u001b[0m\n\u001b[0;32m--> 279\u001b[0;31m       \u001b[0m_assert_status\u001b[0m\u001b[0;34m(\u001b[0m\u001b[0mresponse\u001b[0m\u001b[0;34m)\u001b[0m\u001b[0;34m\u001b[0m\u001b[0;34m\u001b[0m\u001b[0m\n\u001b[0m\u001b[1;32m    280\u001b[0m       \u001b[0;32myield\u001b[0m \u001b[0;34m(\u001b[0m\u001b[0mresponse\u001b[0m\u001b[0;34m,\u001b[0m \u001b[0mresponse\u001b[0m\u001b[0;34m.\u001b[0m\u001b[0miter_content\u001b[0m\u001b[0;34m(\u001b[0m\u001b[0mchunk_size\u001b[0m\u001b[0;34m=\u001b[0m\u001b[0mio\u001b[0m\u001b[0;34m.\u001b[0m\u001b[0mDEFAULT_BUFFER_SIZE\u001b[0m\u001b[0;34m)\u001b[0m\u001b[0;34m)\u001b[0m\u001b[0;34m\u001b[0m\u001b[0;34m\u001b[0m\u001b[0m\n\u001b[1;32m    281\u001b[0m \u001b[0;34m\u001b[0m\u001b[0m\n",
            "\u001b[0;32m/usr/local/lib/python3.8/dist-packages/tensorflow_datasets/core/download/downloader.py\u001b[0m in \u001b[0;36m_assert_status\u001b[0;34m(response)\u001b[0m\n\u001b[1;32m    304\u001b[0m   \u001b[0;34m\"\"\"Ensure the URL response is 200.\"\"\"\u001b[0m\u001b[0;34m\u001b[0m\u001b[0;34m\u001b[0m\u001b[0m\n\u001b[1;32m    305\u001b[0m   \u001b[0;32mif\u001b[0m \u001b[0mresponse\u001b[0m\u001b[0;34m.\u001b[0m\u001b[0mstatus_code\u001b[0m \u001b[0;34m!=\u001b[0m \u001b[0;36m200\u001b[0m\u001b[0;34m:\u001b[0m\u001b[0;34m\u001b[0m\u001b[0;34m\u001b[0m\u001b[0m\n\u001b[0;32m--> 306\u001b[0;31m     raise DownloadError('Failed to get url {}. HTTP code: {}.'.format(\n\u001b[0m\u001b[1;32m    307\u001b[0m         response.url, response.status_code))\n",
            "\u001b[0;31mDownloadError\u001b[0m: Failed to get url https://doc-0s-84-docs.googleusercontent.com/docs/securesc/ha0ro937gcuc7l7deffksulhg5h7mbp1/mnqjmm6eopsa2b6te1rubblbh351gpmq/1672125225000/13182073909007362810/*/0B7EVK8r0v71pZjFTYXZWM3FlRnM?e=download&uuid=3c4bca09-699c-43b4-8203-d18280f978d9. HTTP code: 429."
          ]
        }
      ]
    },
    {
      "cell_type": "code",
      "source": [
        "import imageio\n",
        "from skimage.transform import resize\n",
        "\n",
        "celeb_a_train, celeb_a_test = celeb_a['validation'], celeb_a['test']\n",
        "\n",
        "x_train = []\n",
        "y_train = []\n",
        "\n",
        "for tensor in tfds.as_numpy(celeb_a_train):\n",
        "  IsMale = tensor['attributes']['Male']\n",
        "  IsSmile = tensor['attributes']['Smiling']\n",
        "\n",
        "  label = np.array([IsMale, IsSmile]).astype(np.int8)\n",
        "\n",
        "  img = resize(tensor['image'],(190//1.5, 89//1.5))\n",
        "\n",
        "  x_train.append(img)\n",
        "  y_train.append(label)"
      ],
      "metadata": {
        "id": "p7liPh8AtmI2"
      },
      "execution_count": 4,
      "outputs": []
    },
    {
      "cell_type": "code",
      "source": [
        "x_test = []\n",
        "y_test = []\n",
        "\n",
        "for tensor in tfds.as_numpy(celeb_a_test):\n",
        "  IsMale = tensor['attributes']['Male']\n",
        "  IsSmile = tensor['attributes']['Smiling']\n",
        "\n",
        "  label = np.array([IsMale, IsSmile]).astype(np.int8)\n",
        "\n",
        "  img = resize(tensor['image'],(190//1.5, 89//1.5))\n",
        "\n",
        "  x_test.append(img)\n",
        "  y_test.append(label)"
      ],
      "metadata": {
        "id": "s_V55r5swkO5"
      },
      "execution_count": 5,
      "outputs": []
    },
    {
      "cell_type": "code",
      "source": [
        "len(x_train)\n",
        "len(y_train)"
      ],
      "metadata": {
        "colab": {
          "base_uri": "https://localhost:8080/"
        },
        "id": "3-l351cRz_Xs",
        "outputId": "7aac952c-78c8-42ee-973c-0ff883e1c506"
      },
      "execution_count": 6,
      "outputs": [
        {
          "output_type": "execute_result",
          "data": {
            "text/plain": [
              "19867"
            ]
          },
          "metadata": {},
          "execution_count": 6
        }
      ]
    },
    {
      "cell_type": "markdown",
      "metadata": {
        "id": "y2gc2vB8zfXp"
      },
      "source": [
        "### 문제 3. 데이터량 축소"
      ]
    },
    {
      "cell_type": "code",
      "metadata": {
        "id": "CerWeQM1zfXp"
      },
      "source": [
        "# 데이터량 축소\n",
        "m_s = []  # male, smile\n",
        "f_s = []  # female, smile\n",
        "m_n = []  # male, not smile\n",
        "f_n = []  # female, not smile"
      ],
      "execution_count": 7,
      "outputs": []
    },
    {
      "cell_type": "code",
      "source": [
        "for a, b in zip(x_test, y_test):\n",
        "  if b[0] and b[1]:\n",
        "    m_s.append((a, b))\n",
        "  elif not b[0] and b[1]:\n",
        "    f_s.append((a, b))\n",
        "  elif b[0] and not b[1]:\n",
        "    m_n.append((a, b))\n",
        "  else:\n",
        "    f_n.append((a, b))"
      ],
      "metadata": {
        "id": "scVNYaHVyhn7"
      },
      "execution_count": 8,
      "outputs": []
    },
    {
      "cell_type": "code",
      "source": [
        "print(len(m_s), len(f_s), len(m_n), len(f_n))"
      ],
      "metadata": {
        "colab": {
          "base_uri": "https://localhost:8080/"
        },
        "id": "44_8SXzq0YPL",
        "outputId": "3886c846-3d81-48ea-dc65-e0f3756a77e4"
      },
      "execution_count": 9,
      "outputs": [
        {
          "output_type": "stream",
          "name": "stdout",
          "text": [
            "3094 6893 4621 5354\n"
          ]
        }
      ]
    },
    {
      "cell_type": "code",
      "source": [
        "total = m_s[:550] + f_s[:550] + m_n[:550] + f_n[:550]"
      ],
      "metadata": {
        "id": "TabaD52v0qaL"
      },
      "execution_count": 10,
      "outputs": []
    },
    {
      "cell_type": "code",
      "source": [
        "import random\n",
        "random.shuffle(total)\n",
        "trains = total[:2000]\n",
        "tests = total[2000:]"
      ],
      "metadata": {
        "id": "YMuQ-ysy1EJA"
      },
      "execution_count": 11,
      "outputs": []
    },
    {
      "cell_type": "code",
      "source": [
        "print(len(trains), len(tests))"
      ],
      "metadata": {
        "colab": {
          "base_uri": "https://localhost:8080/"
        },
        "id": "l0fCOfEz1X8D",
        "outputId": "fda119ca-58af-49a8-f437-0b8ea7db7020"
      },
      "execution_count": 12,
      "outputs": [
        {
          "output_type": "stream",
          "name": "stdout",
          "text": [
            "2000 200\n"
          ]
        }
      ]
    },
    {
      "cell_type": "code",
      "source": [
        "trains[0]"
      ],
      "metadata": {
        "colab": {
          "base_uri": "https://localhost:8080/"
        },
        "id": "MsrfJfZqGveB",
        "outputId": "902e3d5d-68d9-4a8d-b06d-87202bc2a26b"
      },
      "execution_count": 15,
      "outputs": [
        {
          "output_type": "execute_result",
          "data": {
            "text/plain": [
              "(array([[[1.95327246e-01, 1.83562540e-01, 1.48268422e-01],\n",
              "         [1.73096583e-01, 1.61331877e-01, 1.26037760e-01],\n",
              "         [1.48376036e-01, 1.36611330e-01, 1.01317212e-01],\n",
              "         ...,\n",
              "         [2.62578930e-01, 1.95746095e-01, 1.33167165e-01],\n",
              "         [2.66666667e-01, 2.03921569e-01, 1.41176471e-01],\n",
              "         [2.58889997e-01, 1.96144899e-01, 1.21668328e-01]],\n",
              " \n",
              "        [[2.28541360e-01, 2.16776654e-01, 1.89325674e-01],\n",
              "         [2.17463483e-01, 2.05698777e-01, 1.78247796e-01],\n",
              "         [2.06203611e-01, 1.94438906e-01, 1.66987925e-01],\n",
              "         ...,\n",
              "         [2.62578930e-01, 1.95912263e-01, 1.33167165e-01],\n",
              "         [2.66666667e-01, 2.03912073e-01, 1.40802988e-01],\n",
              "         [2.58486445e-01, 1.95741347e-01, 1.21264777e-01]],\n",
              " \n",
              "        [[2.35978836e-01, 2.24214130e-01, 2.03236850e-01],\n",
              "         [2.38613261e-01, 2.26848555e-01, 2.05871275e-01],\n",
              "         [2.40750764e-01, 2.28986058e-01, 2.08008778e-01],\n",
              "         ...,\n",
              "         [2.62716085e-01, 1.96049418e-01, 1.33304320e-01],\n",
              "         [2.63512109e-01, 2.00667310e-01, 1.37254902e-01],\n",
              "         [2.54940997e-01, 1.92195899e-01, 1.17719329e-01]],\n",
              " \n",
              "        ...,\n",
              " \n",
              "        [[0.00000000e+00, 0.00000000e+00, 0.00000000e+00],\n",
              "         [0.00000000e+00, 0.00000000e+00, 0.00000000e+00],\n",
              "         [0.00000000e+00, 0.00000000e+00, 0.00000000e+00],\n",
              "         ...,\n",
              "         [4.29338967e-01, 4.48946810e-01, 4.60877684e-01],\n",
              "         [4.34111422e-01, 4.56873823e-01, 4.65401679e-01],\n",
              "         [4.37375704e-01, 4.56983547e-01, 4.64793450e-01]],\n",
              " \n",
              "        [[0.00000000e+00, 0.00000000e+00, 0.00000000e+00],\n",
              "         [0.00000000e+00, 0.00000000e+00, 0.00000000e+00],\n",
              "         [0.00000000e+00, 0.00000000e+00, 0.00000000e+00],\n",
              "         ...,\n",
              "         [4.39049518e-01, 4.58657361e-01, 4.73835636e-01],\n",
              "         [4.47149029e-01, 4.70214753e-01, 4.78521578e-01],\n",
              "         [4.50576841e-01, 4.70184684e-01, 4.77994588e-01]],\n",
              " \n",
              "        [[0.00000000e+00, 0.00000000e+00, 0.00000000e+00],\n",
              "         [0.00000000e+00, 0.00000000e+00, 0.00000000e+00],\n",
              "         [6.06645671e-05, 6.06645671e-05, 6.06645671e-05],\n",
              "         ...,\n",
              "         [4.41600068e-01, 4.61207911e-01, 4.73078120e-01],\n",
              "         [4.45563838e-01, 4.66566966e-01, 4.74509804e-01],\n",
              "         [4.50947159e-01, 4.70588235e-01, 4.80866923e-01]]]),\n",
              " array([1, 1], dtype=int8))"
            ]
          },
          "metadata": {},
          "execution_count": 15
        }
      ]
    },
    {
      "cell_type": "code",
      "source": [
        "x_train, y_train = zip(*trains)\n",
        "x_test, y_test = zip(*tests)"
      ],
      "metadata": {
        "id": "MLF_BW3oG5-B"
      },
      "execution_count": 16,
      "outputs": []
    },
    {
      "cell_type": "code",
      "source": [
        "x_train = np.array(x_train)\n",
        "y_train = np.array(y_train)\n",
        "x_test = np.array(x_test)\n",
        "y_test = np.array(y_test)"
      ],
      "metadata": {
        "id": "45Gs5ajgHQht"
      },
      "execution_count": 17,
      "outputs": []
    },
    {
      "cell_type": "markdown",
      "metadata": {
        "id": "6_IiB2H3zfXq"
      },
      "source": [
        "### 문제 4. 사전 저장된 celeba small 데이터 확인"
      ]
    },
    {
      "cell_type": "code",
      "metadata": {
        "id": "jeVP1QF4zfXq",
        "colab": {
          "base_uri": "https://localhost:8080/"
        },
        "outputId": "e7837764-41a5-41a6-a45b-e85d5e8b8821"
      },
      "source": [
        "# 이미 저장된 celeba 데이터를 이용\n",
        "from google.colab import drive\n",
        "drive.mount('/content/drive', force_remount=True)"
      ],
      "execution_count": 2,
      "outputs": [
        {
          "output_type": "stream",
          "name": "stdout",
          "text": [
            "Mounted at /content/drive\n"
          ]
        }
      ]
    },
    {
      "cell_type": "code",
      "source": [
        "!ls -al /content/drive/MyDrive/colab_commit/TIL_DL/File/celeba_small.npz"
      ],
      "metadata": {
        "colab": {
          "base_uri": "https://localhost:8080/"
        },
        "id": "Ms_sKJPxIr-t",
        "outputId": "71532191-69e4-4901-ce0b-36527d0a72a5"
      },
      "execution_count": 3,
      "outputs": [
        {
          "output_type": "stream",
          "name": "stdout",
          "text": [
            "-r-------- 1 root root 173961605 Dec 17  2020 /content/drive/MyDrive/colab_commit/TIL_DL/File/celeba_small.npz\n"
          ]
        }
      ]
    },
    {
      "cell_type": "markdown",
      "metadata": {
        "id": "pFQzrtS9zfXr"
      },
      "source": [
        "### 문제 5. celeba_small 데이터 살펴보기"
      ]
    },
    {
      "cell_type": "code",
      "metadata": {
        "id": "il6cKcv4zfXr"
      },
      "source": [
        "# 데이터를 train에서 사람 이미지 한장과 label 정보 한개를 불러오는 코드를 작성해주세요. (x, y로 변수 대입)\n",
        "celeba_small = np.load('/content/drive/MyDrive/colab_commit/TIL_DL/File/celeba_small.npz')"
      ],
      "execution_count": 66,
      "outputs": []
    },
    {
      "cell_type": "code",
      "source": [
        "list(celeba_small.keys())"
      ],
      "metadata": {
        "colab": {
          "base_uri": "https://localhost:8080/"
        },
        "id": "qo5dvbf-JV0S",
        "outputId": "03897047-0565-44e8-9827-83ac7fe3cede"
      },
      "execution_count": 67,
      "outputs": [
        {
          "output_type": "execute_result",
          "data": {
            "text/plain": [
              "['train_images', 'train_labels', 'test_images', 'test_labels']"
            ]
          },
          "metadata": {},
          "execution_count": 67
        }
      ]
    },
    {
      "cell_type": "markdown",
      "metadata": {
        "id": "GCA5cjoczfXr"
      },
      "source": [
        "### 문제 6. x와 y의 shape을 출력해보세요."
      ]
    },
    {
      "cell_type": "code",
      "metadata": {
        "id": "VID5ngH3zfXr",
        "colab": {
          "base_uri": "https://localhost:8080/",
          "height": 211
        },
        "outputId": "92c2a2c2-a111-4916-dd8c-8482a8df4fc6"
      },
      "source": [
        "# 데이터의 크기를 shape 함수를 통해 출력해주세요.\n",
        "x = x_train[0]\n",
        "y = y_train[0]"
      ],
      "execution_count": 6,
      "outputs": [
        {
          "output_type": "error",
          "ename": "NameError",
          "evalue": "ignored",
          "traceback": [
            "\u001b[0;31m---------------------------------------------------------------------------\u001b[0m",
            "\u001b[0;31mNameError\u001b[0m                                 Traceback (most recent call last)",
            "\u001b[0;32m<ipython-input-6-2e25f7f7d835>\u001b[0m in \u001b[0;36m<module>\u001b[0;34m\u001b[0m\n\u001b[1;32m      1\u001b[0m \u001b[0;31m# 데이터의 크기를 shape 함수를 통해 출력해주세요.\u001b[0m\u001b[0;34m\u001b[0m\u001b[0;34m\u001b[0m\u001b[0;34m\u001b[0m\u001b[0m\n\u001b[0;32m----> 2\u001b[0;31m \u001b[0mx\u001b[0m \u001b[0;34m=\u001b[0m \u001b[0mx_train\u001b[0m\u001b[0;34m[\u001b[0m\u001b[0;36m0\u001b[0m\u001b[0;34m]\u001b[0m\u001b[0;34m\u001b[0m\u001b[0;34m\u001b[0m\u001b[0m\n\u001b[0m\u001b[1;32m      3\u001b[0m \u001b[0my\u001b[0m \u001b[0;34m=\u001b[0m \u001b[0my_train\u001b[0m\u001b[0;34m[\u001b[0m\u001b[0;36m0\u001b[0m\u001b[0;34m]\u001b[0m\u001b[0;34m\u001b[0m\u001b[0;34m\u001b[0m\u001b[0m\n",
            "\u001b[0;31mNameError\u001b[0m: name 'x_train' is not defined"
          ]
        }
      ]
    },
    {
      "cell_type": "code",
      "source": [
        "x.shape, y.shape "
      ],
      "metadata": {
        "colab": {
          "base_uri": "https://localhost:8080/",
          "height": 174
        },
        "id": "jxFOmcHWKFdb",
        "outputId": "9325f766-a5c4-41e2-aea2-277dd0f9611b"
      },
      "execution_count": 7,
      "outputs": [
        {
          "output_type": "error",
          "ename": "NameError",
          "evalue": "ignored",
          "traceback": [
            "\u001b[0;31m---------------------------------------------------------------------------\u001b[0m",
            "\u001b[0;31mNameError\u001b[0m                                 Traceback (most recent call last)",
            "\u001b[0;32m<ipython-input-7-e15891ecf807>\u001b[0m in \u001b[0;36m<module>\u001b[0;34m\u001b[0m\n\u001b[0;32m----> 1\u001b[0;31m \u001b[0mx\u001b[0m\u001b[0;34m.\u001b[0m\u001b[0mshape\u001b[0m\u001b[0;34m,\u001b[0m \u001b[0my\u001b[0m\u001b[0;34m.\u001b[0m\u001b[0mshape\u001b[0m\u001b[0;34m\u001b[0m\u001b[0;34m\u001b[0m\u001b[0m\n\u001b[0m",
            "\u001b[0;31mNameError\u001b[0m: name 'x' is not defined"
          ]
        }
      ]
    },
    {
      "cell_type": "markdown",
      "metadata": {
        "id": "oWWZjiR5zfXs"
      },
      "source": [
        "### 문제 7. x를 각각 plt를 통하여 출력하세요."
      ]
    },
    {
      "cell_type": "code",
      "metadata": {
        "id": "zCD8YxAFzfXs",
        "colab": {
          "base_uri": "https://localhost:8080/",
          "height": 286
        },
        "outputId": "3c0dea3f-6f20-4436-da4e-bae2fb496c64"
      },
      "source": [
        "# x를 plt를 이용하여 출력하는 코드를 작성해보세요\n",
        "plt.imshow(x)\n",
        "plt.show()\n",
        "print(y)"
      ],
      "execution_count": 30,
      "outputs": [
        {
          "output_type": "display_data",
          "data": {
            "text/plain": [
              "<Figure size 432x288 with 1 Axes>"
            ],
            "image/png": "[encoded data removed]"
          },
          "metadata": {
            "needs_background": "light"
          }
        },
        {
          "output_type": "stream",
          "name": "stdout",
          "text": [
            "[0 0]\n"
          ]
        }
      ]
    },
    {
      "cell_type": "markdown",
      "metadata": {
        "id": "oblQdV_KzfXs"
      },
      "source": [
        "### 문제 8. celeba_small.npz 데이터에서 학습, 테스트 데이터를 로드하세요."
      ]
    },
    {
      "cell_type": "code",
      "metadata": {
        "id": "UbqJxnEKzfXs"
      },
      "source": [
        "# celeba_small.npz에서 train_images, test_images, train_labels, test_labels를 np array로 로드하세요.\n",
        "x_train = celeba_small['train_images']\n",
        "y_train = celeba_small['train_labels']\n",
        "x_test = celeba_small['test_images']\n",
        "y_test = celeba_small['test_labels']"
      ],
      "execution_count": 68,
      "outputs": []
    },
    {
      "cell_type": "markdown",
      "metadata": {
        "id": "7KrxMSX1zfXs"
      },
      "source": [
        "### 문제 9. train_images에서 0이 아닌 값들을 출력해보세요."
      ]
    },
    {
      "cell_type": "code",
      "metadata": {
        "id": "gzVkaWY_zfXs",
        "colab": {
          "base_uri": "https://localhost:8080/"
        },
        "outputId": "7ad36cc7-06b0-4b1b-d7c4-12a6166cdd2b"
      },
      "source": [
        "# 하나의 이미지에 대한 모든 0이 아닌 값을 출력하는 코드를 작성하세요.\n",
        "x_train[x_train != 0][:10]"
      ],
      "execution_count": 69,
      "outputs": [
        {
          "output_type": "execute_result",
          "data": {
            "text/plain": [
              "array([0.02352941, 0.04313725, 0.05490196, 0.01960784, 0.03921569,\n",
              "       0.05490196, 0.01977401, 0.03921569, 0.05114656, 0.02352941])"
            ]
          },
          "metadata": {},
          "execution_count": 69
        }
      ]
    },
    {
      "cell_type": "markdown",
      "metadata": {
        "id": "ZHPt_38HzfXt"
      },
      "source": [
        "### 문제 10. train_images의 dtype을 출력해보세요."
      ]
    },
    {
      "cell_type": "code",
      "metadata": {
        "id": "U0CsxiLqzfXt",
        "colab": {
          "base_uri": "https://localhost:8080/"
        },
        "outputId": "ffb8157a-0ef1-45dd-aeae-38305f6473db"
      },
      "source": [
        "# dtype을 이용하여 이미지의 np array type을 확인해보세요.\n",
        "x_train.dtype"
      ],
      "execution_count": 70,
      "outputs": [
        {
          "output_type": "execute_result",
          "data": {
            "text/plain": [
              "dtype('float64')"
            ]
          },
          "metadata": {},
          "execution_count": 70
        }
      ]
    },
    {
      "cell_type": "markdown",
      "metadata": {
        "id": "WTLJMKtgzfXt"
      },
      "source": [
        "## Step 2. 전처리"
      ]
    },
    {
      "cell_type": "markdown",
      "metadata": {
        "id": "RGSJWe6wzfXt"
      },
      "source": [
        "### 문제 11. 이미지 데이터의 범위 확인"
      ]
    },
    {
      "cell_type": "code",
      "metadata": {
        "id": "vmU5DLMWzfXt",
        "colab": {
          "base_uri": "https://localhost:8080/"
        },
        "outputId": "ac26afb7-4eb6-4c75-e6a2-a69393993650"
      },
      "source": [
        "# train_images, train_labels의 shape과 dtype, 0이 아닌 숫자를 출력하는 코드를 작성하세요.\n",
        "print(x_train.shape, y_train.shape)\n",
        "print(x_train.dtype, y_train.dtype)\n",
        "print(x_train[x_train != 0][:10])\n",
        "print(x_test[x_test != 0][:10])"
      ],
      "execution_count": 71,
      "outputs": [
        {
          "output_type": "stream",
          "name": "stdout",
          "text": [
            "(2000, 72, 59, 3) (2000, 2)\n",
            "float64 int8\n",
            "[0.02352941 0.04313725 0.05490196 0.01960784 0.03921569 0.05490196\n",
            " 0.01977401 0.03921569 0.05114656 0.02352941]\n",
            "[0.52571083 0.90221419 0.8707544  0.56460618 0.95304088 0.91372549\n",
            " 0.55277501 0.94885344 0.90571618 0.55756065]\n"
          ]
        }
      ]
    },
    {
      "cell_type": "markdown",
      "metadata": {
        "id": "UqAC_4r5zfXu"
      },
      "source": [
        "### 문제 12. images/labels 이미지 데이터의 최소/최대값을 출력"
      ]
    },
    {
      "cell_type": "code",
      "metadata": {
        "id": "ZYyRj1TkzfXu",
        "colab": {
          "base_uri": "https://localhost:8080/"
        },
        "outputId": "4c547648-7fb1-43fa-ff88-d89e9a73b95b"
      },
      "source": [
        "# train/test 전체 데이터에서 각 images, labels의 min, max를 출력하는 코드를 작성하세요.\n",
        "print(x_train.min(), x_train.max())\n",
        "print(y_train.min(), y_train.max())\n",
        "print(x_test.min(), x_test.max())\n",
        "print(y_test.min(), y_test.max())"
      ],
      "execution_count": 72,
      "outputs": [
        {
          "output_type": "stream",
          "name": "stdout",
          "text": [
            "0.0 1.0\n",
            "0 1\n",
            "0.0 1.0\n",
            "0 1\n"
          ]
        }
      ]
    },
    {
      "cell_type": "markdown",
      "metadata": {
        "id": "IWWfvi8FzfXu"
      },
      "source": [
        "### 문제 13. labels의 shape을 (배치, 2)에서 (배치, 2), (배치, 2)으로 변경하세요. (배치, (성별,웃음)) => (배치, 남자, 여자), (배치, 웃음, 안웃음)"
      ]
    },
    {
      "cell_type": "code",
      "metadata": {
        "id": "wuSOXHEEzfXu"
      },
      "source": [
        "# (배치, 2)의 labels shape을 (배치, 1)의 shape의 2개의 array로 분리하는 코드를 추가하세요.\n",
        "from keras.utils import to_categorical\n",
        "\n",
        "y_train_male, y_train_smile = np.split(y_train, 2, axis=1)"
      ],
      "execution_count": 73,
      "outputs": []
    },
    {
      "cell_type": "code",
      "source": [
        "y_train_male.shape"
      ],
      "metadata": {
        "colab": {
          "base_uri": "https://localhost:8080/"
        },
        "id": "y35UqtsANTjM",
        "outputId": "220aac01-ae91-4903-e866-7c39d5915489"
      },
      "execution_count": 74,
      "outputs": [
        {
          "output_type": "execute_result",
          "data": {
            "text/plain": [
              "(2000, 1)"
            ]
          },
          "metadata": {},
          "execution_count": 74
        }
      ]
    },
    {
      "cell_type": "code",
      "source": [
        "y_test_male, y_test_smile = np.split(y_test, 2, axis=1)\n",
        "y_test_male.shape"
      ],
      "metadata": {
        "colab": {
          "base_uri": "https://localhost:8080/"
        },
        "id": "Khb5JAQtNn28",
        "outputId": "404ac9b7-954c-4b16-a2b9-9cf3e26a663c"
      },
      "execution_count": 75,
      "outputs": [
        {
          "output_type": "execute_result",
          "data": {
            "text/plain": [
              "(200, 1)"
            ]
          },
          "metadata": {},
          "execution_count": 75
        }
      ]
    },
    {
      "cell_type": "code",
      "source": [
        "y_train_male = to_categorical(y_train_male)\n",
        "y_train_smile = to_categorical(y_train_smile)\n",
        "y_test_male = to_categorical(y_test_male)\n",
        "y_test_smile = to_categorical(y_test_smile)"
      ],
      "metadata": {
        "id": "fcGkSqHoNcKc"
      },
      "execution_count": 76,
      "outputs": []
    },
    {
      "cell_type": "code",
      "source": [
        "y_train_male.shape"
      ],
      "metadata": {
        "colab": {
          "base_uri": "https://localhost:8080/"
        },
        "id": "4sLsBo6LOG3G",
        "outputId": "7e0cd717-53a8-43ef-84ae-f538fed346a6"
      },
      "execution_count": 77,
      "outputs": [
        {
          "output_type": "execute_result",
          "data": {
            "text/plain": [
              "(2000, 2)"
            ]
          },
          "metadata": {},
          "execution_count": 77
        }
      ]
    },
    {
      "cell_type": "markdown",
      "metadata": {
        "id": "8K0Z0kU8zfXu"
      },
      "source": [
        "### 문제 14. labels의 shape을 (배치, 2), (배치, 2)에서 (배치, 4)로 합쳐보세요."
      ]
    },
    {
      "cell_type": "code",
      "metadata": {
        "id": "b_fdgA-WzfXv",
        "colab": {
          "base_uri": "https://localhost:8080/"
        },
        "outputId": "c4af53b8-8a33-4698-e5aa-5b76b2f1cbc3"
      },
      "source": [
        "# (배치, 2), (배치, 2)의 labels를 (배치, 4)로 합치는 코드를 작성하세요.\n",
        "# (배치, 남성여부, 웃음여부) => (배치, 남성여부), (배치, 웃음여부) => (배치, 여자여부, 남자여부), (배치, 안웃음여부, 웃음여부) => (배치, 여자여부, 남자여부, 안웃음여부, 웃음여부)\n",
        "y_train2 = np.concatenate([y_train_male, y_train_smile], axis=1)\n",
        "y_test2 = np.concatenate([y_test_male, y_test_smile], axis=1)\n",
        "y_train2.shape, y_test2.shape"
      ],
      "execution_count": 78,
      "outputs": [
        {
          "output_type": "execute_result",
          "data": {
            "text/plain": [
              "((2000, 4), (200, 4))"
            ]
          },
          "metadata": {},
          "execution_count": 78
        }
      ]
    },
    {
      "cell_type": "markdown",
      "metadata": {
        "id": "3XcXNvJCzfXv"
      },
      "source": [
        "## Step 3. 시각화 방법"
      ]
    },
    {
      "cell_type": "markdown",
      "metadata": {
        "id": "E4-KNKc4zfXv"
      },
      "source": [
        "### 문제 15. train_image의 이미지를 5장 획득하여 (5, 세로, 가로, 3)의 shape을 출력하세요."
      ]
    },
    {
      "cell_type": "code",
      "metadata": {
        "id": "DNV-8ovuzfXv",
        "colab": {
          "base_uri": "https://localhost:8080/"
        },
        "outputId": "1d196752-ff27-49ed-af4a-86c8bf1e8288"
      },
      "source": [
        "# (배치, 세로, 가로, 3)인 train_images에서 (5, 세로, 가로, 3)을 획득하는 코드를 작성하세요.\n",
        "x_train[:5].shape"
      ],
      "execution_count": 79,
      "outputs": [
        {
          "output_type": "execute_result",
          "data": {
            "text/plain": [
              "(5, 72, 59, 3)"
            ]
          },
          "metadata": {},
          "execution_count": 79
        }
      ]
    },
    {
      "cell_type": "markdown",
      "metadata": {
        "id": "NEFpns-jzfXv"
      },
      "source": [
        "### 문제 16. 획득한 5장의 의미지를 (세로, 가로 * 5, 3)의 shape으로 변경해보세요."
      ]
    },
    {
      "cell_type": "code",
      "metadata": {
        "id": "SpajpXewzfXv",
        "colab": {
          "base_uri": "https://localhost:8080/"
        },
        "outputId": "2465d5b4-01ce-452d-af6e-15739f558a74"
      },
      "source": [
        "# np.hstack은 height 방향의 배열을 풀어서 width 방향으로 연결해줍니다.\n",
        "# 해당 기능을 쓰면 (height, image_height, image_width, color)의 shape을 (image_height, image_width * height, color)으로 바꿔 줄 수 있습니다.\n",
        "# 코드를 작성해보세요.\n",
        "np.hstack(x_train[:5]).shape"
      ],
      "execution_count": 80,
      "outputs": [
        {
          "output_type": "execute_result",
          "data": {
            "text/plain": [
              "(72, 295, 3)"
            ]
          },
          "metadata": {},
          "execution_count": 80
        }
      ]
    },
    {
      "cell_type": "code",
      "source": [
        "plt.imshow(np.hstack(x_train[:5]))\n",
        "plt.show()\n",
        "print(y_train[:5])"
      ],
      "metadata": {
        "colab": {
          "base_uri": "https://localhost:8080/",
          "height": 225
        },
        "id": "O4QXIj-0cVKO",
        "outputId": "42dcf8f4-57cc-4451-c769-7959b5a95340"
      },
      "execution_count": 81,
      "outputs": [
        {
          "output_type": "display_data",
          "data": {
            "text/plain": [
              "<Figure size 432x288 with 1 Axes>"
            ],
            "image/png": "[encoded data removed]"
          },
          "metadata": {
            "needs_background": "light"
          }
        },
        {
          "output_type": "stream",
          "name": "stdout",
          "text": [
            "[[0 0]\n",
            " [1 1]\n",
            " [1 0]\n",
            " [1 1]\n",
            " [1 1]]\n"
          ]
        }
      ]
    },
    {
      "cell_type": "markdown",
      "metadata": {
        "id": "cFn1q_0jzfXw"
      },
      "source": [
        "### 문제 17. np.hstack은 tensorflow에서 제공하는 방법이 아니므로 transpose 함수를 이용하여 (세로, 가로 * 5, 3)로 shape을 변경해보세요."
      ]
    },
    {
      "cell_type": "code",
      "metadata": {
        "id": "22VKC444zfXw",
        "colab": {
          "base_uri": "https://localhost:8080/"
        },
        "outputId": "8ca209d8-7ee7-489d-f93f-12a7a486edfb"
      },
      "source": [
        "# transpose는 tensor의 axis를 섞는 기능을 합니다.\n",
        "# 해당 기능을 이용해서 (세로, 가로 * 5, 3)을 작성하는 코드를 작성해보세요.\n",
        "x_train[:5].transpose(1,0,2,3).reshape(72,-1,3).shape"
      ],
      "execution_count": 82,
      "outputs": [
        {
          "output_type": "execute_result",
          "data": {
            "text/plain": [
              "(72, 295, 3)"
            ]
          },
          "metadata": {},
          "execution_count": 82
        }
      ]
    },
    {
      "cell_type": "markdown",
      "metadata": {
        "id": "M4VjTp8FzfXw"
      },
      "source": [
        "### 문제 18. (72, 295, 3)이 된 tensor를 plt로 출력해보세요."
      ]
    },
    {
      "cell_type": "code",
      "metadata": {
        "id": "gMgv1J0-zfXw",
        "colab": {
          "base_uri": "https://localhost:8080/",
          "height": 225
        },
        "outputId": "039471a9-54ce-42ce-b06a-6067a857bf1b"
      },
      "source": [
        "# (72, 295, 3)의 이미지를 plt로 출력해보세요.\n",
        "plt.imshow(x_train[:5].transpose(1,0,2,3).reshape(72,-1,3))\n",
        "plt.show()\n",
        "print(y_train[:5])"
      ],
      "execution_count": 83,
      "outputs": [
        {
          "output_type": "display_data",
          "data": {
            "text/plain": [
              "<Figure size 432x288 with 1 Axes>"
            ],
            "image/png": "[encoded data removed]"
          },
          "metadata": {
            "needs_background": "light"
          }
        },
        {
          "output_type": "stream",
          "name": "stdout",
          "text": [
            "[[0 0]\n",
            " [1 1]\n",
            " [1 0]\n",
            " [1 1]\n",
            " [1 1]]\n"
          ]
        }
      ]
    },
    {
      "cell_type": "markdown",
      "metadata": {
        "id": "aXxgfeGdzfXw"
      },
      "source": [
        "### 문제 19. smile, male label도 5개 출력해보세요."
      ]
    },
    {
      "cell_type": "code",
      "metadata": {
        "id": "cE5mCP_GzfXx",
        "colab": {
          "base_uri": "https://localhost:8080/",
          "height": 128
        },
        "outputId": "6a8280bd-4665-4426-9aeb-79c3e6e75b2a"
      },
      "source": [
        "# smile, male label을 5개 출력하는 코드를 작성해보세요.\n",
        "for male, smile in zip(y_train_male[:5], y_train_smile[:5]):\n",
        "  print(male, smile)\n",
        "'''[female, male] [unsmile, smile]'''"
      ],
      "execution_count": 84,
      "outputs": [
        {
          "output_type": "stream",
          "name": "stdout",
          "text": [
            "[1. 0.] [1. 0.]\n",
            "[0. 1.] [0. 1.]\n",
            "[0. 1.] [1. 0.]\n",
            "[0. 1.] [0. 1.]\n",
            "[0. 1.] [0. 1.]\n"
          ]
        },
        {
          "output_type": "execute_result",
          "data": {
            "text/plain": [
              "'[female, male] [unsmile, smile]'"
            ],
            "application/vnd.google.colaboratory.intrinsic+json": {
              "type": "string"
            }
          },
          "metadata": {},
          "execution_count": 84
        }
      ]
    },
    {
      "cell_type": "markdown",
      "metadata": {
        "id": "4x0KU_BzzfXx"
      },
      "source": [
        "### 문제 20. smile, male이 각각 몇개 있는지 측정해보세요."
      ]
    },
    {
      "cell_type": "code",
      "metadata": {
        "id": "VDnSgzzKzfXx",
        "colab": {
          "base_uri": "https://localhost:8080/",
          "height": 423
        },
        "outputId": "9282f3c3-cca7-4b82-e173-416015808ce3"
      },
      "source": [
        "# pandas를 smile, male이 각각 몇개 있는지 plt를 통하여 출력하는 코드를 작성하세요.\n",
        "df = pd.DataFrame(y_train, columns=['gender','smile'])\n",
        "df"
      ],
      "execution_count": 85,
      "outputs": [
        {
          "output_type": "execute_result",
          "data": {
            "text/plain": [
              "      gender  smile\n",
              "0          0      0\n",
              "1          1      1\n",
              "2          1      0\n",
              "3          1      1\n",
              "4          1      1\n",
              "...      ...    ...\n",
              "1995       1      0\n",
              "1996       1      1\n",
              "1997       0      1\n",
              "1998       0      1\n",
              "1999       0      1\n",
              "\n",
              "[2000 rows x 2 columns]"
            ],
            "text/html": [
              "\n",
              "  <div id=\"df-a6d1a48f-fa43-4857-9dad-6e70a62cb64f\">\n",
              "    <div class=\"colab-df-container\">\n",
              "      <div>\n",
              "<style scoped>\n",
              "    .dataframe tbody tr th:only-of-type {\n",
              "        vertical-align: middle;\n",
              "    }\n",
              "\n",
              "    .dataframe tbody tr th {\n",
              "        vertical-align: top;\n",
              "    }\n",
              "\n",
              "    .dataframe thead th {\n",
              "        text-align: right;\n",
              "    }\n",
              "</style>\n",
              "<table border=\"1\" class=\"dataframe\">\n",
              "  <thead>\n",
              "    <tr style=\"text-align: right;\">\n",
              "      <th></th>\n",
              "      <th>gender</th>\n",
              "      <th>smile</th>\n",
              "    </tr>\n",
              "  </thead>\n",
              "  <tbody>\n",
              "    <tr>\n",
              "      <th>0</th>\n",
              "      <td>0</td>\n",
              "      <td>0</td>\n",
              "    </tr>\n",
              "    <tr>\n",
              "      <th>1</th>\n",
              "      <td>1</td>\n",
              "      <td>1</td>\n",
              "    </tr>\n",
              "    <tr>\n",
              "      <th>2</th>\n",
              "      <td>1</td>\n",
              "      <td>0</td>\n",
              "    </tr>\n",
              "    <tr>\n",
              "      <th>3</th>\n",
              "      <td>1</td>\n",
              "      <td>1</td>\n",
              "    </tr>\n",
              "    <tr>\n",
              "      <th>4</th>\n",
              "      <td>1</td>\n",
              "      <td>1</td>\n",
              "    </tr>\n",
              "    <tr>\n",
              "      <th>...</th>\n",
              "      <td>...</td>\n",
              "      <td>...</td>\n",
              "    </tr>\n",
              "    <tr>\n",
              "      <th>1995</th>\n",
              "      <td>1</td>\n",
              "      <td>0</td>\n",
              "    </tr>\n",
              "    <tr>\n",
              "      <th>1996</th>\n",
              "      <td>1</td>\n",
              "      <td>1</td>\n",
              "    </tr>\n",
              "    <tr>\n",
              "      <th>1997</th>\n",
              "      <td>0</td>\n",
              "      <td>1</td>\n",
              "    </tr>\n",
              "    <tr>\n",
              "      <th>1998</th>\n",
              "      <td>0</td>\n",
              "      <td>1</td>\n",
              "    </tr>\n",
              "    <tr>\n",
              "      <th>1999</th>\n",
              "      <td>0</td>\n",
              "      <td>1</td>\n",
              "    </tr>\n",
              "  </tbody>\n",
              "</table>\n",
              "<p>2000 rows × 2 columns</p>\n",
              "</div>\n",
              "      <button class=\"colab-df-convert\" onclick=\"convertToInteractive('df-a6d1a48f-fa43-4857-9dad-6e70a62cb64f')\"\n",
              "              title=\"Convert this dataframe to an interactive table.\"\n",
              "              style=\"display:none;\">\n",
              "        \n",
              "  <svg xmlns=\"http://www.w3.org/2000/svg\" height=\"24px\"viewBox=\"0 0 24 24\"\n",
              "       width=\"24px\">\n",
              "    <path d=\"M0 0h24v24H0V0z\" fill=\"none\"/>\n",
              "    <path d=\"M18.56 5.44l.94 2.06.94-2.06 2.06-.94-2.06-.94-.94-2.06-.94 2.06-2.06.94zm-11 1L8.5 8.5l.94-2.06 2.06-.94-2.06-.94L8.5 2.5l-.94 2.06-2.06.94zm10 10l.94 2.06.94-2.06 2.06-.94-2.06-.94-.94-2.06-.94 2.06-2.06.94z\"/><path d=\"M17.41 7.96l-1.37-1.37c-.4-.4-.92-.59-1.43-.59-.52 0-1.04.2-1.43.59L10.3 9.45l-7.72 7.72c-.78.78-.78 2.05 0 2.83L4 21.41c.39.39.9.59 1.41.59.51 0 1.02-.2 1.41-.59l7.78-7.78 2.81-2.81c.8-.78.8-2.07 0-2.86zM5.41 20L4 18.59l7.72-7.72 1.47 1.35L5.41 20z\"/>\n",
              "  </svg>\n",
              "      </button>\n",
              "      \n",
              "  <style>\n",
              "    .colab-df-container {\n",
              "      display:flex;\n",
              "      flex-wrap:wrap;\n",
              "      gap: 12px;\n",
              "    }\n",
              "\n",
              "    .colab-df-convert {\n",
              "      background-color: #E8F0FE;\n",
              "      border: none;\n",
              "      border-radius: 50%;\n",
              "      cursor: pointer;\n",
              "      display: none;\n",
              "      fill: #1967D2;\n",
              "      height: 32px;\n",
              "      padding: 0 0 0 0;\n",
              "      width: 32px;\n",
              "    }\n",
              "\n",
              "    .colab-df-convert:hover {\n",
              "      background-color: #E2EBFA;\n",
              "      box-shadow: 0px 1px 2px rgba(60, 64, 67, 0.3), 0px 1px 3px 1px rgba(60, 64, 67, 0.15);\n",
              "      fill: #174EA6;\n",
              "    }\n",
              "\n",
              "    [theme=dark] .colab-df-convert {\n",
              "      background-color: #3B4455;\n",
              "      fill: #D2E3FC;\n",
              "    }\n",
              "\n",
              "    [theme=dark] .colab-df-convert:hover {\n",
              "      background-color: #434B5C;\n",
              "      box-shadow: 0px 1px 3px 1px rgba(0, 0, 0, 0.15);\n",
              "      filter: drop-shadow(0px 1px 2px rgba(0, 0, 0, 0.3));\n",
              "      fill: #FFFFFF;\n",
              "    }\n",
              "  </style>\n",
              "\n",
              "      <script>\n",
              "        const buttonEl =\n",
              "          document.querySelector('#df-a6d1a48f-fa43-4857-9dad-6e70a62cb64f button.colab-df-convert');\n",
              "        buttonEl.style.display =\n",
              "          google.colab.kernel.accessAllowed ? 'block' : 'none';\n",
              "\n",
              "        async function convertToInteractive(key) {\n",
              "          const element = document.querySelector('#df-a6d1a48f-fa43-4857-9dad-6e70a62cb64f');\n",
              "          const dataTable =\n",
              "            await google.colab.kernel.invokeFunction('convertToInteractive',\n",
              "                                                     [key], {});\n",
              "          if (!dataTable) return;\n",
              "\n",
              "          const docLinkHtml = 'Like what you see? Visit the ' +\n",
              "            '<a target=\"_blank\" href=https://colab.research.google.com/notebooks/data_table.ipynb>data table notebook</a>'\n",
              "            + ' to learn more about interactive tables.';\n",
              "          element.innerHTML = '';\n",
              "          dataTable['output_type'] = 'display_data';\n",
              "          await google.colab.output.renderOutput(dataTable, element);\n",
              "          const docLink = document.createElement('div');\n",
              "          docLink.innerHTML = docLinkHtml;\n",
              "          element.appendChild(docLink);\n",
              "        }\n",
              "      </script>\n",
              "    </div>\n",
              "  </div>\n",
              "  "
            ]
          },
          "metadata": {},
          "execution_count": 85
        }
      ]
    },
    {
      "cell_type": "code",
      "source": [
        "df.groupby(['gender','smile']).size()"
      ],
      "metadata": {
        "colab": {
          "base_uri": "https://localhost:8080/"
        },
        "id": "u6JOnRGof_CG",
        "outputId": "33403130-3676-4096-db90-12435288519e"
      },
      "execution_count": 86,
      "outputs": [
        {
          "output_type": "execute_result",
          "data": {
            "text/plain": [
              "gender  smile\n",
              "0       0        499\n",
              "        1        507\n",
              "1       0        504\n",
              "        1        490\n",
              "dtype: int64"
            ]
          },
          "metadata": {},
          "execution_count": 86
        }
      ]
    },
    {
      "cell_type": "code",
      "source": [
        "df.groupby(['gender','smile']).size().unstack().plot(kind='bar', stacked=True)"
      ],
      "metadata": {
        "colab": {
          "base_uri": "https://localhost:8080/",
          "height": 294
        },
        "id": "89IpHNO4fSCb",
        "outputId": "4b43fd20-91e3-4150-9ceb-ebf4ddc7d28e"
      },
      "execution_count": 87,
      "outputs": [
        {
          "output_type": "execute_result",
          "data": {
            "text/plain": [
              "<matplotlib.axes._subplots.AxesSubplot at 0x7ff55a19a7f0>"
            ]
          },
          "metadata": {},
          "execution_count": 87
        },
        {
          "output_type": "display_data",
          "data": {
            "text/plain": [
              "<Figure size 432x288 with 1 Axes>"
            ],
            "image/png": "[encoded data removed]"
          },
          "metadata": {
            "needs_background": "light"
          }
        }
      ]
    },
    {
      "cell_type": "markdown",
      "metadata": {
        "id": "odqpEsI0iH1f"
      },
      "source": [
        "## Step 4. 각각 모델링"
      ]
    },
    {
      "cell_type": "markdown",
      "metadata": {
        "id": "VRJJjjSLiH1h"
      },
      "source": [
        "### 문제 21. smile과 gender 학습셋을 각 각 처리하는 이미지 classification 모델 2개를 작성하세요. (단 label을 각각 따로 처리)"
      ]
    },
    {
      "cell_type": "code",
      "metadata": {
        "id": "-y-r6Wc0iH1h"
      },
      "source": [
        "# input (배치, 72, 59, 3), output (배치, 2)을 처리할 수 있는 모양의 모델 2개를 작성하세요.\n",
        "from tensorflow.keras.layers import Input, Conv2D, MaxPool2D, Flatten, Dense\n",
        "from tensorflow.keras.models import Model\n",
        "\n",
        "def build_model():\n",
        "  inputs = Input(shape=(72,59,3))\n",
        "\n",
        "  x = Conv2D(32, 3, activation='relu')(inputs)\n",
        "  x = MaxPool2D(2)(x)\n",
        "  x = Conv2D(64, 3, activation='relu')(x)\n",
        "  x = MaxPool2D(2)(x)\n",
        "  x = Conv2D(64, 3, activation='relu')(x)\n",
        "  x = MaxPool2D(2)(x)\n",
        "\n",
        "  x = Flatten()(x)\n",
        "  x = Dense(64, activation='relu')(x)\n",
        "\n",
        "  outputs = Dense(2, activation='softmax')(x)\n",
        "  model = Model(inputs, outputs)\n",
        "  return model"
      ],
      "execution_count": 105,
      "outputs": []
    },
    {
      "cell_type": "markdown",
      "metadata": {
        "id": "wGQPwl5iiH1i"
      },
      "source": [
        "### 문제 22. 2개의 모델을 할당 받고 서머리를 출력해보세요."
      ]
    },
    {
      "cell_type": "code",
      "metadata": {
        "id": "Fxc4Uu7viH1i"
      },
      "source": [
        "# 모델을 2번 할당 받고 서머리를 출력하는 코드를 작성하세요.\n",
        "gender_model = build_model()\n",
        "smile_model = build_model()"
      ],
      "execution_count": 106,
      "outputs": []
    },
    {
      "cell_type": "code",
      "source": [
        "gender_model.summary()"
      ],
      "metadata": {
        "colab": {
          "base_uri": "https://localhost:8080/"
        },
        "id": "P0_DOTVXj1yd",
        "outputId": "59688a7b-c10f-4500-96f9-b21b9d423183"
      },
      "execution_count": 107,
      "outputs": [
        {
          "output_type": "stream",
          "name": "stdout",
          "text": [
            "Model: \"model_7\"\n",
            "_________________________________________________________________\n",
            " Layer (type)                Output Shape              Param #   \n",
            "=================================================================\n",
            " input_8 (InputLayer)        [(None, 72, 59, 3)]       0         \n",
            "                                                                 \n",
            " conv2d_21 (Conv2D)          (None, 70, 57, 32)        896       \n",
            "                                                                 \n",
            " max_pooling2d_21 (MaxPoolin  (None, 35, 28, 32)       0         \n",
            " g2D)                                                            \n",
            "                                                                 \n",
            " conv2d_22 (Conv2D)          (None, 33, 26, 64)        18496     \n",
            "                                                                 \n",
            " max_pooling2d_22 (MaxPoolin  (None, 16, 13, 64)       0         \n",
            " g2D)                                                            \n",
            "                                                                 \n",
            " conv2d_23 (Conv2D)          (None, 14, 11, 64)        36928     \n",
            "                                                                 \n",
            " max_pooling2d_23 (MaxPoolin  (None, 7, 5, 64)         0         \n",
            " g2D)                                                            \n",
            "                                                                 \n",
            " flatten_7 (Flatten)         (None, 2240)              0         \n",
            "                                                                 \n",
            " dense_14 (Dense)            (None, 64)                143424    \n",
            "                                                                 \n",
            " dense_15 (Dense)            (None, 2)                 130       \n",
            "                                                                 \n",
            "=================================================================\n",
            "Total params: 199,874\n",
            "Trainable params: 199,874\n",
            "Non-trainable params: 0\n",
            "_________________________________________________________________\n"
          ]
        }
      ]
    },
    {
      "cell_type": "code",
      "source": [
        "smile_model.summary()"
      ],
      "metadata": {
        "colab": {
          "base_uri": "https://localhost:8080/"
        },
        "id": "IRv2tO4Nj6HX",
        "outputId": "210f643c-087f-4c14-d5f1-47bb69fea4ea"
      },
      "execution_count": 108,
      "outputs": [
        {
          "output_type": "stream",
          "name": "stdout",
          "text": [
            "Model: \"model_8\"\n",
            "_________________________________________________________________\n",
            " Layer (type)                Output Shape              Param #   \n",
            "=================================================================\n",
            " input_9 (InputLayer)        [(None, 72, 59, 3)]       0         \n",
            "                                                                 \n",
            " conv2d_24 (Conv2D)          (None, 70, 57, 32)        896       \n",
            "                                                                 \n",
            " max_pooling2d_24 (MaxPoolin  (None, 35, 28, 32)       0         \n",
            " g2D)                                                            \n",
            "                                                                 \n",
            " conv2d_25 (Conv2D)          (None, 33, 26, 64)        18496     \n",
            "                                                                 \n",
            " max_pooling2d_25 (MaxPoolin  (None, 16, 13, 64)       0         \n",
            " g2D)                                                            \n",
            "                                                                 \n",
            " conv2d_26 (Conv2D)          (None, 14, 11, 64)        36928     \n",
            "                                                                 \n",
            " max_pooling2d_26 (MaxPoolin  (None, 7, 5, 64)         0         \n",
            " g2D)                                                            \n",
            "                                                                 \n",
            " flatten_8 (Flatten)         (None, 2240)              0         \n",
            "                                                                 \n",
            " dense_16 (Dense)            (None, 64)                143424    \n",
            "                                                                 \n",
            " dense_17 (Dense)            (None, 2)                 130       \n",
            "                                                                 \n",
            "=================================================================\n",
            "Total params: 199,874\n",
            "Trainable params: 199,874\n",
            "Non-trainable params: 0\n",
            "_________________________________________________________________\n"
          ]
        }
      ]
    },
    {
      "cell_type": "markdown",
      "metadata": {
        "id": "LVykKLdfiH1j"
      },
      "source": [
        "### 문제 23. 만든 모델에 로스와 옵티마이저, 메트릭을 설정하세요."
      ]
    },
    {
      "cell_type": "code",
      "metadata": {
        "id": "IQU8Qq6iiH1j"
      },
      "source": [
        "# 만든 모델에 loss는 categorical_crossentropy, optimizer는 adam 매트릭은 accuracy으로 설정하는 코드를 작성하세요.\n",
        "gender_model.compile(loss='categorical_crossentropy', optimizer='adam', metrics='accuracy')\n",
        "smile_model.compile(loss='categorical_crossentropy', optimizer='adam', metrics='accuracy')"
      ],
      "execution_count": 109,
      "outputs": []
    },
    {
      "cell_type": "code",
      "source": [
        "gender_model.get_weights()[0][0][0][0]"
      ],
      "metadata": {
        "colab": {
          "base_uri": "https://localhost:8080/"
        },
        "id": "5evXrRYyllB9",
        "outputId": "2ceed9b6-20b1-409d-de8b-03182a6b00a0"
      },
      "execution_count": 110,
      "outputs": [
        {
          "output_type": "execute_result",
          "data": {
            "text/plain": [
              "array([ 0.11205633, -0.09948161, -0.0643741 ,  0.07933533, -0.09454891,\n",
              "        0.11406599,  0.12423141, -0.12756833, -0.07901204,  0.11582665,\n",
              "       -0.11517975, -0.00164343,  0.0508451 ,  0.01437598,  0.12032937,\n",
              "       -0.07248431, -0.03985539, -0.06789299,  0.00169194, -0.0158589 ,\n",
              "       -0.0179785 ,  0.02785596,  0.06437059, -0.00030285, -0.10869775,\n",
              "        0.06668064, -0.11582571, -0.03540714,  0.06161174, -0.08298985,\n",
              "        0.13063033, -0.02378112], dtype=float32)"
            ]
          },
          "metadata": {},
          "execution_count": 110
        }
      ]
    },
    {
      "cell_type": "code",
      "source": [
        "smile_model.get_weights()[0][0][0][0]"
      ],
      "metadata": {
        "colab": {
          "base_uri": "https://localhost:8080/"
        },
        "id": "-CF4zM_ylw5v",
        "outputId": "b9f7f272-f7b0-4cb2-ed04-c2cd33df6029"
      },
      "execution_count": 111,
      "outputs": [
        {
          "output_type": "execute_result",
          "data": {
            "text/plain": [
              "array([-0.05519897,  0.12542377,  0.13101469, -0.12738384, -0.09862165,\n",
              "        0.13181384,  0.10065369, -0.08710632,  0.00412048,  0.12227587,\n",
              "        0.03877647, -0.12417575, -0.09824906,  0.02901378,  0.09908497,\n",
              "        0.04959984, -0.13402   ,  0.00590616, -0.09198403, -0.04620929,\n",
              "        0.1250592 , -0.04432772, -0.06602067, -0.1006145 ,  0.01361473,\n",
              "       -0.03700557,  0.09214574,  0.11265795, -0.03238884,  0.12080683,\n",
              "        0.12857051, -0.10401878], dtype=float32)"
            ]
          },
          "metadata": {},
          "execution_count": 111
        }
      ]
    },
    {
      "cell_type": "markdown",
      "metadata": {
        "id": "vs4MHjKkiH1j"
      },
      "source": [
        "### 문제 24. 만든 모델에 train_images를 학습시켜 보세요."
      ]
    },
    {
      "cell_type": "code",
      "metadata": {
        "id": "UiYocbdmiH1j",
        "colab": {
          "base_uri": "https://localhost:8080/"
        },
        "outputId": "4ea6a3e7-c088-424f-d247-13ccd76765a6"
      },
      "source": [
        "# train_images 학습시키고 15 epochs을 돌리고 그 진행 사항을 hist에 저장하는 코드를 작성하세요.\n",
        "gender_hist = gender_model.fit(x_train, y_train_male, validation_data=(x_test, y_test_male), epochs=15, verbose=1)"
      ],
      "execution_count": 112,
      "outputs": [
        {
          "output_type": "stream",
          "name": "stdout",
          "text": [
            "Epoch 1/15\n",
            "63/63 [==============================] - 1s 10ms/step - loss: 0.5809 - accuracy: 0.7005 - val_loss: 0.5632 - val_accuracy: 0.7400\n",
            "Epoch 2/15\n",
            "63/63 [==============================] - 0s 7ms/step - loss: 0.4435 - accuracy: 0.8040 - val_loss: 0.4501 - val_accuracy: 0.8200\n",
            "Epoch 3/15\n",
            "63/63 [==============================] - 0s 7ms/step - loss: 0.3093 - accuracy: 0.8725 - val_loss: 0.3002 - val_accuracy: 0.9100\n",
            "Epoch 4/15\n",
            "63/63 [==============================] - 0s 7ms/step - loss: 0.2026 - accuracy: 0.9185 - val_loss: 0.2568 - val_accuracy: 0.9150\n",
            "Epoch 5/15\n",
            "63/63 [==============================] - 0s 7ms/step - loss: 0.1359 - accuracy: 0.9500 - val_loss: 0.2303 - val_accuracy: 0.9200\n",
            "Epoch 6/15\n",
            "63/63 [==============================] - 0s 7ms/step - loss: 0.1064 - accuracy: 0.9585 - val_loss: 0.1919 - val_accuracy: 0.9350\n",
            "Epoch 7/15\n",
            "63/63 [==============================] - 0s 7ms/step - loss: 0.0934 - accuracy: 0.9655 - val_loss: 0.2097 - val_accuracy: 0.9200\n",
            "Epoch 8/15\n",
            "63/63 [==============================] - 0s 7ms/step - loss: 0.0531 - accuracy: 0.9825 - val_loss: 0.2547 - val_accuracy: 0.9250\n",
            "Epoch 9/15\n",
            "63/63 [==============================] - 0s 7ms/step - loss: 0.0359 - accuracy: 0.9885 - val_loss: 0.2752 - val_accuracy: 0.9150\n",
            "Epoch 10/15\n",
            "63/63 [==============================] - 0s 7ms/step - loss: 0.0286 - accuracy: 0.9895 - val_loss: 0.2899 - val_accuracy: 0.9100\n",
            "Epoch 11/15\n",
            "63/63 [==============================] - 0s 8ms/step - loss: 0.0295 - accuracy: 0.9905 - val_loss: 0.3175 - val_accuracy: 0.9150\n",
            "Epoch 12/15\n",
            "63/63 [==============================] - 0s 7ms/step - loss: 0.0477 - accuracy: 0.9810 - val_loss: 0.2528 - val_accuracy: 0.9350\n",
            "Epoch 13/15\n",
            "63/63 [==============================] - 0s 8ms/step - loss: 0.0259 - accuracy: 0.9930 - val_loss: 0.3671 - val_accuracy: 0.9250\n",
            "Epoch 14/15\n",
            "63/63 [==============================] - 0s 7ms/step - loss: 0.0133 - accuracy: 0.9970 - val_loss: 0.3971 - val_accuracy: 0.9200\n",
            "Epoch 15/15\n",
            "63/63 [==============================] - 0s 7ms/step - loss: 0.0178 - accuracy: 0.9970 - val_loss: 0.2981 - val_accuracy: 0.9400\n"
          ]
        }
      ]
    },
    {
      "cell_type": "code",
      "source": [
        "gender_model.get_weights()[0][0][0][0]\n",
        "'''파라미터가 변화한 것을 확인할 수 있음'''"
      ],
      "metadata": {
        "colab": {
          "base_uri": "https://localhost:8080/"
        },
        "id": "zttyKfGpmJgb",
        "outputId": "a30d20d6-de71-4933-e328-5ee8a20061c7"
      },
      "execution_count": 113,
      "outputs": [
        {
          "output_type": "execute_result",
          "data": {
            "text/plain": [
              "array([ 0.13127457, -0.07717029, -0.1012267 ,  0.12283947, -0.04902532,\n",
              "        0.12214354,  0.15383705, -0.09992941, -0.06669979,  0.17010619,\n",
              "       -0.09249742,  0.00300563,  0.06822342,  0.00726713,  0.17242517,\n",
              "       -0.06436988,  0.02569772, -0.11504127,  0.00833717, -0.02920463,\n",
              "        0.01072578,  0.01090327,  0.02470596,  0.02339211, -0.07005335,\n",
              "        0.03226489, -0.15409307, -0.07996754,  0.13167511, -0.05026627,\n",
              "        0.1391613 , -0.06766611], dtype=float32)"
            ]
          },
          "metadata": {},
          "execution_count": 113
        }
      ]
    },
    {
      "cell_type": "code",
      "source": [
        "smile_hist = smile_model.fit(x_train, y_train_smile, validation_data=(x_test, y_test_smile), epochs=15, verbose=1)"
      ],
      "metadata": {
        "colab": {
          "base_uri": "https://localhost:8080/"
        },
        "id": "ByJI6_kkoIFl",
        "outputId": "0406e961-9201-4f69-e369-f85551a4f3b2"
      },
      "execution_count": 114,
      "outputs": [
        {
          "output_type": "stream",
          "name": "stdout",
          "text": [
            "Epoch 1/15\n",
            "63/63 [==============================] - 1s 11ms/step - loss: 0.6942 - accuracy: 0.5195 - val_loss: 0.6902 - val_accuracy: 0.5150\n",
            "Epoch 2/15\n",
            "63/63 [==============================] - 1s 8ms/step - loss: 0.6818 - accuracy: 0.5600 - val_loss: 0.6554 - val_accuracy: 0.6000\n",
            "Epoch 3/15\n",
            "63/63 [==============================] - 0s 7ms/step - loss: 0.6650 - accuracy: 0.6020 - val_loss: 0.6084 - val_accuracy: 0.6500\n",
            "Epoch 4/15\n",
            "63/63 [==============================] - 0s 7ms/step - loss: 0.5734 - accuracy: 0.6985 - val_loss: 0.5267 - val_accuracy: 0.7150\n",
            "Epoch 5/15\n",
            "63/63 [==============================] - 0s 7ms/step - loss: 0.4425 - accuracy: 0.7970 - val_loss: 0.3747 - val_accuracy: 0.8250\n",
            "Epoch 6/15\n",
            "63/63 [==============================] - 0s 7ms/step - loss: 0.3470 - accuracy: 0.8495 - val_loss: 0.3065 - val_accuracy: 0.8700\n",
            "Epoch 7/15\n",
            "63/63 [==============================] - 0s 7ms/step - loss: 0.2920 - accuracy: 0.8770 - val_loss: 0.2828 - val_accuracy: 0.8800\n",
            "Epoch 8/15\n",
            "63/63 [==============================] - 0s 7ms/step - loss: 0.2897 - accuracy: 0.8770 - val_loss: 0.2536 - val_accuracy: 0.8900\n",
            "Epoch 9/15\n",
            "63/63 [==============================] - 0s 7ms/step - loss: 0.2416 - accuracy: 0.9050 - val_loss: 0.2318 - val_accuracy: 0.9050\n",
            "Epoch 10/15\n",
            "63/63 [==============================] - 0s 7ms/step - loss: 0.2206 - accuracy: 0.9075 - val_loss: 0.2215 - val_accuracy: 0.9050\n",
            "Epoch 11/15\n",
            "63/63 [==============================] - 0s 7ms/step - loss: 0.1974 - accuracy: 0.9205 - val_loss: 0.2369 - val_accuracy: 0.8950\n",
            "Epoch 12/15\n",
            "63/63 [==============================] - 0s 7ms/step - loss: 0.1752 - accuracy: 0.9325 - val_loss: 0.2474 - val_accuracy: 0.9050\n",
            "Epoch 13/15\n",
            "63/63 [==============================] - 0s 8ms/step - loss: 0.1563 - accuracy: 0.9395 - val_loss: 0.2483 - val_accuracy: 0.8950\n",
            "Epoch 14/15\n",
            "63/63 [==============================] - 0s 7ms/step - loss: 0.1337 - accuracy: 0.9535 - val_loss: 0.2923 - val_accuracy: 0.9000\n",
            "Epoch 15/15\n",
            "63/63 [==============================] - 1s 8ms/step - loss: 0.1223 - accuracy: 0.9580 - val_loss: 0.2802 - val_accuracy: 0.9100\n"
          ]
        }
      ]
    },
    {
      "cell_type": "code",
      "source": [
        "smile_model.get_weights()[0][0][0][0]\n",
        "'''파라미터가 변화한 것을 확인할 수 있음'''"
      ],
      "metadata": {
        "colab": {
          "base_uri": "https://localhost:8080/"
        },
        "id": "kYmzX_FbmY_z",
        "outputId": "c452f9f8-e6ac-4a54-de85-81896088bc53"
      },
      "execution_count": 115,
      "outputs": [
        {
          "output_type": "execute_result",
          "data": {
            "text/plain": [
              "array([-0.10000167,  0.17139964,  0.18549718, -0.1960307 , -0.10212244,\n",
              "        0.16351251,  0.14886138, -0.11266897,  0.07185381,  0.13245785,\n",
              "        0.00893246, -0.12286131, -0.14286688,  0.03093993,  0.11443216,\n",
              "        0.03560267, -0.16451754, -0.00624785, -0.07611608, -0.0268875 ,\n",
              "        0.09112243, -0.04439028, -0.06867429, -0.13322604,  0.02499784,\n",
              "       -0.0523159 ,  0.15264744,  0.16285011, -0.01590187,  0.17625934,\n",
              "        0.12538765, -0.13622764], dtype=float32)"
            ]
          },
          "metadata": {},
          "execution_count": 115
        }
      ]
    },
    {
      "cell_type": "markdown",
      "metadata": {
        "id": "gPfI5Io9iH1k"
      },
      "source": [
        "### 문제 25. 학습 진행 사항을 plt으로 출력하세요."
      ]
    },
    {
      "cell_type": "code",
      "metadata": {
        "id": "tYG-XR-DiH1k",
        "colab": {
          "base_uri": "https://localhost:8080/",
          "height": 281
        },
        "outputId": "7d0eb4b2-11f4-4c6f-9522-d2c65466643c"
      },
      "source": [
        "# hist의 accuracy plt의 plot을 이용하여 출력하는 코드를 작성하세요.\n",
        "plt.plot(gender_hist.history['accuracy'], label='accuracy')\n",
        "plt.plot(gender_hist.history['loss'], label='loss')\n",
        "plt.plot(gender_hist.history['val_accuracy'], label='val_accuracy')\n",
        "plt.plot(gender_hist.history['val_loss'], label='val_loss')\n",
        "plt.legend()\n",
        "plt.title('gender_model')\n",
        "plt.show()"
      ],
      "execution_count": 120,
      "outputs": [
        {
          "output_type": "display_data",
          "data": {
            "text/plain": [
              "<Figure size 432x288 with 1 Axes>"
            ],
            "image/png": "[encoded data removed]"
          },
          "metadata": {
            "needs_background": "light"
          }
        }
      ]
    },
    {
      "cell_type": "code",
      "source": [
        "plt.plot(smile_hist.history['accuracy'], label='accuracy')\n",
        "plt.plot(smile_hist.history['loss'], label='loss')\n",
        "plt.plot(smile_hist.history['val_accuracy'], label='val_accuracy')\n",
        "plt.plot(smile_hist.history['val_loss'], label='val_loss')\n",
        "plt.legend()\n",
        "plt.title('smile_model')\n",
        "plt.show()"
      ],
      "metadata": {
        "colab": {
          "base_uri": "https://localhost:8080/",
          "height": 281
        },
        "id": "32oeS4FdqZE5",
        "outputId": "d1dd1cc0-7138-439c-d2e9-542948259e57"
      },
      "execution_count": 121,
      "outputs": [
        {
          "output_type": "display_data",
          "data": {
            "text/plain": [
              "<Figure size 432x288 with 1 Axes>"
            ],
            "image/png": "[encoded data removed]"
          },
          "metadata": {
            "needs_background": "light"
          }
        }
      ]
    },
    {
      "cell_type": "markdown",
      "metadata": {
        "id": "HWwSu6rGiH1k"
      },
      "source": [
        "## Step 5. 결과 확인"
      ]
    },
    {
      "cell_type": "markdown",
      "metadata": {
        "id": "upv45GO-iH1k"
      },
      "source": [
        "### 문제 26. 완성된 모델에서 test_image를 1장 넣고 결과를 res 변수에 저정하세요."
      ]
    },
    {
      "cell_type": "code",
      "metadata": {
        "id": "JpeC60ONiH1l",
        "colab": {
          "base_uri": "https://localhost:8080/"
        },
        "outputId": "a53724dc-eaf5-4e50-b190-f35ed22a2775"
      },
      "source": [
        "# 모델에 test_mages 중 1장을 넣고 결과를 받는 코드를 작성하세요.\n",
        "gender_res = gender_model.predict(x_test[1:2])\n",
        "gender_res.shape"
      ],
      "execution_count": 136,
      "outputs": [
        {
          "output_type": "stream",
          "name": "stdout",
          "text": [
            "1/1 [==============================] - 0s 17ms/step\n"
          ]
        },
        {
          "output_type": "execute_result",
          "data": {
            "text/plain": [
              "(1, 2)"
            ]
          },
          "metadata": {},
          "execution_count": 136
        }
      ]
    },
    {
      "cell_type": "code",
      "source": [
        "smile_res = smile_model.predict(x_test[1:2])\n",
        "smile_res.shape"
      ],
      "metadata": {
        "colab": {
          "base_uri": "https://localhost:8080/"
        },
        "id": "Tgn4k6SMrGxi",
        "outputId": "c07df37f-1e81-46be-d955-1ea27045f33d"
      },
      "execution_count": 137,
      "outputs": [
        {
          "output_type": "stream",
          "name": "stdout",
          "text": [
            "1/1 [==============================] - 0s 15ms/step\n"
          ]
        },
        {
          "output_type": "execute_result",
          "data": {
            "text/plain": [
              "(1, 2)"
            ]
          },
          "metadata": {},
          "execution_count": 137
        }
      ]
    },
    {
      "cell_type": "markdown",
      "metadata": {
        "id": "j-YjXYk_iH1l"
      },
      "source": [
        "### 문제 27. res와 test_images[1]을 plt로 출력하세요"
      ]
    },
    {
      "cell_type": "code",
      "metadata": {
        "id": "yo8smPFiiH1l",
        "colab": {
          "base_uri": "https://localhost:8080/",
          "height": 268
        },
        "outputId": "774f97ec-1080-49ea-80ce-aba4ff8a6725"
      },
      "source": [
        "# res와 test_images[1]을 print와 plt로 출력하는 코드를 작성하세요.\n",
        "plt.imshow(x_test[1])\n",
        "plt.show()"
      ],
      "execution_count": 139,
      "outputs": [
        {
          "output_type": "display_data",
          "data": {
            "text/plain": [
              "<Figure size 432x288 with 1 Axes>"
            ],
            "image/png": "[encoded data removed]"
          },
          "metadata": {
            "needs_background": "light"
          }
        }
      ]
    },
    {
      "cell_type": "code",
      "source": [
        "print(gender_res)\n",
        "print(smile_res)"
      ],
      "metadata": {
        "colab": {
          "base_uri": "https://localhost:8080/"
        },
        "id": "8CI35S4yrb4e",
        "outputId": "83ab5f04-1666-4021-f416-bbead92e038c"
      },
      "execution_count": 140,
      "outputs": [
        {
          "output_type": "stream",
          "name": "stdout",
          "text": [
            "[[9.9999726e-01 2.7956874e-06]]\n",
            "[[0.7407918 0.2592082]]\n"
          ]
        }
      ]
    },
    {
      "cell_type": "code",
      "source": [
        "plt.bar(range(2), gender_res[0])\n",
        "plt.bar(np.array(range(2))+0.05, y_test_male[1])\n",
        "plt.show()"
      ],
      "metadata": {
        "colab": {
          "base_uri": "https://localhost:8080/",
          "height": 265
        },
        "id": "t60px4AlrsI_",
        "outputId": "075fa25d-6c98-4a62-90f5-d0bc47293265"
      },
      "execution_count": 144,
      "outputs": [
        {
          "output_type": "display_data",
          "data": {
            "text/plain": [
              "<Figure size 432x288 with 1 Axes>"
            ],
            "image/png": "[encoded data removed]"
          },
          "metadata": {
            "needs_background": "light"
          }
        }
      ]
    },
    {
      "cell_type": "code",
      "source": [
        "plt.bar(range(2), smile_res[0])\n",
        "plt.bar(np.array(range(2))+0.05, y_test_smile[1])\n",
        "plt.show()"
      ],
      "metadata": {
        "colab": {
          "base_uri": "https://localhost:8080/",
          "height": 265
        },
        "id": "zdi5BN7KsW53",
        "outputId": "de380474-6b33-456e-82f9-eab1ac20ff17"
      },
      "execution_count": 145,
      "outputs": [
        {
          "output_type": "display_data",
          "data": {
            "text/plain": [
              "<Figure size 432x288 with 1 Axes>"
            ],
            "image/png": "[encoded data removed]"
          },
          "metadata": {
            "needs_background": "light"
          }
        }
      ]
    },
    {
      "cell_type": "markdown",
      "metadata": {
        "id": "eNkdDgr0zfX1"
      },
      "source": [
        "## Step 6. 멀티 아웃풋 모델링"
      ]
    },
    {
      "cell_type": "markdown",
      "metadata": {
        "id": "QG159d2rzfX1"
      },
      "source": [
        "### 문제 28. 해당 학습셋을 처리하는 이미지 classification 모델을 작성하세요. (단 label을 2개 동시에 처리)"
      ]
    },
    {
      "cell_type": "code",
      "metadata": {
        "id": "9wZKFa_QzfX1"
      },
      "source": [
        "# input (배치, 72, 59, 3), output (배치, 2)을 처리할 수 있는 모양의 모델을 작성하세요."
      ],
      "execution_count": null,
      "outputs": []
    },
    {
      "cell_type": "markdown",
      "metadata": {
        "id": "-caAUep7zfX2"
      },
      "source": [
        "### 문제 29. 모델을 할당 받고 서머리를 출력해보세요."
      ]
    },
    {
      "cell_type": "code",
      "metadata": {
        "id": "guruR7iezfX2"
      },
      "source": [
        "# multi_model() 모델을 할당 받고 서머리를 출력하는 코드를 작성하세요."
      ],
      "execution_count": null,
      "outputs": []
    },
    {
      "cell_type": "markdown",
      "metadata": {
        "id": "lp8dbD_FzfX2"
      },
      "source": [
        "### 문제 30. 만든 모델에 로스와 옵티마이저, 메트릭을 설정하세요."
      ]
    },
    {
      "cell_type": "code",
      "metadata": {
        "id": "jXJEdlQ6zfX2"
      },
      "source": [
        "# 만든 모델에 loss는 categorical_crossentropy, optimizer는 adam 매트릭은 accuracy으로 설정하는 코드를 작성하세요."
      ],
      "execution_count": null,
      "outputs": []
    },
    {
      "cell_type": "markdown",
      "metadata": {
        "id": "_C6Nk21yzfX3"
      },
      "source": [
        "### 문제 31. 만든 모델에 train_images를 학습시켜 보세요."
      ]
    },
    {
      "cell_type": "code",
      "metadata": {
        "id": "kv4tEjc9zfX3"
      },
      "source": [
        "# train_images 학습시키고 15 epochs을 돌리고 그 진행 사항을 hist에 저장하는 코드를 작성하세요."
      ],
      "execution_count": null,
      "outputs": []
    },
    {
      "cell_type": "markdown",
      "metadata": {
        "id": "-gtWPhyAzfX3"
      },
      "source": [
        "### 문제 32. 학습 진행 사항을 plt으로 출력하세요."
      ]
    },
    {
      "cell_type": "code",
      "metadata": {
        "id": "63QWAg0lzfX3"
      },
      "source": [
        "# hist의 accuracy plt의 plot을 이용하여 출력하는 코드를 작성하세요."
      ],
      "execution_count": null,
      "outputs": []
    },
    {
      "cell_type": "markdown",
      "metadata": {
        "id": "xQOMfXQOzfX4"
      },
      "source": [
        "## Step 7. 결과 확인"
      ]
    },
    {
      "cell_type": "markdown",
      "metadata": {
        "id": "yWMu-OUGzfX4"
      },
      "source": [
        "### 문제 33. 완성된 모델에서 test_image를 1장 넣고 결과를 res 변수에 저정하세요."
      ]
    },
    {
      "cell_type": "code",
      "metadata": {
        "id": "nvBz3eCEzfX4"
      },
      "source": [
        "# 모델에 test_mages 중 1장을 넣고 결과를 받는 코드를 작성하세요."
      ],
      "execution_count": null,
      "outputs": []
    },
    {
      "cell_type": "markdown",
      "metadata": {
        "id": "I5UrN6nizfX4"
      },
      "source": [
        "### 문제 34. res와 test_images[1]을 plt로 출력하세요"
      ]
    },
    {
      "cell_type": "code",
      "metadata": {
        "id": "zvcDEcvJzfX5"
      },
      "source": [
        "# res와 test_images[1]을 print와 plt로 출력하는 코드를 작성하세요."
      ],
      "execution_count": null,
      "outputs": []
    },
    {
      "cell_type": "markdown",
      "metadata": {
        "id": "UiIBTxMizfX5"
      },
      "source": [
        "## Step 8. 모델 분리"
      ]
    },
    {
      "cell_type": "markdown",
      "metadata": {
        "id": "AXCh44v4zfX5"
      },
      "source": [
        "###문제 35. model의 뒷단을 수정하여 성별 모델을 분리해보세요."
      ]
    },
    {
      "cell_type": "code",
      "metadata": {
        "id": "uTZWyAQKzfX5"
      },
      "source": [
        "# model의 뒷단을 수정하여 성별 모델을 분리하고 모델 정보를 확인하는 코드를 작성하세요."
      ],
      "execution_count": null,
      "outputs": []
    },
    {
      "cell_type": "markdown",
      "metadata": {
        "id": "m_bmyR1FzfX6"
      },
      "source": [
        "### 문제 36. 성별모델에서 테스트 데이터 확인"
      ]
    },
    {
      "cell_type": "code",
      "metadata": {
        "id": "AHhv_4NDzfX6"
      },
      "source": [
        "# 성별모델에서 테스트 데이터 확인"
      ],
      "execution_count": null,
      "outputs": []
    },
    {
      "cell_type": "markdown",
      "metadata": {
        "id": "agZArRLlzfX6"
      },
      "source": [
        "### 문제 37. 뒷단을 수정하여 smile 모델을 분리해보세요."
      ]
    },
    {
      "cell_type": "code",
      "metadata": {
        "id": "teSP_OdezfX7"
      },
      "source": [
        "# model의 뒷단을 수정하여 smile 모델을 분리하고 정보를 확인하는 코드를 작성하세요."
      ],
      "execution_count": null,
      "outputs": []
    },
    {
      "cell_type": "markdown",
      "metadata": {
        "id": "JtnyEsMJzfX7"
      },
      "source": [
        "### 문제 38. 스마일 모델에서 테스트 데이터 확인"
      ]
    },
    {
      "cell_type": "code",
      "metadata": {
        "id": "g_n7kPKVzfX7"
      },
      "source": [
        "# 스마일 모델에서 테스트 데이터 확인"
      ],
      "execution_count": null,
      "outputs": []
    },
    {
      "cell_type": "markdown",
      "metadata": {
        "id": "TQqVbazVzfX7"
      },
      "source": [
        "## Step 9. 통합 모델 저장 및 로드, 다운"
      ]
    },
    {
      "cell_type": "markdown",
      "metadata": {
        "id": "o1xMDORMzfX7"
      },
      "source": [
        "### 문제 39. 모델을 저장하세요."
      ]
    },
    {
      "cell_type": "code",
      "metadata": {
        "id": "8SHvKArNzfX8"
      },
      "source": [
        "# 모델을 저장하는 코드를 작성하세요."
      ],
      "execution_count": null,
      "outputs": []
    },
    {
      "cell_type": "markdown",
      "metadata": {
        "id": "CaDQG8wwzfX8"
      },
      "source": [
        "### 문제 40. 모델 파일을 새로운 모델에 로드하세요."
      ]
    },
    {
      "cell_type": "code",
      "metadata": {
        "id": "WjgDiXdPzfX8"
      },
      "source": [
        "# 모델을 로드하는 코드를 작성하세요."
      ],
      "execution_count": null,
      "outputs": []
    },
    {
      "cell_type": "markdown",
      "metadata": {
        "id": "RxNAgeE-zfX8"
      },
      "source": [
        "### 문제 41. 로드한 모델을 test 데이터로 평가해보세요.\n"
      ]
    },
    {
      "cell_type": "code",
      "metadata": {
        "id": "wBerZi7HzfX8"
      },
      "source": [
        "# 로드한 모델을 test 데이터로 평가해보세요."
      ],
      "execution_count": null,
      "outputs": []
    },
    {
      "cell_type": "markdown",
      "metadata": {
        "id": "5Cn2goDdzfX8"
      },
      "source": [
        "### 문제 42. 모델을 내 컴퓨터에 저장해보세요"
      ]
    },
    {
      "cell_type": "code",
      "metadata": {
        "id": "JJVvgXCZzfX8"
      },
      "source": [
        "# 모델을 내 컴퓨터에 저장해보세요."
      ],
      "execution_count": null,
      "outputs": []
    },
    {
      "cell_type": "code",
      "metadata": {
        "id": "k3y7lP30J6f1"
      },
      "source": [],
      "execution_count": null,
      "outputs": []
    }
  ]
}