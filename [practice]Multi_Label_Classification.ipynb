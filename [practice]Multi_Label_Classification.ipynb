{
  "nbformat": 4,
  "nbformat_minor": 0,
  "metadata": {
    "colab": {
      "provenance": [],
      "include_colab_link": true
    },
    "kernelspec": {
      "name": "python3",
      "display_name": "Python 3"
    },
    "accelerator": "GPU",
    "gpuClass": "standard"
  },
  "cells": [
    {
      "cell_type": "markdown",
      "metadata": {
        "id": "view-in-github",
        "colab_type": "text"
      },
      "source": [
        "<a href=\"https://colab.research.google.com/github/sonzwon/TIL_DL/blob/master/%5Bpractice%5DMulti_Label_Classification.ipynb\" target=\"_parent\"><img src=\"https://colab.research.google.com/assets/colab-badge.svg\" alt=\"Open In Colab\"/></a>"
      ]
    },
    {
      "cell_type": "code",
      "metadata": {
        "id": "e7kl3hgkikbo"
      },
      "source": [
        "import tensorflow as tf\n",
        "from tensorflow import keras\n",
        "from keras.layers import Dense\n",
        "from keras.models import Sequential\n",
        "\n",
        "import pandas as pd\n",
        "import numpy as np\n",
        "import matplotlib.pyplot as plt\n",
        "import seaborn as sns\n",
        "import warnings \n",
        "from IPython.display import Image\n",
        "\n",
        "warnings.filterwarnings('ignore')\n",
        "%matplotlib inline\n",
        "\n",
        "SEED = 34"
      ],
      "execution_count": 1,
      "outputs": []
    },
    {
      "cell_type": "markdown",
      "metadata": {
        "id": "c5uDUVunS1Yk"
      },
      "source": [
        "## Step 1. 도입전 기본 처리"
      ]
    },
    {
      "cell_type": "markdown",
      "metadata": {
        "id": "2Bgf6uZtoBob"
      },
      "source": [
        "### 문제 1. fashion mnist 데이터 살펴보기"
      ]
    },
    {
      "cell_type": "code",
      "metadata": {
        "id": "l2NW5G5nTgsb"
      },
      "source": [
        "# 데이터를 불러오는 코드를 작성해주세요.\n",
        "from keras.datasets import fashion_mnist"
      ],
      "execution_count": 2,
      "outputs": []
    },
    {
      "cell_type": "code",
      "source": [
        "((x_train, y_train), (x_test, y_test)) = fashion_mnist = fashion_mnist.load_data()"
      ],
      "metadata": {
        "id": "I3XAqzT9ajur",
        "colab": {
          "base_uri": "https://localhost:8080/"
        },
        "outputId": "8cf7010e-cff3-491d-c80f-be9504165887"
      },
      "execution_count": 3,
      "outputs": [
        {
          "output_type": "stream",
          "name": "stdout",
          "text": [
            "Downloading data from https://storage.googleapis.com/tensorflow/tf-keras-datasets/train-labels-idx1-ubyte.gz\n",
            "29515/29515 [==============================] - 0s 0us/step\n",
            "Downloading data from https://storage.googleapis.com/tensorflow/tf-keras-datasets/train-images-idx3-ubyte.gz\n",
            "26421880/26421880 [==============================] - 0s 0us/step\n",
            "Downloading data from https://storage.googleapis.com/tensorflow/tf-keras-datasets/t10k-labels-idx1-ubyte.gz\n",
            "5148/5148 [==============================] - 0s 0us/step\n",
            "Downloading data from https://storage.googleapis.com/tensorflow/tf-keras-datasets/t10k-images-idx3-ubyte.gz\n",
            "4422102/4422102 [==============================] - 0s 0us/step\n"
          ]
        }
      ]
    },
    {
      "cell_type": "markdown",
      "metadata": {
        "id": "ko4D-BpJTq2r"
      },
      "source": [
        "### 문제 2. train_images/labels와 test_images/labes의 shape을 출력해보세요."
      ]
    },
    {
      "cell_type": "code",
      "metadata": {
        "id": "waksbx9aT5tK",
        "colab": {
          "base_uri": "https://localhost:8080/"
        },
        "outputId": "0cf81298-f6cf-4aed-9f4c-7d79635ab702"
      },
      "source": [
        "# 데이터의 크기를 shape 함수를 통해 출력해주세요.\n",
        "print(f'x_train.shape : {x_train.shape}')\n",
        "print(f'y_train.shape : {y_train.shape}')\n",
        "print(f'x_test.shape : {x_test.shape}')\n",
        "print(f'y_test.shape : {y_test.shape}')"
      ],
      "execution_count": 4,
      "outputs": [
        {
          "output_type": "stream",
          "name": "stdout",
          "text": [
            "x_train.shape : (60000, 28, 28)\n",
            "y_train.shape : (60000,)\n",
            "x_test.shape : (10000, 28, 28)\n",
            "y_test.shape : (10000,)\n"
          ]
        }
      ]
    },
    {
      "cell_type": "code",
      "source": [
        "y_train[:10]"
      ],
      "metadata": {
        "colab": {
          "base_uri": "https://localhost:8080/"
        },
        "id": "tri2IqX7cBt0",
        "outputId": "e8c1d4d8-42c0-4da1-a0db-e1c21eb218ec"
      },
      "execution_count": 5,
      "outputs": [
        {
          "output_type": "execute_result",
          "data": {
            "text/plain": [
              "array([9, 0, 0, 3, 0, 2, 7, 2, 5, 5], dtype=uint8)"
            ]
          },
          "metadata": {},
          "execution_count": 5
        }
      ]
    },
    {
      "cell_type": "code",
      "metadata": {
        "id": "KlDtX99RrTBe"
      },
      "source": [
        "# 레이블을 설정해보세요.\n",
        "labels = [\"T-shirt/top\",  # index 0\n",
        "        \"Trouser\",      # index 1\n",
        "        \"Pullover\",     # index 2 \n",
        "        \"Dress\",        # index 3 \n",
        "        \"Coat\",         # index 4\n",
        "        \"Sandal\",       # index 5\n",
        "        \"Shirt\",        # index 6 \n",
        "        \"Sneaker\",      # index 7 \n",
        "        \"Bag\",          # index 8 \n",
        "        \"Ankle boot\"]   # index 9\n",
        "\n",
        "def idx2label(idx):\n",
        "  return labels[idx]"
      ],
      "execution_count": 6,
      "outputs": []
    },
    {
      "cell_type": "code",
      "source": [
        "idx2label(y_train[0])"
      ],
      "metadata": {
        "colab": {
          "base_uri": "https://localhost:8080/",
          "height": 35
        },
        "id": "B9yuJP_6c_XE",
        "outputId": "a355fa85-478c-4936-d78f-e9ea90723980"
      },
      "execution_count": 7,
      "outputs": [
        {
          "output_type": "execute_result",
          "data": {
            "text/plain": [
              "'Ankle boot'"
            ],
            "application/vnd.google.colaboratory.intrinsic+json": {
              "type": "string"
            }
          },
          "metadata": {},
          "execution_count": 7
        }
      ]
    },
    {
      "cell_type": "markdown",
      "metadata": {
        "id": "hrmQ7HzEUKrz"
      },
      "source": [
        "### 문제 3. (28, 28) 형태의 이미지를 plt을 이용하여 출력해보세요."
      ]
    },
    {
      "cell_type": "code",
      "metadata": {
        "id": "fVzGHMSYUUKk",
        "colab": {
          "base_uri": "https://localhost:8080/",
          "height": 281
        },
        "outputId": "57029705-a7b3-4722-90cc-44857ed0ef18"
      },
      "source": [
        "# 28x28의 흑백 이미지를 plt를 이용하여 출력하는 코드를 작성해보세요\n",
        "plt.imshow(x_train[0], cmap='gray')\n",
        "plt.title(idx2label(y_train[0]))\n",
        "plt.show()"
      ],
      "execution_count": 8,
      "outputs": [
        {
          "output_type": "display_data",
          "data": {
            "text/plain": [
              "<Figure size 432x288 with 1 Axes>"
            ],
            "image/png": "[encoded data removed]"
          },
          "metadata": {
            "needs_background": "light"
          }
        }
      ]
    },
    {
      "cell_type": "code",
      "source": [
        "def img_show(idx):\n",
        "  plt.imshow(x_train[idx], cmap='gray')\n",
        "  plt.title(idx2label(y_train[idx]))\n",
        "  plt.show()  "
      ],
      "metadata": {
        "id": "ZmrxGvuSd1H0"
      },
      "execution_count": 9,
      "outputs": []
    },
    {
      "cell_type": "code",
      "source": [
        "img_show(1)"
      ],
      "metadata": {
        "colab": {
          "base_uri": "https://localhost:8080/",
          "height": 281
        },
        "id": "IhJn1fRXd_5_",
        "outputId": "183326f4-efe7-4cba-eab3-25ae2747b001"
      },
      "execution_count": 10,
      "outputs": [
        {
          "output_type": "display_data",
          "data": {
            "text/plain": [
              "<Figure size 432x288 with 1 Axes>"
            ],
            "image/png": "[encoded data removed]"
          },
          "metadata": {
            "needs_background": "light"
          }
        }
      ]
    },
    {
      "cell_type": "markdown",
      "metadata": {
        "id": "vDLHexaGUs17"
      },
      "source": [
        "### 문제 4. train_images에서 0이 아닌 값들을 출력해보세요."
      ]
    },
    {
      "cell_type": "code",
      "metadata": {
        "id": "1NYdCv1yUsKG",
        "colab": {
          "base_uri": "https://localhost:8080/"
        },
        "outputId": "bee5e2e6-de37-41cc-d188-b19a26c5e32a"
      },
      "source": [
        "# 하나의 이미지에 대한 모든 0이 아닌 값을 출력하는 코드를 작성하세요.\n",
        "x_train[x_train != 0][:5]"
      ],
      "execution_count": 11,
      "outputs": [
        {
          "output_type": "execute_result",
          "data": {
            "text/plain": [
              "array([ 1, 13, 73,  1,  4], dtype=uint8)"
            ]
          },
          "metadata": {},
          "execution_count": 11
        }
      ]
    },
    {
      "cell_type": "code",
      "metadata": {
        "id": "iTBMH7M1tfNI",
        "colab": {
          "base_uri": "https://localhost:8080/"
        },
        "outputId": "60f5a27b-d088-4eee-a15a-3e6e92276e32"
      },
      "source": [
        "# 이미지의 값이 가장 큰 idx와 작은 idx를 구하여 출력해보세요\n",
        "x_train.reshape(60000, -1).sum(axis=1).argmax(), x_train.reshape(60000, -1).sum(axis=1).argmin()"
      ],
      "execution_count": 12,
      "outputs": [
        {
          "output_type": "execute_result",
          "data": {
            "text/plain": [
              "(55023, 9230)"
            ]
          },
          "metadata": {},
          "execution_count": 12
        }
      ]
    },
    {
      "cell_type": "code",
      "source": [
        "img_show(55023)\n",
        "img_show(9230)"
      ],
      "metadata": {
        "colab": {
          "base_uri": "https://localhost:8080/",
          "height": 545
        },
        "id": "yQX5oALYfZq4",
        "outputId": "5e563a5a-8f03-462d-f02f-7d5c9433b471"
      },
      "execution_count": 13,
      "outputs": [
        {
          "output_type": "display_data",
          "data": {
            "text/plain": [
              "<Figure size 432x288 with 1 Axes>"
            ],
            "image/png": "[encoded data removed]"
          },
          "metadata": {
            "needs_background": "light"
          }
        },
        {
          "output_type": "display_data",
          "data": {
            "text/plain": [
              "<Figure size 432x288 with 1 Axes>"
            ],
            "image/png": "[encoded data removed]"
          },
          "metadata": {
            "needs_background": "light"
          }
        }
      ]
    },
    {
      "cell_type": "markdown",
      "metadata": {
        "id": "CZOhbFOFU_jr"
      },
      "source": [
        "### 문제 5. train_images의 dtype을 출력해보세요."
      ]
    },
    {
      "cell_type": "code",
      "metadata": {
        "id": "nVc4kjgAVNl7",
        "colab": {
          "base_uri": "https://localhost:8080/"
        },
        "outputId": "5ab4a3d2-7e92-4418-f3fb-4839522506fb"
      },
      "source": [
        "# dtype을 이용하여 이미지의 np array type을 확인해보세요.\n",
        "x_train.dtype"
      ],
      "execution_count": 14,
      "outputs": [
        {
          "output_type": "execute_result",
          "data": {
            "text/plain": [
              "dtype('uint8')"
            ]
          },
          "metadata": {},
          "execution_count": 14
        }
      ]
    },
    {
      "cell_type": "markdown",
      "metadata": {
        "id": "eKv9UoZAxTr6"
      },
      "source": [
        "## Step 2. 전처리"
      ]
    },
    {
      "cell_type": "markdown",
      "metadata": {
        "id": "UTXpP1Imyaad"
      },
      "source": [
        "### 문제 6. train/test 이미지 데이터의 범위 확인"
      ]
    },
    {
      "cell_type": "code",
      "metadata": {
        "id": "Ji6XLxvRy5eJ",
        "colab": {
          "base_uri": "https://localhost:8080/"
        },
        "outputId": "2e99b969-58bb-4046-cf3e-3ffc8c54d1e8"
      },
      "source": [
        "# test_images의 shape과 dtype, 0이 아닌 숫자를 출력하는 코드를 작성하세요.\n",
        "print(f'test_images.shape : {x_test.shape}')\n",
        "print(f'test_images.dtype : {x_test.dtype}')\n",
        "print(f'test_images not 0 : {x_test[x_test != 0][:10]}')"
      ],
      "execution_count": 15,
      "outputs": [
        {
          "output_type": "stream",
          "name": "stdout",
          "text": [
            "test_images.shape : (10000, 28, 28)\n",
            "test_images.dtype : uint8\n",
            "test_images not 0 : [  3   1   7  37   1   2  27  84  11 119]\n"
          ]
        }
      ]
    },
    {
      "cell_type": "markdown",
      "metadata": {
        "id": "7OpFGbD6V8Zl"
      },
      "source": [
        "### 문제 7. train/test 이미지 데이터의 최소/최대값을 출력"
      ]
    },
    {
      "cell_type": "code",
      "metadata": {
        "id": "sFOJNRTvYo7d",
        "colab": {
          "base_uri": "https://localhost:8080/"
        },
        "outputId": "ac305965-5a29-47df-f1ec-9284f157424f"
      },
      "source": [
        "# train/test 전체 데이터에서 각 images, labels의 min, max를 출력하는 코드를 작성하세요.\n",
        "print(f'train_images min : {x_train.min()}')\n",
        "print(f'train_images max : {x_train.max()}')\n",
        "print(f'train_labels min : {y_train.min()}')\n",
        "print(f'train_labels max : {y_train.max()}')\n",
        "print(f'test_images min : {x_test.min()}')\n",
        "print(f'test_images max : {x_test.max()}')\n",
        "print(f'test_labels min : {y_test.min()}')\n",
        "print(f'test_labels max : {y_test.max()}')"
      ],
      "execution_count": 16,
      "outputs": [
        {
          "output_type": "stream",
          "name": "stdout",
          "text": [
            "train_images min : 0\n",
            "train_images max : 255\n",
            "train_labels min : 0\n",
            "train_labels max : 9\n",
            "test_images min : 0\n",
            "test_images max : 255\n",
            "test_labels min : 0\n",
            "test_labels max : 9\n"
          ]
        }
      ]
    },
    {
      "cell_type": "markdown",
      "metadata": {
        "id": "W_xsByHegZhh"
      },
      "source": [
        "### 문제 8. 정수형을 실수형으로 변경 후 dtype으로 비교"
      ]
    },
    {
      "cell_type": "code",
      "metadata": {
        "id": "Y88qmAVChg_Z"
      },
      "source": [
        "# train/test 데이터의 타입을 dtype으로 확인해보고 실수형으로 전환하는 코드를 작성하세요.\n",
        "x_train = x_train.astype(np.float64)\n",
        "y_train = y_train.astype(np.float64)\n",
        "x_test = x_test.astype(np.float64)\n",
        "y_test = y_test.astype(np.float64)"
      ],
      "execution_count": 17,
      "outputs": []
    },
    {
      "cell_type": "markdown",
      "metadata": {
        "id": "9iIJK2qsfevX"
      },
      "source": [
        "### 문제 9. 데이터 0-1 노말라이즈 수행\n"
      ]
    },
    {
      "cell_type": "code",
      "metadata": {
        "id": "SV2A6JZBf7Ku",
        "colab": {
          "base_uri": "https://localhost:8080/"
        },
        "outputId": "59379ab0-905d-4933-dbe6-96ee587404f7"
      },
      "source": [
        "# images의 값이 0-1사이의 값을 같도록 코드를 작성해보세요.\n",
        "(x_train / 255.0).min() ,(x_train / 255.0).max()"
      ],
      "execution_count": 18,
      "outputs": [
        {
          "output_type": "execute_result",
          "data": {
            "text/plain": [
              "(0.0, 1.0)"
            ]
          },
          "metadata": {},
          "execution_count": 18
        }
      ]
    },
    {
      "cell_type": "code",
      "metadata": {
        "id": "-mVAW1rvwoTP"
      },
      "source": [
        "# 임의의 구간으로 노말라이즈 할 수 있는 코드를 작성해보세요\n",
        "def norm(data):\n",
        "  d_min = data.min()\n",
        "  d_max = data.max()\n",
        "  result = (data - d_min) / (d_max - d_min) \n",
        "  return result"
      ],
      "execution_count": 19,
      "outputs": []
    },
    {
      "cell_type": "code",
      "source": [
        "norm(x_train).min(), norm(x_train).max()"
      ],
      "metadata": {
        "colab": {
          "base_uri": "https://localhost:8080/"
        },
        "id": "RXsc9CfHypme",
        "outputId": "32d708ee-c67e-46be-fc45-eef61600e94d"
      },
      "execution_count": 20,
      "outputs": [
        {
          "output_type": "execute_result",
          "data": {
            "text/plain": [
              "(0.0, 1.0)"
            ]
          },
          "metadata": {},
          "execution_count": 20
        }
      ]
    },
    {
      "cell_type": "code",
      "source": [
        "x_train = norm(x_train)\n",
        "x_test = norm(x_test)"
      ],
      "metadata": {
        "id": "5dLECJ6Y0qfS"
      },
      "execution_count": 21,
      "outputs": []
    },
    {
      "cell_type": "markdown",
      "metadata": {
        "id": "8QqqdPzDiC3F"
      },
      "source": [
        "### 문제 10. 0-1 노말라이즈 후 데이터의 값이 변경되었는지 문제 6, 7의 방법을 이용하여 확인하세요."
      ]
    },
    {
      "cell_type": "code",
      "metadata": {
        "id": "t-ZKXRKO2rBE",
        "colab": {
          "base_uri": "https://localhost:8080/"
        },
        "outputId": "c212d298-1c60-4325-8e6d-faff3d639605"
      },
      "source": [
        "# 노말라이즈 후 min/max, shape, 0이 아닌 값, dtype 등을 확인하는 코드를 작성해보세요. \n",
        "print(f'train_images.shape : {x_train.shape}')\n",
        "print(f'train_images.dtype : {x_train.dtype}')\n",
        "print(f'train_images not 0 : {x_train[x_train != 0][:10]}')\n",
        "\n",
        "print(f'test_images.shape : {x_test.shape}')\n",
        "print(f'test_images.dtype : {x_test.dtype}')\n",
        "print(f'test_images not 0 : {x_test[x_test != 0][:10]}')"
      ],
      "execution_count": 22,
      "outputs": [
        {
          "output_type": "stream",
          "name": "stdout",
          "text": [
            "train_images.shape : (60000, 28, 28)\n",
            "train_images.dtype : float64\n",
            "train_images not 0 : [0.00392157 0.05098039 0.28627451 0.00392157 0.01568627 0.00392157\n",
            " 0.00392157 0.01176471 0.14117647 0.53333333]\n",
            "test_images.shape : (10000, 28, 28)\n",
            "test_images.dtype : float64\n",
            "test_images not 0 : [0.01176471 0.00392157 0.02745098 0.14509804 0.00392157 0.00784314\n",
            " 0.10588235 0.32941176 0.04313725 0.46666667]\n"
          ]
        }
      ]
    },
    {
      "cell_type": "markdown",
      "metadata": {
        "id": "SMyUArry3UhT"
      },
      "source": [
        "## Step 3. 시각화 방법"
      ]
    },
    {
      "cell_type": "markdown",
      "metadata": {
        "id": "UFga-Bbo6L0E"
      },
      "source": [
        "### 문제 11. train_image의 이미지를 5장 획득하여 (5, 28, 28)의 shape을 출력하세요."
      ]
    },
    {
      "cell_type": "code",
      "metadata": {
        "id": "cLaqqwz4i_7D",
        "colab": {
          "base_uri": "https://localhost:8080/"
        },
        "outputId": "45c6fdd3-3e2f-4efd-916b-05f182ac844f"
      },
      "source": [
        "# (60000, 28, 28)인 train_images에서 (5, 28, 28)을 획득하는 코드를 작성하세요.\n",
        "x_train[:5].shape"
      ],
      "execution_count": 23,
      "outputs": [
        {
          "output_type": "execute_result",
          "data": {
            "text/plain": [
              "(5, 28, 28)"
            ]
          },
          "metadata": {},
          "execution_count": 23
        }
      ]
    },
    {
      "cell_type": "markdown",
      "metadata": {
        "id": "gX8JH97njNNr"
      },
      "source": [
        "### 문제 12. 획득한 5장의 의미지를 (28, 28 * 5)의 shape으로 변경해보세요."
      ]
    },
    {
      "cell_type": "code",
      "metadata": {
        "id": "bxRhMcaKk3Pa",
        "colab": {
          "base_uri": "https://localhost:8080/"
        },
        "outputId": "04685d2c-81f8-42c5-9278-f28af76799e1"
      },
      "source": [
        "# np.hstack은 height 방향의 배열을 풀어서 width 방향으로 연결해줍니다.\n",
        "# 해당 기능을 쓰면 (height, image_height, image_width)의 shape을 (image_height, image_width * height)으로 바꿔 줄 수 있습니다.\n",
        "# 코드를 작성해보세요.\n",
        "np.hstack(x_train[:5]).shape"
      ],
      "execution_count": 24,
      "outputs": [
        {
          "output_type": "execute_result",
          "data": {
            "text/plain": [
              "(28, 140)"
            ]
          },
          "metadata": {},
          "execution_count": 24
        }
      ]
    },
    {
      "cell_type": "markdown",
      "metadata": {
        "id": "xqyaO-5bk-sj"
      },
      "source": [
        "### 문제 13. np.hstack은 tensorflow에서 제공하는 방법이 아니므로 transpose 함수를 이용하여 (28, 28 * 5)로 shape을 변경해보세요."
      ]
    },
    {
      "cell_type": "code",
      "metadata": {
        "id": "SqmKdjlGlqLJ",
        "colab": {
          "base_uri": "https://localhost:8080/"
        },
        "outputId": "66df0369-ed95-409e-b9a7-f1344fef14c5"
      },
      "source": [
        "# transpose는 tensor의 axis를 섞는 기능을 합니다.\n",
        "# 해당 기능을 이용해서 (28, 140)을 작성하는 코드를 작성해보세요.\n",
        "x_train[:5].transpose((1,0,2)).reshape((28,-1)).shape"
      ],
      "execution_count": 25,
      "outputs": [
        {
          "output_type": "execute_result",
          "data": {
            "text/plain": [
              "(28, 140)"
            ]
          },
          "metadata": {},
          "execution_count": 25
        }
      ]
    },
    {
      "cell_type": "markdown",
      "metadata": {
        "id": "T0oaToP6l0Pd"
      },
      "source": [
        "### 문제 14. (28, 140)이 된 tensor를 plt로 출력해보세요."
      ]
    },
    {
      "cell_type": "code",
      "metadata": {
        "id": "ToUpk3oBmIr1",
        "colab": {
          "base_uri": "https://localhost:8080/",
          "height": 118
        },
        "outputId": "12bf9504-9be8-4c49-9e36-df3c51c72951"
      },
      "source": [
        "# (28, 140)의 이미지를 plt로 출력해보세요.\n",
        "plt.imshow(x_train[:5].transpose((1,0,2)).reshape((28,-1)))\n",
        "plt.show()"
      ],
      "execution_count": 26,
      "outputs": [
        {
          "output_type": "display_data",
          "data": {
            "text/plain": [
              "<Figure size 432x288 with 1 Axes>"
            ],
            "image/png": "[encoded data removed]"
          },
          "metadata": {
            "needs_background": "light"
          }
        }
      ]
    },
    {
      "cell_type": "code",
      "source": [
        "np.argwhere(y_train == 1).reshape(-1)[:5]"
      ],
      "metadata": {
        "colab": {
          "base_uri": "https://localhost:8080/"
        },
        "id": "cf2FcWhj3Qyl",
        "outputId": "675687be-7642-4743-e1fc-4a2ca2d675fa"
      },
      "execution_count": 27,
      "outputs": [
        {
          "output_type": "execute_result",
          "data": {
            "text/plain": [
              "array([16, 21, 38, 69, 71])"
            ]
          },
          "metadata": {},
          "execution_count": 27
        }
      ]
    },
    {
      "cell_type": "code",
      "metadata": {
        "id": "TZAF8OlW1HsT"
      },
      "source": [
        "# 레이블에 따라 5개를 출력하는 함수를 만들어보세요.\n",
        "def return_5img(label):\n",
        "  idx = np.argwhere(y_train == label).reshape(-1)[:5]\n",
        "  imgs = x_train[idx].transpose((1,0,2)).reshape((28,-1))\n",
        "\n",
        "  plt.imshow(imgs)\n",
        "  plt.title(idx2label(label))\n",
        "  plt.show\n",
        "\n",
        "  print(idx)"
      ],
      "execution_count": 28,
      "outputs": []
    },
    {
      "cell_type": "code",
      "source": [
        "return_5img(9)"
      ],
      "metadata": {
        "colab": {
          "base_uri": "https://localhost:8080/",
          "height": 149
        },
        "id": "5UV16w5f4p0V",
        "outputId": "470e852b-b2e7-43a3-d469-cac9fccc020d"
      },
      "execution_count": 29,
      "outputs": [
        {
          "output_type": "stream",
          "name": "stdout",
          "text": [
            "[ 0 11 15 42 44]\n"
          ]
        },
        {
          "output_type": "display_data",
          "data": {
            "text/plain": [
              "<Figure size 432x288 with 1 Axes>"
            ],
            "image/png": "[encoded data removed]"
          },
          "metadata": {
            "needs_background": "light"
          }
        }
      ]
    },
    {
      "cell_type": "markdown",
      "metadata": {
        "id": "Kz3kWteP8Kap"
      },
      "source": [
        "## Step 4. Data augmentation - 이미지 확대 및 다객체 추가 방법"
      ]
    },
    {
      "cell_type": "markdown",
      "metadata": {
        "id": "fesKKJqio--a"
      },
      "source": [
        "### 문제 15. 이미지 한장의 크기를 4배로 확대하고, 객체는 4분면 영역중 랜덤으로 1공간에 넣는 함수를 작성하여보세요."
      ]
    },
    {
      "cell_type": "code",
      "metadata": {
        "id": "Jsmh1keWpODx"
      },
      "source": [
        "# 이미지 한장의 크기를 4배로 확대하고, 객체는 4분면 영역중 랜덤으로 1공간에 넣는 함수를 작성하여보세요.\n",
        "def expand_4times(img):\n",
        "  bg = np.zeros(img.shape)\n",
        "  idx = np.random.randint(0, 4)\n",
        "\n",
        "  slots = [bg, bg, bg, bg]\n",
        "  slots[idx] = img\n",
        "\n",
        "  expanded = np.vstack([\n",
        "      np.hstack(slots[:2]),\n",
        "      np.hstack(slots[2:])\n",
        "  ])\n",
        "\n",
        "  return expanded"
      ],
      "execution_count": 31,
      "outputs": []
    },
    {
      "cell_type": "code",
      "source": [
        "plt.imshow(expand_4times(x_train[0]))"
      ],
      "metadata": {
        "colab": {
          "base_uri": "https://localhost:8080/",
          "height": 285
        },
        "id": "jRJZDWz3CGXl",
        "outputId": "320f9797-5b55-4323-d5d3-f7f9832afdbd"
      },
      "execution_count": 32,
      "outputs": [
        {
          "output_type": "execute_result",
          "data": {
            "text/plain": [
              "<matplotlib.image.AxesImage at 0x7f2e26ef95e0>"
            ]
          },
          "metadata": {},
          "execution_count": 32
        },
        {
          "output_type": "display_data",
          "data": {
            "text/plain": [
              "<Figure size 432x288 with 1 Axes>"
            ],
            "image/png": "[encoded data removed]"
          },
          "metadata": {
            "needs_background": "light"
          }
        }
      ]
    },
    {
      "cell_type": "markdown",
      "metadata": {
        "id": "LW3qolQPtpCA"
      },
      "source": [
        "### 문제 16. 4배 이미지 변환을 전체 train/test 데이터에 실행하여 train_expand_images, test_expand_images를 생성하세요."
      ]
    },
    {
      "cell_type": "code",
      "metadata": {
        "id": "lUNMTYsTt4RX"
      },
      "source": [
        "# 4배 이미지 변환을 전체 train/test 데이터에 실행하여 train_expend_images, test_expend_images를 생성하세요.\n",
        "expand_x_train = np.array([expand_4times(img) for img in x_train])\n",
        "expand_x_test = np.array([expand_4times(img) for img in x_test])"
      ],
      "execution_count": 33,
      "outputs": []
    },
    {
      "cell_type": "code",
      "source": [
        "expand_x_train.shape, expand_x_test.shape"
      ],
      "metadata": {
        "colab": {
          "base_uri": "https://localhost:8080/"
        },
        "id": "FC_BrfA4HsEp",
        "outputId": "910eb41d-3d44-4fce-8793-93d94b1f47d4"
      },
      "execution_count": 35,
      "outputs": [
        {
          "output_type": "execute_result",
          "data": {
            "text/plain": [
              "((60000, 56, 56), (10000, 56, 56))"
            ]
          },
          "metadata": {},
          "execution_count": 35
        }
      ]
    },
    {
      "cell_type": "markdown",
      "metadata": {
        "id": "_1NMpB6LqIB5"
      },
      "source": [
        "### 문제 17. 4배 이미지 변환 함수를 수정하여 이미지 사이즈를 4배 확대 시킨 뒤, \n",
        "객체를 랜덤으로 0~4개, 랜덤 4분면에 위치시키는 함수를 작성하세요."
      ]
    },
    {
      "cell_type": "code",
      "metadata": {
        "id": "U9-NlbEhqhCx"
      },
      "source": [
        "# 4배 이미지 변환 함수를 수정하여 이미지 사이즈를 4배 확대 시킨 뒤, 객체를 랜덤으로 1~4개, 랜덤 4분면에 위치시키는 함수를 작성하세요.\n",
        "def expand_4times2(x_data, y_data):\n",
        "  images = []\n",
        "  labels= []\n",
        "\n",
        "  for _ in range(4):\n",
        "    bg = np.zeros((28, 28))\n",
        "    obj_count = np.random.randint(0, 5)\n",
        "\n",
        "    label = np.zeros((10,))\n",
        "    slots = [bg, bg, bg, bg]\n",
        "\n",
        "    for idx in range(obj_count):\n",
        "      i = np.random.randint(len(x_data))\n",
        "      slots[idx] = x_data[i]\n",
        "      label += tf.keras.utils.to_categorical(y_data[i], 10)\n",
        "\n",
        "    np.random.shuffle(slots)\n",
        "\n",
        "  new_img = np.vstack([\n",
        "      np.hstack(slots[:2]),\n",
        "      np.hstack(slots[2:])\n",
        "  ])\n",
        "\n",
        "  images.append(new_img)\n",
        "  labels.append((label >= 1).astype(np.int))\n",
        "\n",
        "  return np.array(images), np.array(labels)"
      ],
      "execution_count": 38,
      "outputs": []
    },
    {
      "cell_type": "code",
      "source": [
        "expand_4times2(x_train, y_train)[0].shape"
      ],
      "metadata": {
        "colab": {
          "base_uri": "https://localhost:8080/"
        },
        "id": "nliIqPRgRZRW",
        "outputId": "3bec2ef5-51b1-4988-f321-d77517ff31a0"
      },
      "execution_count": 39,
      "outputs": [
        {
          "output_type": "execute_result",
          "data": {
            "text/plain": [
              "(1, 56, 56)"
            ]
          },
          "metadata": {},
          "execution_count": 39
        }
      ]
    },
    {
      "cell_type": "code",
      "source": [
        "plt.imshow(expand_4times2(x_train, y_train)[0][0])"
      ],
      "metadata": {
        "colab": {
          "base_uri": "https://localhost:8080/",
          "height": 285
        },
        "id": "FMRNLsQ3Q5fq",
        "outputId": "a73d8c8c-efd7-4575-e854-c49c55cbef5a"
      },
      "execution_count": 41,
      "outputs": [
        {
          "output_type": "execute_result",
          "data": {
            "text/plain": [
              "<matplotlib.image.AxesImage at 0x7f2e265f52b0>"
            ]
          },
          "metadata": {},
          "execution_count": 41
        },
        {
          "output_type": "display_data",
          "data": {
            "text/plain": [
              "<Figure size 432x288 with 1 Axes>"
            ],
            "image/png": "[encoded data removed]"
          },
          "metadata": {
            "needs_background": "light"
          }
        }
      ]
    },
    {
      "cell_type": "code",
      "source": [
        "expand_4times2(x_train, y_train)[1]"
      ],
      "metadata": {
        "colab": {
          "base_uri": "https://localhost:8080/"
        },
        "id": "suZRXtuGRtmm",
        "outputId": "40f2c5be-cf92-4be8-fa89-ba1e7a19ba26"
      },
      "execution_count": 43,
      "outputs": [
        {
          "output_type": "execute_result",
          "data": {
            "text/plain": [
              "array([[0, 1, 0, 0, 0, 0, 0, 0, 1, 0]])"
            ]
          },
          "metadata": {},
          "execution_count": 43
        }
      ]
    },
    {
      "cell_type": "markdown",
      "metadata": {
        "id": "JLSYLZr0qvGI"
      },
      "source": [
        "### 문제 18. 4배 이미지 변환을 전체 train/test 데이터에 실행하여 train_multi_images, test_multi_images, train_multi_labels, train_multi_labels를 생성하세요."
      ]
    },
    {
      "cell_type": "code",
      "metadata": {
        "id": "EsgmHRFSrDX4"
      },
      "source": [
        "# 4배 이미지 변환을 전체 train/test 데이터에 실행하여 train_multi_images, test_multi_images, train_multi_labels, train_multi_labels를 생성하세요.\n",
        "multi_x_train, multi_y_train = list(zip(*[expand_4times2(x_train, y_train) for i in x_train]))\n",
        "multi_x_test, multi_y_test = list(zip(*[expand_4times2(x_test, y_test) for i in x_test]))"
      ],
      "execution_count": 46,
      "outputs": []
    },
    {
      "cell_type": "code",
      "metadata": {
        "id": "fMLeRs675OLf"
      },
      "source": [
        "multi_x_train = np.array(multi_x_train)[:,0,:,:].reshape(-1, 56, 56, 1)\n",
        "multi_y_train = np.array(multi_y_train)[:,0,:]\n",
        "\n",
        "multi_x_test = np.array(multi_x_test)[:,0,:,:].reshape(-1, 56, 56, 1)\n",
        "multi_y_test = np.array(multi_y_test)[:,0,:]"
      ],
      "execution_count": 49,
      "outputs": []
    },
    {
      "cell_type": "code",
      "source": [
        "print(f'train_data_shape : {multi_x_train.shape, multi_y_train.shape}')\n",
        "print(f'test_data_shape : {multi_x_test.shape, multi_y_test.shape}')"
      ],
      "metadata": {
        "colab": {
          "base_uri": "https://localhost:8080/"
        },
        "id": "iWCWlUYkWB1O",
        "outputId": "2d942387-8f87-438e-980a-c101e3af47e9"
      },
      "execution_count": 52,
      "outputs": [
        {
          "output_type": "stream",
          "name": "stdout",
          "text": [
            "train_data_shape : ((60000, 56, 56, 1), (60000, 10))\n",
            "test_data_shape : ((10000, 56, 56, 1), (10000, 10))\n"
          ]
        }
      ]
    },
    {
      "cell_type": "code",
      "source": [
        "# 개수에 따라 연속된 그림을 보여주는 함수를 작성해보세요\n",
        "def return_img_by_count(obj_count, count = 5):\n",
        "  labels = multi_y_train.sum(axis=1)\n",
        "  idx = np.argwhere(labels == obj_count).reshape(-1)[:5]\n",
        "\n",
        "  imgs = multi_x_train[idx][...,0].transpose((1,0,2)).reshape((56,-1))\n",
        "\n",
        "  plt.imshow(imgs)\n",
        "  plt.show"
      ],
      "metadata": {
        "id": "lOb8Buc2V3A1"
      },
      "execution_count": 68,
      "outputs": []
    },
    {
      "cell_type": "code",
      "source": [
        "return_img_by_count(2, 5)"
      ],
      "metadata": {
        "colab": {
          "base_uri": "https://localhost:8080/",
          "height": 118
        },
        "id": "lxdY4Ds-Zd1C",
        "outputId": "5d77823c-a3ec-4bf6-ba24-2e030b34f69b"
      },
      "execution_count": 71,
      "outputs": [
        {
          "output_type": "display_data",
          "data": {
            "text/plain": [
              "<Figure size 432x288 with 1 Axes>"
            ],
            "image/png": "[encoded data removed]"
          },
          "metadata": {
            "needs_background": "light"
          }
        }
      ]
    },
    {
      "cell_type": "markdown",
      "metadata": {
        "id": "nWy8FKR1AYJU"
      },
      "source": [
        "### 문제 19. multi labels와 train_labels의 값의 형태를 비교해보세요."
      ]
    },
    {
      "cell_type": "code",
      "metadata": {
        "id": "ENpSWYu_stHp",
        "colab": {
          "base_uri": "https://localhost:8080/"
        },
        "outputId": "886ce870-5c4d-4b83-fe09-04482911b2fc"
      },
      "source": [
        "# multi labels와 train_labels의 값의 형태를 비교해보세요.\n",
        "print(f'y_train : {tf.keras.utils.to_categorical(y_train[0], 10)}')\n",
        "print(f'multi_y_train : {multi_y_train[0]}')"
      ],
      "execution_count": 72,
      "outputs": [
        {
          "output_type": "stream",
          "name": "stdout",
          "text": [
            "y_train : [0. 0. 0. 0. 0. 0. 0. 0. 0. 1.]\n",
            "multi_y_train : [1 0 0 0 0 0 0 0 0 1]\n"
          ]
        }
      ]
    },
    {
      "cell_type": "markdown",
      "metadata": {
        "id": "_QLtKR5LafGc"
      },
      "source": [
        "### 문제 20. train_labels에서 label들의 분포를 구해보세요."
      ]
    },
    {
      "cell_type": "code",
      "metadata": {
        "id": "1EFMt2SKafGc",
        "colab": {
          "base_uri": "https://localhost:8080/",
          "height": 283
        },
        "outputId": "f7d0afbf-cccb-4ebd-e9ae-c5c56a0e9391"
      },
      "source": [
        "# 문제 20. train_labels에서 label들의 분포를 히스토그램으로 구해보세요.\n",
        "plt.bar([0,1,2,3,4,5,6,7,8,9], tf.keras.utils.to_categorical(y_train).sum(axis=0))"
      ],
      "execution_count": 74,
      "outputs": [
        {
          "output_type": "execute_result",
          "data": {
            "text/plain": [
              "<BarContainer object of 10 artists>"
            ]
          },
          "metadata": {},
          "execution_count": 74
        },
        {
          "output_type": "display_data",
          "data": {
            "text/plain": [
              "<Figure size 432x288 with 1 Axes>"
            ],
            "image/png": "[encoded data removed]"
          },
          "metadata": {
            "needs_background": "light"
          }
        }
      ]
    },
    {
      "cell_type": "markdown",
      "metadata": {
        "id": "fTvy4VmfYFM5"
      },
      "source": [
        "### 문제 21. multi labels에서 label들의 분포와  multi images에서 평균 사진 개수 분포를 구하세요."
      ]
    },
    {
      "cell_type": "code",
      "metadata": {
        "id": "IFzHUcyBB84T",
        "colab": {
          "base_uri": "https://localhost:8080/",
          "height": 283
        },
        "outputId": "051fb39c-4404-4e74-af5a-5b3234ab7a7c"
      },
      "source": [
        "# 문제 21. multi labels에서 label들의 분포를 히스토그램으로 구해보세요.\n",
        "plt.bar([0,1,2,3,4,5,6,7,8,9], multi_y_train.sum(axis=0))"
      ],
      "execution_count": 75,
      "outputs": [
        {
          "output_type": "execute_result",
          "data": {
            "text/plain": [
              "<BarContainer object of 10 artists>"
            ]
          },
          "metadata": {},
          "execution_count": 75
        },
        {
          "output_type": "display_data",
          "data": {
            "text/plain": [
              "<Figure size 432x288 with 1 Axes>"
            ],
            "image/png": "[encoded data removed]"
          },
          "metadata": {
            "needs_background": "light"
          }
        }
      ]
    },
    {
      "cell_type": "code",
      "metadata": {
        "id": "rqYMbI6jyPkn",
        "colab": {
          "base_uri": "https://localhost:8080/",
          "height": 339
        },
        "outputId": "4ef20f8f-5ef9-4417-d289-9318e51ae752"
      },
      "source": [
        "# 문제 22. multi images에서 평균 사진 개수 분포를 구하세요\n",
        "plt.hist(multi_y_train.sum(axis=1))"
      ],
      "execution_count": 78,
      "outputs": [
        {
          "output_type": "execute_result",
          "data": {
            "text/plain": [
              "(array([12021.,     0., 13265.,     0.,     0., 14792.,     0., 13787.,\n",
              "            0.,  6135.]),\n",
              " array([0. , 0.4, 0.8, 1.2, 1.6, 2. , 2.4, 2.8, 3.2, 3.6, 4. ]),\n",
              " <a list of 10 Patch objects>)"
            ]
          },
          "metadata": {},
          "execution_count": 78
        },
        {
          "output_type": "display_data",
          "data": {
            "text/plain": [
              "<Figure size 432x288 with 1 Axes>"
            ],
            "image/png": "[encoded data removed]"
          },
          "metadata": {
            "needs_background": "light"
          }
        }
      ]
    },
    {
      "cell_type": "markdown",
      "metadata": {
        "id": "z67dTPu0xJSu"
      },
      "source": [
        "## Step 5. 모델링"
      ]
    },
    {
      "cell_type": "markdown",
      "metadata": {
        "id": "20iJHg2gXrC2"
      },
      "source": [
        "### 문제 22. train_expand_images, train_labels로 초벌 모델을 생성해보세요."
      ]
    },
    {
      "cell_type": "code",
      "metadata": {
        "id": "1Q1XtFoxX0eN"
      },
      "source": [
        "# train_expand_images, train_labels로 싱글 label을 처리하는 image classification 초벌 모델을 생성해보세요.\n"
      ],
      "execution_count": null,
      "outputs": []
    },
    {
      "cell_type": "markdown",
      "metadata": {
        "id": "zeALYpCGjHlJ"
      },
      "source": [
        "### 문제 23. 모델을 할당 받고 서머리를 출력해보세요."
      ]
    },
    {
      "cell_type": "code",
      "metadata": {
        "id": "Tc4Xiq7IjVaI"
      },
      "source": [
        "# single_fashin_mnist_model() 모델을 할당 받고 서머리를 출력하는 코드를 작성하세요."
      ],
      "execution_count": null,
      "outputs": []
    },
    {
      "cell_type": "markdown",
      "metadata": {
        "id": "PkOrDR1yam4a"
      },
      "source": [
        "### 문제 24. 만든 모델에 로스와 옵티마이저, 메트릭을 설정하세요."
      ]
    },
    {
      "cell_type": "code",
      "metadata": {
        "id": "nufi0CMyazsF"
      },
      "source": [
        "# 만든 모델에 loss는 categorical_crossentropy, optimizer는 adam 매트릭은 accuracy으로 설정하는 코드를 작성하세요."
      ],
      "execution_count": null,
      "outputs": []
    },
    {
      "cell_type": "markdown",
      "metadata": {
        "id": "IZRqZC50ZoaE"
      },
      "source": [
        "### 문제 25. 만든 모델에 train_expand_images를 학습시켜 보세요."
      ]
    },
    {
      "cell_type": "code",
      "metadata": {
        "id": "PtpJp3fmaRuA"
      },
      "source": [
        "# train_expand_images, train_labels을 학습시키고 15 epochs을 돌리고 그 진행 사항을 hist에 저장하는 코드를 작성하세요."
      ],
      "execution_count": null,
      "outputs": []
    },
    {
      "cell_type": "markdown",
      "metadata": {
        "id": "hU3-Lm7Ma_97"
      },
      "source": [
        "### 문제 26. 학습 진행 사항을 출력하세요."
      ]
    },
    {
      "cell_type": "code",
      "metadata": {
        "id": "B6pKz5o3bPIT"
      },
      "source": [
        "# hist의 accuracy plt의 plot을 이용하여 출력하는 코드를 작성하세요."
      ],
      "execution_count": null,
      "outputs": []
    },
    {
      "cell_type": "markdown",
      "metadata": {
        "id": "NLdXvBcvDYkm"
      },
      "source": [
        "## Step 6. 결과 확인"
      ]
    },
    {
      "cell_type": "markdown",
      "metadata": {
        "id": "J6nvDS4yOSCD"
      },
      "source": [
        "### 문제 27. 완성된 모델에서 test_expand_images를 1장 넣고 결과를 res 변수에 저정하세요."
      ]
    },
    {
      "cell_type": "code",
      "metadata": {
        "id": "uKFAu5z4QRjR"
      },
      "source": [
        "# 모델에  test_expand_images 중 1장을 넣고 결과를 받는 코드를 작성하세요."
      ],
      "execution_count": null,
      "outputs": []
    },
    {
      "cell_type": "markdown",
      "metadata": {
        "id": "r-U6Uo2d3cFv"
      },
      "source": [
        "### 문제 28. res의 결과와 실제 label을 비교하고 test_exnpand_images[0]을 plt로 출력하세요."
      ]
    },
    {
      "cell_type": "code",
      "metadata": {
        "id": "E8kp1YTf3kfP"
      },
      "source": [
        "# res의 결과와 실제 label을 비교하고 test_exnpand_images[0]을 plt로 출력하세요."
      ],
      "execution_count": null,
      "outputs": []
    },
    {
      "cell_type": "markdown",
      "metadata": {
        "id": "asN220f5D37P"
      },
      "source": [
        "## Step 7. 멀티 레이블 모델링"
      ]
    },
    {
      "cell_type": "markdown",
      "metadata": {
        "id": "om4GrvBdwNe1"
      },
      "source": [
        "### 문제 29. train_multi_images 와 train_multi_labels를 처리 할 수 있는 모델을 작성하세요."
      ]
    },
    {
      "cell_type": "code",
      "metadata": {
        "id": "UrxLmr-EwaDE"
      },
      "source": [
        "# 기존 모델의 마지막 layer에 변환을 줘서 multi labels을 처리할 수 있는 모델을 작성하세요."
      ],
      "execution_count": null,
      "outputs": []
    },
    {
      "cell_type": "markdown",
      "metadata": {
        "id": "m4LUlqPTwo0a"
      },
      "source": [
        "### 문제 30. 기존 모델을 멀티 모델로 변환하여 모델 서머리를 출력하세요."
      ]
    },
    {
      "cell_type": "code",
      "metadata": {
        "id": "_DMtsyLmwtXY"
      },
      "source": [
        "# 기존 모델을 멀티 모델로 변환하여 모델 서머리를 출력하세요."
      ],
      "execution_count": null,
      "outputs": []
    },
    {
      "cell_type": "markdown",
      "metadata": {
        "id": "JqPCAn2iw4qM"
      },
      "source": [
        "### 문제 31. 문제 25과 같은 세팅으로 train_multi_images를 학습시키세요."
      ]
    },
    {
      "cell_type": "code",
      "metadata": {
        "id": "diDpP7Wqw3O9"
      },
      "source": [
        "# 문제 25과 같은 세팅으로 train_multi_images를 학습시키세요."
      ],
      "execution_count": null,
      "outputs": []
    },
    {
      "cell_type": "markdown",
      "metadata": {
        "id": "Gfi5SHaC-Vag"
      },
      "source": [
        "### 문제 32. 완성된 모델에서 test_multi_images를 1장 넣고 결과를 res 변수에 저정한뒤 실제 test_multi_labels와 비교해보세요."
      ]
    },
    {
      "cell_type": "code",
      "metadata": {
        "id": "QKjeOiSZ6Wrr"
      },
      "source": [
        "# 완성된 모델에서 test_multi_images를 1장 넣고 결과를 res 변수에 저정한뒤 실제 test_multi_labels와 비교해보세요."
      ],
      "execution_count": null,
      "outputs": []
    },
    {
      "cell_type": "markdown",
      "metadata": {
        "id": "jEMuwUYP71jb"
      },
      "source": [
        "## Step 8. 모델 저장 및 로드, 다운"
      ]
    },
    {
      "cell_type": "markdown",
      "metadata": {
        "id": "c2GZFvCAzFNl"
      },
      "source": [
        "### 문제 33. 모델을 저장하세요."
      ]
    },
    {
      "cell_type": "code",
      "metadata": {
        "id": "YjuCVTNbriVJ"
      },
      "source": [
        "# 모델을 저장하는 코드를 작성하세요."
      ],
      "execution_count": null,
      "outputs": []
    },
    {
      "cell_type": "markdown",
      "metadata": {
        "id": "Bj4P3DdzzhyC"
      },
      "source": [
        "### 문제 34. 모델 파일을 새로운 모델에 로드하세요."
      ]
    },
    {
      "cell_type": "code",
      "metadata": {
        "id": "xuRAnBR8zY-X"
      },
      "source": [
        "# 모델을 로드하는 코드를 작성하세요."
      ],
      "execution_count": null,
      "outputs": []
    },
    {
      "cell_type": "markdown",
      "metadata": {
        "id": "ta1I5ZEY1FBR"
      },
      "source": [
        "### 문제 35. 로드한 모델을 test 데이터로 평가해보세요.\n"
      ]
    },
    {
      "cell_type": "code",
      "metadata": {
        "id": "ALrVf_lm0_Bc"
      },
      "source": [
        "# 로드한 모델을 test 데이터로 평가해보세요."
      ],
      "execution_count": null,
      "outputs": []
    },
    {
      "cell_type": "markdown",
      "metadata": {
        "id": "gfEgY1Vr1T1v"
      },
      "source": [
        "### 문제 36. 모델을 내 컴퓨터에 저장해보세요"
      ]
    },
    {
      "cell_type": "code",
      "metadata": {
        "id": "ASkJv_Ui1RGv"
      },
      "source": [
        "# 모델을 내 컴퓨터에 저장해보세요."
      ],
      "execution_count": null,
      "outputs": []
    },
    {
      "cell_type": "code",
      "metadata": {
        "id": "lJm9QRGXTS-K"
      },
      "source": [],
      "execution_count": null,
      "outputs": []
    }
  ]
}